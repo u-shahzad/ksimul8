{
 "cells": [
  {
   "cell_type": "markdown",
   "id": "79152b10",
   "metadata": {},
   "source": [
    "# Kubernetes Scheduler Simulation\n",
    "## Thesis Project"
   ]
  },
  {
   "cell_type": "markdown",
   "id": "48153e39",
   "metadata": {},
   "source": [
    "### Pod Class"
   ]
  },
  {
   "cell_type": "code",
   "execution_count": 3,
   "id": "9af0ede4",
   "metadata": {
    "scrolled": true
   },
   "outputs": [
    {
     "name": "stdout",
     "output_type": "stream",
     "text": [
      "{'name': 'Pod1', 'podID': 0, 'schedulerName': 'Kubescheduler', 'nodeName': '', 'containerName': 'app', 'containerImage': 'nginx', 'memoryRequirement': 2, 'cpuRequirement': 1, 'is_Bind': False}\n"
     ]
    }
   ],
   "source": [
    "import itertools\n",
    "\n",
    "\n",
    "class Pod:\n",
    "    id_iter = itertools.count()\n",
    "    def __init__(self, name, schedulerName, containerName, containerImage, memory, cpu):\n",
    "        self.name = name\n",
    "        self.id = next(Pod.id_iter)\n",
    "        self.schedulerName = schedulerName\n",
    "        self.nodeName = \"\"\n",
    "        self.containerName = containerName\n",
    "        self.containerImage = containerImage\n",
    "        self.memory = memory\n",
    "        self.cpu = cpu\n",
    "        self.is_bind = False\n",
    "\n",
    "    def serialize(self):\n",
    "        return {\"name\": self.name,\n",
    "                \"podID\": self.id,\n",
    "                \"schedulerName\": self.schedulerName,\n",
    "                \"nodeName\": self.nodeName,\n",
    "                \"containerName\": self.containerName,\n",
    "                \"containerImage\": self.containerImage,\n",
    "                \"memoryRequirement\": self.memory,\n",
    "                \"cpuRequirement\": self.cpu,\n",
    "                \"is_Bind\" : self.is_bind}\n",
    "\n",
    "p1 = Pod(\"Pod1\", \"Kubescheduler\", \"app\", \"nginx\", 2, 1)\n",
    "print(p1.serialize())"
   ]
  },
  {
   "cell_type": "markdown",
   "id": "fa3bdd9d",
   "metadata": {},
   "source": [
    "### Node Class"
   ]
  },
  {
   "cell_type": "code",
   "execution_count": 10,
   "id": "9cf45783",
   "metadata": {},
   "outputs": [
    {
     "name": "stdout",
     "output_type": "stream",
     "text": [
      "{'name': 'n1', 'ID': 0, 'Num of Pods': 0, 'Memory': 4, 'CPU': 2.4, 'Pod List': []}\n"
     ]
    }
   ],
   "source": [
    "class Node:\n",
    "    id_iter = itertools.count()\n",
    "    def __init__(self, name, memory, cpu):\n",
    "        self.name = name\n",
    "        self.id = next(Node.id_iter)\n",
    "        self.num_of_pods = 0 # initially node contains no pod\n",
    "        self.memory = memory\n",
    "        self.cpu = cpu\n",
    "        self.pod_list = []\n",
    "    \n",
    "    def append(self, pod):\n",
    "        self.pod_list.append(pod)\n",
    "        self.memory -= pod.memory\n",
    "        pod.is_bind = True\n",
    "        pod.nodeName = self.name\n",
    "        self.num_of_pods += 1\n",
    "        \n",
    "    def getList(self):\n",
    "        return self.pod_list\n",
    "\n",
    "    def serialize(self):\n",
    "        return {\"name\": self.name,\n",
    "                \"ID\": self.id,\n",
    "                \"Num of Pods\": self.num_of_pods,\n",
    "                \"Memory\": self.memory,\n",
    "                \"CPU\": self.cpu,\n",
    "                \"Pod List\": self.pod_list}\n",
    "    \n",
    "n1 = Node(\"n1\", 4, 2.4)\n",
    "print(n1.serialize())"
   ]
  },
  {
   "cell_type": "code",
   "execution_count": null,
   "id": "143f3480",
   "metadata": {},
   "outputs": [],
   "source": []
  },
  {
   "cell_type": "markdown",
   "id": "1d8f3eda",
   "metadata": {},
   "source": [
    "# Jupyter Notebook cmds"
   ]
  },
  {
   "cell_type": "markdown",
   "id": "57c0c4cb",
   "metadata": {},
   "source": [
    "## Bash cmds in cells"
   ]
  },
  {
   "cell_type": "code",
   "execution_count": null,
   "id": "379ce170",
   "metadata": {},
   "outputs": [],
   "source": [
    "!pip list"
   ]
  },
  {
   "cell_type": "markdown",
   "id": "24e90add",
   "metadata": {},
   "source": [
    "## Jupyter magic commands\n",
    "using % (line magic) and %% (cell magic)"
   ]
  },
  {
   "cell_type": "code",
   "execution_count": 2,
   "id": "a4605ae4",
   "metadata": {},
   "outputs": [
    {
     "data": {
      "application/json": {
       "cell": {
        "!": "OSMagics",
        "HTML": "Other",
        "SVG": "Other",
        "bash": "Other",
        "capture": "ExecutionMagics",
        "debug": "ExecutionMagics",
        "file": "Other",
        "html": "DisplayMagics",
        "javascript": "DisplayMagics",
        "js": "DisplayMagics",
        "latex": "DisplayMagics",
        "markdown": "DisplayMagics",
        "perl": "Other",
        "prun": "ExecutionMagics",
        "pypy": "Other",
        "python": "Other",
        "python2": "Other",
        "python3": "Other",
        "ruby": "Other",
        "script": "ScriptMagics",
        "sh": "Other",
        "svg": "DisplayMagics",
        "sx": "OSMagics",
        "system": "OSMagics",
        "time": "ExecutionMagics",
        "timeit": "ExecutionMagics",
        "writefile": "OSMagics"
       },
       "line": {
        "alias": "OSMagics",
        "alias_magic": "BasicMagics",
        "autoawait": "AsyncMagics",
        "autocall": "AutoMagics",
        "automagic": "AutoMagics",
        "autosave": "KernelMagics",
        "bookmark": "OSMagics",
        "cat": "Other",
        "cd": "OSMagics",
        "clear": "KernelMagics",
        "colors": "BasicMagics",
        "conda": "PackagingMagics",
        "config": "ConfigMagics",
        "connect_info": "KernelMagics",
        "cp": "Other",
        "debug": "ExecutionMagics",
        "dhist": "OSMagics",
        "dirs": "OSMagics",
        "doctest_mode": "BasicMagics",
        "ed": "Other",
        "edit": "KernelMagics",
        "env": "OSMagics",
        "gui": "BasicMagics",
        "hist": "Other",
        "history": "HistoryMagics",
        "killbgscripts": "ScriptMagics",
        "ldir": "Other",
        "less": "KernelMagics",
        "lf": "Other",
        "lk": "Other",
        "ll": "Other",
        "load": "CodeMagics",
        "load_ext": "ExtensionMagics",
        "loadpy": "CodeMagics",
        "logoff": "LoggingMagics",
        "logon": "LoggingMagics",
        "logstart": "LoggingMagics",
        "logstate": "LoggingMagics",
        "logstop": "LoggingMagics",
        "ls": "Other",
        "lsmagic": "BasicMagics",
        "lx": "Other",
        "macro": "ExecutionMagics",
        "magic": "BasicMagics",
        "man": "KernelMagics",
        "matplotlib": "PylabMagics",
        "mkdir": "Other",
        "more": "KernelMagics",
        "mv": "Other",
        "notebook": "BasicMagics",
        "page": "BasicMagics",
        "pastebin": "CodeMagics",
        "pdb": "ExecutionMagics",
        "pdef": "NamespaceMagics",
        "pdoc": "NamespaceMagics",
        "pfile": "NamespaceMagics",
        "pinfo": "NamespaceMagics",
        "pinfo2": "NamespaceMagics",
        "pip": "PackagingMagics",
        "popd": "OSMagics",
        "pprint": "BasicMagics",
        "precision": "BasicMagics",
        "prun": "ExecutionMagics",
        "psearch": "NamespaceMagics",
        "psource": "NamespaceMagics",
        "pushd": "OSMagics",
        "pwd": "OSMagics",
        "pycat": "OSMagics",
        "pylab": "PylabMagics",
        "qtconsole": "KernelMagics",
        "quickref": "BasicMagics",
        "recall": "HistoryMagics",
        "rehashx": "OSMagics",
        "reload_ext": "ExtensionMagics",
        "rep": "Other",
        "rerun": "HistoryMagics",
        "reset": "NamespaceMagics",
        "reset_selective": "NamespaceMagics",
        "rm": "Other",
        "rmdir": "Other",
        "run": "ExecutionMagics",
        "save": "CodeMagics",
        "sc": "OSMagics",
        "set_env": "OSMagics",
        "store": "StoreMagics",
        "sx": "OSMagics",
        "system": "OSMagics",
        "tb": "ExecutionMagics",
        "time": "ExecutionMagics",
        "timeit": "ExecutionMagics",
        "unalias": "OSMagics",
        "unload_ext": "ExtensionMagics",
        "who": "NamespaceMagics",
        "who_ls": "NamespaceMagics",
        "whos": "NamespaceMagics",
        "xdel": "NamespaceMagics",
        "xmode": "BasicMagics"
       }
      },
      "text/plain": [
       "Available line magics:\n",
       "%alias  %alias_magic  %autoawait  %autocall  %automagic  %autosave  %bookmark  %cat  %cd  %clear  %colors  %conda  %config  %connect_info  %cp  %debug  %dhist  %dirs  %doctest_mode  %ed  %edit  %env  %gui  %hist  %history  %killbgscripts  %ldir  %less  %lf  %lk  %ll  %load  %load_ext  %loadpy  %logoff  %logon  %logstart  %logstate  %logstop  %ls  %lsmagic  %lx  %macro  %magic  %man  %matplotlib  %mkdir  %more  %mv  %notebook  %page  %pastebin  %pdb  %pdef  %pdoc  %pfile  %pinfo  %pinfo2  %pip  %popd  %pprint  %precision  %prun  %psearch  %psource  %pushd  %pwd  %pycat  %pylab  %qtconsole  %quickref  %recall  %rehashx  %reload_ext  %rep  %rerun  %reset  %reset_selective  %rm  %rmdir  %run  %save  %sc  %set_env  %store  %sx  %system  %tb  %time  %timeit  %unalias  %unload_ext  %who  %who_ls  %whos  %xdel  %xmode\n",
       "\n",
       "Available cell magics:\n",
       "%%!  %%HTML  %%SVG  %%bash  %%capture  %%debug  %%file  %%html  %%javascript  %%js  %%latex  %%markdown  %%perl  %%prun  %%pypy  %%python  %%python2  %%python3  %%ruby  %%script  %%sh  %%svg  %%sx  %%system  %%time  %%timeit  %%writefile\n",
       "\n",
       "Automagic is ON, % prefix IS NOT needed for line magics."
      ]
     },
     "execution_count": 2,
     "metadata": {},
     "output_type": "execute_result"
    }
   ],
   "source": [
    "%lsmagic"
   ]
  },
  {
   "cell_type": "code",
   "execution_count": null,
   "id": "9ce7dc7b",
   "metadata": {},
   "outputs": [],
   "source": [
    "%pwd"
   ]
  },
  {
   "cell_type": "code",
   "execution_count": null,
   "id": "a9ab43f2",
   "metadata": {},
   "outputs": [],
   "source": [
    "%ls -la"
   ]
  }
 ],
 "metadata": {
  "kernelspec": {
   "display_name": "Python 3 (ipykernel)",
   "language": "python",
   "name": "python3"
  },
  "language_info": {
   "codemirror_mode": {
    "name": "ipython",
    "version": 3
   },
   "file_extension": ".py",
   "mimetype": "text/x-python",
   "name": "python",
   "nbconvert_exporter": "python",
   "pygments_lexer": "ipython3",
   "version": "3.8.10"
  }
 },
 "nbformat": 4,
 "nbformat_minor": 5
}
