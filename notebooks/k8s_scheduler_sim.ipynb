{
 "cells": [
  {
   "cell_type": "markdown",
   "id": "79152b10",
   "metadata": {},
   "source": [
    "# Kubernetes Scheduler Simulator"
   ]
  },
  {
   "cell_type": "markdown",
   "id": "a1609b22",
   "metadata": {},
   "source": [
    "## Cluster\n",
    "    A Kubernetes cluster is a set of nodes that run containerized applications"
   ]
  },
  {
   "cell_type": "code",
   "execution_count": 10,
   "id": "a85adb92",
   "metadata": {},
   "outputs": [],
   "source": [
    "import simpy\n",
    "\n",
    "\n",
    "class Cluster:\n",
    "\n",
    "    def __init__(self, env, capacity):\n",
    "        self.master_node = simpy.Resource(env, capacity=capacity)\n",
    "        self.node_list = []  # list of nodes in cluster\n",
    "\n",
    "    def add_node(self, node):\n",
    "        self.node_list.append(node)  # insert a node in the cluster\n",
    "\n",
    "    def get_node_list(self):\n",
    "        return self.node_list  # returns the list of nodes in the cluster\n"
   ]
  },
  {
   "cell_type": "markdown",
   "id": "fa3bdd9d",
   "metadata": {},
   "source": [
    "## Node\n",
    "    A Node is a worker machine in Kubernetes and may be either a virtual or a\n",
    "    physical machine, depending on the cluster. Each Node is managed by the\n",
    "    control plane. A Node can have multiple pods, and the Kubernetes control\n",
    "    plane automatically handles scheduling the pods across the Nodes in the\n",
    "    cluster."
   ]
  },
  {
   "cell_type": "code",
   "execution_count": 11,
   "id": "9cf45783",
   "metadata": {},
   "outputs": [],
   "source": [
    "import itertools\n",
    "\n",
    "\n",
    "class Node:\n",
    "\n",
    "    id_iter = itertools.count()\n",
    "\n",
    "    def __init__(self, name, memory, cpu, label=''):\n",
    "        self.name = name  # name of the node\n",
    "        self.id = next(Node.id_iter)  # select unique id for each node\n",
    "        self.num_of_pods = 0  # initially node contains no pod\n",
    "        self.memory = memory  # RAM resource of the node\n",
    "        self.cpu = cpu  # CPU resource of the node\n",
    "        self.score = 0  # the rank of the node (used in scheduling)\n",
    "        self.port = []  # list of network ports\n",
    "        self.label = label  # defines some extra feature in the node\n",
    "        self.pod_list = []  # contains list of running pods in the node\n",
    "\n",
    "    def add_pod(self, pod):\n",
    "        self.pod_list.append(pod)  # bind pod to the node\n",
    "        self.memory -= pod.memory  # decreasing node memory resource\n",
    "        self.cpu -= pod.cpu  # decreasing node cpu resource\n",
    "        pod.is_bind = True  # changing pod state to bind\n",
    "        pod.assignedNode = self.name  # updating the assigned node of the pod\n",
    "        self.num_of_pods += 1  # increment the number of pods in the node\n",
    "\n",
    "        # if pod also contains a network port, add in the port list\n",
    "        if pod.port is not None:\n",
    "            self.port.append(pod.port)\n",
    "\n",
    "    def remove_pod(self, pod):\n",
    "        self.pod_list.remove(pod)  # remove pod from the node\n",
    "        self.memory += pod.memory  # releasing node memory resource\n",
    "        self.cpu += pod.cpu  # releasing node cpu resource\n",
    "        pod.is_bind = False  # changing pod state to unbind\n",
    "        pod.assignedNode = ''  # removing assigned node name of the pod\n",
    "        self.num_of_pods -= 1  # decrement the number of pods in the node\n",
    "\n",
    "        # if pod also contains a network port, release it from the port list\n",
    "        if pod.port is not None:\n",
    "            self.port.remove(pod.port)\n",
    "\n",
    "    def serialize(self):\n",
    "        return {\"Name\": self.name,\n",
    "                \"ID\": self.id,\n",
    "                \"Num of Pods\": self.num_of_pods,\n",
    "                \"Available Memory\": self.memory,\n",
    "                \"Available CPU\": self.cpu,\n",
    "                \"Score\": self.score,\n",
    "                \"Port\": self.port}\n"
   ]
  },
  {
   "cell_type": "markdown",
   "id": "48153e39",
   "metadata": {},
   "source": [
    "## Pod\n",
    "    A pod is the smallest execution unit in Kubernetes. A pod encapsulates\n",
    "    one or more applications. Pods are ephemeral by nature, if a\n",
    "    pod (or the node it executes on) fails, Kubernetes can automatically\n",
    "    create a new replica of that pod to continue operations."
   ]
  },
  {
   "cell_type": "code",
   "execution_count": 12,
   "id": "9af0ede4",
   "metadata": {
    "scrolled": true
   },
   "outputs": [],
   "source": [
    "import itertools\n",
    "\n",
    "\n",
    "class Pod:\n",
    "\n",
    "    id_iter = itertools.count()\n",
    "\n",
    "    def __init__(self, name, schedulerName, memory, cpu, plugin, arrivalTime,\n",
    "                 serviceTime, containerList, nodeName='', nodeSelector='',\n",
    "                 port=None):\n",
    "\n",
    "        self.name = name  # name of the pod\n",
    "        self.id = next(Pod.id_iter)  # assigns unique id for each pod\n",
    "        self.schedulerName = schedulerName  # name of scheduler that pod wants\n",
    "        self.nodeName = nodeName  # node that the pod prefers to bind\n",
    "        self.memory = memory  # RAM requirements of the pod\n",
    "        self.cpu = cpu  # CPU requirements of the pod\n",
    "        self.is_bind = False  # initially pod is not bind\n",
    "        self.plugin = plugin  # set of predicates and priorites for the pod\n",
    "        self.nodeSelector = nodeSelector  # a field to check node label\n",
    "        self.port = port  # network port requirement of the pod\n",
    "        self.node = None  # the node object which pod will bind in the future\n",
    "        self.arrivalTime = arrivalTime  # the time pod entered in the queue\n",
    "        self.serviceTime = serviceTime  # time to live in the node\n",
    "        self.container_list = containerList  # list of containers in the pod\n",
    "        self.schedulingRetries = 0  # retries for scheduling an unassigned pod\n",
    "        self.assignedNode = ''  # node name that the pod is bind to\n",
    "\n",
    "    def serialize(self):\n",
    "        return {\"Name\": self.name,\n",
    "                \"Pod ID\": self.id,\n",
    "                \"nodeName\": self.nodeName,\n",
    "                \"Memory Requirement\": self.memory,\n",
    "                \"CPU Requirement\": self.cpu,\n",
    "                \"is_bind\": self.is_bind,\n",
    "                \"Port\": self.port}\n"
   ]
  },
  {
   "cell_type": "markdown",
   "id": "3f88dbd7",
   "metadata": {},
   "source": [
    "## Container\n",
    "    Containers are a form of operating system virtualization. A single\n",
    "    container might be used to run anything from a small microservice\n",
    "    or software process to a larger application."
   ]
  },
  {
   "cell_type": "code",
   "execution_count": 13,
   "id": "f4000c56",
   "metadata": {},
   "outputs": [],
   "source": [
    "class Container:\n",
    "\n",
    "    def __init__(self, name, image, memory, cpu):\n",
    "        self.name = name  # name of the container\n",
    "        self.image = image  # image of the container\n",
    "        self.memory = memory  # memory requirement\n",
    "        self.cpu = cpu  # cpu requirement\n"
   ]
  },
  {
   "cell_type": "markdown",
   "id": "1d8f3eda",
   "metadata": {},
   "source": [
    "## Plugin\n",
    "    A scheduling Profile allows you to configure the different stages of\n",
    "    scheduling in the kube-scheduler. Each stage is exposed in an extension\n",
    "    point. Plugins provide scheduling behaviors by implementing one or more\n",
    "    of these extension points."
   ]
  },
  {
   "cell_type": "code",
   "execution_count": 14,
   "id": "f79c1d0f",
   "metadata": {},
   "outputs": [],
   "source": [
    "class Plugin:\n",
    "\n",
    "    def __init__(\n",
    "                self, _pfhp=False, _pfh=False, _pfr=False, _mns=False,\n",
    "                _nvzc=False, _ndc=False, _mCSIvc=False, _ptnt=False,\n",
    "                _cvb=False, ssp=False, ipap=False, lrp=False, mrp=False,\n",
    "                rtcrp=False, bra=False, npapp=False, nap=False, ttp=False,\n",
    "                ilp=False, ssp_=False, ep=False, epsp=False\n",
    "                ):\n",
    "\n",
    "        # Predicates\n",
    "        self.predicate_list = [_pfhp, _pfh, _pfr, _mns, _nvzc, _ndc,\n",
    "                               _mCSIvc, _ptnt, _cvb]\n",
    "\n",
    "        self.predicates_name = ['PodFitsHostPorts', 'PodFitsHost',\n",
    "                                'PodFitsResources', 'MatchNodeSelector',\n",
    "                                'NoVolumeZoneConflict', 'noDiskConflict',\n",
    "                                'MaxCSIVolumeCount', 'PodToleratesNodeTaints',\n",
    "                                'CheckVolumeBinding']\n",
    "\n",
    "        # Priorites\n",
    "        self.priorites_list = [ssp, ipap, lrp, mrp, rtcrp, bra, npapp, nap,\n",
    "                               ttp, ilp, ssp_, ep, epsp]\n",
    "\n",
    "        self.priorites_name = ['SelectorSpreadPriority',\n",
    "                               'InterPodAffinityPriority',\n",
    "                               'LeastRequestedPriority',\n",
    "                               'MostRequestedPriority',\n",
    "                               'RequestedToCapacityRatioPriority',\n",
    "                               'BalancedResourceAllocation',\n",
    "                               'NodePreferAvoidPodsPriority',\n",
    "                               'NodeAffinityPriority',\n",
    "                               'TaintTolerationPriority',\n",
    "                               'ImageLocalityPriority',\n",
    "                               'ServiceSpreadingPriority',\n",
    "                               'EqualPriority',\n",
    "                               'EvenPodsSpreadPriority']\n"
   ]
  },
  {
   "cell_type": "markdown",
   "id": "01cb4e6f",
   "metadata": {},
   "source": [
    "## Predicates\n",
    "    Predicates are hard constraints that can't be violated. It is a\n",
    "    combination of items provided by the system that users can apply"
   ]
  },
  {
   "cell_type": "code",
   "execution_count": 15,
   "id": "9ce7dc7b",
   "metadata": {},
   "outputs": [],
   "source": [
    "import random\n",
    "\n",
    "\n",
    "class Predicates:\n",
    "\n",
    "    def __init__(self) -> None:\n",
    "        pass\n",
    "\n",
    "    def podFitsHostPorts(self, node, pod):\n",
    "        '''\n",
    "            Checks if a Node has free ports (the network protocol kind)\n",
    "            for the Pod ports the Pod is requesting.\n",
    "        '''\n",
    "\n",
    "        if pod.port in node.port:\n",
    "            return False\n",
    "        else:\n",
    "            return True\n",
    "\n",
    "    def podFitsHost(self, node, pod):\n",
    "        '''\n",
    "            Checks if a Pod specifies a specific Node by its hostname.\n",
    "        '''\n",
    "\n",
    "        if node.name == pod.nodeName:\n",
    "            return True\n",
    "        else:\n",
    "            return False\n",
    "\n",
    "    def podFitsResources(self, node, pod):\n",
    "        '''\n",
    "            Checks if the Node has free resources (eg, CPU and Memory)\n",
    "            to meet the requirement of the Pod.\n",
    "        '''\n",
    "\n",
    "        if node.memory >= pod.memory and node.cpu >= pod.cpu:\n",
    "            return True\n",
    "        else:\n",
    "            return False\n",
    "\n",
    "    def matchNodeSelector(self, node, pod):\n",
    "        '''\n",
    "            Checks if a Pod's Node Selector matches the Node's label(s).\n",
    "        '''\n",
    "\n",
    "        if node.label is not None and node.label == pod.nodeSelector:\n",
    "            return True\n",
    "        else:\n",
    "            return False\n",
    "\n",
    "    def noVolumeZoneConflict(self, node, pod):\n",
    "        '''\n",
    "            Evaluate if the Volumes that a Pod requests are available on the\n",
    "            Node, given the failure zone restrictions for that storage.\n",
    "        '''\n",
    "\n",
    "        return random.choice([True, False])\n",
    "\n",
    "    def noDiskConflict(self, node, pod):\n",
    "        '''\n",
    "            Evaluates if a Pod can fit on a Node due to the volumes it\n",
    "            requests, and those that are already mounted.\n",
    "        '''\n",
    "\n",
    "        return random.choice([True, False])\n",
    "\n",
    "    def maxCSIVolumeCount(self, node, pod):\n",
    "        '''\n",
    "            Decides how many CSI volumes should be attached, and whether\n",
    "            that's over a configured limit.\n",
    "        '''\n",
    "\n",
    "        return random.choice([True, False])\n",
    "\n",
    "    def podToleratesNodeTaints(self, node, pod):\n",
    "        '''\n",
    "            checks if a Pod's tolerations can tolerate the Node's taints.\n",
    "        '''\n",
    "\n",
    "        return random.choice([True, False])\n",
    "\n",
    "    def checkVolumeBinding(self, node, pod):\n",
    "        '''\n",
    "            Evaluates if a Pod can fit due to the volumes it requests.\n",
    "            This applies for both bound and unbound PVCs.\n",
    "            PV: https://kubernetes.io/docs/concepts/storage/persistent-volumes/\n",
    "        '''\n",
    "\n",
    "        return random.choice([True, False])\n"
   ]
  },
  {
   "cell_type": "markdown",
   "id": "e623ed18",
   "metadata": {},
   "source": [
    "## Priorites\n",
    "    Priorities are soft constraints. They may be violated, but it gives\n",
    "    you an idea of how well the constraints are being met or not."
   ]
  },
  {
   "cell_type": "code",
   "execution_count": 16,
   "id": "1054a88c",
   "metadata": {},
   "outputs": [],
   "source": [
    "from rich.console import Console\n",
    "console = Console()\n",
    "\n",
    "\n",
    "class Priorites:\n",
    "\n",
    "    def __init__(self):\n",
    "\n",
    "        self.least_used_node = None\n",
    "        self.most_used_node = None\n",
    "\n",
    "    def selectorSpreadPriority():\n",
    "        '''\n",
    "        Spreads Pods across hosts, considering Pods that belong to\n",
    "        the same Service, StatefulSet or ReplicaSet.\n",
    "        '''\n",
    "\n",
    "        pass\n",
    "\n",
    "    def interPodAffinityPriority():\n",
    "        '''\n",
    "        Implements preferred inter pod affininity and antiaffinity.\n",
    "        https://kubernetes.io/docs/concepts/scheduling-eviction/assign-pod-node/#inter-pod-affinity-and-anti-affinity\n",
    "        '''\n",
    "\n",
    "        pass\n",
    "\n",
    "    def leastRequestedPriority(self, parameter):\n",
    "        '''\n",
    "        Favors nodes with fewer requested resources. In other words,\n",
    "        the more Pods that are placed on a Node, and the more resources\n",
    "        thosePods use, the lower the ranking this policy will give.\n",
    "        '''\n",
    "\n",
    "        nodes = parameter['cluster'].get_node_list()\n",
    "        node_list = []\n",
    "\n",
    "        for node in nodes:\n",
    "            node_list.append(node.num_of_pods)\n",
    "\n",
    "        node_list.sort()\n",
    "\n",
    "        for node in nodes:\n",
    "            if node.num_of_pods == node_list[0]:\n",
    "                self.least_used_node = node\n",
    "                break\n",
    "\n",
    "        if self.least_used_node.name == parameter['node'].name:\n",
    "            console.log(\":arrow_lower_left:  Least used node ---> {}\".format(\n",
    "                            self.least_used_node.name), style=\"cyan\")\n",
    "\n",
    "            self.least_used_node.score += 1\n",
    "\n",
    "    def mostRequestedPriority(self, parameter):\n",
    "        '''\n",
    "        Favors nodes with most requested resources. This policy will fit\n",
    "        the scheduled Pods onto the smallest number of Nodes needed to run\n",
    "        your overall set of workloads.\n",
    "        '''\n",
    "\n",
    "        nodes = parameter['cluster'].get_node_list()\n",
    "        node_list = []\n",
    "\n",
    "        for node in nodes:\n",
    "            node_list.append(node.num_of_pods)\n",
    "\n",
    "        node_list.sort(reverse=True)\n",
    "\n",
    "        for node in nodes:\n",
    "            if node.num_of_pods == node_list[0]:\n",
    "                self.most_used_node = node\n",
    "                break\n",
    "\n",
    "        if self.most_used_node.name == parameter['node'].name:\n",
    "            console.log(\":arrow_upper_right:  Most used node ---> {}\".format(\n",
    "                                self.most_used_node.name), style=\"cyan\")\n",
    "\n",
    "            self.most_used_node.score += 1\n",
    "\n",
    "    def requestedToCapacityRatioPriority():\n",
    "        '''\n",
    "        Creates a requestedToCapacity based ResourceAllocationPriority\n",
    "        using default resource scoring function shape.\n",
    "        '''\n",
    "\n",
    "        pass\n",
    "\n",
    "    def balancedResourceAllocation():\n",
    "        '''\n",
    "        Favors nodes with balanced resource usage.\n",
    "        '''\n",
    "\n",
    "        pass\n",
    "\n",
    "    def nodePreferAvoidPodsPriority():\n",
    "        '''\n",
    "        Prioritizes nodes according to the node annotation\n",
    "        scheduler.alpha.kubernetes.io/preferAvoidPods. You can use this\n",
    "        to hint that two different Pods shouldn't run on the same Node.\n",
    "        '''\n",
    "\n",
    "        pass\n",
    "\n",
    "    def nodeAffinityPriority():\n",
    "        '''\n",
    "        Prioritizes nodes according to node affinity scheduling preferences\n",
    "        indicated in PreferredDuringSchedulingIgnoredDuringExecution.\n",
    "        You can read more about this in Assigning Pods to Nodes.\n",
    "        '''\n",
    "\n",
    "        pass\n",
    "\n",
    "    def taintTolerationPriority():\n",
    "        '''\n",
    "        Prepares the priority list for all the nodes, based on the number of\n",
    "        intolerable taints on the node. This policy adjusts a node's rank\n",
    "        taking that list into account.\n",
    "        '''\n",
    "\n",
    "        pass\n",
    "\n",
    "    def imageLocalityPriority(self, parameter):\n",
    "        '''\n",
    "        Favors nodes that already have the container images for that\n",
    "        Pod cached locally.\n",
    "        '''\n",
    "\n",
    "        for pod_list in parameter['node'].pod_list:\n",
    "            for container_list in parameter['pod'].container_list:\n",
    "                for pod_container_list in pod_list.container_list:\n",
    "                    if container_list.image == pod_container_list.image:\n",
    "                        parameter['node'].score += 1\n",
    "                        console.log(\":cd: Image locality Found ---> {}\".format(\n",
    "                            parameter['node'].name), style=\"cyan\")\n",
    "                        return\n",
    "\n",
    "    def serviceSpreadingPriority():\n",
    "        '''\n",
    "        For a given Service, this policy aims to make sure that the Pods for\n",
    "        the Service run on different nodes. It favours scheduling onto nodes\n",
    "        that don't have Pods for the service already assigned there.\n",
    "        The overall outcome is that the Service becomes more resilient to\n",
    "        a single Node failure.\n",
    "        '''\n",
    "\n",
    "        pass\n",
    "\n",
    "    def equalPriority():\n",
    "        '''\n",
    "        Gives an equal weight of one to all nodes.\n",
    "        '''\n",
    "\n",
    "        pass\n",
    "\n",
    "    def evenPodsSpreadPriority():\n",
    "        '''\n",
    "        Implements preferred pod topology spread constraints.\n",
    "        '''\n",
    "\n",
    "        pass\n"
   ]
  },
  {
   "cell_type": "markdown",
   "id": "e7803c08",
   "metadata": {},
   "source": [
    "## Kubescheduler\n",
    "    The Kubernetes scheduler is a control plane process which assigns Pods to\n",
    "    Nodes. The scheduler determines which Nodes are valid placements for each\n",
    "    Pod in the scheduling queue according to constraints and available\n",
    "    resources. The scheduler then ranks each valid Node and binds the Pod to\n",
    "    a suitable Node."
   ]
  },
  {
   "cell_type": "code",
   "execution_count": 17,
   "id": "0ca61be8",
   "metadata": {},
   "outputs": [],
   "source": [
    "from rich.console import Console\n",
    "from rich.table import Table\n",
    "from rich.traceback import install\n",
    "import logging\n",
    "install()  # creates a better readable traceback\n",
    "\n",
    "\n",
    "console = Console(record=True)\n",
    "\n",
    "logging.basicConfig(filename='test.log', level=logging.DEBUG,\n",
    "                    format='%(asctime)s:%(levelname)s:%(message)s')\n",
    "\n",
    "\n",
    "class Kubescheduler(Predicates, Priorites):\n",
    "\n",
    "    def __init__(self, name='Kubescheduler'):\n",
    "        super().__init__()\n",
    "        self.name = name  # name of the scheduler\n",
    "        self.feasible_nodes = []  # list of feasible nodes for the pod\n",
    "        self.selected_node = None  # final selected node for the pod\n",
    "\n",
    "        self.predicate_methods = [self.podFitsHostPorts, self.podFitsHost,\n",
    "                                  self.podFitsResources,\n",
    "                                  self.matchNodeSelector,\n",
    "                                  self.noVolumeZoneConflict,\n",
    "                                  self.noDiskConflict,\n",
    "                                  self.maxCSIVolumeCount,\n",
    "                                  self.podToleratesNodeTaints,\n",
    "                                  self.checkVolumeBinding]\n",
    "\n",
    "        self.priorites_methods = [self.selectorSpreadPriority,\n",
    "                                  self.interPodAffinityPriority,\n",
    "                                  self.leastRequestedPriority,\n",
    "                                  self.mostRequestedPriority,\n",
    "                                  self.requestedToCapacityRatioPriority,\n",
    "                                  self.balancedResourceAllocation,\n",
    "                                  self.nodePreferAvoidPodsPriority,\n",
    "                                  self.nodeAffinityPriority,\n",
    "                                  self.taintTolerationPriority,\n",
    "                                  self.imageLocalityPriority,\n",
    "                                  self.serviceSpreadingPriority,\n",
    "                                  self.equalPriority,\n",
    "                                  self.evenPodsSpreadPriority]\n",
    "\n",
    "    def scheduling_cycle(self, cluster, pod, simTime):\n",
    "        nodes = cluster.get_node_list()  # list of all the nodes\n",
    "        global node_passed  # check to add node in feasible list\n",
    "        node_passed = False  # initially node is not feasible\n",
    "\n",
    "        for node in nodes:\n",
    "            priority_parameters = {'cluster': cluster,\n",
    "                                   'node': node, 'pod': pod}\n",
    "            '''\n",
    "            This loop finds the number of feasible node(s)\n",
    "            for the pod by applying a set of predicates.\n",
    "            This Process is called FILTERING.\n",
    "            '''\n",
    "            for pred in range(len(pod.plugin.predicate_list)):\n",
    "                # checks whether plugin is ON/OFF\n",
    "                if pod.plugin.predicate_list[pred]:\n",
    "                    if (self.predicate_methods[pred](node, pod)):\n",
    "                        console.log(\":thumbs_up: {} ---> {}\".format(\n",
    "                                    pod.plugin.predicates_name[pred],\n",
    "                                    node.name), style=\"cyan\")\n",
    "                        node_passed = True\n",
    "                    else:\n",
    "                        console.log(\":thumbs_down: {} ---> {}\".format(\n",
    "                                    pod.plugin.predicates_name[pred],\n",
    "                                    node.name), style=\"cyan\")\n",
    "                        node_passed = False\n",
    "                        break\n",
    "\n",
    "            if node_passed:\n",
    "                self.feasible_nodes.append(node)\n",
    "\n",
    "            '''\n",
    "            This loop apply a set of priorites on each node.\n",
    "            This Process is called SCORING.\n",
    "            '''\n",
    "            for pri in range(len(pod.plugin.priorites_list)):\n",
    "                if pod.plugin.priorites_list[pri]:\n",
    "                    self.priorites_methods[pri](priority_parameters)\n",
    "\n",
    "        # check that feasible nodes list is not empty\n",
    "        if len(self.feasible_nodes) > 0:\n",
    "\n",
    "            # sort the nodes on the basis of their score\n",
    "            self.feasible_nodes.sort(key=lambda x: x.score, reverse=True)\n",
    "\n",
    "            # select the node with the highest score\n",
    "            self.selected_node = self.feasible_nodes[0]\n",
    "            self.selected_node.add_pod(pod)  # add the pod to the selected node\n",
    "            pod.node = self.selected_node  # bind pod to the selected node\n",
    "\n",
    "            logging.info(' \\\"Selected node: {}\\\"\\n'.format(\n",
    "                         self.selected_node.name))\n",
    "\n",
    "            console.log(\"\\n---> Selected node = {} :hourglass: Simulation Time: {} seconds\\n\".format(\n",
    "                        self.selected_node.name, simTime), style=\"bold green\")\n",
    "\n",
    "        else:  # no feasible node found for the pod\n",
    "            logging.info(' \\\"No feasible node found\\\"\\n')\n",
    "            console.log(\"\\n---> No feasible node found :hourglass: Simulation Time: {} seconds\\n\".format(simTime), style=\"bold red\")\n",
    "\n",
    "        table = Table(title=\"Node Description\")\n",
    "\n",
    "        table.add_column(\"Name\", justify=\"center\", style=\"cyan\")\n",
    "        table.add_column(\"ID\", justify=\"center\", style=\"magenta\")\n",
    "        table.add_column(\"Num of Pods\", justify=\"center\", style=\"green\")\n",
    "        table.add_column(\"Memory\", justify=\"center\", style=\"cyan\")\n",
    "        table.add_column(\"CPU\", justify=\"center\", style=\"magenta\")\n",
    "        table.add_column(\"Score\", justify=\"center\", style=\"green\")\n",
    "        table.add_column(\"Port\", justify=\"center\", style=\"cyan\")\n",
    "\n",
    "        for node in nodes:\n",
    "            table.add_row(node.name, str(node.id), str(node.num_of_pods),\n",
    "                          str(node.memory), str(node.cpu), str(node.score),\n",
    "                          str(node.port))\n",
    "\n",
    "            node.score = 0  # clear the node score for the next pod scheduling\n",
    "\n",
    "        # console.log(table)\n"
   ]
  },
  {
   "cell_type": "markdown",
   "id": "6b582739",
   "metadata": {},
   "source": [
    "## Simulator App"
   ]
  },
  {
   "cell_type": "code",
   "execution_count": 18,
   "id": "9281024f",
   "metadata": {},
   "outputs": [
    {
     "data": {
      "text/html": [
       "<pre style=\"white-space:pre;overflow-x:auto;line-height:normal;font-family:Menlo,'DejaVu Sans Mono',consolas,'Courier New',monospace\">Working... <span style=\"color: #3a3a3a; text-decoration-color: #3a3a3a\">━━━━━━━━━━━━━━━━━━━━━━━━━━━━━━━━━━━━━━━━</span> <span style=\"color: #800080; text-decoration-color: #800080\">  0%</span> <span style=\"color: #008080; text-decoration-color: #008080\">-:--:--</span>\n",
       "</pre>\n"
      ],
      "text/plain": [
       "Working... \u001b[38;5;237m━━━━━━━━━━━━━━━━━━━━━━━━━━━━━━━━━━━━━━━━\u001b[0m \u001b[35m  0%\u001b[0m \u001b[36m-:--:--\u001b[0m\n"
      ]
     },
     "metadata": {},
     "output_type": "display_data"
    },
    {
     "data": {
      "text/html": [
       "<pre style=\"white-space:pre;overflow-x:auto;line-height:normal;font-family:Menlo,'DejaVu Sans Mono',consolas,'Courier New',monospace\">Working... <span style=\"color: #729c1f; text-decoration-color: #729c1f\">━━━━━━━━━━━━━━━━━━━━━━━━━━━━━━━━━━━━━━━━</span> <span style=\"color: #800080; text-decoration-color: #800080\">100%</span> <span style=\"color: #008080; text-decoration-color: #008080\">0:00:00</span>\n",
       "</pre>\n"
      ],
      "text/plain": [
       "Working... \u001b[38;2;114;156;31m━━━━━━━━━━━━━━━━━━━━━━━━━━━━━━━━━━━━━━━━\u001b[0m \u001b[35m100%\u001b[0m \u001b[36m0:00:00\u001b[0m\n"
      ]
     },
     "metadata": {},
     "output_type": "display_data"
    },
    {
     "data": {
      "text/html": [
       "<pre style=\"white-space:pre;overflow-x:auto;line-height:normal;font-family:Menlo,'DejaVu Sans Mono',consolas,'Courier New',monospace\">\n",
       "</pre>\n"
      ],
      "text/plain": [
       "\n"
      ]
     },
     "metadata": {},
     "output_type": "display_data"
    },
    {
     "data": {
      "text/html": [
       "<pre style=\"white-space:pre;overflow-x:auto;line-height:normal;font-family:Menlo,'DejaVu Sans Mono',consolas,'Courier New',monospace\"><span style=\"color: #7fbfbf; text-decoration-color: #7fbfbf\">           </span><span style=\"color: #000080; text-decoration-color: #000080; font-weight: bold\">---&gt; Nodes created successfully ⌛ Simulation Time: </span><span style=\"color: #008080; text-decoration-color: #008080; font-weight: bold\">30</span><span style=\"color: #000080; text-decoration-color: #000080; font-weight: bold\"> seconds   </span> <a href=\"file:///tmp/ipykernel_152833/1843420858.py\"><span style=\"color: #7f7f7f; text-decoration-color: #7f7f7f\">1843420858.py</span></a><span style=\"color: #7f7f7f; text-decoration-color: #7f7f7f\">:</span><a href=\"file:///tmp/ipykernel_152833/1843420858.py#67\"><span style=\"color: #7f7f7f; text-decoration-color: #7f7f7f\">67</span></a>\n",
       "           <span style=\"color: #000080; text-decoration-color: #000080; font-weight: bold\">                                                                 </span>                 \n",
       "</pre>\n"
      ],
      "text/plain": [
       "\u001b[2;36m          \u001b[0m\u001b[2;36m \u001b[0m\u001b[1;34m---> Nodes created successfully ⌛ Simulation Time: \u001b[0m\u001b[1;36m30\u001b[0m\u001b[1;34m seconds   \u001b[0m \u001b]8;id=980636;file:///tmp/ipykernel_152833/1843420858.py\u001b\\\u001b[2m1843420858.py\u001b[0m\u001b]8;;\u001b\\\u001b[2m:\u001b[0m\u001b]8;id=455942;file:///tmp/ipykernel_152833/1843420858.py#67\u001b\\\u001b[2m67\u001b[0m\u001b]8;;\u001b\\\n",
       "           \u001b[1;34m                                                                 \u001b[0m                 \n"
      ]
     },
     "metadata": {},
     "output_type": "display_data"
    },
    {
     "data": {
      "text/html": [
       "<pre style=\"white-space:pre;overflow-x:auto;line-height:normal;font-family:Menlo,'DejaVu Sans Mono',consolas,'Courier New',monospace\"><span style=\"color: #7fbfbf; text-decoration-color: #7fbfbf\">           </span><span style=\"color: #000080; text-decoration-color: #000080; font-weight: bold\">===&gt; Creating Pods                                              </span> <a href=\"file:///tmp/ipykernel_152833/1843420858.py\"><span style=\"color: #7f7f7f; text-decoration-color: #7f7f7f\">1843420858.py</span></a><span style=\"color: #7f7f7f; text-decoration-color: #7f7f7f\">:</span><a href=\"file:///tmp/ipykernel_152833/1843420858.py#142\"><span style=\"color: #7f7f7f; text-decoration-color: #7f7f7f\">142</span></a>\n",
       "</pre>\n"
      ],
      "text/plain": [
       "\u001b[2;36m          \u001b[0m\u001b[2;36m \u001b[0m\u001b[1;34m===> Creating Pods                                              \u001b[0m \u001b]8;id=48406;file:///tmp/ipykernel_152833/1843420858.py\u001b\\\u001b[2m1843420858.py\u001b[0m\u001b]8;;\u001b\\\u001b[2m:\u001b[0m\u001b]8;id=316725;file:///tmp/ipykernel_152833/1843420858.py#142\u001b\\\u001b[2m142\u001b[0m\u001b]8;;\u001b\\\n"
      ]
     },
     "metadata": {},
     "output_type": "display_data"
    },
    {
     "data": {
      "application/vnd.jupyter.widget-view+json": {
       "model_id": "d7014465ae1247dab4760259165c59f1",
       "version_major": 2,
       "version_minor": 0
      },
      "text/plain": [
       "Output()"
      ]
     },
     "metadata": {},
     "output_type": "display_data"
    },
    {
     "data": {
      "text/html": [
       "<pre style=\"white-space:pre;overflow-x:auto;line-height:normal;font-family:Menlo,'DejaVu Sans Mono',consolas,'Courier New',monospace\">Working... <span style=\"color: #729c1f; text-decoration-color: #729c1f\">━━━━━━━━━━━━━━━━━━━━━━━━━━━━━━━━━━━━━━━━</span> <span style=\"color: #800080; text-decoration-color: #800080\">100%</span> <span style=\"color: #008080; text-decoration-color: #008080\">0:00:00</span>\n",
       "</pre>\n"
      ],
      "text/plain": [
       "Working... \u001b[38;2;114;156;31m━━━━━━━━━━━━━━━━━━━━━━━━━━━━━━━━━━━━━━━━\u001b[0m \u001b[35m100%\u001b[0m \u001b[36m0:00:00\u001b[0m\n"
      ]
     },
     "metadata": {},
     "output_type": "display_data"
    },
    {
     "data": {
      "text/html": [
       "<pre style=\"white-space:pre;overflow-x:auto;line-height:normal;font-family:Menlo,'DejaVu Sans Mono',consolas,'Courier New',monospace\">\n",
       "</pre>\n"
      ],
      "text/plain": [
       "\n"
      ]
     },
     "metadata": {},
     "output_type": "display_data"
    },
    {
     "data": {
      "text/html": [
       "<pre style=\"white-space:pre;overflow-x:auto;line-height:normal;font-family:Menlo,'DejaVu Sans Mono',consolas,'Courier New',monospace\"><span style=\"color: #7fbfbf; text-decoration-color: #7fbfbf\">           </span>---&gt; Frontend entered the queue at <span style=\"color: #008080; text-decoration-color: #008080; font-weight: bold\">35</span> seconds                    <a href=\"file:///tmp/ipykernel_152833/1843420858.py\"><span style=\"color: #7f7f7f; text-decoration-color: #7f7f7f\">1843420858.py</span></a><span style=\"color: #7f7f7f; text-decoration-color: #7f7f7f\">:</span><a href=\"file:///tmp/ipykernel_152833/1843420858.py#173\"><span style=\"color: #7f7f7f; text-decoration-color: #7f7f7f\">173</span></a>\n",
       "</pre>\n"
      ],
      "text/plain": [
       "\u001b[2;36m          \u001b[0m\u001b[2;36m \u001b[0m---> Frontend entered the queue at \u001b[1;36m35\u001b[0m seconds                    \u001b]8;id=243789;file:///tmp/ipykernel_152833/1843420858.py\u001b\\\u001b[2m1843420858.py\u001b[0m\u001b]8;;\u001b\\\u001b[2m:\u001b[0m\u001b]8;id=905824;file:///tmp/ipykernel_152833/1843420858.py#173\u001b\\\u001b[2m173\u001b[0m\u001b]8;;\u001b\\\n"
      ]
     },
     "metadata": {},
     "output_type": "display_data"
    },
    {
     "data": {
      "text/html": [
       "<pre style=\"white-space:pre;overflow-x:auto;line-height:normal;font-family:Menlo,'DejaVu Sans Mono',consolas,'Courier New',monospace\"><span style=\"color: #7fbfbf; text-decoration-color: #7fbfbf\">           </span>---&gt; Pod1 entered the queue at <span style=\"color: #008080; text-decoration-color: #008080; font-weight: bold\">40</span> seconds                        <a href=\"file:///tmp/ipykernel_152833/1843420858.py\"><span style=\"color: #7f7f7f; text-decoration-color: #7f7f7f\">1843420858.py</span></a><span style=\"color: #7f7f7f; text-decoration-color: #7f7f7f\">:</span><a href=\"file:///tmp/ipykernel_152833/1843420858.py#173\"><span style=\"color: #7f7f7f; text-decoration-color: #7f7f7f\">173</span></a>\n",
       "</pre>\n"
      ],
      "text/plain": [
       "\u001b[2;36m          \u001b[0m\u001b[2;36m \u001b[0m---> Pod1 entered the queue at \u001b[1;36m40\u001b[0m seconds                        \u001b]8;id=972275;file:///tmp/ipykernel_152833/1843420858.py\u001b\\\u001b[2m1843420858.py\u001b[0m\u001b]8;;\u001b\\\u001b[2m:\u001b[0m\u001b]8;id=400517;file:///tmp/ipykernel_152833/1843420858.py#173\u001b\\\u001b[2m173\u001b[0m\u001b]8;;\u001b\\\n"
      ]
     },
     "metadata": {},
     "output_type": "display_data"
    },
    {
     "data": {
      "text/html": [
       "<pre style=\"white-space:pre;overflow-x:auto;line-height:normal;font-family:Menlo,'DejaVu Sans Mono',consolas,'Courier New',monospace\"><span style=\"color: #7fbfbf; text-decoration-color: #7fbfbf\">           </span>---&gt; Pod2 entered the queue at <span style=\"color: #008080; text-decoration-color: #008080; font-weight: bold\">45</span> seconds                        <a href=\"file:///tmp/ipykernel_152833/1843420858.py\"><span style=\"color: #7f7f7f; text-decoration-color: #7f7f7f\">1843420858.py</span></a><span style=\"color: #7f7f7f; text-decoration-color: #7f7f7f\">:</span><a href=\"file:///tmp/ipykernel_152833/1843420858.py#173\"><span style=\"color: #7f7f7f; text-decoration-color: #7f7f7f\">173</span></a>\n",
       "</pre>\n"
      ],
      "text/plain": [
       "\u001b[2;36m          \u001b[0m\u001b[2;36m \u001b[0m---> Pod2 entered the queue at \u001b[1;36m45\u001b[0m seconds                        \u001b]8;id=156283;file:///tmp/ipykernel_152833/1843420858.py\u001b\\\u001b[2m1843420858.py\u001b[0m\u001b]8;;\u001b\\\u001b[2m:\u001b[0m\u001b]8;id=39930;file:///tmp/ipykernel_152833/1843420858.py#173\u001b\\\u001b[2m173\u001b[0m\u001b]8;;\u001b\\\n"
      ]
     },
     "metadata": {},
     "output_type": "display_data"
    },
    {
     "data": {
      "text/html": [
       "<pre style=\"white-space:pre;overflow-x:auto;line-height:normal;font-family:Menlo,'DejaVu Sans Mono',consolas,'Courier New',monospace\"><span style=\"color: #7fbfbf; text-decoration-color: #7fbfbf\">           </span>---&gt; Pod3 entered the queue at <span style=\"color: #008080; text-decoration-color: #008080; font-weight: bold\">50</span> seconds                        <a href=\"file:///tmp/ipykernel_152833/1843420858.py\"><span style=\"color: #7f7f7f; text-decoration-color: #7f7f7f\">1843420858.py</span></a><span style=\"color: #7f7f7f; text-decoration-color: #7f7f7f\">:</span><a href=\"file:///tmp/ipykernel_152833/1843420858.py#173\"><span style=\"color: #7f7f7f; text-decoration-color: #7f7f7f\">173</span></a>\n",
       "</pre>\n"
      ],
      "text/plain": [
       "\u001b[2;36m          \u001b[0m\u001b[2;36m \u001b[0m---> Pod3 entered the queue at \u001b[1;36m50\u001b[0m seconds                        \u001b]8;id=729728;file:///tmp/ipykernel_152833/1843420858.py\u001b\\\u001b[2m1843420858.py\u001b[0m\u001b]8;;\u001b\\\u001b[2m:\u001b[0m\u001b]8;id=912145;file:///tmp/ipykernel_152833/1843420858.py#173\u001b\\\u001b[2m173\u001b[0m\u001b]8;;\u001b\\\n"
      ]
     },
     "metadata": {},
     "output_type": "display_data"
    },
    {
     "data": {
      "text/html": [
       "<pre style=\"white-space:pre;overflow-x:auto;line-height:normal;font-family:Menlo,'DejaVu Sans Mono',consolas,'Courier New',monospace\"><span style=\"color: #7fbfbf; text-decoration-color: #7fbfbf\">           </span>---&gt; Pod4 entered the queue at <span style=\"color: #008080; text-decoration-color: #008080; font-weight: bold\">55</span> seconds                        <a href=\"file:///tmp/ipykernel_152833/1843420858.py\"><span style=\"color: #7f7f7f; text-decoration-color: #7f7f7f\">1843420858.py</span></a><span style=\"color: #7f7f7f; text-decoration-color: #7f7f7f\">:</span><a href=\"file:///tmp/ipykernel_152833/1843420858.py#173\"><span style=\"color: #7f7f7f; text-decoration-color: #7f7f7f\">173</span></a>\n",
       "</pre>\n"
      ],
      "text/plain": [
       "\u001b[2;36m          \u001b[0m\u001b[2;36m \u001b[0m---> Pod4 entered the queue at \u001b[1;36m55\u001b[0m seconds                        \u001b]8;id=328542;file:///tmp/ipykernel_152833/1843420858.py\u001b\\\u001b[2m1843420858.py\u001b[0m\u001b]8;;\u001b\\\u001b[2m:\u001b[0m\u001b]8;id=274308;file:///tmp/ipykernel_152833/1843420858.py#173\u001b\\\u001b[2m173\u001b[0m\u001b]8;;\u001b\\\n"
      ]
     },
     "metadata": {},
     "output_type": "display_data"
    },
    {
     "data": {
      "text/html": [
       "<pre style=\"white-space:pre;overflow-x:auto;line-height:normal;font-family:Menlo,'DejaVu Sans Mono',consolas,'Courier New',monospace\"><span style=\"color: #7fbfbf; text-decoration-color: #7fbfbf\">[16:42:58] </span>---&gt; Pod5 entered the queue at <span style=\"color: #008080; text-decoration-color: #008080; font-weight: bold\">60</span> seconds                        <a href=\"file:///tmp/ipykernel_152833/1843420858.py\"><span style=\"color: #7f7f7f; text-decoration-color: #7f7f7f\">1843420858.py</span></a><span style=\"color: #7f7f7f; text-decoration-color: #7f7f7f\">:</span><a href=\"file:///tmp/ipykernel_152833/1843420858.py#173\"><span style=\"color: #7f7f7f; text-decoration-color: #7f7f7f\">173</span></a>\n",
       "</pre>\n"
      ],
      "text/plain": [
       "\u001b[2;36m[16:42:58]\u001b[0m\u001b[2;36m \u001b[0m---> Pod5 entered the queue at \u001b[1;36m60\u001b[0m seconds                        \u001b]8;id=580449;file:///tmp/ipykernel_152833/1843420858.py\u001b\\\u001b[2m1843420858.py\u001b[0m\u001b]8;;\u001b\\\u001b[2m:\u001b[0m\u001b]8;id=732422;file:///tmp/ipykernel_152833/1843420858.py#173\u001b\\\u001b[2m173\u001b[0m\u001b]8;;\u001b\\\n"
      ]
     },
     "metadata": {},
     "output_type": "display_data"
    },
    {
     "data": {
      "text/html": [
       "<pre style=\"white-space:pre;overflow-x:auto;line-height:normal;font-family:Menlo,'DejaVu Sans Mono',consolas,'Courier New',monospace\"><span style=\"color: #7fbfbf; text-decoration-color: #7fbfbf\">           </span><span style=\"color: #008000; text-decoration-color: #008000; font-weight: bold\">                                                                </span> <a href=\"file:///tmp/ipykernel_152833/1843420858.py\"><span style=\"color: #7f7f7f; text-decoration-color: #7f7f7f\">1843420858.py</span></a><span style=\"color: #7f7f7f; text-decoration-color: #7f7f7f\">:</span><a href=\"file:///tmp/ipykernel_152833/1843420858.py#249\"><span style=\"color: #7f7f7f; text-decoration-color: #7f7f7f\">249</span></a>\n",
       "           <span style=\"color: #008000; text-decoration-color: #008000; font-weight: bold\">---&gt; Run Kubescheduler for Frontend                             </span>                  \n",
       "           <span style=\"color: #008000; text-decoration-color: #008000; font-weight: bold\">                                                                </span>                  \n",
       "</pre>\n"
      ],
      "text/plain": [
       "\u001b[2;36m          \u001b[0m\u001b[2;36m \u001b[0m\u001b[1;32m                                                                \u001b[0m \u001b]8;id=765060;file:///tmp/ipykernel_152833/1843420858.py\u001b\\\u001b[2m1843420858.py\u001b[0m\u001b]8;;\u001b\\\u001b[2m:\u001b[0m\u001b]8;id=201796;file:///tmp/ipykernel_152833/1843420858.py#249\u001b\\\u001b[2m249\u001b[0m\u001b]8;;\u001b\\\n",
       "           \u001b[1;32m---> Run Kubescheduler for Frontend                             \u001b[0m                  \n",
       "           \u001b[1;32m                                                                \u001b[0m                  \n"
      ]
     },
     "metadata": {},
     "output_type": "display_data"
    },
    {
     "data": {
      "text/html": [
       "<pre style=\"white-space:pre;overflow-x:auto;line-height:normal;font-family:Menlo,'DejaVu Sans Mono',consolas,'Courier New',monospace\"><span style=\"color: #7fbfbf; text-decoration-color: #7fbfbf\">           </span><span style=\"color: #008080; text-decoration-color: #008080\">👎 PodFitsHost ---&gt; n1                                           </span> <a href=\"file:///tmp/ipykernel_152833/1323010361.py\"><span style=\"color: #7f7f7f; text-decoration-color: #7f7f7f\">1323010361.py</span></a><span style=\"color: #7f7f7f; text-decoration-color: #7f7f7f\">:</span><a href=\"file:///tmp/ipykernel_152833/1323010361.py#67\"><span style=\"color: #7f7f7f; text-decoration-color: #7f7f7f\">67</span></a>\n",
       "</pre>\n"
      ],
      "text/plain": [
       "\u001b[2;36m          \u001b[0m\u001b[2;36m \u001b[0m\u001b[36m👎 PodFitsHost ---> n1                                           \u001b[0m \u001b]8;id=719499;file:///tmp/ipykernel_152833/1323010361.py\u001b\\\u001b[2m1323010361.py\u001b[0m\u001b]8;;\u001b\\\u001b[2m:\u001b[0m\u001b]8;id=939780;file:///tmp/ipykernel_152833/1323010361.py#67\u001b\\\u001b[2m67\u001b[0m\u001b]8;;\u001b\\\n"
      ]
     },
     "metadata": {},
     "output_type": "display_data"
    },
    {
     "data": {
      "text/html": [
       "<pre style=\"white-space:pre;overflow-x:auto;line-height:normal;font-family:Menlo,'DejaVu Sans Mono',consolas,'Courier New',monospace\"><span style=\"color: #7fbfbf; text-decoration-color: #7fbfbf\">           </span><span style=\"color: #008080; text-decoration-color: #008080\">↙  Least used node ---&gt; n1                                        </span> <a href=\"file:///tmp/ipykernel_152833/380400395.py\"><span style=\"color: #7f7f7f; text-decoration-color: #7f7f7f\">380400395.py</span></a><span style=\"color: #7f7f7f; text-decoration-color: #7f7f7f\">:</span><a href=\"file:///tmp/ipykernel_152833/380400395.py#49\"><span style=\"color: #7f7f7f; text-decoration-color: #7f7f7f\">49</span></a>\n",
       "</pre>\n"
      ],
      "text/plain": [
       "\u001b[2;36m          \u001b[0m\u001b[2;36m \u001b[0m\u001b[36m↙  Least used node ---> n1                                        \u001b[0m \u001b]8;id=277794;file:///tmp/ipykernel_152833/380400395.py\u001b\\\u001b[2m380400395.py\u001b[0m\u001b]8;;\u001b\\\u001b[2m:\u001b[0m\u001b]8;id=103307;file:///tmp/ipykernel_152833/380400395.py#49\u001b\\\u001b[2m49\u001b[0m\u001b]8;;\u001b\\\n"
      ]
     },
     "metadata": {},
     "output_type": "display_data"
    },
    {
     "data": {
      "text/html": [
       "<pre style=\"white-space:pre;overflow-x:auto;line-height:normal;font-family:Menlo,'DejaVu Sans Mono',consolas,'Courier New',monospace\"><span style=\"color: #7fbfbf; text-decoration-color: #7fbfbf\">           </span><span style=\"color: #008080; text-decoration-color: #008080\">👍 PodFitsHost ---&gt; n2                                           </span> <a href=\"file:///tmp/ipykernel_152833/1323010361.py\"><span style=\"color: #7f7f7f; text-decoration-color: #7f7f7f\">1323010361.py</span></a><span style=\"color: #7f7f7f; text-decoration-color: #7f7f7f\">:</span><a href=\"file:///tmp/ipykernel_152833/1323010361.py#62\"><span style=\"color: #7f7f7f; text-decoration-color: #7f7f7f\">62</span></a>\n",
       "</pre>\n"
      ],
      "text/plain": [
       "\u001b[2;36m          \u001b[0m\u001b[2;36m \u001b[0m\u001b[36m👍 PodFitsHost ---> n2                                           \u001b[0m \u001b]8;id=369411;file:///tmp/ipykernel_152833/1323010361.py\u001b\\\u001b[2m1323010361.py\u001b[0m\u001b]8;;\u001b\\\u001b[2m:\u001b[0m\u001b]8;id=513927;file:///tmp/ipykernel_152833/1323010361.py#62\u001b\\\u001b[2m62\u001b[0m\u001b]8;;\u001b\\\n"
      ]
     },
     "metadata": {},
     "output_type": "display_data"
    },
    {
     "data": {
      "text/html": [
       "<pre style=\"white-space:pre;overflow-x:auto;line-height:normal;font-family:Menlo,'DejaVu Sans Mono',consolas,'Courier New',monospace\"><span style=\"color: #7fbfbf; text-decoration-color: #7fbfbf\">           </span><span style=\"color: #008080; text-decoration-color: #008080\">👍 PodFitsResources ---&gt; n2                                      </span> <a href=\"file:///tmp/ipykernel_152833/1323010361.py\"><span style=\"color: #7f7f7f; text-decoration-color: #7f7f7f\">1323010361.py</span></a><span style=\"color: #7f7f7f; text-decoration-color: #7f7f7f\">:</span><a href=\"file:///tmp/ipykernel_152833/1323010361.py#62\"><span style=\"color: #7f7f7f; text-decoration-color: #7f7f7f\">62</span></a>\n",
       "</pre>\n"
      ],
      "text/plain": [
       "\u001b[2;36m          \u001b[0m\u001b[2;36m \u001b[0m\u001b[36m👍 PodFitsResources ---> n2                                      \u001b[0m \u001b]8;id=872321;file:///tmp/ipykernel_152833/1323010361.py\u001b\\\u001b[2m1323010361.py\u001b[0m\u001b]8;;\u001b\\\u001b[2m:\u001b[0m\u001b]8;id=237140;file:///tmp/ipykernel_152833/1323010361.py#62\u001b\\\u001b[2m62\u001b[0m\u001b]8;;\u001b\\\n"
      ]
     },
     "metadata": {},
     "output_type": "display_data"
    },
    {
     "data": {
      "text/html": [
       "<pre style=\"white-space:pre;overflow-x:auto;line-height:normal;font-family:Menlo,'DejaVu Sans Mono',consolas,'Courier New',monospace\"><span style=\"color: #7fbfbf; text-decoration-color: #7fbfbf\">           </span><span style=\"color: #008080; text-decoration-color: #008080\">👎 PodFitsHost ---&gt; n3                                           </span> <a href=\"file:///tmp/ipykernel_152833/1323010361.py\"><span style=\"color: #7f7f7f; text-decoration-color: #7f7f7f\">1323010361.py</span></a><span style=\"color: #7f7f7f; text-decoration-color: #7f7f7f\">:</span><a href=\"file:///tmp/ipykernel_152833/1323010361.py#67\"><span style=\"color: #7f7f7f; text-decoration-color: #7f7f7f\">67</span></a>\n",
       "</pre>\n"
      ],
      "text/plain": [
       "\u001b[2;36m          \u001b[0m\u001b[2;36m \u001b[0m\u001b[36m👎 PodFitsHost ---> n3                                           \u001b[0m \u001b]8;id=212724;file:///tmp/ipykernel_152833/1323010361.py\u001b\\\u001b[2m1323010361.py\u001b[0m\u001b]8;;\u001b\\\u001b[2m:\u001b[0m\u001b]8;id=392116;file:///tmp/ipykernel_152833/1323010361.py#67\u001b\\\u001b[2m67\u001b[0m\u001b]8;;\u001b\\\n"
      ]
     },
     "metadata": {},
     "output_type": "display_data"
    },
    {
     "data": {
      "text/html": [
       "<pre style=\"white-space:pre;overflow-x:auto;line-height:normal;font-family:Menlo,'DejaVu Sans Mono',consolas,'Courier New',monospace\"><span style=\"color: #7fbfbf; text-decoration-color: #7fbfbf\">           </span><span style=\"color: #008080; text-decoration-color: #008080\">👎 PodFitsHost ---&gt; n4                                           </span> <a href=\"file:///tmp/ipykernel_152833/1323010361.py\"><span style=\"color: #7f7f7f; text-decoration-color: #7f7f7f\">1323010361.py</span></a><span style=\"color: #7f7f7f; text-decoration-color: #7f7f7f\">:</span><a href=\"file:///tmp/ipykernel_152833/1323010361.py#67\"><span style=\"color: #7f7f7f; text-decoration-color: #7f7f7f\">67</span></a>\n",
       "</pre>\n"
      ],
      "text/plain": [
       "\u001b[2;36m          \u001b[0m\u001b[2;36m \u001b[0m\u001b[36m👎 PodFitsHost ---> n4                                           \u001b[0m \u001b]8;id=118680;file:///tmp/ipykernel_152833/1323010361.py\u001b\\\u001b[2m1323010361.py\u001b[0m\u001b]8;;\u001b\\\u001b[2m:\u001b[0m\u001b]8;id=115637;file:///tmp/ipykernel_152833/1323010361.py#67\u001b\\\u001b[2m67\u001b[0m\u001b]8;;\u001b\\\n"
      ]
     },
     "metadata": {},
     "output_type": "display_data"
    },
    {
     "data": {
      "text/html": [
       "<pre style=\"white-space:pre;overflow-x:auto;line-height:normal;font-family:Menlo,'DejaVu Sans Mono',consolas,'Courier New',monospace\"><span style=\"color: #7fbfbf; text-decoration-color: #7fbfbf\">           </span><span style=\"color: #008080; text-decoration-color: #008080\">👎 PodFitsHost ---&gt; n5                                           </span> <a href=\"file:///tmp/ipykernel_152833/1323010361.py\"><span style=\"color: #7f7f7f; text-decoration-color: #7f7f7f\">1323010361.py</span></a><span style=\"color: #7f7f7f; text-decoration-color: #7f7f7f\">:</span><a href=\"file:///tmp/ipykernel_152833/1323010361.py#67\"><span style=\"color: #7f7f7f; text-decoration-color: #7f7f7f\">67</span></a>\n",
       "</pre>\n"
      ],
      "text/plain": [
       "\u001b[2;36m          \u001b[0m\u001b[2;36m \u001b[0m\u001b[36m👎 PodFitsHost ---> n5                                           \u001b[0m \u001b]8;id=433766;file:///tmp/ipykernel_152833/1323010361.py\u001b\\\u001b[2m1323010361.py\u001b[0m\u001b]8;;\u001b\\\u001b[2m:\u001b[0m\u001b]8;id=504101;file:///tmp/ipykernel_152833/1323010361.py#67\u001b\\\u001b[2m67\u001b[0m\u001b]8;;\u001b\\\n"
      ]
     },
     "metadata": {},
     "output_type": "display_data"
    },
    {
     "data": {
      "text/html": [
       "<pre style=\"white-space:pre;overflow-x:auto;line-height:normal;font-family:Menlo,'DejaVu Sans Mono',consolas,'Courier New',monospace\"><span style=\"color: #7fbfbf; text-decoration-color: #7fbfbf\">           </span><span style=\"color: #008080; text-decoration-color: #008080\">👎 PodFitsHost ---&gt; n6                                           </span> <a href=\"file:///tmp/ipykernel_152833/1323010361.py\"><span style=\"color: #7f7f7f; text-decoration-color: #7f7f7f\">1323010361.py</span></a><span style=\"color: #7f7f7f; text-decoration-color: #7f7f7f\">:</span><a href=\"file:///tmp/ipykernel_152833/1323010361.py#67\"><span style=\"color: #7f7f7f; text-decoration-color: #7f7f7f\">67</span></a>\n",
       "</pre>\n"
      ],
      "text/plain": [
       "\u001b[2;36m          \u001b[0m\u001b[2;36m \u001b[0m\u001b[36m👎 PodFitsHost ---> n6                                           \u001b[0m \u001b]8;id=845937;file:///tmp/ipykernel_152833/1323010361.py\u001b\\\u001b[2m1323010361.py\u001b[0m\u001b]8;;\u001b\\\u001b[2m:\u001b[0m\u001b]8;id=408424;file:///tmp/ipykernel_152833/1323010361.py#67\u001b\\\u001b[2m67\u001b[0m\u001b]8;;\u001b\\\n"
      ]
     },
     "metadata": {},
     "output_type": "display_data"
    },
    {
     "data": {
      "text/html": [
       "<pre style=\"white-space:pre;overflow-x:auto;line-height:normal;font-family:Menlo,'DejaVu Sans Mono',consolas,'Courier New',monospace\"><span style=\"color: #7fbfbf; text-decoration-color: #7fbfbf\">           </span><span style=\"color: #008000; text-decoration-color: #008000; font-weight: bold\">                                                                 </span> <a href=\"file:///tmp/ipykernel_152833/1323010361.py\"><span style=\"color: #7f7f7f; text-decoration-color: #7f7f7f\">1323010361.py</span></a><span style=\"color: #7f7f7f; text-decoration-color: #7f7f7f\">:</span><a href=\"file:///tmp/ipykernel_152833/1323010361.py#98\"><span style=\"color: #7f7f7f; text-decoration-color: #7f7f7f\">98</span></a>\n",
       "           <span style=\"color: #008000; text-decoration-color: #008000; font-weight: bold\">---&gt; Selected node = n2 ⌛ Simulation Time: </span><span style=\"color: #008080; text-decoration-color: #008080; font-weight: bold\">65</span><span style=\"color: #008000; text-decoration-color: #008000; font-weight: bold\"> seconds           </span>                 \n",
       "           <span style=\"color: #008000; text-decoration-color: #008000; font-weight: bold\">                                                                 </span>                 \n",
       "</pre>\n"
      ],
      "text/plain": [
       "\u001b[2;36m          \u001b[0m\u001b[2;36m \u001b[0m\u001b[1;32m                                                                 \u001b[0m \u001b]8;id=683569;file:///tmp/ipykernel_152833/1323010361.py\u001b\\\u001b[2m1323010361.py\u001b[0m\u001b]8;;\u001b\\\u001b[2m:\u001b[0m\u001b]8;id=640527;file:///tmp/ipykernel_152833/1323010361.py#98\u001b\\\u001b[2m98\u001b[0m\u001b]8;;\u001b\\\n",
       "           \u001b[1;32m---> Selected node = n2 ⌛ Simulation Time: \u001b[0m\u001b[1;36m65\u001b[0m\u001b[1;32m seconds           \u001b[0m                 \n",
       "           \u001b[1;32m                                                                 \u001b[0m                 \n"
      ]
     },
     "metadata": {},
     "output_type": "display_data"
    },
    {
     "data": {
      "text/html": [
       "<pre style=\"white-space:pre;overflow-x:auto;line-height:normal;font-family:Menlo,'DejaVu Sans Mono',consolas,'Courier New',monospace\"><span style=\"color: #7fbfbf; text-decoration-color: #7fbfbf\">           </span><span style=\"font-style: italic\">                        Pod Description                         </span> <a href=\"file:///tmp/ipykernel_152833/1843420858.py\"><span style=\"color: #7f7f7f; text-decoration-color: #7f7f7f\">1843420858.py</span></a><span style=\"color: #7f7f7f; text-decoration-color: #7f7f7f\">:</span><a href=\"file:///tmp/ipykernel_152833/1843420858.py#267\"><span style=\"color: #7f7f7f; text-decoration-color: #7f7f7f\">267</span></a>\n",
       "           ┏━━━━━━┳━━━━┳━━━━━━┳━━━━━━━┳━━━━━━┳━━━━━━┳━━━━━━┳━━━━━━━┳━━━━━━┓                  \n",
       "           ┃<span style=\"font-weight: bold\"> Name </span>┃<span style=\"font-weight: bold\"> ID </span>┃<span style=\"font-weight: bold\"> Node </span>┃<span style=\"font-weight: bold\"> Memo… </span>┃<span style=\"font-weight: bold\"> CPU  </span>┃<span style=\"font-weight: bold\"> Bind </span>┃<span style=\"font-weight: bold\"> Port </span>┃<span style=\"font-weight: bold\"> Arri… </span>┃<span style=\"font-weight: bold\"> Ser… </span>┃                  \n",
       "           ┃      ┃    ┃<span style=\"font-weight: bold\"> Ass… </span>┃<span style=\"font-weight: bold\">  Req  </span>┃<span style=\"font-weight: bold\"> Req  </span>┃      ┃      ┃<span style=\"font-weight: bold\"> Time  </span>┃<span style=\"font-weight: bold\"> Time </span>┃                  \n",
       "           ┡━━━━━━╇━━━━╇━━━━━━╇━━━━━━━╇━━━━━━╇━━━━━━╇━━━━━━╇━━━━━━━╇━━━━━━┩                  \n",
       "           │<span style=\"color: #008080; text-decoration-color: #008080\"> Fro… </span>│<span style=\"color: #800080; text-decoration-color: #800080\"> 0  </span>│<span style=\"color: #008000; text-decoration-color: #008000\">  n2  </span>│<span style=\"color: #008080; text-decoration-color: #008080\">  64   </span>│<span style=\"color: #800080; text-decoration-color: #800080\"> 120  </span>│<span style=\"color: #008000; text-decoration-color: #008000\"> True </span>│<span style=\"color: #008080; text-decoration-color: #008080\">  90  </span>│<span style=\"color: #800080; text-decoration-color: #800080\">  35   </span>│<span style=\"color: #008000; text-decoration-color: #008000\"> 165  </span>│                  \n",
       "           └──────┴────┴──────┴───────┴──────┴──────┴──────┴───────┴──────┘                  \n",
       "</pre>\n"
      ],
      "text/plain": [
       "\u001b[2;36m          \u001b[0m\u001b[2;36m \u001b[0m\u001b[3m                        Pod Description                         \u001b[0m \u001b]8;id=289158;file:///tmp/ipykernel_152833/1843420858.py\u001b\\\u001b[2m1843420858.py\u001b[0m\u001b]8;;\u001b\\\u001b[2m:\u001b[0m\u001b]8;id=645995;file:///tmp/ipykernel_152833/1843420858.py#267\u001b\\\u001b[2m267\u001b[0m\u001b]8;;\u001b\\\n",
       "           ┏━━━━━━┳━━━━┳━━━━━━┳━━━━━━━┳━━━━━━┳━━━━━━┳━━━━━━┳━━━━━━━┳━━━━━━┓                  \n",
       "           ┃\u001b[1m \u001b[0m\u001b[1mName\u001b[0m\u001b[1m \u001b[0m┃\u001b[1m \u001b[0m\u001b[1mID\u001b[0m\u001b[1m \u001b[0m┃\u001b[1m \u001b[0m\u001b[1mNode\u001b[0m\u001b[1m \u001b[0m┃\u001b[1m \u001b[0m\u001b[1mMemo…\u001b[0m\u001b[1m \u001b[0m┃\u001b[1m \u001b[0m\u001b[1mCPU \u001b[0m\u001b[1m \u001b[0m┃\u001b[1m \u001b[0m\u001b[1mBind\u001b[0m\u001b[1m \u001b[0m┃\u001b[1m \u001b[0m\u001b[1mPort\u001b[0m\u001b[1m \u001b[0m┃\u001b[1m \u001b[0m\u001b[1mArri…\u001b[0m\u001b[1m \u001b[0m┃\u001b[1m \u001b[0m\u001b[1mSer…\u001b[0m\u001b[1m \u001b[0m┃                  \n",
       "           ┃      ┃    ┃\u001b[1m \u001b[0m\u001b[1mAss…\u001b[0m\u001b[1m \u001b[0m┃\u001b[1m \u001b[0m\u001b[1m Req \u001b[0m\u001b[1m \u001b[0m┃\u001b[1m \u001b[0m\u001b[1mReq \u001b[0m\u001b[1m \u001b[0m┃      ┃      ┃\u001b[1m \u001b[0m\u001b[1mTime \u001b[0m\u001b[1m \u001b[0m┃\u001b[1m \u001b[0m\u001b[1mTime\u001b[0m\u001b[1m \u001b[0m┃                  \n",
       "           ┡━━━━━━╇━━━━╇━━━━━━╇━━━━━━━╇━━━━━━╇━━━━━━╇━━━━━━╇━━━━━━━╇━━━━━━┩                  \n",
       "           │\u001b[36m \u001b[0m\u001b[36mFro…\u001b[0m\u001b[36m \u001b[0m│\u001b[35m \u001b[0m\u001b[35m0 \u001b[0m\u001b[35m \u001b[0m│\u001b[32m \u001b[0m\u001b[32m n2 \u001b[0m\u001b[32m \u001b[0m│\u001b[36m \u001b[0m\u001b[36m 64  \u001b[0m\u001b[36m \u001b[0m│\u001b[35m \u001b[0m\u001b[35m120 \u001b[0m\u001b[35m \u001b[0m│\u001b[32m \u001b[0m\u001b[32mTrue\u001b[0m\u001b[32m \u001b[0m│\u001b[36m \u001b[0m\u001b[36m 90 \u001b[0m\u001b[36m \u001b[0m│\u001b[35m \u001b[0m\u001b[35m 35  \u001b[0m\u001b[35m \u001b[0m│\u001b[32m \u001b[0m\u001b[32m165 \u001b[0m\u001b[32m \u001b[0m│                  \n",
       "           └──────┴────┴──────┴───────┴──────┴──────┴──────┴───────┴──────┘                  \n"
      ]
     },
     "metadata": {},
     "output_type": "display_data"
    },
    {
     "data": {
      "text/html": [
       "<pre style=\"white-space:pre;overflow-x:auto;line-height:normal;font-family:Menlo,'DejaVu Sans Mono',consolas,'Courier New',monospace\"><span style=\"color: #7fbfbf; text-decoration-color: #7fbfbf\">           </span><span style=\"color: #008000; text-decoration-color: #008000; font-weight: bold\">                                                                </span> <a href=\"file:///tmp/ipykernel_152833/1843420858.py\"><span style=\"color: #7f7f7f; text-decoration-color: #7f7f7f\">1843420858.py</span></a><span style=\"color: #7f7f7f; text-decoration-color: #7f7f7f\">:</span><a href=\"file:///tmp/ipykernel_152833/1843420858.py#249\"><span style=\"color: #7f7f7f; text-decoration-color: #7f7f7f\">249</span></a>\n",
       "           <span style=\"color: #008000; text-decoration-color: #008000; font-weight: bold\">---&gt; Run Kubescheduler for Pod1                                 </span>                  \n",
       "           <span style=\"color: #008000; text-decoration-color: #008000; font-weight: bold\">                                                                </span>                  \n",
       "</pre>\n"
      ],
      "text/plain": [
       "\u001b[2;36m          \u001b[0m\u001b[2;36m \u001b[0m\u001b[1;32m                                                                \u001b[0m \u001b]8;id=866557;file:///tmp/ipykernel_152833/1843420858.py\u001b\\\u001b[2m1843420858.py\u001b[0m\u001b]8;;\u001b\\\u001b[2m:\u001b[0m\u001b]8;id=205160;file:///tmp/ipykernel_152833/1843420858.py#249\u001b\\\u001b[2m249\u001b[0m\u001b]8;;\u001b\\\n",
       "           \u001b[1;32m---> Run Kubescheduler for Pod1                                 \u001b[0m                  \n",
       "           \u001b[1;32m                                                                \u001b[0m                  \n"
      ]
     },
     "metadata": {},
     "output_type": "display_data"
    },
    {
     "data": {
      "text/html": [
       "<pre style=\"white-space:pre;overflow-x:auto;line-height:normal;font-family:Menlo,'DejaVu Sans Mono',consolas,'Courier New',monospace\"><span style=\"color: #7fbfbf; text-decoration-color: #7fbfbf\">           </span><span style=\"color: #008080; text-decoration-color: #008080\">👍 PodFitsHostPorts ---&gt; n1                                      </span> <a href=\"file:///tmp/ipykernel_152833/1323010361.py\"><span style=\"color: #7f7f7f; text-decoration-color: #7f7f7f\">1323010361.py</span></a><span style=\"color: #7f7f7f; text-decoration-color: #7f7f7f\">:</span><a href=\"file:///tmp/ipykernel_152833/1323010361.py#62\"><span style=\"color: #7f7f7f; text-decoration-color: #7f7f7f\">62</span></a>\n",
       "</pre>\n"
      ],
      "text/plain": [
       "\u001b[2;36m          \u001b[0m\u001b[2;36m \u001b[0m\u001b[36m👍 PodFitsHostPorts ---> n1                                      \u001b[0m \u001b]8;id=330282;file:///tmp/ipykernel_152833/1323010361.py\u001b\\\u001b[2m1323010361.py\u001b[0m\u001b]8;;\u001b\\\u001b[2m:\u001b[0m\u001b]8;id=405409;file:///tmp/ipykernel_152833/1323010361.py#62\u001b\\\u001b[2m62\u001b[0m\u001b]8;;\u001b\\\n"
      ]
     },
     "metadata": {},
     "output_type": "display_data"
    },
    {
     "data": {
      "text/html": [
       "<pre style=\"white-space:pre;overflow-x:auto;line-height:normal;font-family:Menlo,'DejaVu Sans Mono',consolas,'Courier New',monospace\"><span style=\"color: #7fbfbf; text-decoration-color: #7fbfbf\">           </span><span style=\"color: #008080; text-decoration-color: #008080\">👎 PodFitsHost ---&gt; n1                                           </span> <a href=\"file:///tmp/ipykernel_152833/1323010361.py\"><span style=\"color: #7f7f7f; text-decoration-color: #7f7f7f\">1323010361.py</span></a><span style=\"color: #7f7f7f; text-decoration-color: #7f7f7f\">:</span><a href=\"file:///tmp/ipykernel_152833/1323010361.py#67\"><span style=\"color: #7f7f7f; text-decoration-color: #7f7f7f\">67</span></a>\n",
       "</pre>\n"
      ],
      "text/plain": [
       "\u001b[2;36m          \u001b[0m\u001b[2;36m \u001b[0m\u001b[36m👎 PodFitsHost ---> n1                                           \u001b[0m \u001b]8;id=891634;file:///tmp/ipykernel_152833/1323010361.py\u001b\\\u001b[2m1323010361.py\u001b[0m\u001b]8;;\u001b\\\u001b[2m:\u001b[0m\u001b]8;id=299313;file:///tmp/ipykernel_152833/1323010361.py#67\u001b\\\u001b[2m67\u001b[0m\u001b]8;;\u001b\\\n"
      ]
     },
     "metadata": {},
     "output_type": "display_data"
    },
    {
     "data": {
      "text/html": [
       "<pre style=\"white-space:pre;overflow-x:auto;line-height:normal;font-family:Menlo,'DejaVu Sans Mono',consolas,'Courier New',monospace\"><span style=\"color: #7fbfbf; text-decoration-color: #7fbfbf\">           </span><span style=\"color: #008080; text-decoration-color: #008080\">👍 PodFitsHostPorts ---&gt; n2                                      </span> <a href=\"file:///tmp/ipykernel_152833/1323010361.py\"><span style=\"color: #7f7f7f; text-decoration-color: #7f7f7f\">1323010361.py</span></a><span style=\"color: #7f7f7f; text-decoration-color: #7f7f7f\">:</span><a href=\"file:///tmp/ipykernel_152833/1323010361.py#62\"><span style=\"color: #7f7f7f; text-decoration-color: #7f7f7f\">62</span></a>\n",
       "</pre>\n"
      ],
      "text/plain": [
       "\u001b[2;36m          \u001b[0m\u001b[2;36m \u001b[0m\u001b[36m👍 PodFitsHostPorts ---> n2                                      \u001b[0m \u001b]8;id=296013;file:///tmp/ipykernel_152833/1323010361.py\u001b\\\u001b[2m1323010361.py\u001b[0m\u001b]8;;\u001b\\\u001b[2m:\u001b[0m\u001b]8;id=511298;file:///tmp/ipykernel_152833/1323010361.py#62\u001b\\\u001b[2m62\u001b[0m\u001b]8;;\u001b\\\n"
      ]
     },
     "metadata": {},
     "output_type": "display_data"
    },
    {
     "data": {
      "text/html": [
       "<pre style=\"white-space:pre;overflow-x:auto;line-height:normal;font-family:Menlo,'DejaVu Sans Mono',consolas,'Courier New',monospace\"><span style=\"color: #7fbfbf; text-decoration-color: #7fbfbf\">           </span><span style=\"color: #008080; text-decoration-color: #008080\">👎 PodFitsHost ---&gt; n2                                           </span> <a href=\"file:///tmp/ipykernel_152833/1323010361.py\"><span style=\"color: #7f7f7f; text-decoration-color: #7f7f7f\">1323010361.py</span></a><span style=\"color: #7f7f7f; text-decoration-color: #7f7f7f\">:</span><a href=\"file:///tmp/ipykernel_152833/1323010361.py#67\"><span style=\"color: #7f7f7f; text-decoration-color: #7f7f7f\">67</span></a>\n",
       "</pre>\n"
      ],
      "text/plain": [
       "\u001b[2;36m          \u001b[0m\u001b[2;36m \u001b[0m\u001b[36m👎 PodFitsHost ---> n2                                           \u001b[0m \u001b]8;id=619243;file:///tmp/ipykernel_152833/1323010361.py\u001b\\\u001b[2m1323010361.py\u001b[0m\u001b]8;;\u001b\\\u001b[2m:\u001b[0m\u001b]8;id=207668;file:///tmp/ipykernel_152833/1323010361.py#67\u001b\\\u001b[2m67\u001b[0m\u001b]8;;\u001b\\\n"
      ]
     },
     "metadata": {},
     "output_type": "display_data"
    },
    {
     "data": {
      "text/html": [
       "<pre style=\"white-space:pre;overflow-x:auto;line-height:normal;font-family:Menlo,'DejaVu Sans Mono',consolas,'Courier New',monospace\"><span style=\"color: #7fbfbf; text-decoration-color: #7fbfbf\">           </span><span style=\"color: #008080; text-decoration-color: #008080\">↗  Most used node ---&gt; n2                                         </span> <a href=\"file:///tmp/ipykernel_152833/380400395.py\"><span style=\"color: #7f7f7f; text-decoration-color: #7f7f7f\">380400395.py</span></a><span style=\"color: #7f7f7f; text-decoration-color: #7f7f7f\">:</span><a href=\"file:///tmp/ipykernel_152833/380400395.py#75\"><span style=\"color: #7f7f7f; text-decoration-color: #7f7f7f\">75</span></a>\n",
       "</pre>\n"
      ],
      "text/plain": [
       "\u001b[2;36m          \u001b[0m\u001b[2;36m \u001b[0m\u001b[36m↗  Most used node ---> n2                                         \u001b[0m \u001b]8;id=242505;file:///tmp/ipykernel_152833/380400395.py\u001b\\\u001b[2m380400395.py\u001b[0m\u001b]8;;\u001b\\\u001b[2m:\u001b[0m\u001b]8;id=254588;file:///tmp/ipykernel_152833/380400395.py#75\u001b\\\u001b[2m75\u001b[0m\u001b]8;;\u001b\\\n"
      ]
     },
     "metadata": {},
     "output_type": "display_data"
    },
    {
     "data": {
      "text/html": [
       "<pre style=\"white-space:pre;overflow-x:auto;line-height:normal;font-family:Menlo,'DejaVu Sans Mono',consolas,'Courier New',monospace\"><span style=\"color: #7fbfbf; text-decoration-color: #7fbfbf\">           </span><span style=\"color: #008080; text-decoration-color: #008080\">💿 Image locality Found ---&gt; n2                                  </span> <a href=\"file:///tmp/ipykernel_152833/380400395.py\"><span style=\"color: #7f7f7f; text-decoration-color: #7f7f7f\">380400395.py</span></a><span style=\"color: #7f7f7f; text-decoration-color: #7f7f7f\">:</span><a href=\"file:///tmp/ipykernel_152833/380400395.py#133\"><span style=\"color: #7f7f7f; text-decoration-color: #7f7f7f\">133</span></a>\n",
       "</pre>\n"
      ],
      "text/plain": [
       "\u001b[2;36m          \u001b[0m\u001b[2;36m \u001b[0m\u001b[36m💿 Image locality Found ---> n2                                  \u001b[0m \u001b]8;id=287775;file:///tmp/ipykernel_152833/380400395.py\u001b\\\u001b[2m380400395.py\u001b[0m\u001b]8;;\u001b\\\u001b[2m:\u001b[0m\u001b]8;id=146095;file:///tmp/ipykernel_152833/380400395.py#133\u001b\\\u001b[2m133\u001b[0m\u001b]8;;\u001b\\\n"
      ]
     },
     "metadata": {},
     "output_type": "display_data"
    },
    {
     "data": {
      "text/html": [
       "<pre style=\"white-space:pre;overflow-x:auto;line-height:normal;font-family:Menlo,'DejaVu Sans Mono',consolas,'Courier New',monospace\"><span style=\"color: #7fbfbf; text-decoration-color: #7fbfbf\">           </span><span style=\"color: #008080; text-decoration-color: #008080\">👍 PodFitsHostPorts ---&gt; n3                                      </span> <a href=\"file:///tmp/ipykernel_152833/1323010361.py\"><span style=\"color: #7f7f7f; text-decoration-color: #7f7f7f\">1323010361.py</span></a><span style=\"color: #7f7f7f; text-decoration-color: #7f7f7f\">:</span><a href=\"file:///tmp/ipykernel_152833/1323010361.py#62\"><span style=\"color: #7f7f7f; text-decoration-color: #7f7f7f\">62</span></a>\n",
       "</pre>\n"
      ],
      "text/plain": [
       "\u001b[2;36m          \u001b[0m\u001b[2;36m \u001b[0m\u001b[36m👍 PodFitsHostPorts ---> n3                                      \u001b[0m \u001b]8;id=160306;file:///tmp/ipykernel_152833/1323010361.py\u001b\\\u001b[2m1323010361.py\u001b[0m\u001b]8;;\u001b\\\u001b[2m:\u001b[0m\u001b]8;id=899607;file:///tmp/ipykernel_152833/1323010361.py#62\u001b\\\u001b[2m62\u001b[0m\u001b]8;;\u001b\\\n"
      ]
     },
     "metadata": {},
     "output_type": "display_data"
    },
    {
     "data": {
      "text/html": [
       "<pre style=\"white-space:pre;overflow-x:auto;line-height:normal;font-family:Menlo,'DejaVu Sans Mono',consolas,'Courier New',monospace\"><span style=\"color: #7fbfbf; text-decoration-color: #7fbfbf\">           </span><span style=\"color: #008080; text-decoration-color: #008080\">👎 PodFitsHost ---&gt; n3                                           </span> <a href=\"file:///tmp/ipykernel_152833/1323010361.py\"><span style=\"color: #7f7f7f; text-decoration-color: #7f7f7f\">1323010361.py</span></a><span style=\"color: #7f7f7f; text-decoration-color: #7f7f7f\">:</span><a href=\"file:///tmp/ipykernel_152833/1323010361.py#67\"><span style=\"color: #7f7f7f; text-decoration-color: #7f7f7f\">67</span></a>\n",
       "</pre>\n"
      ],
      "text/plain": [
       "\u001b[2;36m          \u001b[0m\u001b[2;36m \u001b[0m\u001b[36m👎 PodFitsHost ---> n3                                           \u001b[0m \u001b]8;id=126171;file:///tmp/ipykernel_152833/1323010361.py\u001b\\\u001b[2m1323010361.py\u001b[0m\u001b]8;;\u001b\\\u001b[2m:\u001b[0m\u001b]8;id=942274;file:///tmp/ipykernel_152833/1323010361.py#67\u001b\\\u001b[2m67\u001b[0m\u001b]8;;\u001b\\\n"
      ]
     },
     "metadata": {},
     "output_type": "display_data"
    },
    {
     "data": {
      "text/html": [
       "<pre style=\"white-space:pre;overflow-x:auto;line-height:normal;font-family:Menlo,'DejaVu Sans Mono',consolas,'Courier New',monospace\"><span style=\"color: #7fbfbf; text-decoration-color: #7fbfbf\">           </span><span style=\"color: #008080; text-decoration-color: #008080\">👍 PodFitsHostPorts ---&gt; n4                                      </span> <a href=\"file:///tmp/ipykernel_152833/1323010361.py\"><span style=\"color: #7f7f7f; text-decoration-color: #7f7f7f\">1323010361.py</span></a><span style=\"color: #7f7f7f; text-decoration-color: #7f7f7f\">:</span><a href=\"file:///tmp/ipykernel_152833/1323010361.py#62\"><span style=\"color: #7f7f7f; text-decoration-color: #7f7f7f\">62</span></a>\n",
       "</pre>\n"
      ],
      "text/plain": [
       "\u001b[2;36m          \u001b[0m\u001b[2;36m \u001b[0m\u001b[36m👍 PodFitsHostPorts ---> n4                                      \u001b[0m \u001b]8;id=703173;file:///tmp/ipykernel_152833/1323010361.py\u001b\\\u001b[2m1323010361.py\u001b[0m\u001b]8;;\u001b\\\u001b[2m:\u001b[0m\u001b]8;id=294175;file:///tmp/ipykernel_152833/1323010361.py#62\u001b\\\u001b[2m62\u001b[0m\u001b]8;;\u001b\\\n"
      ]
     },
     "metadata": {},
     "output_type": "display_data"
    },
    {
     "data": {
      "text/html": [
       "<pre style=\"white-space:pre;overflow-x:auto;line-height:normal;font-family:Menlo,'DejaVu Sans Mono',consolas,'Courier New',monospace\"><span style=\"color: #7fbfbf; text-decoration-color: #7fbfbf\">           </span><span style=\"color: #008080; text-decoration-color: #008080\">👍 PodFitsHost ---&gt; n4                                           </span> <a href=\"file:///tmp/ipykernel_152833/1323010361.py\"><span style=\"color: #7f7f7f; text-decoration-color: #7f7f7f\">1323010361.py</span></a><span style=\"color: #7f7f7f; text-decoration-color: #7f7f7f\">:</span><a href=\"file:///tmp/ipykernel_152833/1323010361.py#62\"><span style=\"color: #7f7f7f; text-decoration-color: #7f7f7f\">62</span></a>\n",
       "</pre>\n"
      ],
      "text/plain": [
       "\u001b[2;36m          \u001b[0m\u001b[2;36m \u001b[0m\u001b[36m👍 PodFitsHost ---> n4                                           \u001b[0m \u001b]8;id=957553;file:///tmp/ipykernel_152833/1323010361.py\u001b\\\u001b[2m1323010361.py\u001b[0m\u001b]8;;\u001b\\\u001b[2m:\u001b[0m\u001b]8;id=250335;file:///tmp/ipykernel_152833/1323010361.py#62\u001b\\\u001b[2m62\u001b[0m\u001b]8;;\u001b\\\n"
      ]
     },
     "metadata": {},
     "output_type": "display_data"
    },
    {
     "data": {
      "text/html": [
       "<pre style=\"white-space:pre;overflow-x:auto;line-height:normal;font-family:Menlo,'DejaVu Sans Mono',consolas,'Courier New',monospace\"><span style=\"color: #7fbfbf; text-decoration-color: #7fbfbf\">           </span><span style=\"color: #008080; text-decoration-color: #008080\">👍 PodFitsResources ---&gt; n4                                      </span> <a href=\"file:///tmp/ipykernel_152833/1323010361.py\"><span style=\"color: #7f7f7f; text-decoration-color: #7f7f7f\">1323010361.py</span></a><span style=\"color: #7f7f7f; text-decoration-color: #7f7f7f\">:</span><a href=\"file:///tmp/ipykernel_152833/1323010361.py#62\"><span style=\"color: #7f7f7f; text-decoration-color: #7f7f7f\">62</span></a>\n",
       "</pre>\n"
      ],
      "text/plain": [
       "\u001b[2;36m          \u001b[0m\u001b[2;36m \u001b[0m\u001b[36m👍 PodFitsResources ---> n4                                      \u001b[0m \u001b]8;id=502783;file:///tmp/ipykernel_152833/1323010361.py\u001b\\\u001b[2m1323010361.py\u001b[0m\u001b]8;;\u001b\\\u001b[2m:\u001b[0m\u001b]8;id=791226;file:///tmp/ipykernel_152833/1323010361.py#62\u001b\\\u001b[2m62\u001b[0m\u001b]8;;\u001b\\\n"
      ]
     },
     "metadata": {},
     "output_type": "display_data"
    },
    {
     "data": {
      "text/html": [
       "<pre style=\"white-space:pre;overflow-x:auto;line-height:normal;font-family:Menlo,'DejaVu Sans Mono',consolas,'Courier New',monospace\"><span style=\"color: #7fbfbf; text-decoration-color: #7fbfbf\">           </span><span style=\"color: #008080; text-decoration-color: #008080\">👍 PodFitsHostPorts ---&gt; n5                                      </span> <a href=\"file:///tmp/ipykernel_152833/1323010361.py\"><span style=\"color: #7f7f7f; text-decoration-color: #7f7f7f\">1323010361.py</span></a><span style=\"color: #7f7f7f; text-decoration-color: #7f7f7f\">:</span><a href=\"file:///tmp/ipykernel_152833/1323010361.py#62\"><span style=\"color: #7f7f7f; text-decoration-color: #7f7f7f\">62</span></a>\n",
       "</pre>\n"
      ],
      "text/plain": [
       "\u001b[2;36m          \u001b[0m\u001b[2;36m \u001b[0m\u001b[36m👍 PodFitsHostPorts ---> n5                                      \u001b[0m \u001b]8;id=613231;file:///tmp/ipykernel_152833/1323010361.py\u001b\\\u001b[2m1323010361.py\u001b[0m\u001b]8;;\u001b\\\u001b[2m:\u001b[0m\u001b]8;id=13812;file:///tmp/ipykernel_152833/1323010361.py#62\u001b\\\u001b[2m62\u001b[0m\u001b]8;;\u001b\\\n"
      ]
     },
     "metadata": {},
     "output_type": "display_data"
    },
    {
     "data": {
      "text/html": [
       "<pre style=\"white-space:pre;overflow-x:auto;line-height:normal;font-family:Menlo,'DejaVu Sans Mono',consolas,'Courier New',monospace\"><span style=\"color: #7fbfbf; text-decoration-color: #7fbfbf\">           </span><span style=\"color: #008080; text-decoration-color: #008080\">👎 PodFitsHost ---&gt; n5                                           </span> <a href=\"file:///tmp/ipykernel_152833/1323010361.py\"><span style=\"color: #7f7f7f; text-decoration-color: #7f7f7f\">1323010361.py</span></a><span style=\"color: #7f7f7f; text-decoration-color: #7f7f7f\">:</span><a href=\"file:///tmp/ipykernel_152833/1323010361.py#67\"><span style=\"color: #7f7f7f; text-decoration-color: #7f7f7f\">67</span></a>\n",
       "</pre>\n"
      ],
      "text/plain": [
       "\u001b[2;36m          \u001b[0m\u001b[2;36m \u001b[0m\u001b[36m👎 PodFitsHost ---> n5                                           \u001b[0m \u001b]8;id=812552;file:///tmp/ipykernel_152833/1323010361.py\u001b\\\u001b[2m1323010361.py\u001b[0m\u001b]8;;\u001b\\\u001b[2m:\u001b[0m\u001b]8;id=40035;file:///tmp/ipykernel_152833/1323010361.py#67\u001b\\\u001b[2m67\u001b[0m\u001b]8;;\u001b\\\n"
      ]
     },
     "metadata": {},
     "output_type": "display_data"
    },
    {
     "data": {
      "text/html": [
       "<pre style=\"white-space:pre;overflow-x:auto;line-height:normal;font-family:Menlo,'DejaVu Sans Mono',consolas,'Courier New',monospace\"><span style=\"color: #7fbfbf; text-decoration-color: #7fbfbf\">           </span><span style=\"color: #008080; text-decoration-color: #008080\">👍 PodFitsHostPorts ---&gt; n6                                      </span> <a href=\"file:///tmp/ipykernel_152833/1323010361.py\"><span style=\"color: #7f7f7f; text-decoration-color: #7f7f7f\">1323010361.py</span></a><span style=\"color: #7f7f7f; text-decoration-color: #7f7f7f\">:</span><a href=\"file:///tmp/ipykernel_152833/1323010361.py#62\"><span style=\"color: #7f7f7f; text-decoration-color: #7f7f7f\">62</span></a>\n",
       "</pre>\n"
      ],
      "text/plain": [
       "\u001b[2;36m          \u001b[0m\u001b[2;36m \u001b[0m\u001b[36m👍 PodFitsHostPorts ---> n6                                      \u001b[0m \u001b]8;id=153782;file:///tmp/ipykernel_152833/1323010361.py\u001b\\\u001b[2m1323010361.py\u001b[0m\u001b]8;;\u001b\\\u001b[2m:\u001b[0m\u001b]8;id=748422;file:///tmp/ipykernel_152833/1323010361.py#62\u001b\\\u001b[2m62\u001b[0m\u001b]8;;\u001b\\\n"
      ]
     },
     "metadata": {},
     "output_type": "display_data"
    },
    {
     "data": {
      "text/html": [
       "<pre style=\"white-space:pre;overflow-x:auto;line-height:normal;font-family:Menlo,'DejaVu Sans Mono',consolas,'Courier New',monospace\"><span style=\"color: #7fbfbf; text-decoration-color: #7fbfbf\">           </span><span style=\"color: #008080; text-decoration-color: #008080\">👎 PodFitsHost ---&gt; n6                                           </span> <a href=\"file:///tmp/ipykernel_152833/1323010361.py\"><span style=\"color: #7f7f7f; text-decoration-color: #7f7f7f\">1323010361.py</span></a><span style=\"color: #7f7f7f; text-decoration-color: #7f7f7f\">:</span><a href=\"file:///tmp/ipykernel_152833/1323010361.py#67\"><span style=\"color: #7f7f7f; text-decoration-color: #7f7f7f\">67</span></a>\n",
       "</pre>\n"
      ],
      "text/plain": [
       "\u001b[2;36m          \u001b[0m\u001b[2;36m \u001b[0m\u001b[36m👎 PodFitsHost ---> n6                                           \u001b[0m \u001b]8;id=749481;file:///tmp/ipykernel_152833/1323010361.py\u001b\\\u001b[2m1323010361.py\u001b[0m\u001b]8;;\u001b\\\u001b[2m:\u001b[0m\u001b]8;id=367904;file:///tmp/ipykernel_152833/1323010361.py#67\u001b\\\u001b[2m67\u001b[0m\u001b]8;;\u001b\\\n"
      ]
     },
     "metadata": {},
     "output_type": "display_data"
    },
    {
     "data": {
      "text/html": [
       "<pre style=\"white-space:pre;overflow-x:auto;line-height:normal;font-family:Menlo,'DejaVu Sans Mono',consolas,'Courier New',monospace\"><span style=\"color: #7fbfbf; text-decoration-color: #7fbfbf\">           </span><span style=\"color: #008000; text-decoration-color: #008000; font-weight: bold\">                                                                 </span> <a href=\"file:///tmp/ipykernel_152833/1323010361.py\"><span style=\"color: #7f7f7f; text-decoration-color: #7f7f7f\">1323010361.py</span></a><span style=\"color: #7f7f7f; text-decoration-color: #7f7f7f\">:</span><a href=\"file:///tmp/ipykernel_152833/1323010361.py#98\"><span style=\"color: #7f7f7f; text-decoration-color: #7f7f7f\">98</span></a>\n",
       "           <span style=\"color: #008000; text-decoration-color: #008000; font-weight: bold\">---&gt; Selected node = n4 ⌛ Simulation Time: </span><span style=\"color: #008080; text-decoration-color: #008080; font-weight: bold\">75</span><span style=\"color: #008000; text-decoration-color: #008000; font-weight: bold\"> seconds           </span>                 \n",
       "           <span style=\"color: #008000; text-decoration-color: #008000; font-weight: bold\">                                                                 </span>                 \n",
       "</pre>\n"
      ],
      "text/plain": [
       "\u001b[2;36m          \u001b[0m\u001b[2;36m \u001b[0m\u001b[1;32m                                                                 \u001b[0m \u001b]8;id=907112;file:///tmp/ipykernel_152833/1323010361.py\u001b\\\u001b[2m1323010361.py\u001b[0m\u001b]8;;\u001b\\\u001b[2m:\u001b[0m\u001b]8;id=639880;file:///tmp/ipykernel_152833/1323010361.py#98\u001b\\\u001b[2m98\u001b[0m\u001b]8;;\u001b\\\n",
       "           \u001b[1;32m---> Selected node = n4 ⌛ Simulation Time: \u001b[0m\u001b[1;36m75\u001b[0m\u001b[1;32m seconds           \u001b[0m                 \n",
       "           \u001b[1;32m                                                                 \u001b[0m                 \n"
      ]
     },
     "metadata": {},
     "output_type": "display_data"
    },
    {
     "data": {
      "text/html": [
       "<pre style=\"white-space:pre;overflow-x:auto;line-height:normal;font-family:Menlo,'DejaVu Sans Mono',consolas,'Courier New',monospace\"><span style=\"color: #7fbfbf; text-decoration-color: #7fbfbf\">           </span><span style=\"font-style: italic\">                        Pod Description                         </span> <a href=\"file:///tmp/ipykernel_152833/1843420858.py\"><span style=\"color: #7f7f7f; text-decoration-color: #7f7f7f\">1843420858.py</span></a><span style=\"color: #7f7f7f; text-decoration-color: #7f7f7f\">:</span><a href=\"file:///tmp/ipykernel_152833/1843420858.py#267\"><span style=\"color: #7f7f7f; text-decoration-color: #7f7f7f\">267</span></a>\n",
       "           ┏━━━━━━┳━━━━┳━━━━━━┳━━━━━━━┳━━━━━━┳━━━━━━┳━━━━━━┳━━━━━━━┳━━━━━━┓                  \n",
       "           ┃<span style=\"font-weight: bold\"> Name </span>┃<span style=\"font-weight: bold\"> ID </span>┃<span style=\"font-weight: bold\"> Node </span>┃<span style=\"font-weight: bold\"> Memo… </span>┃<span style=\"font-weight: bold\"> CPU  </span>┃<span style=\"font-weight: bold\"> Bind </span>┃<span style=\"font-weight: bold\"> Port </span>┃<span style=\"font-weight: bold\"> Arri… </span>┃<span style=\"font-weight: bold\"> Ser… </span>┃                  \n",
       "           ┃      ┃    ┃<span style=\"font-weight: bold\"> Ass… </span>┃<span style=\"font-weight: bold\">  Req  </span>┃<span style=\"font-weight: bold\"> Req  </span>┃      ┃      ┃<span style=\"font-weight: bold\"> Time  </span>┃<span style=\"font-weight: bold\"> Time </span>┃                  \n",
       "           ┡━━━━━━╇━━━━╇━━━━━━╇━━━━━━━╇━━━━━━╇━━━━━━╇━━━━━━╇━━━━━━━╇━━━━━━┩                  \n",
       "           │<span style=\"color: #008080; text-decoration-color: #008080\"> Fro… </span>│<span style=\"color: #800080; text-decoration-color: #800080\"> 0  </span>│<span style=\"color: #008000; text-decoration-color: #008000\">  n2  </span>│<span style=\"color: #008080; text-decoration-color: #008080\">  64   </span>│<span style=\"color: #800080; text-decoration-color: #800080\"> 120  </span>│<span style=\"color: #008000; text-decoration-color: #008000\"> True </span>│<span style=\"color: #008080; text-decoration-color: #008080\">  90  </span>│<span style=\"color: #800080; text-decoration-color: #800080\">  35   </span>│<span style=\"color: #008000; text-decoration-color: #008000\"> 165  </span>│                  \n",
       "           │<span style=\"color: #008080; text-decoration-color: #008080\"> Pod1 </span>│<span style=\"color: #800080; text-decoration-color: #800080\"> 1  </span>│<span style=\"color: #008000; text-decoration-color: #008000\">  n4  </span>│<span style=\"color: #008080; text-decoration-color: #008080\">  64   </span>│<span style=\"color: #800080; text-decoration-color: #800080\"> 128  </span>│<span style=\"color: #008000; text-decoration-color: #008000\"> True </span>│<span style=\"color: #008080; text-decoration-color: #008080\">  80  </span>│<span style=\"color: #800080; text-decoration-color: #800080\">  40   </span>│<span style=\"color: #008000; text-decoration-color: #008000\">  15  </span>│                  \n",
       "           └──────┴────┴──────┴───────┴──────┴──────┴──────┴───────┴──────┘                  \n",
       "</pre>\n"
      ],
      "text/plain": [
       "\u001b[2;36m          \u001b[0m\u001b[2;36m \u001b[0m\u001b[3m                        Pod Description                         \u001b[0m \u001b]8;id=797601;file:///tmp/ipykernel_152833/1843420858.py\u001b\\\u001b[2m1843420858.py\u001b[0m\u001b]8;;\u001b\\\u001b[2m:\u001b[0m\u001b]8;id=196369;file:///tmp/ipykernel_152833/1843420858.py#267\u001b\\\u001b[2m267\u001b[0m\u001b]8;;\u001b\\\n",
       "           ┏━━━━━━┳━━━━┳━━━━━━┳━━━━━━━┳━━━━━━┳━━━━━━┳━━━━━━┳━━━━━━━┳━━━━━━┓                  \n",
       "           ┃\u001b[1m \u001b[0m\u001b[1mName\u001b[0m\u001b[1m \u001b[0m┃\u001b[1m \u001b[0m\u001b[1mID\u001b[0m\u001b[1m \u001b[0m┃\u001b[1m \u001b[0m\u001b[1mNode\u001b[0m\u001b[1m \u001b[0m┃\u001b[1m \u001b[0m\u001b[1mMemo…\u001b[0m\u001b[1m \u001b[0m┃\u001b[1m \u001b[0m\u001b[1mCPU \u001b[0m\u001b[1m \u001b[0m┃\u001b[1m \u001b[0m\u001b[1mBind\u001b[0m\u001b[1m \u001b[0m┃\u001b[1m \u001b[0m\u001b[1mPort\u001b[0m\u001b[1m \u001b[0m┃\u001b[1m \u001b[0m\u001b[1mArri…\u001b[0m\u001b[1m \u001b[0m┃\u001b[1m \u001b[0m\u001b[1mSer…\u001b[0m\u001b[1m \u001b[0m┃                  \n",
       "           ┃      ┃    ┃\u001b[1m \u001b[0m\u001b[1mAss…\u001b[0m\u001b[1m \u001b[0m┃\u001b[1m \u001b[0m\u001b[1m Req \u001b[0m\u001b[1m \u001b[0m┃\u001b[1m \u001b[0m\u001b[1mReq \u001b[0m\u001b[1m \u001b[0m┃      ┃      ┃\u001b[1m \u001b[0m\u001b[1mTime \u001b[0m\u001b[1m \u001b[0m┃\u001b[1m \u001b[0m\u001b[1mTime\u001b[0m\u001b[1m \u001b[0m┃                  \n",
       "           ┡━━━━━━╇━━━━╇━━━━━━╇━━━━━━━╇━━━━━━╇━━━━━━╇━━━━━━╇━━━━━━━╇━━━━━━┩                  \n",
       "           │\u001b[36m \u001b[0m\u001b[36mFro…\u001b[0m\u001b[36m \u001b[0m│\u001b[35m \u001b[0m\u001b[35m0 \u001b[0m\u001b[35m \u001b[0m│\u001b[32m \u001b[0m\u001b[32m n2 \u001b[0m\u001b[32m \u001b[0m│\u001b[36m \u001b[0m\u001b[36m 64  \u001b[0m\u001b[36m \u001b[0m│\u001b[35m \u001b[0m\u001b[35m120 \u001b[0m\u001b[35m \u001b[0m│\u001b[32m \u001b[0m\u001b[32mTrue\u001b[0m\u001b[32m \u001b[0m│\u001b[36m \u001b[0m\u001b[36m 90 \u001b[0m\u001b[36m \u001b[0m│\u001b[35m \u001b[0m\u001b[35m 35  \u001b[0m\u001b[35m \u001b[0m│\u001b[32m \u001b[0m\u001b[32m165 \u001b[0m\u001b[32m \u001b[0m│                  \n",
       "           │\u001b[36m \u001b[0m\u001b[36mPod1\u001b[0m\u001b[36m \u001b[0m│\u001b[35m \u001b[0m\u001b[35m1 \u001b[0m\u001b[35m \u001b[0m│\u001b[32m \u001b[0m\u001b[32m n4 \u001b[0m\u001b[32m \u001b[0m│\u001b[36m \u001b[0m\u001b[36m 64  \u001b[0m\u001b[36m \u001b[0m│\u001b[35m \u001b[0m\u001b[35m128 \u001b[0m\u001b[35m \u001b[0m│\u001b[32m \u001b[0m\u001b[32mTrue\u001b[0m\u001b[32m \u001b[0m│\u001b[36m \u001b[0m\u001b[36m 80 \u001b[0m\u001b[36m \u001b[0m│\u001b[35m \u001b[0m\u001b[35m 40  \u001b[0m\u001b[35m \u001b[0m│\u001b[32m \u001b[0m\u001b[32m 15 \u001b[0m\u001b[32m \u001b[0m│                  \n",
       "           └──────┴────┴──────┴───────┴──────┴──────┴──────┴───────┴──────┘                  \n"
      ]
     },
     "metadata": {},
     "output_type": "display_data"
    },
    {
     "data": {
      "text/html": [
       "<pre style=\"white-space:pre;overflow-x:auto;line-height:normal;font-family:Menlo,'DejaVu Sans Mono',consolas,'Courier New',monospace\"><span style=\"color: #7fbfbf; text-decoration-color: #7fbfbf\">           </span><span style=\"color: #008000; text-decoration-color: #008000; font-weight: bold\">                                                                </span> <a href=\"file:///tmp/ipykernel_152833/1843420858.py\"><span style=\"color: #7f7f7f; text-decoration-color: #7f7f7f\">1843420858.py</span></a><span style=\"color: #7f7f7f; text-decoration-color: #7f7f7f\">:</span><a href=\"file:///tmp/ipykernel_152833/1843420858.py#249\"><span style=\"color: #7f7f7f; text-decoration-color: #7f7f7f\">249</span></a>\n",
       "           <span style=\"color: #008000; text-decoration-color: #008000; font-weight: bold\">---&gt; Run Kubescheduler for Pod2                                 </span>                  \n",
       "           <span style=\"color: #008000; text-decoration-color: #008000; font-weight: bold\">                                                                </span>                  \n",
       "</pre>\n"
      ],
      "text/plain": [
       "\u001b[2;36m          \u001b[0m\u001b[2;36m \u001b[0m\u001b[1;32m                                                                \u001b[0m \u001b]8;id=537207;file:///tmp/ipykernel_152833/1843420858.py\u001b\\\u001b[2m1843420858.py\u001b[0m\u001b]8;;\u001b\\\u001b[2m:\u001b[0m\u001b]8;id=901983;file:///tmp/ipykernel_152833/1843420858.py#249\u001b\\\u001b[2m249\u001b[0m\u001b]8;;\u001b\\\n",
       "           \u001b[1;32m---> Run Kubescheduler for Pod2                                 \u001b[0m                  \n",
       "           \u001b[1;32m                                                                \u001b[0m                  \n"
      ]
     },
     "metadata": {},
     "output_type": "display_data"
    },
    {
     "data": {
      "text/html": [
       "<pre style=\"white-space:pre;overflow-x:auto;line-height:normal;font-family:Menlo,'DejaVu Sans Mono',consolas,'Courier New',monospace\"><span style=\"color: #7fbfbf; text-decoration-color: #7fbfbf\">           </span><span style=\"color: #008080; text-decoration-color: #008080\">👍 PodFitsHostPorts ---&gt; n1                                      </span> <a href=\"file:///tmp/ipykernel_152833/1323010361.py\"><span style=\"color: #7f7f7f; text-decoration-color: #7f7f7f\">1323010361.py</span></a><span style=\"color: #7f7f7f; text-decoration-color: #7f7f7f\">:</span><a href=\"file:///tmp/ipykernel_152833/1323010361.py#62\"><span style=\"color: #7f7f7f; text-decoration-color: #7f7f7f\">62</span></a>\n",
       "</pre>\n"
      ],
      "text/plain": [
       "\u001b[2;36m          \u001b[0m\u001b[2;36m \u001b[0m\u001b[36m👍 PodFitsHostPorts ---> n1                                      \u001b[0m \u001b]8;id=768370;file:///tmp/ipykernel_152833/1323010361.py\u001b\\\u001b[2m1323010361.py\u001b[0m\u001b]8;;\u001b\\\u001b[2m:\u001b[0m\u001b]8;id=133073;file:///tmp/ipykernel_152833/1323010361.py#62\u001b\\\u001b[2m62\u001b[0m\u001b]8;;\u001b\\\n"
      ]
     },
     "metadata": {},
     "output_type": "display_data"
    },
    {
     "data": {
      "text/html": [
       "<pre style=\"white-space:pre;overflow-x:auto;line-height:normal;font-family:Menlo,'DejaVu Sans Mono',consolas,'Courier New',monospace\"><span style=\"color: #7fbfbf; text-decoration-color: #7fbfbf\">           </span><span style=\"color: #008080; text-decoration-color: #008080\">👎 PodFitsHost ---&gt; n1                                           </span> <a href=\"file:///tmp/ipykernel_152833/1323010361.py\"><span style=\"color: #7f7f7f; text-decoration-color: #7f7f7f\">1323010361.py</span></a><span style=\"color: #7f7f7f; text-decoration-color: #7f7f7f\">:</span><a href=\"file:///tmp/ipykernel_152833/1323010361.py#67\"><span style=\"color: #7f7f7f; text-decoration-color: #7f7f7f\">67</span></a>\n",
       "</pre>\n"
      ],
      "text/plain": [
       "\u001b[2;36m          \u001b[0m\u001b[2;36m \u001b[0m\u001b[36m👎 PodFitsHost ---> n1                                           \u001b[0m \u001b]8;id=177018;file:///tmp/ipykernel_152833/1323010361.py\u001b\\\u001b[2m1323010361.py\u001b[0m\u001b]8;;\u001b\\\u001b[2m:\u001b[0m\u001b]8;id=608952;file:///tmp/ipykernel_152833/1323010361.py#67\u001b\\\u001b[2m67\u001b[0m\u001b]8;;\u001b\\\n"
      ]
     },
     "metadata": {},
     "output_type": "display_data"
    },
    {
     "data": {
      "text/html": [
       "<pre style=\"white-space:pre;overflow-x:auto;line-height:normal;font-family:Menlo,'DejaVu Sans Mono',consolas,'Courier New',monospace\"><span style=\"color: #7fbfbf; text-decoration-color: #7fbfbf\">           </span><span style=\"color: #008080; text-decoration-color: #008080\">↙  Least used node ---&gt; n1                                        </span> <a href=\"file:///tmp/ipykernel_152833/380400395.py\"><span style=\"color: #7f7f7f; text-decoration-color: #7f7f7f\">380400395.py</span></a><span style=\"color: #7f7f7f; text-decoration-color: #7f7f7f\">:</span><a href=\"file:///tmp/ipykernel_152833/380400395.py#49\"><span style=\"color: #7f7f7f; text-decoration-color: #7f7f7f\">49</span></a>\n",
       "</pre>\n"
      ],
      "text/plain": [
       "\u001b[2;36m          \u001b[0m\u001b[2;36m \u001b[0m\u001b[36m↙  Least used node ---> n1                                        \u001b[0m \u001b]8;id=518401;file:///tmp/ipykernel_152833/380400395.py\u001b\\\u001b[2m380400395.py\u001b[0m\u001b]8;;\u001b\\\u001b[2m:\u001b[0m\u001b]8;id=816355;file:///tmp/ipykernel_152833/380400395.py#49\u001b\\\u001b[2m49\u001b[0m\u001b]8;;\u001b\\\n"
      ]
     },
     "metadata": {},
     "output_type": "display_data"
    },
    {
     "data": {
      "text/html": [
       "<pre style=\"white-space:pre;overflow-x:auto;line-height:normal;font-family:Menlo,'DejaVu Sans Mono',consolas,'Courier New',monospace\"><span style=\"color: #7fbfbf; text-decoration-color: #7fbfbf\">           </span><span style=\"color: #008080; text-decoration-color: #008080\">👍 PodFitsHostPorts ---&gt; n2                                      </span> <a href=\"file:///tmp/ipykernel_152833/1323010361.py\"><span style=\"color: #7f7f7f; text-decoration-color: #7f7f7f\">1323010361.py</span></a><span style=\"color: #7f7f7f; text-decoration-color: #7f7f7f\">:</span><a href=\"file:///tmp/ipykernel_152833/1323010361.py#62\"><span style=\"color: #7f7f7f; text-decoration-color: #7f7f7f\">62</span></a>\n",
       "</pre>\n"
      ],
      "text/plain": [
       "\u001b[2;36m          \u001b[0m\u001b[2;36m \u001b[0m\u001b[36m👍 PodFitsHostPorts ---> n2                                      \u001b[0m \u001b]8;id=987579;file:///tmp/ipykernel_152833/1323010361.py\u001b\\\u001b[2m1323010361.py\u001b[0m\u001b]8;;\u001b\\\u001b[2m:\u001b[0m\u001b]8;id=251363;file:///tmp/ipykernel_152833/1323010361.py#62\u001b\\\u001b[2m62\u001b[0m\u001b]8;;\u001b\\\n"
      ]
     },
     "metadata": {},
     "output_type": "display_data"
    },
    {
     "data": {
      "text/html": [
       "<pre style=\"white-space:pre;overflow-x:auto;line-height:normal;font-family:Menlo,'DejaVu Sans Mono',consolas,'Courier New',monospace\"><span style=\"color: #7fbfbf; text-decoration-color: #7fbfbf\">           </span><span style=\"color: #008080; text-decoration-color: #008080\">👎 PodFitsHost ---&gt; n2                                           </span> <a href=\"file:///tmp/ipykernel_152833/1323010361.py\"><span style=\"color: #7f7f7f; text-decoration-color: #7f7f7f\">1323010361.py</span></a><span style=\"color: #7f7f7f; text-decoration-color: #7f7f7f\">:</span><a href=\"file:///tmp/ipykernel_152833/1323010361.py#67\"><span style=\"color: #7f7f7f; text-decoration-color: #7f7f7f\">67</span></a>\n",
       "</pre>\n"
      ],
      "text/plain": [
       "\u001b[2;36m          \u001b[0m\u001b[2;36m \u001b[0m\u001b[36m👎 PodFitsHost ---> n2                                           \u001b[0m \u001b]8;id=702297;file:///tmp/ipykernel_152833/1323010361.py\u001b\\\u001b[2m1323010361.py\u001b[0m\u001b]8;;\u001b\\\u001b[2m:\u001b[0m\u001b]8;id=710307;file:///tmp/ipykernel_152833/1323010361.py#67\u001b\\\u001b[2m67\u001b[0m\u001b]8;;\u001b\\\n"
      ]
     },
     "metadata": {},
     "output_type": "display_data"
    },
    {
     "data": {
      "text/html": [
       "<pre style=\"white-space:pre;overflow-x:auto;line-height:normal;font-family:Menlo,'DejaVu Sans Mono',consolas,'Courier New',monospace\"><span style=\"color: #7fbfbf; text-decoration-color: #7fbfbf\">           </span><span style=\"color: #008080; text-decoration-color: #008080\">💿 Image locality Found ---&gt; n2                                  </span> <a href=\"file:///tmp/ipykernel_152833/380400395.py\"><span style=\"color: #7f7f7f; text-decoration-color: #7f7f7f\">380400395.py</span></a><span style=\"color: #7f7f7f; text-decoration-color: #7f7f7f\">:</span><a href=\"file:///tmp/ipykernel_152833/380400395.py#133\"><span style=\"color: #7f7f7f; text-decoration-color: #7f7f7f\">133</span></a>\n",
       "</pre>\n"
      ],
      "text/plain": [
       "\u001b[2;36m          \u001b[0m\u001b[2;36m \u001b[0m\u001b[36m💿 Image locality Found ---> n2                                  \u001b[0m \u001b]8;id=61944;file:///tmp/ipykernel_152833/380400395.py\u001b\\\u001b[2m380400395.py\u001b[0m\u001b]8;;\u001b\\\u001b[2m:\u001b[0m\u001b]8;id=70687;file:///tmp/ipykernel_152833/380400395.py#133\u001b\\\u001b[2m133\u001b[0m\u001b]8;;\u001b\\\n"
      ]
     },
     "metadata": {},
     "output_type": "display_data"
    },
    {
     "data": {
      "text/html": [
       "<pre style=\"white-space:pre;overflow-x:auto;line-height:normal;font-family:Menlo,'DejaVu Sans Mono',consolas,'Courier New',monospace\"><span style=\"color: #7fbfbf; text-decoration-color: #7fbfbf\">           </span><span style=\"color: #008080; text-decoration-color: #008080\">👍 PodFitsHostPorts ---&gt; n3                                      </span> <a href=\"file:///tmp/ipykernel_152833/1323010361.py\"><span style=\"color: #7f7f7f; text-decoration-color: #7f7f7f\">1323010361.py</span></a><span style=\"color: #7f7f7f; text-decoration-color: #7f7f7f\">:</span><a href=\"file:///tmp/ipykernel_152833/1323010361.py#62\"><span style=\"color: #7f7f7f; text-decoration-color: #7f7f7f\">62</span></a>\n",
       "</pre>\n"
      ],
      "text/plain": [
       "\u001b[2;36m          \u001b[0m\u001b[2;36m \u001b[0m\u001b[36m👍 PodFitsHostPorts ---> n3                                      \u001b[0m \u001b]8;id=27843;file:///tmp/ipykernel_152833/1323010361.py\u001b\\\u001b[2m1323010361.py\u001b[0m\u001b]8;;\u001b\\\u001b[2m:\u001b[0m\u001b]8;id=920647;file:///tmp/ipykernel_152833/1323010361.py#62\u001b\\\u001b[2m62\u001b[0m\u001b]8;;\u001b\\\n"
      ]
     },
     "metadata": {},
     "output_type": "display_data"
    },
    {
     "data": {
      "text/html": [
       "<pre style=\"white-space:pre;overflow-x:auto;line-height:normal;font-family:Menlo,'DejaVu Sans Mono',consolas,'Courier New',monospace\"><span style=\"color: #7fbfbf; text-decoration-color: #7fbfbf\">           </span><span style=\"color: #008080; text-decoration-color: #008080\">👎 PodFitsHost ---&gt; n3                                           </span> <a href=\"file:///tmp/ipykernel_152833/1323010361.py\"><span style=\"color: #7f7f7f; text-decoration-color: #7f7f7f\">1323010361.py</span></a><span style=\"color: #7f7f7f; text-decoration-color: #7f7f7f\">:</span><a href=\"file:///tmp/ipykernel_152833/1323010361.py#67\"><span style=\"color: #7f7f7f; text-decoration-color: #7f7f7f\">67</span></a>\n",
       "</pre>\n"
      ],
      "text/plain": [
       "\u001b[2;36m          \u001b[0m\u001b[2;36m \u001b[0m\u001b[36m👎 PodFitsHost ---> n3                                           \u001b[0m \u001b]8;id=704669;file:///tmp/ipykernel_152833/1323010361.py\u001b\\\u001b[2m1323010361.py\u001b[0m\u001b]8;;\u001b\\\u001b[2m:\u001b[0m\u001b]8;id=829295;file:///tmp/ipykernel_152833/1323010361.py#67\u001b\\\u001b[2m67\u001b[0m\u001b]8;;\u001b\\\n"
      ]
     },
     "metadata": {},
     "output_type": "display_data"
    },
    {
     "data": {
      "text/html": [
       "<pre style=\"white-space:pre;overflow-x:auto;line-height:normal;font-family:Menlo,'DejaVu Sans Mono',consolas,'Courier New',monospace\"><span style=\"color: #7fbfbf; text-decoration-color: #7fbfbf\">           </span><span style=\"color: #008080; text-decoration-color: #008080\">👎 PodFitsHostPorts ---&gt; n4                                      </span> <a href=\"file:///tmp/ipykernel_152833/1323010361.py\"><span style=\"color: #7f7f7f; text-decoration-color: #7f7f7f\">1323010361.py</span></a><span style=\"color: #7f7f7f; text-decoration-color: #7f7f7f\">:</span><a href=\"file:///tmp/ipykernel_152833/1323010361.py#67\"><span style=\"color: #7f7f7f; text-decoration-color: #7f7f7f\">67</span></a>\n",
       "</pre>\n"
      ],
      "text/plain": [
       "\u001b[2;36m          \u001b[0m\u001b[2;36m \u001b[0m\u001b[36m👎 PodFitsHostPorts ---> n4                                      \u001b[0m \u001b]8;id=340781;file:///tmp/ipykernel_152833/1323010361.py\u001b\\\u001b[2m1323010361.py\u001b[0m\u001b]8;;\u001b\\\u001b[2m:\u001b[0m\u001b]8;id=788846;file:///tmp/ipykernel_152833/1323010361.py#67\u001b\\\u001b[2m67\u001b[0m\u001b]8;;\u001b\\\n"
      ]
     },
     "metadata": {},
     "output_type": "display_data"
    },
    {
     "data": {
      "text/html": [
       "<pre style=\"white-space:pre;overflow-x:auto;line-height:normal;font-family:Menlo,'DejaVu Sans Mono',consolas,'Courier New',monospace\"><span style=\"color: #7fbfbf; text-decoration-color: #7fbfbf\">           </span><span style=\"color: #008080; text-decoration-color: #008080\">💿 Image locality Found ---&gt; n4                                  </span> <a href=\"file:///tmp/ipykernel_152833/380400395.py\"><span style=\"color: #7f7f7f; text-decoration-color: #7f7f7f\">380400395.py</span></a><span style=\"color: #7f7f7f; text-decoration-color: #7f7f7f\">:</span><a href=\"file:///tmp/ipykernel_152833/380400395.py#133\"><span style=\"color: #7f7f7f; text-decoration-color: #7f7f7f\">133</span></a>\n",
       "</pre>\n"
      ],
      "text/plain": [
       "\u001b[2;36m          \u001b[0m\u001b[2;36m \u001b[0m\u001b[36m💿 Image locality Found ---> n4                                  \u001b[0m \u001b]8;id=993759;file:///tmp/ipykernel_152833/380400395.py\u001b\\\u001b[2m380400395.py\u001b[0m\u001b]8;;\u001b\\\u001b[2m:\u001b[0m\u001b]8;id=326427;file:///tmp/ipykernel_152833/380400395.py#133\u001b\\\u001b[2m133\u001b[0m\u001b]8;;\u001b\\\n"
      ]
     },
     "metadata": {},
     "output_type": "display_data"
    },
    {
     "data": {
      "text/html": [
       "<pre style=\"white-space:pre;overflow-x:auto;line-height:normal;font-family:Menlo,'DejaVu Sans Mono',consolas,'Courier New',monospace\"><span style=\"color: #7fbfbf; text-decoration-color: #7fbfbf\">           </span><span style=\"color: #008080; text-decoration-color: #008080\">👍 PodFitsHostPorts ---&gt; n5                                      </span> <a href=\"file:///tmp/ipykernel_152833/1323010361.py\"><span style=\"color: #7f7f7f; text-decoration-color: #7f7f7f\">1323010361.py</span></a><span style=\"color: #7f7f7f; text-decoration-color: #7f7f7f\">:</span><a href=\"file:///tmp/ipykernel_152833/1323010361.py#62\"><span style=\"color: #7f7f7f; text-decoration-color: #7f7f7f\">62</span></a>\n",
       "</pre>\n"
      ],
      "text/plain": [
       "\u001b[2;36m          \u001b[0m\u001b[2;36m \u001b[0m\u001b[36m👍 PodFitsHostPorts ---> n5                                      \u001b[0m \u001b]8;id=170854;file:///tmp/ipykernel_152833/1323010361.py\u001b\\\u001b[2m1323010361.py\u001b[0m\u001b]8;;\u001b\\\u001b[2m:\u001b[0m\u001b]8;id=200755;file:///tmp/ipykernel_152833/1323010361.py#62\u001b\\\u001b[2m62\u001b[0m\u001b]8;;\u001b\\\n"
      ]
     },
     "metadata": {},
     "output_type": "display_data"
    },
    {
     "data": {
      "text/html": [
       "<pre style=\"white-space:pre;overflow-x:auto;line-height:normal;font-family:Menlo,'DejaVu Sans Mono',consolas,'Courier New',monospace\"><span style=\"color: #7fbfbf; text-decoration-color: #7fbfbf\">           </span><span style=\"color: #008080; text-decoration-color: #008080\">👎 PodFitsHost ---&gt; n5                                           </span> <a href=\"file:///tmp/ipykernel_152833/1323010361.py\"><span style=\"color: #7f7f7f; text-decoration-color: #7f7f7f\">1323010361.py</span></a><span style=\"color: #7f7f7f; text-decoration-color: #7f7f7f\">:</span><a href=\"file:///tmp/ipykernel_152833/1323010361.py#67\"><span style=\"color: #7f7f7f; text-decoration-color: #7f7f7f\">67</span></a>\n",
       "</pre>\n"
      ],
      "text/plain": [
       "\u001b[2;36m          \u001b[0m\u001b[2;36m \u001b[0m\u001b[36m👎 PodFitsHost ---> n5                                           \u001b[0m \u001b]8;id=136369;file:///tmp/ipykernel_152833/1323010361.py\u001b\\\u001b[2m1323010361.py\u001b[0m\u001b]8;;\u001b\\\u001b[2m:\u001b[0m\u001b]8;id=932841;file:///tmp/ipykernel_152833/1323010361.py#67\u001b\\\u001b[2m67\u001b[0m\u001b]8;;\u001b\\\n"
      ]
     },
     "metadata": {},
     "output_type": "display_data"
    },
    {
     "data": {
      "text/html": [
       "<pre style=\"white-space:pre;overflow-x:auto;line-height:normal;font-family:Menlo,'DejaVu Sans Mono',consolas,'Courier New',monospace\"><span style=\"color: #7fbfbf; text-decoration-color: #7fbfbf\">           </span><span style=\"color: #008080; text-decoration-color: #008080\">👍 PodFitsHostPorts ---&gt; n6                                      </span> <a href=\"file:///tmp/ipykernel_152833/1323010361.py\"><span style=\"color: #7f7f7f; text-decoration-color: #7f7f7f\">1323010361.py</span></a><span style=\"color: #7f7f7f; text-decoration-color: #7f7f7f\">:</span><a href=\"file:///tmp/ipykernel_152833/1323010361.py#62\"><span style=\"color: #7f7f7f; text-decoration-color: #7f7f7f\">62</span></a>\n",
       "</pre>\n"
      ],
      "text/plain": [
       "\u001b[2;36m          \u001b[0m\u001b[2;36m \u001b[0m\u001b[36m👍 PodFitsHostPorts ---> n6                                      \u001b[0m \u001b]8;id=253410;file:///tmp/ipykernel_152833/1323010361.py\u001b\\\u001b[2m1323010361.py\u001b[0m\u001b]8;;\u001b\\\u001b[2m:\u001b[0m\u001b]8;id=795309;file:///tmp/ipykernel_152833/1323010361.py#62\u001b\\\u001b[2m62\u001b[0m\u001b]8;;\u001b\\\n"
      ]
     },
     "metadata": {},
     "output_type": "display_data"
    },
    {
     "data": {
      "text/html": [
       "<pre style=\"white-space:pre;overflow-x:auto;line-height:normal;font-family:Menlo,'DejaVu Sans Mono',consolas,'Courier New',monospace\"><span style=\"color: #7fbfbf; text-decoration-color: #7fbfbf\">           </span><span style=\"color: #008080; text-decoration-color: #008080\">👎 PodFitsHost ---&gt; n6                                           </span> <a href=\"file:///tmp/ipykernel_152833/1323010361.py\"><span style=\"color: #7f7f7f; text-decoration-color: #7f7f7f\">1323010361.py</span></a><span style=\"color: #7f7f7f; text-decoration-color: #7f7f7f\">:</span><a href=\"file:///tmp/ipykernel_152833/1323010361.py#67\"><span style=\"color: #7f7f7f; text-decoration-color: #7f7f7f\">67</span></a>\n",
       "</pre>\n"
      ],
      "text/plain": [
       "\u001b[2;36m          \u001b[0m\u001b[2;36m \u001b[0m\u001b[36m👎 PodFitsHost ---> n6                                           \u001b[0m \u001b]8;id=75694;file:///tmp/ipykernel_152833/1323010361.py\u001b\\\u001b[2m1323010361.py\u001b[0m\u001b]8;;\u001b\\\u001b[2m:\u001b[0m\u001b]8;id=337153;file:///tmp/ipykernel_152833/1323010361.py#67\u001b\\\u001b[2m67\u001b[0m\u001b]8;;\u001b\\\n"
      ]
     },
     "metadata": {},
     "output_type": "display_data"
    },
    {
     "data": {
      "text/html": [
       "<pre style=\"white-space:pre;overflow-x:auto;line-height:normal;font-family:Menlo,'DejaVu Sans Mono',consolas,'Courier New',monospace\"><span style=\"color: #7fbfbf; text-decoration-color: #7fbfbf\">           </span><span style=\"color: #800000; text-decoration-color: #800000; font-weight: bold\">                                                                </span> <a href=\"file:///tmp/ipykernel_152833/1323010361.py\"><span style=\"color: #7f7f7f; text-decoration-color: #7f7f7f\">1323010361.py</span></a><span style=\"color: #7f7f7f; text-decoration-color: #7f7f7f\">:</span><a href=\"file:///tmp/ipykernel_152833/1323010361.py#103\"><span style=\"color: #7f7f7f; text-decoration-color: #7f7f7f\">103</span></a>\n",
       "           <span style=\"color: #800000; text-decoration-color: #800000; font-weight: bold\">---&gt; No feasible node found ⌛ Simulation Time: </span><span style=\"color: #008080; text-decoration-color: #008080; font-weight: bold\">85</span><span style=\"color: #800000; text-decoration-color: #800000; font-weight: bold\"> seconds      </span>                  \n",
       "           <span style=\"color: #800000; text-decoration-color: #800000; font-weight: bold\">                                                                </span>                  \n",
       "</pre>\n"
      ],
      "text/plain": [
       "\u001b[2;36m          \u001b[0m\u001b[2;36m \u001b[0m\u001b[1;31m                                                                \u001b[0m \u001b]8;id=814141;file:///tmp/ipykernel_152833/1323010361.py\u001b\\\u001b[2m1323010361.py\u001b[0m\u001b]8;;\u001b\\\u001b[2m:\u001b[0m\u001b]8;id=48190;file:///tmp/ipykernel_152833/1323010361.py#103\u001b\\\u001b[2m103\u001b[0m\u001b]8;;\u001b\\\n",
       "           \u001b[1;31m---> No feasible node found ⌛ Simulation Time: \u001b[0m\u001b[1;36m85\u001b[0m\u001b[1;31m seconds      \u001b[0m                  \n",
       "           \u001b[1;31m                                                                \u001b[0m                  \n"
      ]
     },
     "metadata": {},
     "output_type": "display_data"
    },
    {
     "data": {
      "text/html": [
       "<pre style=\"white-space:pre;overflow-x:auto;line-height:normal;font-family:Menlo,'DejaVu Sans Mono',consolas,'Courier New',monospace\"><span style=\"color: #7fbfbf; text-decoration-color: #7fbfbf\">           </span><span style=\"font-style: italic\">                        Pod Description                         </span> <a href=\"file:///tmp/ipykernel_152833/1843420858.py\"><span style=\"color: #7f7f7f; text-decoration-color: #7f7f7f\">1843420858.py</span></a><span style=\"color: #7f7f7f; text-decoration-color: #7f7f7f\">:</span><a href=\"file:///tmp/ipykernel_152833/1843420858.py#267\"><span style=\"color: #7f7f7f; text-decoration-color: #7f7f7f\">267</span></a>\n",
       "           ┏━━━━━━┳━━━━┳━━━━━━┳━━━━━━┳━━━━━━━┳━━━━━━┳━━━━━━┳━━━━━━━┳━━━━━━┓                  \n",
       "           ┃<span style=\"font-weight: bold\"> Name </span>┃<span style=\"font-weight: bold\"> ID </span>┃<span style=\"font-weight: bold\"> Node </span>┃<span style=\"font-weight: bold\"> Mem… </span>┃<span style=\"font-weight: bold\">  CPU  </span>┃<span style=\"font-weight: bold\"> Bind </span>┃<span style=\"font-weight: bold\"> Port </span>┃<span style=\"font-weight: bold\"> Arri… </span>┃<span style=\"font-weight: bold\"> Ser… </span>┃                  \n",
       "           ┃      ┃    ┃<span style=\"font-weight: bold\"> Ass… </span>┃<span style=\"font-weight: bold\"> Req  </span>┃<span style=\"font-weight: bold\">  Req  </span>┃      ┃      ┃<span style=\"font-weight: bold\"> Time  </span>┃<span style=\"font-weight: bold\"> Time </span>┃                  \n",
       "           ┡━━━━━━╇━━━━╇━━━━━━╇━━━━━━╇━━━━━━━╇━━━━━━╇━━━━━━╇━━━━━━━╇━━━━━━┩                  \n",
       "           │<span style=\"color: #008080; text-decoration-color: #008080\"> Fro… </span>│<span style=\"color: #800080; text-decoration-color: #800080\"> 0  </span>│<span style=\"color: #008000; text-decoration-color: #008000\">  n2  </span>│<span style=\"color: #008080; text-decoration-color: #008080\">  64  </span>│<span style=\"color: #800080; text-decoration-color: #800080\">  120  </span>│<span style=\"color: #008000; text-decoration-color: #008000\"> True </span>│<span style=\"color: #008080; text-decoration-color: #008080\">  90  </span>│<span style=\"color: #800080; text-decoration-color: #800080\">  35   </span>│<span style=\"color: #008000; text-decoration-color: #008000\"> 165  </span>│                  \n",
       "           │<span style=\"color: #008080; text-decoration-color: #008080\"> Pod1 </span>│<span style=\"color: #800080; text-decoration-color: #800080\"> 1  </span>│<span style=\"color: #008000; text-decoration-color: #008000\">  n4  </span>│<span style=\"color: #008080; text-decoration-color: #008080\">  64  </span>│<span style=\"color: #800080; text-decoration-color: #800080\">  128  </span>│<span style=\"color: #008000; text-decoration-color: #008000\"> True </span>│<span style=\"color: #008080; text-decoration-color: #008080\">  80  </span>│<span style=\"color: #800080; text-decoration-color: #800080\">  40   </span>│<span style=\"color: #008000; text-decoration-color: #008000\">  15  </span>│                  \n",
       "           │<span style=\"color: #008080; text-decoration-color: #008080\"> Pod2 </span>│<span style=\"color: #800080; text-decoration-color: #800080\"> 2  </span>│<span style=\"color: #008000; text-decoration-color: #008000\">      </span>│<span style=\"color: #008080; text-decoration-color: #008080\"> 128  </span>│<span style=\"color: #800080; text-decoration-color: #800080\">  378  </span>│<span style=\"color: #008000; text-decoration-color: #008000\"> Fal… </span>│<span style=\"color: #008080; text-decoration-color: #008080\">  80  </span>│<span style=\"color: #800080; text-decoration-color: #800080\">  45   </span>│<span style=\"color: #008000; text-decoration-color: #008000\">  15  </span>│                  \n",
       "           └──────┴────┴──────┴──────┴───────┴──────┴──────┴───────┴──────┘                  \n",
       "</pre>\n"
      ],
      "text/plain": [
       "\u001b[2;36m          \u001b[0m\u001b[2;36m \u001b[0m\u001b[3m                        Pod Description                         \u001b[0m \u001b]8;id=901509;file:///tmp/ipykernel_152833/1843420858.py\u001b\\\u001b[2m1843420858.py\u001b[0m\u001b]8;;\u001b\\\u001b[2m:\u001b[0m\u001b]8;id=775888;file:///tmp/ipykernel_152833/1843420858.py#267\u001b\\\u001b[2m267\u001b[0m\u001b]8;;\u001b\\\n",
       "           ┏━━━━━━┳━━━━┳━━━━━━┳━━━━━━┳━━━━━━━┳━━━━━━┳━━━━━━┳━━━━━━━┳━━━━━━┓                  \n",
       "           ┃\u001b[1m \u001b[0m\u001b[1mName\u001b[0m\u001b[1m \u001b[0m┃\u001b[1m \u001b[0m\u001b[1mID\u001b[0m\u001b[1m \u001b[0m┃\u001b[1m \u001b[0m\u001b[1mNode\u001b[0m\u001b[1m \u001b[0m┃\u001b[1m \u001b[0m\u001b[1mMem…\u001b[0m\u001b[1m \u001b[0m┃\u001b[1m \u001b[0m\u001b[1m CPU \u001b[0m\u001b[1m \u001b[0m┃\u001b[1m \u001b[0m\u001b[1mBind\u001b[0m\u001b[1m \u001b[0m┃\u001b[1m \u001b[0m\u001b[1mPort\u001b[0m\u001b[1m \u001b[0m┃\u001b[1m \u001b[0m\u001b[1mArri…\u001b[0m\u001b[1m \u001b[0m┃\u001b[1m \u001b[0m\u001b[1mSer…\u001b[0m\u001b[1m \u001b[0m┃                  \n",
       "           ┃      ┃    ┃\u001b[1m \u001b[0m\u001b[1mAss…\u001b[0m\u001b[1m \u001b[0m┃\u001b[1m \u001b[0m\u001b[1mReq \u001b[0m\u001b[1m \u001b[0m┃\u001b[1m \u001b[0m\u001b[1m Req \u001b[0m\u001b[1m \u001b[0m┃      ┃      ┃\u001b[1m \u001b[0m\u001b[1mTime \u001b[0m\u001b[1m \u001b[0m┃\u001b[1m \u001b[0m\u001b[1mTime\u001b[0m\u001b[1m \u001b[0m┃                  \n",
       "           ┡━━━━━━╇━━━━╇━━━━━━╇━━━━━━╇━━━━━━━╇━━━━━━╇━━━━━━╇━━━━━━━╇━━━━━━┩                  \n",
       "           │\u001b[36m \u001b[0m\u001b[36mFro…\u001b[0m\u001b[36m \u001b[0m│\u001b[35m \u001b[0m\u001b[35m0 \u001b[0m\u001b[35m \u001b[0m│\u001b[32m \u001b[0m\u001b[32m n2 \u001b[0m\u001b[32m \u001b[0m│\u001b[36m \u001b[0m\u001b[36m 64 \u001b[0m\u001b[36m \u001b[0m│\u001b[35m \u001b[0m\u001b[35m 120 \u001b[0m\u001b[35m \u001b[0m│\u001b[32m \u001b[0m\u001b[32mTrue\u001b[0m\u001b[32m \u001b[0m│\u001b[36m \u001b[0m\u001b[36m 90 \u001b[0m\u001b[36m \u001b[0m│\u001b[35m \u001b[0m\u001b[35m 35  \u001b[0m\u001b[35m \u001b[0m│\u001b[32m \u001b[0m\u001b[32m165 \u001b[0m\u001b[32m \u001b[0m│                  \n",
       "           │\u001b[36m \u001b[0m\u001b[36mPod1\u001b[0m\u001b[36m \u001b[0m│\u001b[35m \u001b[0m\u001b[35m1 \u001b[0m\u001b[35m \u001b[0m│\u001b[32m \u001b[0m\u001b[32m n4 \u001b[0m\u001b[32m \u001b[0m│\u001b[36m \u001b[0m\u001b[36m 64 \u001b[0m\u001b[36m \u001b[0m│\u001b[35m \u001b[0m\u001b[35m 128 \u001b[0m\u001b[35m \u001b[0m│\u001b[32m \u001b[0m\u001b[32mTrue\u001b[0m\u001b[32m \u001b[0m│\u001b[36m \u001b[0m\u001b[36m 80 \u001b[0m\u001b[36m \u001b[0m│\u001b[35m \u001b[0m\u001b[35m 40  \u001b[0m\u001b[35m \u001b[0m│\u001b[32m \u001b[0m\u001b[32m 15 \u001b[0m\u001b[32m \u001b[0m│                  \n",
       "           │\u001b[36m \u001b[0m\u001b[36mPod2\u001b[0m\u001b[36m \u001b[0m│\u001b[35m \u001b[0m\u001b[35m2 \u001b[0m\u001b[35m \u001b[0m│\u001b[32m \u001b[0m\u001b[32m    \u001b[0m\u001b[32m \u001b[0m│\u001b[36m \u001b[0m\u001b[36m128 \u001b[0m\u001b[36m \u001b[0m│\u001b[35m \u001b[0m\u001b[35m 378 \u001b[0m\u001b[35m \u001b[0m│\u001b[32m \u001b[0m\u001b[32mFal…\u001b[0m\u001b[32m \u001b[0m│\u001b[36m \u001b[0m\u001b[36m 80 \u001b[0m\u001b[36m \u001b[0m│\u001b[35m \u001b[0m\u001b[35m 45  \u001b[0m\u001b[35m \u001b[0m│\u001b[32m \u001b[0m\u001b[32m 15 \u001b[0m\u001b[32m \u001b[0m│                  \n",
       "           └──────┴────┴──────┴──────┴───────┴──────┴──────┴───────┴──────┘                  \n"
      ]
     },
     "metadata": {},
     "output_type": "display_data"
    },
    {
     "data": {
      "text/html": [
       "<pre style=\"white-space:pre;overflow-x:auto;line-height:normal;font-family:Menlo,'DejaVu Sans Mono',consolas,'Courier New',monospace\"><span style=\"color: #7fbfbf; text-decoration-color: #7fbfbf\">           </span><span style=\"color: #800000; text-decoration-color: #800000; font-weight: bold\">                                                                </span> <a href=\"file:///tmp/ipykernel_152833/1843420858.py\"><span style=\"color: #7f7f7f; text-decoration-color: #7f7f7f\">1843420858.py</span></a><span style=\"color: #7f7f7f; text-decoration-color: #7f7f7f\">:</span><a href=\"file:///tmp/ipykernel_152833/1843420858.py#228\"><span style=\"color: #7f7f7f; text-decoration-color: #7f7f7f\">228</span></a>\n",
       "           <span style=\"color: #800000; text-decoration-color: #800000; font-weight: bold\">===&gt; Can't Remove Pod2 because it's not bind                    </span>                  \n",
       "</pre>\n"
      ],
      "text/plain": [
       "\u001b[2;36m          \u001b[0m\u001b[2;36m \u001b[0m\u001b[1;31m                                                                \u001b[0m \u001b]8;id=611708;file:///tmp/ipykernel_152833/1843420858.py\u001b\\\u001b[2m1843420858.py\u001b[0m\u001b]8;;\u001b\\\u001b[2m:\u001b[0m\u001b]8;id=966323;file:///tmp/ipykernel_152833/1843420858.py#228\u001b\\\u001b[2m228\u001b[0m\u001b]8;;\u001b\\\n",
       "           \u001b[1;31m===> Can't Remove Pod2 because it's not bind                    \u001b[0m                  \n"
      ]
     },
     "metadata": {},
     "output_type": "display_data"
    },
    {
     "data": {
      "text/html": [
       "<pre style=\"white-space:pre;overflow-x:auto;line-height:normal;font-family:Menlo,'DejaVu Sans Mono',consolas,'Courier New',monospace\"><span style=\"color: #7fbfbf; text-decoration-color: #7fbfbf\">           </span>---&gt; Pod2 again entered the queue at <span style=\"color: #008080; text-decoration-color: #008080; font-weight: bold\">85</span> seconds <span style=\"font-weight: bold\">[</span>Retry # <span style=\"color: #008080; text-decoration-color: #008080; font-weight: bold\">1</span><span style=\"font-weight: bold\">]</span>      <a href=\"file:///tmp/ipykernel_152833/1843420858.py\"><span style=\"color: #7f7f7f; text-decoration-color: #7f7f7f\">1843420858.py</span></a><span style=\"color: #7f7f7f; text-decoration-color: #7f7f7f\">:</span><a href=\"file:///tmp/ipykernel_152833/1843420858.py#238\"><span style=\"color: #7f7f7f; text-decoration-color: #7f7f7f\">238</span></a>\n",
       "</pre>\n"
      ],
      "text/plain": [
       "\u001b[2;36m          \u001b[0m\u001b[2;36m \u001b[0m---> Pod2 again entered the queue at \u001b[1;36m85\u001b[0m seconds \u001b[1m[\u001b[0mRetry # \u001b[1;36m1\u001b[0m\u001b[1m]\u001b[0m      \u001b]8;id=817574;file:///tmp/ipykernel_152833/1843420858.py\u001b\\\u001b[2m1843420858.py\u001b[0m\u001b]8;;\u001b\\\u001b[2m:\u001b[0m\u001b]8;id=724899;file:///tmp/ipykernel_152833/1843420858.py#238\u001b\\\u001b[2m238\u001b[0m\u001b]8;;\u001b\\\n"
      ]
     },
     "metadata": {},
     "output_type": "display_data"
    },
    {
     "data": {
      "text/html": [
       "<pre style=\"white-space:pre;overflow-x:auto;line-height:normal;font-family:Menlo,'DejaVu Sans Mono',consolas,'Courier New',monospace\"><span style=\"color: #7fbfbf; text-decoration-color: #7fbfbf\">           </span><span style=\"color: #800000; text-decoration-color: #800000; font-weight: bold\">                                                                </span> <a href=\"file:///tmp/ipykernel_152833/1843420858.py\"><span style=\"color: #7f7f7f; text-decoration-color: #7f7f7f\">1843420858.py</span></a><span style=\"color: #7f7f7f; text-decoration-color: #7f7f7f\">:</span><a href=\"file:///tmp/ipykernel_152833/1843420858.py#219\"><span style=\"color: #7f7f7f; text-decoration-color: #7f7f7f\">219</span></a>\n",
       "           <span style=\"color: #800000; text-decoration-color: #800000; font-weight: bold\">===&gt; Removing Pod1 ⌛ Simulation Time: </span><span style=\"color: #008080; text-decoration-color: #008080; font-weight: bold\">90</span><span style=\"color: #800000; text-decoration-color: #800000; font-weight: bold\"> seconds               </span>                  \n",
       "</pre>\n"
      ],
      "text/plain": [
       "\u001b[2;36m          \u001b[0m\u001b[2;36m \u001b[0m\u001b[1;31m                                                                \u001b[0m \u001b]8;id=474992;file:///tmp/ipykernel_152833/1843420858.py\u001b\\\u001b[2m1843420858.py\u001b[0m\u001b]8;;\u001b\\\u001b[2m:\u001b[0m\u001b]8;id=412581;file:///tmp/ipykernel_152833/1843420858.py#219\u001b\\\u001b[2m219\u001b[0m\u001b]8;;\u001b\\\n",
       "           \u001b[1;31m===> Removing Pod1 ⌛ Simulation Time: \u001b[0m\u001b[1;36m90\u001b[0m\u001b[1;31m seconds               \u001b[0m                  \n"
      ]
     },
     "metadata": {},
     "output_type": "display_data"
    },
    {
     "data": {
      "text/html": [
       "<pre style=\"white-space:pre;overflow-x:auto;line-height:normal;font-family:Menlo,'DejaVu Sans Mono',consolas,'Courier New',monospace\"><span style=\"color: #7fbfbf; text-decoration-color: #7fbfbf\">           </span><span style=\"color: #008000; text-decoration-color: #008000; font-weight: bold\">                                                                </span> <a href=\"file:///tmp/ipykernel_152833/1843420858.py\"><span style=\"color: #7f7f7f; text-decoration-color: #7f7f7f\">1843420858.py</span></a><span style=\"color: #7f7f7f; text-decoration-color: #7f7f7f\">:</span><a href=\"file:///tmp/ipykernel_152833/1843420858.py#249\"><span style=\"color: #7f7f7f; text-decoration-color: #7f7f7f\">249</span></a>\n",
       "           <span style=\"color: #008000; text-decoration-color: #008000; font-weight: bold\">---&gt; Run Kubescheduler for Pod3                                 </span>                  \n",
       "           <span style=\"color: #008000; text-decoration-color: #008000; font-weight: bold\">                                                                </span>                  \n",
       "</pre>\n"
      ],
      "text/plain": [
       "\u001b[2;36m          \u001b[0m\u001b[2;36m \u001b[0m\u001b[1;32m                                                                \u001b[0m \u001b]8;id=803341;file:///tmp/ipykernel_152833/1843420858.py\u001b\\\u001b[2m1843420858.py\u001b[0m\u001b]8;;\u001b\\\u001b[2m:\u001b[0m\u001b]8;id=435196;file:///tmp/ipykernel_152833/1843420858.py#249\u001b\\\u001b[2m249\u001b[0m\u001b]8;;\u001b\\\n",
       "           \u001b[1;32m---> Run Kubescheduler for Pod3                                 \u001b[0m                  \n",
       "           \u001b[1;32m                                                                \u001b[0m                  \n"
      ]
     },
     "metadata": {},
     "output_type": "display_data"
    },
    {
     "data": {
      "text/html": [
       "<pre style=\"white-space:pre;overflow-x:auto;line-height:normal;font-family:Menlo,'DejaVu Sans Mono',consolas,'Courier New',monospace\"><span style=\"color: #7fbfbf; text-decoration-color: #7fbfbf\">           </span><span style=\"color: #008080; text-decoration-color: #008080\">👎 PodFitsResources ---&gt; n1                                      </span> <a href=\"file:///tmp/ipykernel_152833/1323010361.py\"><span style=\"color: #7f7f7f; text-decoration-color: #7f7f7f\">1323010361.py</span></a><span style=\"color: #7f7f7f; text-decoration-color: #7f7f7f\">:</span><a href=\"file:///tmp/ipykernel_152833/1323010361.py#67\"><span style=\"color: #7f7f7f; text-decoration-color: #7f7f7f\">67</span></a>\n",
       "</pre>\n"
      ],
      "text/plain": [
       "\u001b[2;36m          \u001b[0m\u001b[2;36m \u001b[0m\u001b[36m👎 PodFitsResources ---> n1                                      \u001b[0m \u001b]8;id=287144;file:///tmp/ipykernel_152833/1323010361.py\u001b\\\u001b[2m1323010361.py\u001b[0m\u001b]8;;\u001b\\\u001b[2m:\u001b[0m\u001b]8;id=560483;file:///tmp/ipykernel_152833/1323010361.py#67\u001b\\\u001b[2m67\u001b[0m\u001b]8;;\u001b\\\n"
      ]
     },
     "metadata": {},
     "output_type": "display_data"
    },
    {
     "data": {
      "text/html": [
       "<pre style=\"white-space:pre;overflow-x:auto;line-height:normal;font-family:Menlo,'DejaVu Sans Mono',consolas,'Courier New',monospace\"><span style=\"color: #7fbfbf; text-decoration-color: #7fbfbf\">           </span><span style=\"color: #008080; text-decoration-color: #008080\">↙  Least used node ---&gt; n1                                        </span> <a href=\"file:///tmp/ipykernel_152833/380400395.py\"><span style=\"color: #7f7f7f; text-decoration-color: #7f7f7f\">380400395.py</span></a><span style=\"color: #7f7f7f; text-decoration-color: #7f7f7f\">:</span><a href=\"file:///tmp/ipykernel_152833/380400395.py#49\"><span style=\"color: #7f7f7f; text-decoration-color: #7f7f7f\">49</span></a>\n",
       "</pre>\n"
      ],
      "text/plain": [
       "\u001b[2;36m          \u001b[0m\u001b[2;36m \u001b[0m\u001b[36m↙  Least used node ---> n1                                        \u001b[0m \u001b]8;id=364386;file:///tmp/ipykernel_152833/380400395.py\u001b\\\u001b[2m380400395.py\u001b[0m\u001b]8;;\u001b\\\u001b[2m:\u001b[0m\u001b]8;id=502796;file:///tmp/ipykernel_152833/380400395.py#49\u001b\\\u001b[2m49\u001b[0m\u001b]8;;\u001b\\\n"
      ]
     },
     "metadata": {},
     "output_type": "display_data"
    },
    {
     "data": {
      "text/html": [
       "<pre style=\"white-space:pre;overflow-x:auto;line-height:normal;font-family:Menlo,'DejaVu Sans Mono',consolas,'Courier New',monospace\"><span style=\"color: #7fbfbf; text-decoration-color: #7fbfbf\">           </span><span style=\"color: #008080; text-decoration-color: #008080\">👎 PodFitsResources ---&gt; n2                                      </span> <a href=\"file:///tmp/ipykernel_152833/1323010361.py\"><span style=\"color: #7f7f7f; text-decoration-color: #7f7f7f\">1323010361.py</span></a><span style=\"color: #7f7f7f; text-decoration-color: #7f7f7f\">:</span><a href=\"file:///tmp/ipykernel_152833/1323010361.py#67\"><span style=\"color: #7f7f7f; text-decoration-color: #7f7f7f\">67</span></a>\n",
       "</pre>\n"
      ],
      "text/plain": [
       "\u001b[2;36m          \u001b[0m\u001b[2;36m \u001b[0m\u001b[36m👎 PodFitsResources ---> n2                                      \u001b[0m \u001b]8;id=406430;file:///tmp/ipykernel_152833/1323010361.py\u001b\\\u001b[2m1323010361.py\u001b[0m\u001b]8;;\u001b\\\u001b[2m:\u001b[0m\u001b]8;id=594992;file:///tmp/ipykernel_152833/1323010361.py#67\u001b\\\u001b[2m67\u001b[0m\u001b]8;;\u001b\\\n"
      ]
     },
     "metadata": {},
     "output_type": "display_data"
    },
    {
     "data": {
      "text/html": [
       "<pre style=\"white-space:pre;overflow-x:auto;line-height:normal;font-family:Menlo,'DejaVu Sans Mono',consolas,'Courier New',monospace\"><span style=\"color: #7fbfbf; text-decoration-color: #7fbfbf\">           </span><span style=\"color: #008080; text-decoration-color: #008080\">💿 Image locality Found ---&gt; n2                                  </span> <a href=\"file:///tmp/ipykernel_152833/380400395.py\"><span style=\"color: #7f7f7f; text-decoration-color: #7f7f7f\">380400395.py</span></a><span style=\"color: #7f7f7f; text-decoration-color: #7f7f7f\">:</span><a href=\"file:///tmp/ipykernel_152833/380400395.py#133\"><span style=\"color: #7f7f7f; text-decoration-color: #7f7f7f\">133</span></a>\n",
       "</pre>\n"
      ],
      "text/plain": [
       "\u001b[2;36m          \u001b[0m\u001b[2;36m \u001b[0m\u001b[36m💿 Image locality Found ---> n2                                  \u001b[0m \u001b]8;id=182622;file:///tmp/ipykernel_152833/380400395.py\u001b\\\u001b[2m380400395.py\u001b[0m\u001b]8;;\u001b\\\u001b[2m:\u001b[0m\u001b]8;id=836723;file:///tmp/ipykernel_152833/380400395.py#133\u001b\\\u001b[2m133\u001b[0m\u001b]8;;\u001b\\\n"
      ]
     },
     "metadata": {},
     "output_type": "display_data"
    },
    {
     "data": {
      "text/html": [
       "<pre style=\"white-space:pre;overflow-x:auto;line-height:normal;font-family:Menlo,'DejaVu Sans Mono',consolas,'Courier New',monospace\"><span style=\"color: #7fbfbf; text-decoration-color: #7fbfbf\">           </span><span style=\"color: #008080; text-decoration-color: #008080\">👎 PodFitsResources ---&gt; n3                                      </span> <a href=\"file:///tmp/ipykernel_152833/1323010361.py\"><span style=\"color: #7f7f7f; text-decoration-color: #7f7f7f\">1323010361.py</span></a><span style=\"color: #7f7f7f; text-decoration-color: #7f7f7f\">:</span><a href=\"file:///tmp/ipykernel_152833/1323010361.py#67\"><span style=\"color: #7f7f7f; text-decoration-color: #7f7f7f\">67</span></a>\n",
       "</pre>\n"
      ],
      "text/plain": [
       "\u001b[2;36m          \u001b[0m\u001b[2;36m \u001b[0m\u001b[36m👎 PodFitsResources ---> n3                                      \u001b[0m \u001b]8;id=52744;file:///tmp/ipykernel_152833/1323010361.py\u001b\\\u001b[2m1323010361.py\u001b[0m\u001b]8;;\u001b\\\u001b[2m:\u001b[0m\u001b]8;id=62096;file:///tmp/ipykernel_152833/1323010361.py#67\u001b\\\u001b[2m67\u001b[0m\u001b]8;;\u001b\\\n"
      ]
     },
     "metadata": {},
     "output_type": "display_data"
    },
    {
     "data": {
      "text/html": [
       "<pre style=\"white-space:pre;overflow-x:auto;line-height:normal;font-family:Menlo,'DejaVu Sans Mono',consolas,'Courier New',monospace\"><span style=\"color: #7fbfbf; text-decoration-color: #7fbfbf\">           </span><span style=\"color: #008080; text-decoration-color: #008080\">👍 PodFitsResources ---&gt; n4                                      </span> <a href=\"file:///tmp/ipykernel_152833/1323010361.py\"><span style=\"color: #7f7f7f; text-decoration-color: #7f7f7f\">1323010361.py</span></a><span style=\"color: #7f7f7f; text-decoration-color: #7f7f7f\">:</span><a href=\"file:///tmp/ipykernel_152833/1323010361.py#62\"><span style=\"color: #7f7f7f; text-decoration-color: #7f7f7f\">62</span></a>\n",
       "</pre>\n"
      ],
      "text/plain": [
       "\u001b[2;36m          \u001b[0m\u001b[2;36m \u001b[0m\u001b[36m👍 PodFitsResources ---> n4                                      \u001b[0m \u001b]8;id=704370;file:///tmp/ipykernel_152833/1323010361.py\u001b\\\u001b[2m1323010361.py\u001b[0m\u001b]8;;\u001b\\\u001b[2m:\u001b[0m\u001b]8;id=969378;file:///tmp/ipykernel_152833/1323010361.py#62\u001b\\\u001b[2m62\u001b[0m\u001b]8;;\u001b\\\n"
      ]
     },
     "metadata": {},
     "output_type": "display_data"
    },
    {
     "data": {
      "text/html": [
       "<pre style=\"white-space:pre;overflow-x:auto;line-height:normal;font-family:Menlo,'DejaVu Sans Mono',consolas,'Courier New',monospace\"><span style=\"color: #7fbfbf; text-decoration-color: #7fbfbf\">           </span><span style=\"color: #008080; text-decoration-color: #008080\">👍 PodFitsResources ---&gt; n5                                      </span> <a href=\"file:///tmp/ipykernel_152833/1323010361.py\"><span style=\"color: #7f7f7f; text-decoration-color: #7f7f7f\">1323010361.py</span></a><span style=\"color: #7f7f7f; text-decoration-color: #7f7f7f\">:</span><a href=\"file:///tmp/ipykernel_152833/1323010361.py#62\"><span style=\"color: #7f7f7f; text-decoration-color: #7f7f7f\">62</span></a>\n",
       "</pre>\n"
      ],
      "text/plain": [
       "\u001b[2;36m          \u001b[0m\u001b[2;36m \u001b[0m\u001b[36m👍 PodFitsResources ---> n5                                      \u001b[0m \u001b]8;id=712706;file:///tmp/ipykernel_152833/1323010361.py\u001b\\\u001b[2m1323010361.py\u001b[0m\u001b]8;;\u001b\\\u001b[2m:\u001b[0m\u001b]8;id=826939;file:///tmp/ipykernel_152833/1323010361.py#62\u001b\\\u001b[2m62\u001b[0m\u001b]8;;\u001b\\\n"
      ]
     },
     "metadata": {},
     "output_type": "display_data"
    },
    {
     "data": {
      "text/html": [
       "<pre style=\"white-space:pre;overflow-x:auto;line-height:normal;font-family:Menlo,'DejaVu Sans Mono',consolas,'Courier New',monospace\"><span style=\"color: #7fbfbf; text-decoration-color: #7fbfbf\">           </span><span style=\"color: #008080; text-decoration-color: #008080\">👍 PodFitsResources ---&gt; n6                                      </span> <a href=\"file:///tmp/ipykernel_152833/1323010361.py\"><span style=\"color: #7f7f7f; text-decoration-color: #7f7f7f\">1323010361.py</span></a><span style=\"color: #7f7f7f; text-decoration-color: #7f7f7f\">:</span><a href=\"file:///tmp/ipykernel_152833/1323010361.py#62\"><span style=\"color: #7f7f7f; text-decoration-color: #7f7f7f\">62</span></a>\n",
       "</pre>\n"
      ],
      "text/plain": [
       "\u001b[2;36m          \u001b[0m\u001b[2;36m \u001b[0m\u001b[36m👍 PodFitsResources ---> n6                                      \u001b[0m \u001b]8;id=991440;file:///tmp/ipykernel_152833/1323010361.py\u001b\\\u001b[2m1323010361.py\u001b[0m\u001b]8;;\u001b\\\u001b[2m:\u001b[0m\u001b]8;id=803181;file:///tmp/ipykernel_152833/1323010361.py#62\u001b\\\u001b[2m62\u001b[0m\u001b]8;;\u001b\\\n"
      ]
     },
     "metadata": {},
     "output_type": "display_data"
    },
    {
     "data": {
      "text/html": [
       "<pre style=\"white-space:pre;overflow-x:auto;line-height:normal;font-family:Menlo,'DejaVu Sans Mono',consolas,'Courier New',monospace\"><span style=\"color: #7fbfbf; text-decoration-color: #7fbfbf\">           </span><span style=\"color: #008000; text-decoration-color: #008000; font-weight: bold\">                                                                 </span> <a href=\"file:///tmp/ipykernel_152833/1323010361.py\"><span style=\"color: #7f7f7f; text-decoration-color: #7f7f7f\">1323010361.py</span></a><span style=\"color: #7f7f7f; text-decoration-color: #7f7f7f\">:</span><a href=\"file:///tmp/ipykernel_152833/1323010361.py#98\"><span style=\"color: #7f7f7f; text-decoration-color: #7f7f7f\">98</span></a>\n",
       "           <span style=\"color: #008000; text-decoration-color: #008000; font-weight: bold\">---&gt; Selected node = n4 ⌛ Simulation Time: </span><span style=\"color: #008080; text-decoration-color: #008080; font-weight: bold\">90</span><span style=\"color: #008000; text-decoration-color: #008000; font-weight: bold\"> seconds           </span>                 \n",
       "           <span style=\"color: #008000; text-decoration-color: #008000; font-weight: bold\">                                                                 </span>                 \n",
       "</pre>\n"
      ],
      "text/plain": [
       "\u001b[2;36m          \u001b[0m\u001b[2;36m \u001b[0m\u001b[1;32m                                                                 \u001b[0m \u001b]8;id=687493;file:///tmp/ipykernel_152833/1323010361.py\u001b\\\u001b[2m1323010361.py\u001b[0m\u001b]8;;\u001b\\\u001b[2m:\u001b[0m\u001b]8;id=669517;file:///tmp/ipykernel_152833/1323010361.py#98\u001b\\\u001b[2m98\u001b[0m\u001b]8;;\u001b\\\n",
       "           \u001b[1;32m---> Selected node = n4 ⌛ Simulation Time: \u001b[0m\u001b[1;36m90\u001b[0m\u001b[1;32m seconds           \u001b[0m                 \n",
       "           \u001b[1;32m                                                                 \u001b[0m                 \n"
      ]
     },
     "metadata": {},
     "output_type": "display_data"
    },
    {
     "data": {
      "text/html": [
       "<pre style=\"white-space:pre;overflow-x:auto;line-height:normal;font-family:Menlo,'DejaVu Sans Mono',consolas,'Courier New',monospace\"><span style=\"color: #7fbfbf; text-decoration-color: #7fbfbf\">           </span><span style=\"font-style: italic\">                        Pod Description                         </span> <a href=\"file:///tmp/ipykernel_152833/1843420858.py\"><span style=\"color: #7f7f7f; text-decoration-color: #7f7f7f\">1843420858.py</span></a><span style=\"color: #7f7f7f; text-decoration-color: #7f7f7f\">:</span><a href=\"file:///tmp/ipykernel_152833/1843420858.py#267\"><span style=\"color: #7f7f7f; text-decoration-color: #7f7f7f\">267</span></a>\n",
       "           ┏━━━━━━┳━━━━┳━━━━━━┳━━━━━━┳━━━━━━━┳━━━━━━┳━━━━━━┳━━━━━━━┳━━━━━━┓                  \n",
       "           ┃<span style=\"font-weight: bold\"> Name </span>┃<span style=\"font-weight: bold\"> ID </span>┃<span style=\"font-weight: bold\"> Node </span>┃<span style=\"font-weight: bold\"> Mem… </span>┃<span style=\"font-weight: bold\">  CPU  </span>┃<span style=\"font-weight: bold\"> Bind </span>┃<span style=\"font-weight: bold\"> Port </span>┃<span style=\"font-weight: bold\"> Arri… </span>┃<span style=\"font-weight: bold\"> Ser… </span>┃                  \n",
       "           ┃      ┃    ┃<span style=\"font-weight: bold\"> Ass… </span>┃<span style=\"font-weight: bold\"> Req  </span>┃<span style=\"font-weight: bold\">  Req  </span>┃      ┃      ┃<span style=\"font-weight: bold\"> Time  </span>┃<span style=\"font-weight: bold\"> Time </span>┃                  \n",
       "           ┡━━━━━━╇━━━━╇━━━━━━╇━━━━━━╇━━━━━━━╇━━━━━━╇━━━━━━╇━━━━━━━╇━━━━━━┩                  \n",
       "           │<span style=\"color: #008080; text-decoration-color: #008080\"> Fro… </span>│<span style=\"color: #800080; text-decoration-color: #800080\"> 0  </span>│<span style=\"color: #008000; text-decoration-color: #008000\">  n2  </span>│<span style=\"color: #008080; text-decoration-color: #008080\">  64  </span>│<span style=\"color: #800080; text-decoration-color: #800080\">  120  </span>│<span style=\"color: #008000; text-decoration-color: #008000\"> True </span>│<span style=\"color: #008080; text-decoration-color: #008080\">  90  </span>│<span style=\"color: #800080; text-decoration-color: #800080\">  35   </span>│<span style=\"color: #008000; text-decoration-color: #008000\"> 165  </span>│                  \n",
       "           │<span style=\"color: #008080; text-decoration-color: #008080\"> Pod1 </span>│<span style=\"color: #800080; text-decoration-color: #800080\"> 1  </span>│<span style=\"color: #008000; text-decoration-color: #008000\">  n4  </span>│<span style=\"color: #008080; text-decoration-color: #008080\">  64  </span>│<span style=\"color: #800080; text-decoration-color: #800080\">  128  </span>│<span style=\"color: #008000; text-decoration-color: #008000\"> True </span>│<span style=\"color: #008080; text-decoration-color: #008080\">  80  </span>│<span style=\"color: #800080; text-decoration-color: #800080\">  40   </span>│<span style=\"color: #008000; text-decoration-color: #008000\">  15  </span>│                  \n",
       "           │<span style=\"color: #008080; text-decoration-color: #008080\"> Pod2 </span>│<span style=\"color: #800080; text-decoration-color: #800080\"> 2  </span>│<span style=\"color: #008000; text-decoration-color: #008000\">      </span>│<span style=\"color: #008080; text-decoration-color: #008080\"> 128  </span>│<span style=\"color: #800080; text-decoration-color: #800080\">  378  </span>│<span style=\"color: #008000; text-decoration-color: #008000\"> Fal… </span>│<span style=\"color: #008080; text-decoration-color: #008080\">  80  </span>│<span style=\"color: #800080; text-decoration-color: #800080\">  45   </span>│<span style=\"color: #008000; text-decoration-color: #008000\">  15  </span>│                  \n",
       "           │<span style=\"color: #008080; text-decoration-color: #008080\"> Pod3 </span>│<span style=\"color: #800080; text-decoration-color: #800080\"> 3  </span>│<span style=\"color: #008000; text-decoration-color: #008000\">  n4  </span>│<span style=\"color: #008080; text-decoration-color: #008080\"> 192  </span>│<span style=\"color: #800080; text-decoration-color: #800080\">  628  </span>│<span style=\"color: #008000; text-decoration-color: #008000\"> True </span>│<span style=\"color: #008080; text-decoration-color: #008080\"> 5000 </span>│<span style=\"color: #800080; text-decoration-color: #800080\">  50   </span>│<span style=\"color: #008000; text-decoration-color: #008000\">  15  </span>│                  \n",
       "           └──────┴────┴──────┴──────┴───────┴──────┴──────┴───────┴──────┘                  \n",
       "</pre>\n"
      ],
      "text/plain": [
       "\u001b[2;36m          \u001b[0m\u001b[2;36m \u001b[0m\u001b[3m                        Pod Description                         \u001b[0m \u001b]8;id=253240;file:///tmp/ipykernel_152833/1843420858.py\u001b\\\u001b[2m1843420858.py\u001b[0m\u001b]8;;\u001b\\\u001b[2m:\u001b[0m\u001b]8;id=769905;file:///tmp/ipykernel_152833/1843420858.py#267\u001b\\\u001b[2m267\u001b[0m\u001b]8;;\u001b\\\n",
       "           ┏━━━━━━┳━━━━┳━━━━━━┳━━━━━━┳━━━━━━━┳━━━━━━┳━━━━━━┳━━━━━━━┳━━━━━━┓                  \n",
       "           ┃\u001b[1m \u001b[0m\u001b[1mName\u001b[0m\u001b[1m \u001b[0m┃\u001b[1m \u001b[0m\u001b[1mID\u001b[0m\u001b[1m \u001b[0m┃\u001b[1m \u001b[0m\u001b[1mNode\u001b[0m\u001b[1m \u001b[0m┃\u001b[1m \u001b[0m\u001b[1mMem…\u001b[0m\u001b[1m \u001b[0m┃\u001b[1m \u001b[0m\u001b[1m CPU \u001b[0m\u001b[1m \u001b[0m┃\u001b[1m \u001b[0m\u001b[1mBind\u001b[0m\u001b[1m \u001b[0m┃\u001b[1m \u001b[0m\u001b[1mPort\u001b[0m\u001b[1m \u001b[0m┃\u001b[1m \u001b[0m\u001b[1mArri…\u001b[0m\u001b[1m \u001b[0m┃\u001b[1m \u001b[0m\u001b[1mSer…\u001b[0m\u001b[1m \u001b[0m┃                  \n",
       "           ┃      ┃    ┃\u001b[1m \u001b[0m\u001b[1mAss…\u001b[0m\u001b[1m \u001b[0m┃\u001b[1m \u001b[0m\u001b[1mReq \u001b[0m\u001b[1m \u001b[0m┃\u001b[1m \u001b[0m\u001b[1m Req \u001b[0m\u001b[1m \u001b[0m┃      ┃      ┃\u001b[1m \u001b[0m\u001b[1mTime \u001b[0m\u001b[1m \u001b[0m┃\u001b[1m \u001b[0m\u001b[1mTime\u001b[0m\u001b[1m \u001b[0m┃                  \n",
       "           ┡━━━━━━╇━━━━╇━━━━━━╇━━━━━━╇━━━━━━━╇━━━━━━╇━━━━━━╇━━━━━━━╇━━━━━━┩                  \n",
       "           │\u001b[36m \u001b[0m\u001b[36mFro…\u001b[0m\u001b[36m \u001b[0m│\u001b[35m \u001b[0m\u001b[35m0 \u001b[0m\u001b[35m \u001b[0m│\u001b[32m \u001b[0m\u001b[32m n2 \u001b[0m\u001b[32m \u001b[0m│\u001b[36m \u001b[0m\u001b[36m 64 \u001b[0m\u001b[36m \u001b[0m│\u001b[35m \u001b[0m\u001b[35m 120 \u001b[0m\u001b[35m \u001b[0m│\u001b[32m \u001b[0m\u001b[32mTrue\u001b[0m\u001b[32m \u001b[0m│\u001b[36m \u001b[0m\u001b[36m 90 \u001b[0m\u001b[36m \u001b[0m│\u001b[35m \u001b[0m\u001b[35m 35  \u001b[0m\u001b[35m \u001b[0m│\u001b[32m \u001b[0m\u001b[32m165 \u001b[0m\u001b[32m \u001b[0m│                  \n",
       "           │\u001b[36m \u001b[0m\u001b[36mPod1\u001b[0m\u001b[36m \u001b[0m│\u001b[35m \u001b[0m\u001b[35m1 \u001b[0m\u001b[35m \u001b[0m│\u001b[32m \u001b[0m\u001b[32m n4 \u001b[0m\u001b[32m \u001b[0m│\u001b[36m \u001b[0m\u001b[36m 64 \u001b[0m\u001b[36m \u001b[0m│\u001b[35m \u001b[0m\u001b[35m 128 \u001b[0m\u001b[35m \u001b[0m│\u001b[32m \u001b[0m\u001b[32mTrue\u001b[0m\u001b[32m \u001b[0m│\u001b[36m \u001b[0m\u001b[36m 80 \u001b[0m\u001b[36m \u001b[0m│\u001b[35m \u001b[0m\u001b[35m 40  \u001b[0m\u001b[35m \u001b[0m│\u001b[32m \u001b[0m\u001b[32m 15 \u001b[0m\u001b[32m \u001b[0m│                  \n",
       "           │\u001b[36m \u001b[0m\u001b[36mPod2\u001b[0m\u001b[36m \u001b[0m│\u001b[35m \u001b[0m\u001b[35m2 \u001b[0m\u001b[35m \u001b[0m│\u001b[32m \u001b[0m\u001b[32m    \u001b[0m\u001b[32m \u001b[0m│\u001b[36m \u001b[0m\u001b[36m128 \u001b[0m\u001b[36m \u001b[0m│\u001b[35m \u001b[0m\u001b[35m 378 \u001b[0m\u001b[35m \u001b[0m│\u001b[32m \u001b[0m\u001b[32mFal…\u001b[0m\u001b[32m \u001b[0m│\u001b[36m \u001b[0m\u001b[36m 80 \u001b[0m\u001b[36m \u001b[0m│\u001b[35m \u001b[0m\u001b[35m 45  \u001b[0m\u001b[35m \u001b[0m│\u001b[32m \u001b[0m\u001b[32m 15 \u001b[0m\u001b[32m \u001b[0m│                  \n",
       "           │\u001b[36m \u001b[0m\u001b[36mPod3\u001b[0m\u001b[36m \u001b[0m│\u001b[35m \u001b[0m\u001b[35m3 \u001b[0m\u001b[35m \u001b[0m│\u001b[32m \u001b[0m\u001b[32m n4 \u001b[0m\u001b[32m \u001b[0m│\u001b[36m \u001b[0m\u001b[36m192 \u001b[0m\u001b[36m \u001b[0m│\u001b[35m \u001b[0m\u001b[35m 628 \u001b[0m\u001b[35m \u001b[0m│\u001b[32m \u001b[0m\u001b[32mTrue\u001b[0m\u001b[32m \u001b[0m│\u001b[36m \u001b[0m\u001b[36m5000\u001b[0m\u001b[36m \u001b[0m│\u001b[35m \u001b[0m\u001b[35m 50  \u001b[0m\u001b[35m \u001b[0m│\u001b[32m \u001b[0m\u001b[32m 15 \u001b[0m\u001b[32m \u001b[0m│                  \n",
       "           └──────┴────┴──────┴──────┴───────┴──────┴──────┴───────┴──────┘                  \n"
      ]
     },
     "metadata": {},
     "output_type": "display_data"
    },
    {
     "data": {
      "text/html": [
       "<pre style=\"white-space:pre;overflow-x:auto;line-height:normal;font-family:Menlo,'DejaVu Sans Mono',consolas,'Courier New',monospace\"><span style=\"color: #7fbfbf; text-decoration-color: #7fbfbf\">           </span><span style=\"color: #008000; text-decoration-color: #008000; font-weight: bold\">                                                                </span> <a href=\"file:///tmp/ipykernel_152833/1843420858.py\"><span style=\"color: #7f7f7f; text-decoration-color: #7f7f7f\">1843420858.py</span></a><span style=\"color: #7f7f7f; text-decoration-color: #7f7f7f\">:</span><a href=\"file:///tmp/ipykernel_152833/1843420858.py#249\"><span style=\"color: #7f7f7f; text-decoration-color: #7f7f7f\">249</span></a>\n",
       "           <span style=\"color: #008000; text-decoration-color: #008000; font-weight: bold\">---&gt; Run Kubescheduler for Pod4                                 </span>                  \n",
       "           <span style=\"color: #008000; text-decoration-color: #008000; font-weight: bold\">                                                                </span>                  \n",
       "</pre>\n"
      ],
      "text/plain": [
       "\u001b[2;36m          \u001b[0m\u001b[2;36m \u001b[0m\u001b[1;32m                                                                \u001b[0m \u001b]8;id=886570;file:///tmp/ipykernel_152833/1843420858.py\u001b\\\u001b[2m1843420858.py\u001b[0m\u001b]8;;\u001b\\\u001b[2m:\u001b[0m\u001b]8;id=101687;file:///tmp/ipykernel_152833/1843420858.py#249\u001b\\\u001b[2m249\u001b[0m\u001b]8;;\u001b\\\n",
       "           \u001b[1;32m---> Run Kubescheduler for Pod4                                 \u001b[0m                  \n",
       "           \u001b[1;32m                                                                \u001b[0m                  \n"
      ]
     },
     "metadata": {},
     "output_type": "display_data"
    },
    {
     "data": {
      "text/html": [
       "<pre style=\"white-space:pre;overflow-x:auto;line-height:normal;font-family:Menlo,'DejaVu Sans Mono',consolas,'Courier New',monospace\"><span style=\"color: #7fbfbf; text-decoration-color: #7fbfbf\">           </span><span style=\"color: #008080; text-decoration-color: #008080\">👎 PodFitsResources ---&gt; n1                                      </span> <a href=\"file:///tmp/ipykernel_152833/1323010361.py\"><span style=\"color: #7f7f7f; text-decoration-color: #7f7f7f\">1323010361.py</span></a><span style=\"color: #7f7f7f; text-decoration-color: #7f7f7f\">:</span><a href=\"file:///tmp/ipykernel_152833/1323010361.py#67\"><span style=\"color: #7f7f7f; text-decoration-color: #7f7f7f\">67</span></a>\n",
       "</pre>\n"
      ],
      "text/plain": [
       "\u001b[2;36m          \u001b[0m\u001b[2;36m \u001b[0m\u001b[36m👎 PodFitsResources ---> n1                                      \u001b[0m \u001b]8;id=13461;file:///tmp/ipykernel_152833/1323010361.py\u001b\\\u001b[2m1323010361.py\u001b[0m\u001b]8;;\u001b\\\u001b[2m:\u001b[0m\u001b]8;id=615405;file:///tmp/ipykernel_152833/1323010361.py#67\u001b\\\u001b[2m67\u001b[0m\u001b]8;;\u001b\\\n"
      ]
     },
     "metadata": {},
     "output_type": "display_data"
    },
    {
     "data": {
      "text/html": [
       "<pre style=\"white-space:pre;overflow-x:auto;line-height:normal;font-family:Menlo,'DejaVu Sans Mono',consolas,'Courier New',monospace\"><span style=\"color: #7fbfbf; text-decoration-color: #7fbfbf\">           </span><span style=\"color: #008080; text-decoration-color: #008080\">↙  Least used node ---&gt; n1                                        </span> <a href=\"file:///tmp/ipykernel_152833/380400395.py\"><span style=\"color: #7f7f7f; text-decoration-color: #7f7f7f\">380400395.py</span></a><span style=\"color: #7f7f7f; text-decoration-color: #7f7f7f\">:</span><a href=\"file:///tmp/ipykernel_152833/380400395.py#49\"><span style=\"color: #7f7f7f; text-decoration-color: #7f7f7f\">49</span></a>\n",
       "</pre>\n"
      ],
      "text/plain": [
       "\u001b[2;36m          \u001b[0m\u001b[2;36m \u001b[0m\u001b[36m↙  Least used node ---> n1                                        \u001b[0m \u001b]8;id=856050;file:///tmp/ipykernel_152833/380400395.py\u001b\\\u001b[2m380400395.py\u001b[0m\u001b]8;;\u001b\\\u001b[2m:\u001b[0m\u001b]8;id=577334;file:///tmp/ipykernel_152833/380400395.py#49\u001b\\\u001b[2m49\u001b[0m\u001b]8;;\u001b\\\n"
      ]
     },
     "metadata": {},
     "output_type": "display_data"
    },
    {
     "data": {
      "text/html": [
       "<pre style=\"white-space:pre;overflow-x:auto;line-height:normal;font-family:Menlo,'DejaVu Sans Mono',consolas,'Courier New',monospace\"><span style=\"color: #7fbfbf; text-decoration-color: #7fbfbf\">           </span><span style=\"color: #008080; text-decoration-color: #008080\">👎 PodFitsResources ---&gt; n2                                      </span> <a href=\"file:///tmp/ipykernel_152833/1323010361.py\"><span style=\"color: #7f7f7f; text-decoration-color: #7f7f7f\">1323010361.py</span></a><span style=\"color: #7f7f7f; text-decoration-color: #7f7f7f\">:</span><a href=\"file:///tmp/ipykernel_152833/1323010361.py#67\"><span style=\"color: #7f7f7f; text-decoration-color: #7f7f7f\">67</span></a>\n",
       "</pre>\n"
      ],
      "text/plain": [
       "\u001b[2;36m          \u001b[0m\u001b[2;36m \u001b[0m\u001b[36m👎 PodFitsResources ---> n2                                      \u001b[0m \u001b]8;id=550506;file:///tmp/ipykernel_152833/1323010361.py\u001b\\\u001b[2m1323010361.py\u001b[0m\u001b]8;;\u001b\\\u001b[2m:\u001b[0m\u001b]8;id=319630;file:///tmp/ipykernel_152833/1323010361.py#67\u001b\\\u001b[2m67\u001b[0m\u001b]8;;\u001b\\\n"
      ]
     },
     "metadata": {},
     "output_type": "display_data"
    },
    {
     "data": {
      "text/html": [
       "<pre style=\"white-space:pre;overflow-x:auto;line-height:normal;font-family:Menlo,'DejaVu Sans Mono',consolas,'Courier New',monospace\"><span style=\"color: #7fbfbf; text-decoration-color: #7fbfbf\">           </span><span style=\"color: #008080; text-decoration-color: #008080\">💿 Image locality Found ---&gt; n2                                  </span> <a href=\"file:///tmp/ipykernel_152833/380400395.py\"><span style=\"color: #7f7f7f; text-decoration-color: #7f7f7f\">380400395.py</span></a><span style=\"color: #7f7f7f; text-decoration-color: #7f7f7f\">:</span><a href=\"file:///tmp/ipykernel_152833/380400395.py#133\"><span style=\"color: #7f7f7f; text-decoration-color: #7f7f7f\">133</span></a>\n",
       "</pre>\n"
      ],
      "text/plain": [
       "\u001b[2;36m          \u001b[0m\u001b[2;36m \u001b[0m\u001b[36m💿 Image locality Found ---> n2                                  \u001b[0m \u001b]8;id=951707;file:///tmp/ipykernel_152833/380400395.py\u001b\\\u001b[2m380400395.py\u001b[0m\u001b]8;;\u001b\\\u001b[2m:\u001b[0m\u001b]8;id=55430;file:///tmp/ipykernel_152833/380400395.py#133\u001b\\\u001b[2m133\u001b[0m\u001b]8;;\u001b\\\n"
      ]
     },
     "metadata": {},
     "output_type": "display_data"
    },
    {
     "data": {
      "text/html": [
       "<pre style=\"white-space:pre;overflow-x:auto;line-height:normal;font-family:Menlo,'DejaVu Sans Mono',consolas,'Courier New',monospace\"><span style=\"color: #7fbfbf; text-decoration-color: #7fbfbf\">           </span><span style=\"color: #008080; text-decoration-color: #008080\">👎 PodFitsResources ---&gt; n3                                      </span> <a href=\"file:///tmp/ipykernel_152833/1323010361.py\"><span style=\"color: #7f7f7f; text-decoration-color: #7f7f7f\">1323010361.py</span></a><span style=\"color: #7f7f7f; text-decoration-color: #7f7f7f\">:</span><a href=\"file:///tmp/ipykernel_152833/1323010361.py#67\"><span style=\"color: #7f7f7f; text-decoration-color: #7f7f7f\">67</span></a>\n",
       "</pre>\n"
      ],
      "text/plain": [
       "\u001b[2;36m          \u001b[0m\u001b[2;36m \u001b[0m\u001b[36m👎 PodFitsResources ---> n3                                      \u001b[0m \u001b]8;id=945478;file:///tmp/ipykernel_152833/1323010361.py\u001b\\\u001b[2m1323010361.py\u001b[0m\u001b]8;;\u001b\\\u001b[2m:\u001b[0m\u001b]8;id=605843;file:///tmp/ipykernel_152833/1323010361.py#67\u001b\\\u001b[2m67\u001b[0m\u001b]8;;\u001b\\\n"
      ]
     },
     "metadata": {},
     "output_type": "display_data"
    },
    {
     "data": {
      "text/html": [
       "<pre style=\"white-space:pre;overflow-x:auto;line-height:normal;font-family:Menlo,'DejaVu Sans Mono',consolas,'Courier New',monospace\"><span style=\"color: #7fbfbf; text-decoration-color: #7fbfbf\">           </span><span style=\"color: #008080; text-decoration-color: #008080\">👎 PodFitsResources ---&gt; n4                                      </span> <a href=\"file:///tmp/ipykernel_152833/1323010361.py\"><span style=\"color: #7f7f7f; text-decoration-color: #7f7f7f\">1323010361.py</span></a><span style=\"color: #7f7f7f; text-decoration-color: #7f7f7f\">:</span><a href=\"file:///tmp/ipykernel_152833/1323010361.py#67\"><span style=\"color: #7f7f7f; text-decoration-color: #7f7f7f\">67</span></a>\n",
       "</pre>\n"
      ],
      "text/plain": [
       "\u001b[2;36m          \u001b[0m\u001b[2;36m \u001b[0m\u001b[36m👎 PodFitsResources ---> n4                                      \u001b[0m \u001b]8;id=685872;file:///tmp/ipykernel_152833/1323010361.py\u001b\\\u001b[2m1323010361.py\u001b[0m\u001b]8;;\u001b\\\u001b[2m:\u001b[0m\u001b]8;id=819822;file:///tmp/ipykernel_152833/1323010361.py#67\u001b\\\u001b[2m67\u001b[0m\u001b]8;;\u001b\\\n"
      ]
     },
     "metadata": {},
     "output_type": "display_data"
    },
    {
     "data": {
      "text/html": [
       "<pre style=\"white-space:pre;overflow-x:auto;line-height:normal;font-family:Menlo,'DejaVu Sans Mono',consolas,'Courier New',monospace\"><span style=\"color: #7fbfbf; text-decoration-color: #7fbfbf\">           </span><span style=\"color: #008080; text-decoration-color: #008080\">💿 Image locality Found ---&gt; n4                                  </span> <a href=\"file:///tmp/ipykernel_152833/380400395.py\"><span style=\"color: #7f7f7f; text-decoration-color: #7f7f7f\">380400395.py</span></a><span style=\"color: #7f7f7f; text-decoration-color: #7f7f7f\">:</span><a href=\"file:///tmp/ipykernel_152833/380400395.py#133\"><span style=\"color: #7f7f7f; text-decoration-color: #7f7f7f\">133</span></a>\n",
       "</pre>\n"
      ],
      "text/plain": [
       "\u001b[2;36m          \u001b[0m\u001b[2;36m \u001b[0m\u001b[36m💿 Image locality Found ---> n4                                  \u001b[0m \u001b]8;id=657909;file:///tmp/ipykernel_152833/380400395.py\u001b\\\u001b[2m380400395.py\u001b[0m\u001b]8;;\u001b\\\u001b[2m:\u001b[0m\u001b]8;id=306962;file:///tmp/ipykernel_152833/380400395.py#133\u001b\\\u001b[2m133\u001b[0m\u001b]8;;\u001b\\\n"
      ]
     },
     "metadata": {},
     "output_type": "display_data"
    },
    {
     "data": {
      "text/html": [
       "<pre style=\"white-space:pre;overflow-x:auto;line-height:normal;font-family:Menlo,'DejaVu Sans Mono',consolas,'Courier New',monospace\"><span style=\"color: #7fbfbf; text-decoration-color: #7fbfbf\">           </span><span style=\"color: #008080; text-decoration-color: #008080\">👎 PodFitsResources ---&gt; n5                                      </span> <a href=\"file:///tmp/ipykernel_152833/1323010361.py\"><span style=\"color: #7f7f7f; text-decoration-color: #7f7f7f\">1323010361.py</span></a><span style=\"color: #7f7f7f; text-decoration-color: #7f7f7f\">:</span><a href=\"file:///tmp/ipykernel_152833/1323010361.py#67\"><span style=\"color: #7f7f7f; text-decoration-color: #7f7f7f\">67</span></a>\n",
       "</pre>\n"
      ],
      "text/plain": [
       "\u001b[2;36m          \u001b[0m\u001b[2;36m \u001b[0m\u001b[36m👎 PodFitsResources ---> n5                                      \u001b[0m \u001b]8;id=940663;file:///tmp/ipykernel_152833/1323010361.py\u001b\\\u001b[2m1323010361.py\u001b[0m\u001b]8;;\u001b\\\u001b[2m:\u001b[0m\u001b]8;id=193793;file:///tmp/ipykernel_152833/1323010361.py#67\u001b\\\u001b[2m67\u001b[0m\u001b]8;;\u001b\\\n"
      ]
     },
     "metadata": {},
     "output_type": "display_data"
    },
    {
     "data": {
      "text/html": [
       "<pre style=\"white-space:pre;overflow-x:auto;line-height:normal;font-family:Menlo,'DejaVu Sans Mono',consolas,'Courier New',monospace\"><span style=\"color: #7fbfbf; text-decoration-color: #7fbfbf\">           </span><span style=\"color: #008080; text-decoration-color: #008080\">👎 PodFitsResources ---&gt; n6                                      </span> <a href=\"file:///tmp/ipykernel_152833/1323010361.py\"><span style=\"color: #7f7f7f; text-decoration-color: #7f7f7f\">1323010361.py</span></a><span style=\"color: #7f7f7f; text-decoration-color: #7f7f7f\">:</span><a href=\"file:///tmp/ipykernel_152833/1323010361.py#67\"><span style=\"color: #7f7f7f; text-decoration-color: #7f7f7f\">67</span></a>\n",
       "</pre>\n"
      ],
      "text/plain": [
       "\u001b[2;36m          \u001b[0m\u001b[2;36m \u001b[0m\u001b[36m👎 PodFitsResources ---> n6                                      \u001b[0m \u001b]8;id=269511;file:///tmp/ipykernel_152833/1323010361.py\u001b\\\u001b[2m1323010361.py\u001b[0m\u001b]8;;\u001b\\\u001b[2m:\u001b[0m\u001b]8;id=373788;file:///tmp/ipykernel_152833/1323010361.py#67\u001b\\\u001b[2m67\u001b[0m\u001b]8;;\u001b\\\n"
      ]
     },
     "metadata": {},
     "output_type": "display_data"
    },
    {
     "data": {
      "text/html": [
       "<pre style=\"white-space:pre;overflow-x:auto;line-height:normal;font-family:Menlo,'DejaVu Sans Mono',consolas,'Courier New',monospace\"><span style=\"color: #7fbfbf; text-decoration-color: #7fbfbf\">           </span><span style=\"color: #800000; text-decoration-color: #800000; font-weight: bold\">                                                                </span> <a href=\"file:///tmp/ipykernel_152833/1323010361.py\"><span style=\"color: #7f7f7f; text-decoration-color: #7f7f7f\">1323010361.py</span></a><span style=\"color: #7f7f7f; text-decoration-color: #7f7f7f\">:</span><a href=\"file:///tmp/ipykernel_152833/1323010361.py#103\"><span style=\"color: #7f7f7f; text-decoration-color: #7f7f7f\">103</span></a>\n",
       "           <span style=\"color: #800000; text-decoration-color: #800000; font-weight: bold\">---&gt; No feasible node found ⌛ Simulation Time: </span><span style=\"color: #008080; text-decoration-color: #008080; font-weight: bold\">100</span><span style=\"color: #800000; text-decoration-color: #800000; font-weight: bold\"> seconds     </span>                  \n",
       "           <span style=\"color: #800000; text-decoration-color: #800000; font-weight: bold\">                                                                </span>                  \n",
       "</pre>\n"
      ],
      "text/plain": [
       "\u001b[2;36m          \u001b[0m\u001b[2;36m \u001b[0m\u001b[1;31m                                                                \u001b[0m \u001b]8;id=507799;file:///tmp/ipykernel_152833/1323010361.py\u001b\\\u001b[2m1323010361.py\u001b[0m\u001b]8;;\u001b\\\u001b[2m:\u001b[0m\u001b]8;id=658219;file:///tmp/ipykernel_152833/1323010361.py#103\u001b\\\u001b[2m103\u001b[0m\u001b]8;;\u001b\\\n",
       "           \u001b[1;31m---> No feasible node found ⌛ Simulation Time: \u001b[0m\u001b[1;36m100\u001b[0m\u001b[1;31m seconds     \u001b[0m                  \n",
       "           \u001b[1;31m                                                                \u001b[0m                  \n"
      ]
     },
     "metadata": {},
     "output_type": "display_data"
    },
    {
     "data": {
      "text/html": [
       "<pre style=\"white-space:pre;overflow-x:auto;line-height:normal;font-family:Menlo,'DejaVu Sans Mono',consolas,'Courier New',monospace\"><span style=\"color: #7fbfbf; text-decoration-color: #7fbfbf\">           </span><span style=\"font-style: italic\">                        Pod Description                         </span> <a href=\"file:///tmp/ipykernel_152833/1843420858.py\"><span style=\"color: #7f7f7f; text-decoration-color: #7f7f7f\">1843420858.py</span></a><span style=\"color: #7f7f7f; text-decoration-color: #7f7f7f\">:</span><a href=\"file:///tmp/ipykernel_152833/1843420858.py#267\"><span style=\"color: #7f7f7f; text-decoration-color: #7f7f7f\">267</span></a>\n",
       "           ┏━━━━━━┳━━━━┳━━━━━━┳━━━━━━┳━━━━━━━┳━━━━━━┳━━━━━━┳━━━━━━━┳━━━━━━┓                  \n",
       "           ┃<span style=\"font-weight: bold\"> Name </span>┃<span style=\"font-weight: bold\"> ID </span>┃<span style=\"font-weight: bold\"> Node </span>┃<span style=\"font-weight: bold\"> Mem… </span>┃<span style=\"font-weight: bold\">  CPU  </span>┃<span style=\"font-weight: bold\"> Bind </span>┃<span style=\"font-weight: bold\"> Port </span>┃<span style=\"font-weight: bold\"> Arri… </span>┃<span style=\"font-weight: bold\"> Ser… </span>┃                  \n",
       "           ┃      ┃    ┃<span style=\"font-weight: bold\"> Ass… </span>┃<span style=\"font-weight: bold\"> Req  </span>┃<span style=\"font-weight: bold\">  Req  </span>┃      ┃      ┃<span style=\"font-weight: bold\"> Time  </span>┃<span style=\"font-weight: bold\"> Time </span>┃                  \n",
       "           ┡━━━━━━╇━━━━╇━━━━━━╇━━━━━━╇━━━━━━━╇━━━━━━╇━━━━━━╇━━━━━━━╇━━━━━━┩                  \n",
       "           │<span style=\"color: #008080; text-decoration-color: #008080\"> Fro… </span>│<span style=\"color: #800080; text-decoration-color: #800080\"> 0  </span>│<span style=\"color: #008000; text-decoration-color: #008000\">  n2  </span>│<span style=\"color: #008080; text-decoration-color: #008080\">  64  </span>│<span style=\"color: #800080; text-decoration-color: #800080\">  120  </span>│<span style=\"color: #008000; text-decoration-color: #008000\"> True </span>│<span style=\"color: #008080; text-decoration-color: #008080\">  90  </span>│<span style=\"color: #800080; text-decoration-color: #800080\">  35   </span>│<span style=\"color: #008000; text-decoration-color: #008000\"> 165  </span>│                  \n",
       "           │<span style=\"color: #008080; text-decoration-color: #008080\"> Pod1 </span>│<span style=\"color: #800080; text-decoration-color: #800080\"> 1  </span>│<span style=\"color: #008000; text-decoration-color: #008000\">  n4  </span>│<span style=\"color: #008080; text-decoration-color: #008080\">  64  </span>│<span style=\"color: #800080; text-decoration-color: #800080\">  128  </span>│<span style=\"color: #008000; text-decoration-color: #008000\"> True </span>│<span style=\"color: #008080; text-decoration-color: #008080\">  80  </span>│<span style=\"color: #800080; text-decoration-color: #800080\">  40   </span>│<span style=\"color: #008000; text-decoration-color: #008000\">  15  </span>│                  \n",
       "           │<span style=\"color: #008080; text-decoration-color: #008080\"> Pod2 </span>│<span style=\"color: #800080; text-decoration-color: #800080\"> 2  </span>│<span style=\"color: #008000; text-decoration-color: #008000\">      </span>│<span style=\"color: #008080; text-decoration-color: #008080\"> 128  </span>│<span style=\"color: #800080; text-decoration-color: #800080\">  378  </span>│<span style=\"color: #008000; text-decoration-color: #008000\"> Fal… </span>│<span style=\"color: #008080; text-decoration-color: #008080\">  80  </span>│<span style=\"color: #800080; text-decoration-color: #800080\">  45   </span>│<span style=\"color: #008000; text-decoration-color: #008000\">  15  </span>│                  \n",
       "           │<span style=\"color: #008080; text-decoration-color: #008080\"> Pod3 </span>│<span style=\"color: #800080; text-decoration-color: #800080\"> 3  </span>│<span style=\"color: #008000; text-decoration-color: #008000\">  n4  </span>│<span style=\"color: #008080; text-decoration-color: #008080\"> 192  </span>│<span style=\"color: #800080; text-decoration-color: #800080\">  628  </span>│<span style=\"color: #008000; text-decoration-color: #008000\"> True </span>│<span style=\"color: #008080; text-decoration-color: #008080\"> 5000 </span>│<span style=\"color: #800080; text-decoration-color: #800080\">  50   </span>│<span style=\"color: #008000; text-decoration-color: #008000\">  15  </span>│                  \n",
       "           │<span style=\"color: #008080; text-decoration-color: #008080\"> Pod4 </span>│<span style=\"color: #800080; text-decoration-color: #800080\"> 4  </span>│<span style=\"color: #008000; text-decoration-color: #008000\">      </span>│<span style=\"color: #008080; text-decoration-color: #008080\"> 192  </span>│<span style=\"color: #800080; text-decoration-color: #800080\"> 5128  </span>│<span style=\"color: #008000; text-decoration-color: #008000\"> Fal… </span>│<span style=\"color: #008080; text-decoration-color: #008080\"> None </span>│<span style=\"color: #800080; text-decoration-color: #800080\">  55   </span>│<span style=\"color: #008000; text-decoration-color: #008000\">  15  </span>│                  \n",
       "           └──────┴────┴──────┴──────┴───────┴──────┴──────┴───────┴──────┘                  \n",
       "</pre>\n"
      ],
      "text/plain": [
       "\u001b[2;36m          \u001b[0m\u001b[2;36m \u001b[0m\u001b[3m                        Pod Description                         \u001b[0m \u001b]8;id=549701;file:///tmp/ipykernel_152833/1843420858.py\u001b\\\u001b[2m1843420858.py\u001b[0m\u001b]8;;\u001b\\\u001b[2m:\u001b[0m\u001b]8;id=357522;file:///tmp/ipykernel_152833/1843420858.py#267\u001b\\\u001b[2m267\u001b[0m\u001b]8;;\u001b\\\n",
       "           ┏━━━━━━┳━━━━┳━━━━━━┳━━━━━━┳━━━━━━━┳━━━━━━┳━━━━━━┳━━━━━━━┳━━━━━━┓                  \n",
       "           ┃\u001b[1m \u001b[0m\u001b[1mName\u001b[0m\u001b[1m \u001b[0m┃\u001b[1m \u001b[0m\u001b[1mID\u001b[0m\u001b[1m \u001b[0m┃\u001b[1m \u001b[0m\u001b[1mNode\u001b[0m\u001b[1m \u001b[0m┃\u001b[1m \u001b[0m\u001b[1mMem…\u001b[0m\u001b[1m \u001b[0m┃\u001b[1m \u001b[0m\u001b[1m CPU \u001b[0m\u001b[1m \u001b[0m┃\u001b[1m \u001b[0m\u001b[1mBind\u001b[0m\u001b[1m \u001b[0m┃\u001b[1m \u001b[0m\u001b[1mPort\u001b[0m\u001b[1m \u001b[0m┃\u001b[1m \u001b[0m\u001b[1mArri…\u001b[0m\u001b[1m \u001b[0m┃\u001b[1m \u001b[0m\u001b[1mSer…\u001b[0m\u001b[1m \u001b[0m┃                  \n",
       "           ┃      ┃    ┃\u001b[1m \u001b[0m\u001b[1mAss…\u001b[0m\u001b[1m \u001b[0m┃\u001b[1m \u001b[0m\u001b[1mReq \u001b[0m\u001b[1m \u001b[0m┃\u001b[1m \u001b[0m\u001b[1m Req \u001b[0m\u001b[1m \u001b[0m┃      ┃      ┃\u001b[1m \u001b[0m\u001b[1mTime \u001b[0m\u001b[1m \u001b[0m┃\u001b[1m \u001b[0m\u001b[1mTime\u001b[0m\u001b[1m \u001b[0m┃                  \n",
       "           ┡━━━━━━╇━━━━╇━━━━━━╇━━━━━━╇━━━━━━━╇━━━━━━╇━━━━━━╇━━━━━━━╇━━━━━━┩                  \n",
       "           │\u001b[36m \u001b[0m\u001b[36mFro…\u001b[0m\u001b[36m \u001b[0m│\u001b[35m \u001b[0m\u001b[35m0 \u001b[0m\u001b[35m \u001b[0m│\u001b[32m \u001b[0m\u001b[32m n2 \u001b[0m\u001b[32m \u001b[0m│\u001b[36m \u001b[0m\u001b[36m 64 \u001b[0m\u001b[36m \u001b[0m│\u001b[35m \u001b[0m\u001b[35m 120 \u001b[0m\u001b[35m \u001b[0m│\u001b[32m \u001b[0m\u001b[32mTrue\u001b[0m\u001b[32m \u001b[0m│\u001b[36m \u001b[0m\u001b[36m 90 \u001b[0m\u001b[36m \u001b[0m│\u001b[35m \u001b[0m\u001b[35m 35  \u001b[0m\u001b[35m \u001b[0m│\u001b[32m \u001b[0m\u001b[32m165 \u001b[0m\u001b[32m \u001b[0m│                  \n",
       "           │\u001b[36m \u001b[0m\u001b[36mPod1\u001b[0m\u001b[36m \u001b[0m│\u001b[35m \u001b[0m\u001b[35m1 \u001b[0m\u001b[35m \u001b[0m│\u001b[32m \u001b[0m\u001b[32m n4 \u001b[0m\u001b[32m \u001b[0m│\u001b[36m \u001b[0m\u001b[36m 64 \u001b[0m\u001b[36m \u001b[0m│\u001b[35m \u001b[0m\u001b[35m 128 \u001b[0m\u001b[35m \u001b[0m│\u001b[32m \u001b[0m\u001b[32mTrue\u001b[0m\u001b[32m \u001b[0m│\u001b[36m \u001b[0m\u001b[36m 80 \u001b[0m\u001b[36m \u001b[0m│\u001b[35m \u001b[0m\u001b[35m 40  \u001b[0m\u001b[35m \u001b[0m│\u001b[32m \u001b[0m\u001b[32m 15 \u001b[0m\u001b[32m \u001b[0m│                  \n",
       "           │\u001b[36m \u001b[0m\u001b[36mPod2\u001b[0m\u001b[36m \u001b[0m│\u001b[35m \u001b[0m\u001b[35m2 \u001b[0m\u001b[35m \u001b[0m│\u001b[32m \u001b[0m\u001b[32m    \u001b[0m\u001b[32m \u001b[0m│\u001b[36m \u001b[0m\u001b[36m128 \u001b[0m\u001b[36m \u001b[0m│\u001b[35m \u001b[0m\u001b[35m 378 \u001b[0m\u001b[35m \u001b[0m│\u001b[32m \u001b[0m\u001b[32mFal…\u001b[0m\u001b[32m \u001b[0m│\u001b[36m \u001b[0m\u001b[36m 80 \u001b[0m\u001b[36m \u001b[0m│\u001b[35m \u001b[0m\u001b[35m 45  \u001b[0m\u001b[35m \u001b[0m│\u001b[32m \u001b[0m\u001b[32m 15 \u001b[0m\u001b[32m \u001b[0m│                  \n",
       "           │\u001b[36m \u001b[0m\u001b[36mPod3\u001b[0m\u001b[36m \u001b[0m│\u001b[35m \u001b[0m\u001b[35m3 \u001b[0m\u001b[35m \u001b[0m│\u001b[32m \u001b[0m\u001b[32m n4 \u001b[0m\u001b[32m \u001b[0m│\u001b[36m \u001b[0m\u001b[36m192 \u001b[0m\u001b[36m \u001b[0m│\u001b[35m \u001b[0m\u001b[35m 628 \u001b[0m\u001b[35m \u001b[0m│\u001b[32m \u001b[0m\u001b[32mTrue\u001b[0m\u001b[32m \u001b[0m│\u001b[36m \u001b[0m\u001b[36m5000\u001b[0m\u001b[36m \u001b[0m│\u001b[35m \u001b[0m\u001b[35m 50  \u001b[0m\u001b[35m \u001b[0m│\u001b[32m \u001b[0m\u001b[32m 15 \u001b[0m\u001b[32m \u001b[0m│                  \n",
       "           │\u001b[36m \u001b[0m\u001b[36mPod4\u001b[0m\u001b[36m \u001b[0m│\u001b[35m \u001b[0m\u001b[35m4 \u001b[0m\u001b[35m \u001b[0m│\u001b[32m \u001b[0m\u001b[32m    \u001b[0m\u001b[32m \u001b[0m│\u001b[36m \u001b[0m\u001b[36m192 \u001b[0m\u001b[36m \u001b[0m│\u001b[35m \u001b[0m\u001b[35m5128 \u001b[0m\u001b[35m \u001b[0m│\u001b[32m \u001b[0m\u001b[32mFal…\u001b[0m\u001b[32m \u001b[0m│\u001b[36m \u001b[0m\u001b[36mNone\u001b[0m\u001b[36m \u001b[0m│\u001b[35m \u001b[0m\u001b[35m 55  \u001b[0m\u001b[35m \u001b[0m│\u001b[32m \u001b[0m\u001b[32m 15 \u001b[0m\u001b[32m \u001b[0m│                  \n",
       "           └──────┴────┴──────┴──────┴───────┴──────┴──────┴───────┴──────┘                  \n"
      ]
     },
     "metadata": {},
     "output_type": "display_data"
    },
    {
     "data": {
      "text/html": [
       "<pre style=\"white-space:pre;overflow-x:auto;line-height:normal;font-family:Menlo,'DejaVu Sans Mono',consolas,'Courier New',monospace\"><span style=\"color: #7fbfbf; text-decoration-color: #7fbfbf\">           </span><span style=\"color: #800000; text-decoration-color: #800000; font-weight: bold\">                                                                </span> <a href=\"file:///tmp/ipykernel_152833/1843420858.py\"><span style=\"color: #7f7f7f; text-decoration-color: #7f7f7f\">1843420858.py</span></a><span style=\"color: #7f7f7f; text-decoration-color: #7f7f7f\">:</span><a href=\"file:///tmp/ipykernel_152833/1843420858.py#228\"><span style=\"color: #7f7f7f; text-decoration-color: #7f7f7f\">228</span></a>\n",
       "           <span style=\"color: #800000; text-decoration-color: #800000; font-weight: bold\">===&gt; Can't Remove Pod4 because it's not bind                    </span>                  \n",
       "</pre>\n"
      ],
      "text/plain": [
       "\u001b[2;36m          \u001b[0m\u001b[2;36m \u001b[0m\u001b[1;31m                                                                \u001b[0m \u001b]8;id=74778;file:///tmp/ipykernel_152833/1843420858.py\u001b\\\u001b[2m1843420858.py\u001b[0m\u001b]8;;\u001b\\\u001b[2m:\u001b[0m\u001b]8;id=230702;file:///tmp/ipykernel_152833/1843420858.py#228\u001b\\\u001b[2m228\u001b[0m\u001b]8;;\u001b\\\n",
       "           \u001b[1;31m===> Can't Remove Pod4 because it's not bind                    \u001b[0m                  \n"
      ]
     },
     "metadata": {},
     "output_type": "display_data"
    },
    {
     "data": {
      "text/html": [
       "<pre style=\"white-space:pre;overflow-x:auto;line-height:normal;font-family:Menlo,'DejaVu Sans Mono',consolas,'Courier New',monospace\"><span style=\"color: #7fbfbf; text-decoration-color: #7fbfbf\">           </span>---&gt; Pod4 again entered the queue at <span style=\"color: #008080; text-decoration-color: #008080; font-weight: bold\">100</span> seconds <span style=\"font-weight: bold\">[</span>Retry # <span style=\"color: #008080; text-decoration-color: #008080; font-weight: bold\">1</span><span style=\"font-weight: bold\">]</span>     <a href=\"file:///tmp/ipykernel_152833/1843420858.py\"><span style=\"color: #7f7f7f; text-decoration-color: #7f7f7f\">1843420858.py</span></a><span style=\"color: #7f7f7f; text-decoration-color: #7f7f7f\">:</span><a href=\"file:///tmp/ipykernel_152833/1843420858.py#238\"><span style=\"color: #7f7f7f; text-decoration-color: #7f7f7f\">238</span></a>\n",
       "</pre>\n"
      ],
      "text/plain": [
       "\u001b[2;36m          \u001b[0m\u001b[2;36m \u001b[0m---> Pod4 again entered the queue at \u001b[1;36m100\u001b[0m seconds \u001b[1m[\u001b[0mRetry # \u001b[1;36m1\u001b[0m\u001b[1m]\u001b[0m     \u001b]8;id=890404;file:///tmp/ipykernel_152833/1843420858.py\u001b\\\u001b[2m1843420858.py\u001b[0m\u001b]8;;\u001b\\\u001b[2m:\u001b[0m\u001b]8;id=37863;file:///tmp/ipykernel_152833/1843420858.py#238\u001b\\\u001b[2m238\u001b[0m\u001b]8;;\u001b\\\n"
      ]
     },
     "metadata": {},
     "output_type": "display_data"
    },
    {
     "data": {
      "text/html": [
       "<pre style=\"white-space:pre;overflow-x:auto;line-height:normal;font-family:Menlo,'DejaVu Sans Mono',consolas,'Courier New',monospace\"><span style=\"color: #7fbfbf; text-decoration-color: #7fbfbf\">           </span><span style=\"color: #800000; text-decoration-color: #800000; font-weight: bold\">                                                                </span> <a href=\"file:///tmp/ipykernel_152833/1843420858.py\"><span style=\"color: #7f7f7f; text-decoration-color: #7f7f7f\">1843420858.py</span></a><span style=\"color: #7f7f7f; text-decoration-color: #7f7f7f\">:</span><a href=\"file:///tmp/ipykernel_152833/1843420858.py#219\"><span style=\"color: #7f7f7f; text-decoration-color: #7f7f7f\">219</span></a>\n",
       "           <span style=\"color: #800000; text-decoration-color: #800000; font-weight: bold\">===&gt; Removing Pod3 ⌛ Simulation Time: </span><span style=\"color: #008080; text-decoration-color: #008080; font-weight: bold\">105</span><span style=\"color: #800000; text-decoration-color: #800000; font-weight: bold\"> seconds              </span>                  \n",
       "</pre>\n"
      ],
      "text/plain": [
       "\u001b[2;36m          \u001b[0m\u001b[2;36m \u001b[0m\u001b[1;31m                                                                \u001b[0m \u001b]8;id=300719;file:///tmp/ipykernel_152833/1843420858.py\u001b\\\u001b[2m1843420858.py\u001b[0m\u001b]8;;\u001b\\\u001b[2m:\u001b[0m\u001b]8;id=208437;file:///tmp/ipykernel_152833/1843420858.py#219\u001b\\\u001b[2m219\u001b[0m\u001b]8;;\u001b\\\n",
       "           \u001b[1;31m===> Removing Pod3 ⌛ Simulation Time: \u001b[0m\u001b[1;36m105\u001b[0m\u001b[1;31m seconds              \u001b[0m                  \n"
      ]
     },
     "metadata": {},
     "output_type": "display_data"
    },
    {
     "data": {
      "text/html": [
       "<pre style=\"white-space:pre;overflow-x:auto;line-height:normal;font-family:Menlo,'DejaVu Sans Mono',consolas,'Courier New',monospace\"><span style=\"color: #7fbfbf; text-decoration-color: #7fbfbf\">           </span><span style=\"color: #008000; text-decoration-color: #008000; font-weight: bold\">                                                                </span> <a href=\"file:///tmp/ipykernel_152833/1843420858.py\"><span style=\"color: #7f7f7f; text-decoration-color: #7f7f7f\">1843420858.py</span></a><span style=\"color: #7f7f7f; text-decoration-color: #7f7f7f\">:</span><a href=\"file:///tmp/ipykernel_152833/1843420858.py#249\"><span style=\"color: #7f7f7f; text-decoration-color: #7f7f7f\">249</span></a>\n",
       "           <span style=\"color: #008000; text-decoration-color: #008000; font-weight: bold\">---&gt; Run Kubescheduler for Pod5                                 </span>                  \n",
       "           <span style=\"color: #008000; text-decoration-color: #008000; font-weight: bold\">                                                                </span>                  \n",
       "</pre>\n"
      ],
      "text/plain": [
       "\u001b[2;36m          \u001b[0m\u001b[2;36m \u001b[0m\u001b[1;32m                                                                \u001b[0m \u001b]8;id=768405;file:///tmp/ipykernel_152833/1843420858.py\u001b\\\u001b[2m1843420858.py\u001b[0m\u001b]8;;\u001b\\\u001b[2m:\u001b[0m\u001b]8;id=396246;file:///tmp/ipykernel_152833/1843420858.py#249\u001b\\\u001b[2m249\u001b[0m\u001b]8;;\u001b\\\n",
       "           \u001b[1;32m---> Run Kubescheduler for Pod5                                 \u001b[0m                  \n",
       "           \u001b[1;32m                                                                \u001b[0m                  \n"
      ]
     },
     "metadata": {},
     "output_type": "display_data"
    },
    {
     "data": {
      "text/html": [
       "<pre style=\"white-space:pre;overflow-x:auto;line-height:normal;font-family:Menlo,'DejaVu Sans Mono',consolas,'Courier New',monospace\"><span style=\"color: #7fbfbf; text-decoration-color: #7fbfbf\">           </span><span style=\"color: #008080; text-decoration-color: #008080\">👎 PodFitsResources ---&gt; n1                                      </span> <a href=\"file:///tmp/ipykernel_152833/1323010361.py\"><span style=\"color: #7f7f7f; text-decoration-color: #7f7f7f\">1323010361.py</span></a><span style=\"color: #7f7f7f; text-decoration-color: #7f7f7f\">:</span><a href=\"file:///tmp/ipykernel_152833/1323010361.py#67\"><span style=\"color: #7f7f7f; text-decoration-color: #7f7f7f\">67</span></a>\n",
       "</pre>\n"
      ],
      "text/plain": [
       "\u001b[2;36m          \u001b[0m\u001b[2;36m \u001b[0m\u001b[36m👎 PodFitsResources ---> n1                                      \u001b[0m \u001b]8;id=300334;file:///tmp/ipykernel_152833/1323010361.py\u001b\\\u001b[2m1323010361.py\u001b[0m\u001b]8;;\u001b\\\u001b[2m:\u001b[0m\u001b]8;id=721308;file:///tmp/ipykernel_152833/1323010361.py#67\u001b\\\u001b[2m67\u001b[0m\u001b]8;;\u001b\\\n"
      ]
     },
     "metadata": {},
     "output_type": "display_data"
    },
    {
     "data": {
      "text/html": [
       "<pre style=\"white-space:pre;overflow-x:auto;line-height:normal;font-family:Menlo,'DejaVu Sans Mono',consolas,'Courier New',monospace\"><span style=\"color: #7fbfbf; text-decoration-color: #7fbfbf\">           </span><span style=\"color: #008080; text-decoration-color: #008080\">↙  Least used node ---&gt; n1                                        </span> <a href=\"file:///tmp/ipykernel_152833/380400395.py\"><span style=\"color: #7f7f7f; text-decoration-color: #7f7f7f\">380400395.py</span></a><span style=\"color: #7f7f7f; text-decoration-color: #7f7f7f\">:</span><a href=\"file:///tmp/ipykernel_152833/380400395.py#49\"><span style=\"color: #7f7f7f; text-decoration-color: #7f7f7f\">49</span></a>\n",
       "</pre>\n"
      ],
      "text/plain": [
       "\u001b[2;36m          \u001b[0m\u001b[2;36m \u001b[0m\u001b[36m↙  Least used node ---> n1                                        \u001b[0m \u001b]8;id=981060;file:///tmp/ipykernel_152833/380400395.py\u001b\\\u001b[2m380400395.py\u001b[0m\u001b]8;;\u001b\\\u001b[2m:\u001b[0m\u001b]8;id=467229;file:///tmp/ipykernel_152833/380400395.py#49\u001b\\\u001b[2m49\u001b[0m\u001b]8;;\u001b\\\n"
      ]
     },
     "metadata": {},
     "output_type": "display_data"
    },
    {
     "data": {
      "text/html": [
       "<pre style=\"white-space:pre;overflow-x:auto;line-height:normal;font-family:Menlo,'DejaVu Sans Mono',consolas,'Courier New',monospace\"><span style=\"color: #7fbfbf; text-decoration-color: #7fbfbf\">           </span><span style=\"color: #008080; text-decoration-color: #008080\">👎 PodFitsResources ---&gt; n2                                      </span> <a href=\"file:///tmp/ipykernel_152833/1323010361.py\"><span style=\"color: #7f7f7f; text-decoration-color: #7f7f7f\">1323010361.py</span></a><span style=\"color: #7f7f7f; text-decoration-color: #7f7f7f\">:</span><a href=\"file:///tmp/ipykernel_152833/1323010361.py#67\"><span style=\"color: #7f7f7f; text-decoration-color: #7f7f7f\">67</span></a>\n",
       "</pre>\n"
      ],
      "text/plain": [
       "\u001b[2;36m          \u001b[0m\u001b[2;36m \u001b[0m\u001b[36m👎 PodFitsResources ---> n2                                      \u001b[0m \u001b]8;id=653147;file:///tmp/ipykernel_152833/1323010361.py\u001b\\\u001b[2m1323010361.py\u001b[0m\u001b]8;;\u001b\\\u001b[2m:\u001b[0m\u001b]8;id=99325;file:///tmp/ipykernel_152833/1323010361.py#67\u001b\\\u001b[2m67\u001b[0m\u001b]8;;\u001b\\\n"
      ]
     },
     "metadata": {},
     "output_type": "display_data"
    },
    {
     "data": {
      "text/html": [
       "<pre style=\"white-space:pre;overflow-x:auto;line-height:normal;font-family:Menlo,'DejaVu Sans Mono',consolas,'Courier New',monospace\"><span style=\"color: #7fbfbf; text-decoration-color: #7fbfbf\">           </span><span style=\"color: #008080; text-decoration-color: #008080\">💿 Image locality Found ---&gt; n2                                  </span> <a href=\"file:///tmp/ipykernel_152833/380400395.py\"><span style=\"color: #7f7f7f; text-decoration-color: #7f7f7f\">380400395.py</span></a><span style=\"color: #7f7f7f; text-decoration-color: #7f7f7f\">:</span><a href=\"file:///tmp/ipykernel_152833/380400395.py#133\"><span style=\"color: #7f7f7f; text-decoration-color: #7f7f7f\">133</span></a>\n",
       "</pre>\n"
      ],
      "text/plain": [
       "\u001b[2;36m          \u001b[0m\u001b[2;36m \u001b[0m\u001b[36m💿 Image locality Found ---> n2                                  \u001b[0m \u001b]8;id=761798;file:///tmp/ipykernel_152833/380400395.py\u001b\\\u001b[2m380400395.py\u001b[0m\u001b]8;;\u001b\\\u001b[2m:\u001b[0m\u001b]8;id=56114;file:///tmp/ipykernel_152833/380400395.py#133\u001b\\\u001b[2m133\u001b[0m\u001b]8;;\u001b\\\n"
      ]
     },
     "metadata": {},
     "output_type": "display_data"
    },
    {
     "data": {
      "text/html": [
       "<pre style=\"white-space:pre;overflow-x:auto;line-height:normal;font-family:Menlo,'DejaVu Sans Mono',consolas,'Courier New',monospace\"><span style=\"color: #7fbfbf; text-decoration-color: #7fbfbf\">           </span><span style=\"color: #008080; text-decoration-color: #008080\">👎 PodFitsResources ---&gt; n3                                      </span> <a href=\"file:///tmp/ipykernel_152833/1323010361.py\"><span style=\"color: #7f7f7f; text-decoration-color: #7f7f7f\">1323010361.py</span></a><span style=\"color: #7f7f7f; text-decoration-color: #7f7f7f\">:</span><a href=\"file:///tmp/ipykernel_152833/1323010361.py#67\"><span style=\"color: #7f7f7f; text-decoration-color: #7f7f7f\">67</span></a>\n",
       "</pre>\n"
      ],
      "text/plain": [
       "\u001b[2;36m          \u001b[0m\u001b[2;36m \u001b[0m\u001b[36m👎 PodFitsResources ---> n3                                      \u001b[0m \u001b]8;id=603980;file:///tmp/ipykernel_152833/1323010361.py\u001b\\\u001b[2m1323010361.py\u001b[0m\u001b]8;;\u001b\\\u001b[2m:\u001b[0m\u001b]8;id=646514;file:///tmp/ipykernel_152833/1323010361.py#67\u001b\\\u001b[2m67\u001b[0m\u001b]8;;\u001b\\\n"
      ]
     },
     "metadata": {},
     "output_type": "display_data"
    },
    {
     "data": {
      "text/html": [
       "<pre style=\"white-space:pre;overflow-x:auto;line-height:normal;font-family:Menlo,'DejaVu Sans Mono',consolas,'Courier New',monospace\"><span style=\"color: #7fbfbf; text-decoration-color: #7fbfbf\">           </span><span style=\"color: #008080; text-decoration-color: #008080\">👍 PodFitsResources ---&gt; n4                                      </span> <a href=\"file:///tmp/ipykernel_152833/1323010361.py\"><span style=\"color: #7f7f7f; text-decoration-color: #7f7f7f\">1323010361.py</span></a><span style=\"color: #7f7f7f; text-decoration-color: #7f7f7f\">:</span><a href=\"file:///tmp/ipykernel_152833/1323010361.py#62\"><span style=\"color: #7f7f7f; text-decoration-color: #7f7f7f\">62</span></a>\n",
       "</pre>\n"
      ],
      "text/plain": [
       "\u001b[2;36m          \u001b[0m\u001b[2;36m \u001b[0m\u001b[36m👍 PodFitsResources ---> n4                                      \u001b[0m \u001b]8;id=394333;file:///tmp/ipykernel_152833/1323010361.py\u001b\\\u001b[2m1323010361.py\u001b[0m\u001b]8;;\u001b\\\u001b[2m:\u001b[0m\u001b]8;id=486652;file:///tmp/ipykernel_152833/1323010361.py#62\u001b\\\u001b[2m62\u001b[0m\u001b]8;;\u001b\\\n"
      ]
     },
     "metadata": {},
     "output_type": "display_data"
    },
    {
     "data": {
      "text/html": [
       "<pre style=\"white-space:pre;overflow-x:auto;line-height:normal;font-family:Menlo,'DejaVu Sans Mono',consolas,'Courier New',monospace\"><span style=\"color: #7fbfbf; text-decoration-color: #7fbfbf\">           </span><span style=\"color: #008080; text-decoration-color: #008080\">👎 MatchNodeSelector ---&gt; n4                                     </span> <a href=\"file:///tmp/ipykernel_152833/1323010361.py\"><span style=\"color: #7f7f7f; text-decoration-color: #7f7f7f\">1323010361.py</span></a><span style=\"color: #7f7f7f; text-decoration-color: #7f7f7f\">:</span><a href=\"file:///tmp/ipykernel_152833/1323010361.py#67\"><span style=\"color: #7f7f7f; text-decoration-color: #7f7f7f\">67</span></a>\n",
       "</pre>\n"
      ],
      "text/plain": [
       "\u001b[2;36m          \u001b[0m\u001b[2;36m \u001b[0m\u001b[36m👎 MatchNodeSelector ---> n4                                     \u001b[0m \u001b]8;id=881479;file:///tmp/ipykernel_152833/1323010361.py\u001b\\\u001b[2m1323010361.py\u001b[0m\u001b]8;;\u001b\\\u001b[2m:\u001b[0m\u001b]8;id=820367;file:///tmp/ipykernel_152833/1323010361.py#67\u001b\\\u001b[2m67\u001b[0m\u001b]8;;\u001b\\\n"
      ]
     },
     "metadata": {},
     "output_type": "display_data"
    },
    {
     "data": {
      "text/html": [
       "<pre style=\"white-space:pre;overflow-x:auto;line-height:normal;font-family:Menlo,'DejaVu Sans Mono',consolas,'Courier New',monospace\"><span style=\"color: #7fbfbf; text-decoration-color: #7fbfbf\">           </span><span style=\"color: #008080; text-decoration-color: #008080\">👍 PodFitsResources ---&gt; n5                                      </span> <a href=\"file:///tmp/ipykernel_152833/1323010361.py\"><span style=\"color: #7f7f7f; text-decoration-color: #7f7f7f\">1323010361.py</span></a><span style=\"color: #7f7f7f; text-decoration-color: #7f7f7f\">:</span><a href=\"file:///tmp/ipykernel_152833/1323010361.py#62\"><span style=\"color: #7f7f7f; text-decoration-color: #7f7f7f\">62</span></a>\n",
       "</pre>\n"
      ],
      "text/plain": [
       "\u001b[2;36m          \u001b[0m\u001b[2;36m \u001b[0m\u001b[36m👍 PodFitsResources ---> n5                                      \u001b[0m \u001b]8;id=840412;file:///tmp/ipykernel_152833/1323010361.py\u001b\\\u001b[2m1323010361.py\u001b[0m\u001b]8;;\u001b\\\u001b[2m:\u001b[0m\u001b]8;id=665023;file:///tmp/ipykernel_152833/1323010361.py#62\u001b\\\u001b[2m62\u001b[0m\u001b]8;;\u001b\\\n"
      ]
     },
     "metadata": {},
     "output_type": "display_data"
    },
    {
     "data": {
      "text/html": [
       "<pre style=\"white-space:pre;overflow-x:auto;line-height:normal;font-family:Menlo,'DejaVu Sans Mono',consolas,'Courier New',monospace\"><span style=\"color: #7fbfbf; text-decoration-color: #7fbfbf\">           </span><span style=\"color: #008080; text-decoration-color: #008080\">👍 MatchNodeSelector ---&gt; n5                                     </span> <a href=\"file:///tmp/ipykernel_152833/1323010361.py\"><span style=\"color: #7f7f7f; text-decoration-color: #7f7f7f\">1323010361.py</span></a><span style=\"color: #7f7f7f; text-decoration-color: #7f7f7f\">:</span><a href=\"file:///tmp/ipykernel_152833/1323010361.py#62\"><span style=\"color: #7f7f7f; text-decoration-color: #7f7f7f\">62</span></a>\n",
       "</pre>\n"
      ],
      "text/plain": [
       "\u001b[2;36m          \u001b[0m\u001b[2;36m \u001b[0m\u001b[36m👍 MatchNodeSelector ---> n5                                     \u001b[0m \u001b]8;id=218937;file:///tmp/ipykernel_152833/1323010361.py\u001b\\\u001b[2m1323010361.py\u001b[0m\u001b]8;;\u001b\\\u001b[2m:\u001b[0m\u001b]8;id=204630;file:///tmp/ipykernel_152833/1323010361.py#62\u001b\\\u001b[2m62\u001b[0m\u001b]8;;\u001b\\\n"
      ]
     },
     "metadata": {},
     "output_type": "display_data"
    },
    {
     "data": {
      "text/html": [
       "<pre style=\"white-space:pre;overflow-x:auto;line-height:normal;font-family:Menlo,'DejaVu Sans Mono',consolas,'Courier New',monospace\"><span style=\"color: #7fbfbf; text-decoration-color: #7fbfbf\">           </span><span style=\"color: #008080; text-decoration-color: #008080\">👍 PodFitsResources ---&gt; n6                                      </span> <a href=\"file:///tmp/ipykernel_152833/1323010361.py\"><span style=\"color: #7f7f7f; text-decoration-color: #7f7f7f\">1323010361.py</span></a><span style=\"color: #7f7f7f; text-decoration-color: #7f7f7f\">:</span><a href=\"file:///tmp/ipykernel_152833/1323010361.py#62\"><span style=\"color: #7f7f7f; text-decoration-color: #7f7f7f\">62</span></a>\n",
       "</pre>\n"
      ],
      "text/plain": [
       "\u001b[2;36m          \u001b[0m\u001b[2;36m \u001b[0m\u001b[36m👍 PodFitsResources ---> n6                                      \u001b[0m \u001b]8;id=971779;file:///tmp/ipykernel_152833/1323010361.py\u001b\\\u001b[2m1323010361.py\u001b[0m\u001b]8;;\u001b\\\u001b[2m:\u001b[0m\u001b]8;id=286653;file:///tmp/ipykernel_152833/1323010361.py#62\u001b\\\u001b[2m62\u001b[0m\u001b]8;;\u001b\\\n"
      ]
     },
     "metadata": {},
     "output_type": "display_data"
    },
    {
     "data": {
      "text/html": [
       "<pre style=\"white-space:pre;overflow-x:auto;line-height:normal;font-family:Menlo,'DejaVu Sans Mono',consolas,'Courier New',monospace\"><span style=\"color: #7fbfbf; text-decoration-color: #7fbfbf\">           </span><span style=\"color: #008080; text-decoration-color: #008080\">👎 MatchNodeSelector ---&gt; n6                                     </span> <a href=\"file:///tmp/ipykernel_152833/1323010361.py\"><span style=\"color: #7f7f7f; text-decoration-color: #7f7f7f\">1323010361.py</span></a><span style=\"color: #7f7f7f; text-decoration-color: #7f7f7f\">:</span><a href=\"file:///tmp/ipykernel_152833/1323010361.py#67\"><span style=\"color: #7f7f7f; text-decoration-color: #7f7f7f\">67</span></a>\n",
       "</pre>\n"
      ],
      "text/plain": [
       "\u001b[2;36m          \u001b[0m\u001b[2;36m \u001b[0m\u001b[36m👎 MatchNodeSelector ---> n6                                     \u001b[0m \u001b]8;id=876491;file:///tmp/ipykernel_152833/1323010361.py\u001b\\\u001b[2m1323010361.py\u001b[0m\u001b]8;;\u001b\\\u001b[2m:\u001b[0m\u001b]8;id=71644;file:///tmp/ipykernel_152833/1323010361.py#67\u001b\\\u001b[2m67\u001b[0m\u001b]8;;\u001b\\\n"
      ]
     },
     "metadata": {},
     "output_type": "display_data"
    },
    {
     "data": {
      "text/html": [
       "<pre style=\"white-space:pre;overflow-x:auto;line-height:normal;font-family:Menlo,'DejaVu Sans Mono',consolas,'Courier New',monospace\"><span style=\"color: #7fbfbf; text-decoration-color: #7fbfbf\">           </span><span style=\"color: #008000; text-decoration-color: #008000; font-weight: bold\">                                                                 </span> <a href=\"file:///tmp/ipykernel_152833/1323010361.py\"><span style=\"color: #7f7f7f; text-decoration-color: #7f7f7f\">1323010361.py</span></a><span style=\"color: #7f7f7f; text-decoration-color: #7f7f7f\">:</span><a href=\"file:///tmp/ipykernel_152833/1323010361.py#98\"><span style=\"color: #7f7f7f; text-decoration-color: #7f7f7f\">98</span></a>\n",
       "           <span style=\"color: #008000; text-decoration-color: #008000; font-weight: bold\">---&gt; Selected node = n5 ⌛ Simulation Time: </span><span style=\"color: #008080; text-decoration-color: #008080; font-weight: bold\">105</span><span style=\"color: #008000; text-decoration-color: #008000; font-weight: bold\"> seconds          </span>                 \n",
       "           <span style=\"color: #008000; text-decoration-color: #008000; font-weight: bold\">                                                                 </span>                 \n",
       "</pre>\n"
      ],
      "text/plain": [
       "\u001b[2;36m          \u001b[0m\u001b[2;36m \u001b[0m\u001b[1;32m                                                                 \u001b[0m \u001b]8;id=163447;file:///tmp/ipykernel_152833/1323010361.py\u001b\\\u001b[2m1323010361.py\u001b[0m\u001b]8;;\u001b\\\u001b[2m:\u001b[0m\u001b]8;id=689296;file:///tmp/ipykernel_152833/1323010361.py#98\u001b\\\u001b[2m98\u001b[0m\u001b]8;;\u001b\\\n",
       "           \u001b[1;32m---> Selected node = n5 ⌛ Simulation Time: \u001b[0m\u001b[1;36m105\u001b[0m\u001b[1;32m seconds          \u001b[0m                 \n",
       "           \u001b[1;32m                                                                 \u001b[0m                 \n"
      ]
     },
     "metadata": {},
     "output_type": "display_data"
    },
    {
     "data": {
      "text/html": [
       "<pre style=\"white-space:pre;overflow-x:auto;line-height:normal;font-family:Menlo,'DejaVu Sans Mono',consolas,'Courier New',monospace\"><span style=\"color: #7fbfbf; text-decoration-color: #7fbfbf\">           </span><span style=\"font-style: italic\">                        Pod Description                         </span> <a href=\"file:///tmp/ipykernel_152833/1843420858.py\"><span style=\"color: #7f7f7f; text-decoration-color: #7f7f7f\">1843420858.py</span></a><span style=\"color: #7f7f7f; text-decoration-color: #7f7f7f\">:</span><a href=\"file:///tmp/ipykernel_152833/1843420858.py#267\"><span style=\"color: #7f7f7f; text-decoration-color: #7f7f7f\">267</span></a>\n",
       "           ┏━━━━━━┳━━━━┳━━━━━━┳━━━━━━┳━━━━━━━┳━━━━━━┳━━━━━━┳━━━━━━━┳━━━━━━┓                  \n",
       "           ┃<span style=\"font-weight: bold\"> Name </span>┃<span style=\"font-weight: bold\"> ID </span>┃<span style=\"font-weight: bold\"> Node </span>┃<span style=\"font-weight: bold\"> Mem… </span>┃<span style=\"font-weight: bold\">  CPU  </span>┃<span style=\"font-weight: bold\"> Bind </span>┃<span style=\"font-weight: bold\"> Port </span>┃<span style=\"font-weight: bold\"> Arri… </span>┃<span style=\"font-weight: bold\"> Ser… </span>┃                  \n",
       "           ┃      ┃    ┃<span style=\"font-weight: bold\"> Ass… </span>┃<span style=\"font-weight: bold\"> Req  </span>┃<span style=\"font-weight: bold\">  Req  </span>┃      ┃      ┃<span style=\"font-weight: bold\"> Time  </span>┃<span style=\"font-weight: bold\"> Time </span>┃                  \n",
       "           ┡━━━━━━╇━━━━╇━━━━━━╇━━━━━━╇━━━━━━━╇━━━━━━╇━━━━━━╇━━━━━━━╇━━━━━━┩                  \n",
       "           │<span style=\"color: #008080; text-decoration-color: #008080\"> Fro… </span>│<span style=\"color: #800080; text-decoration-color: #800080\"> 0  </span>│<span style=\"color: #008000; text-decoration-color: #008000\">  n2  </span>│<span style=\"color: #008080; text-decoration-color: #008080\">  64  </span>│<span style=\"color: #800080; text-decoration-color: #800080\">  120  </span>│<span style=\"color: #008000; text-decoration-color: #008000\"> True </span>│<span style=\"color: #008080; text-decoration-color: #008080\">  90  </span>│<span style=\"color: #800080; text-decoration-color: #800080\">  35   </span>│<span style=\"color: #008000; text-decoration-color: #008000\"> 165  </span>│                  \n",
       "           │<span style=\"color: #008080; text-decoration-color: #008080\"> Pod1 </span>│<span style=\"color: #800080; text-decoration-color: #800080\"> 1  </span>│<span style=\"color: #008000; text-decoration-color: #008000\">  n4  </span>│<span style=\"color: #008080; text-decoration-color: #008080\">  64  </span>│<span style=\"color: #800080; text-decoration-color: #800080\">  128  </span>│<span style=\"color: #008000; text-decoration-color: #008000\"> True </span>│<span style=\"color: #008080; text-decoration-color: #008080\">  80  </span>│<span style=\"color: #800080; text-decoration-color: #800080\">  40   </span>│<span style=\"color: #008000; text-decoration-color: #008000\">  15  </span>│                  \n",
       "           │<span style=\"color: #008080; text-decoration-color: #008080\"> Pod2 </span>│<span style=\"color: #800080; text-decoration-color: #800080\"> 2  </span>│<span style=\"color: #008000; text-decoration-color: #008000\">      </span>│<span style=\"color: #008080; text-decoration-color: #008080\"> 128  </span>│<span style=\"color: #800080; text-decoration-color: #800080\">  378  </span>│<span style=\"color: #008000; text-decoration-color: #008000\"> Fal… </span>│<span style=\"color: #008080; text-decoration-color: #008080\">  80  </span>│<span style=\"color: #800080; text-decoration-color: #800080\">  45   </span>│<span style=\"color: #008000; text-decoration-color: #008000\">  15  </span>│                  \n",
       "           │<span style=\"color: #008080; text-decoration-color: #008080\"> Pod3 </span>│<span style=\"color: #800080; text-decoration-color: #800080\"> 3  </span>│<span style=\"color: #008000; text-decoration-color: #008000\">  n4  </span>│<span style=\"color: #008080; text-decoration-color: #008080\"> 192  </span>│<span style=\"color: #800080; text-decoration-color: #800080\">  628  </span>│<span style=\"color: #008000; text-decoration-color: #008000\"> True </span>│<span style=\"color: #008080; text-decoration-color: #008080\"> 5000 </span>│<span style=\"color: #800080; text-decoration-color: #800080\">  50   </span>│<span style=\"color: #008000; text-decoration-color: #008000\">  15  </span>│                  \n",
       "           │<span style=\"color: #008080; text-decoration-color: #008080\"> Pod4 </span>│<span style=\"color: #800080; text-decoration-color: #800080\"> 4  </span>│<span style=\"color: #008000; text-decoration-color: #008000\">      </span>│<span style=\"color: #008080; text-decoration-color: #008080\"> 192  </span>│<span style=\"color: #800080; text-decoration-color: #800080\"> 5128  </span>│<span style=\"color: #008000; text-decoration-color: #008000\"> Fal… </span>│<span style=\"color: #008080; text-decoration-color: #008080\"> None </span>│<span style=\"color: #800080; text-decoration-color: #800080\">  55   </span>│<span style=\"color: #008000; text-decoration-color: #008000\">  15  </span>│                  \n",
       "           │<span style=\"color: #008080; text-decoration-color: #008080\"> Pod5 </span>│<span style=\"color: #800080; text-decoration-color: #800080\"> 5  </span>│<span style=\"color: #008000; text-decoration-color: #008000\">  n5  </span>│<span style=\"color: #008080; text-decoration-color: #008080\"> 192  </span>│<span style=\"color: #800080; text-decoration-color: #800080\">  700  </span>│<span style=\"color: #008000; text-decoration-color: #008000\"> True </span>│<span style=\"color: #008080; text-decoration-color: #008080\"> 2000 </span>│<span style=\"color: #800080; text-decoration-color: #800080\">  60   </span>│<span style=\"color: #008000; text-decoration-color: #008000\"> 155  </span>│                  \n",
       "           └──────┴────┴──────┴──────┴───────┴──────┴──────┴───────┴──────┘                  \n",
       "</pre>\n"
      ],
      "text/plain": [
       "\u001b[2;36m          \u001b[0m\u001b[2;36m \u001b[0m\u001b[3m                        Pod Description                         \u001b[0m \u001b]8;id=831225;file:///tmp/ipykernel_152833/1843420858.py\u001b\\\u001b[2m1843420858.py\u001b[0m\u001b]8;;\u001b\\\u001b[2m:\u001b[0m\u001b]8;id=139347;file:///tmp/ipykernel_152833/1843420858.py#267\u001b\\\u001b[2m267\u001b[0m\u001b]8;;\u001b\\\n",
       "           ┏━━━━━━┳━━━━┳━━━━━━┳━━━━━━┳━━━━━━━┳━━━━━━┳━━━━━━┳━━━━━━━┳━━━━━━┓                  \n",
       "           ┃\u001b[1m \u001b[0m\u001b[1mName\u001b[0m\u001b[1m \u001b[0m┃\u001b[1m \u001b[0m\u001b[1mID\u001b[0m\u001b[1m \u001b[0m┃\u001b[1m \u001b[0m\u001b[1mNode\u001b[0m\u001b[1m \u001b[0m┃\u001b[1m \u001b[0m\u001b[1mMem…\u001b[0m\u001b[1m \u001b[0m┃\u001b[1m \u001b[0m\u001b[1m CPU \u001b[0m\u001b[1m \u001b[0m┃\u001b[1m \u001b[0m\u001b[1mBind\u001b[0m\u001b[1m \u001b[0m┃\u001b[1m \u001b[0m\u001b[1mPort\u001b[0m\u001b[1m \u001b[0m┃\u001b[1m \u001b[0m\u001b[1mArri…\u001b[0m\u001b[1m \u001b[0m┃\u001b[1m \u001b[0m\u001b[1mSer…\u001b[0m\u001b[1m \u001b[0m┃                  \n",
       "           ┃      ┃    ┃\u001b[1m \u001b[0m\u001b[1mAss…\u001b[0m\u001b[1m \u001b[0m┃\u001b[1m \u001b[0m\u001b[1mReq \u001b[0m\u001b[1m \u001b[0m┃\u001b[1m \u001b[0m\u001b[1m Req \u001b[0m\u001b[1m \u001b[0m┃      ┃      ┃\u001b[1m \u001b[0m\u001b[1mTime \u001b[0m\u001b[1m \u001b[0m┃\u001b[1m \u001b[0m\u001b[1mTime\u001b[0m\u001b[1m \u001b[0m┃                  \n",
       "           ┡━━━━━━╇━━━━╇━━━━━━╇━━━━━━╇━━━━━━━╇━━━━━━╇━━━━━━╇━━━━━━━╇━━━━━━┩                  \n",
       "           │\u001b[36m \u001b[0m\u001b[36mFro…\u001b[0m\u001b[36m \u001b[0m│\u001b[35m \u001b[0m\u001b[35m0 \u001b[0m\u001b[35m \u001b[0m│\u001b[32m \u001b[0m\u001b[32m n2 \u001b[0m\u001b[32m \u001b[0m│\u001b[36m \u001b[0m\u001b[36m 64 \u001b[0m\u001b[36m \u001b[0m│\u001b[35m \u001b[0m\u001b[35m 120 \u001b[0m\u001b[35m \u001b[0m│\u001b[32m \u001b[0m\u001b[32mTrue\u001b[0m\u001b[32m \u001b[0m│\u001b[36m \u001b[0m\u001b[36m 90 \u001b[0m\u001b[36m \u001b[0m│\u001b[35m \u001b[0m\u001b[35m 35  \u001b[0m\u001b[35m \u001b[0m│\u001b[32m \u001b[0m\u001b[32m165 \u001b[0m\u001b[32m \u001b[0m│                  \n",
       "           │\u001b[36m \u001b[0m\u001b[36mPod1\u001b[0m\u001b[36m \u001b[0m│\u001b[35m \u001b[0m\u001b[35m1 \u001b[0m\u001b[35m \u001b[0m│\u001b[32m \u001b[0m\u001b[32m n4 \u001b[0m\u001b[32m \u001b[0m│\u001b[36m \u001b[0m\u001b[36m 64 \u001b[0m\u001b[36m \u001b[0m│\u001b[35m \u001b[0m\u001b[35m 128 \u001b[0m\u001b[35m \u001b[0m│\u001b[32m \u001b[0m\u001b[32mTrue\u001b[0m\u001b[32m \u001b[0m│\u001b[36m \u001b[0m\u001b[36m 80 \u001b[0m\u001b[36m \u001b[0m│\u001b[35m \u001b[0m\u001b[35m 40  \u001b[0m\u001b[35m \u001b[0m│\u001b[32m \u001b[0m\u001b[32m 15 \u001b[0m\u001b[32m \u001b[0m│                  \n",
       "           │\u001b[36m \u001b[0m\u001b[36mPod2\u001b[0m\u001b[36m \u001b[0m│\u001b[35m \u001b[0m\u001b[35m2 \u001b[0m\u001b[35m \u001b[0m│\u001b[32m \u001b[0m\u001b[32m    \u001b[0m\u001b[32m \u001b[0m│\u001b[36m \u001b[0m\u001b[36m128 \u001b[0m\u001b[36m \u001b[0m│\u001b[35m \u001b[0m\u001b[35m 378 \u001b[0m\u001b[35m \u001b[0m│\u001b[32m \u001b[0m\u001b[32mFal…\u001b[0m\u001b[32m \u001b[0m│\u001b[36m \u001b[0m\u001b[36m 80 \u001b[0m\u001b[36m \u001b[0m│\u001b[35m \u001b[0m\u001b[35m 45  \u001b[0m\u001b[35m \u001b[0m│\u001b[32m \u001b[0m\u001b[32m 15 \u001b[0m\u001b[32m \u001b[0m│                  \n",
       "           │\u001b[36m \u001b[0m\u001b[36mPod3\u001b[0m\u001b[36m \u001b[0m│\u001b[35m \u001b[0m\u001b[35m3 \u001b[0m\u001b[35m \u001b[0m│\u001b[32m \u001b[0m\u001b[32m n4 \u001b[0m\u001b[32m \u001b[0m│\u001b[36m \u001b[0m\u001b[36m192 \u001b[0m\u001b[36m \u001b[0m│\u001b[35m \u001b[0m\u001b[35m 628 \u001b[0m\u001b[35m \u001b[0m│\u001b[32m \u001b[0m\u001b[32mTrue\u001b[0m\u001b[32m \u001b[0m│\u001b[36m \u001b[0m\u001b[36m5000\u001b[0m\u001b[36m \u001b[0m│\u001b[35m \u001b[0m\u001b[35m 50  \u001b[0m\u001b[35m \u001b[0m│\u001b[32m \u001b[0m\u001b[32m 15 \u001b[0m\u001b[32m \u001b[0m│                  \n",
       "           │\u001b[36m \u001b[0m\u001b[36mPod4\u001b[0m\u001b[36m \u001b[0m│\u001b[35m \u001b[0m\u001b[35m4 \u001b[0m\u001b[35m \u001b[0m│\u001b[32m \u001b[0m\u001b[32m    \u001b[0m\u001b[32m \u001b[0m│\u001b[36m \u001b[0m\u001b[36m192 \u001b[0m\u001b[36m \u001b[0m│\u001b[35m \u001b[0m\u001b[35m5128 \u001b[0m\u001b[35m \u001b[0m│\u001b[32m \u001b[0m\u001b[32mFal…\u001b[0m\u001b[32m \u001b[0m│\u001b[36m \u001b[0m\u001b[36mNone\u001b[0m\u001b[36m \u001b[0m│\u001b[35m \u001b[0m\u001b[35m 55  \u001b[0m\u001b[35m \u001b[0m│\u001b[32m \u001b[0m\u001b[32m 15 \u001b[0m\u001b[32m \u001b[0m│                  \n",
       "           │\u001b[36m \u001b[0m\u001b[36mPod5\u001b[0m\u001b[36m \u001b[0m│\u001b[35m \u001b[0m\u001b[35m5 \u001b[0m\u001b[35m \u001b[0m│\u001b[32m \u001b[0m\u001b[32m n5 \u001b[0m\u001b[32m \u001b[0m│\u001b[36m \u001b[0m\u001b[36m192 \u001b[0m\u001b[36m \u001b[0m│\u001b[35m \u001b[0m\u001b[35m 700 \u001b[0m\u001b[35m \u001b[0m│\u001b[32m \u001b[0m\u001b[32mTrue\u001b[0m\u001b[32m \u001b[0m│\u001b[36m \u001b[0m\u001b[36m2000\u001b[0m\u001b[36m \u001b[0m│\u001b[35m \u001b[0m\u001b[35m 60  \u001b[0m\u001b[35m \u001b[0m│\u001b[32m \u001b[0m\u001b[32m155 \u001b[0m\u001b[32m \u001b[0m│                  \n",
       "           └──────┴────┴──────┴──────┴───────┴──────┴──────┴───────┴──────┘                  \n"
      ]
     },
     "metadata": {},
     "output_type": "display_data"
    },
    {
     "data": {
      "text/html": [
       "<pre style=\"white-space:pre;overflow-x:auto;line-height:normal;font-family:Menlo,'DejaVu Sans Mono',consolas,'Courier New',monospace\"><span style=\"color: #7fbfbf; text-decoration-color: #7fbfbf\">           </span><span style=\"color: #008000; text-decoration-color: #008000; font-weight: bold\">                                                                </span> <a href=\"file:///tmp/ipykernel_152833/1843420858.py\"><span style=\"color: #7f7f7f; text-decoration-color: #7f7f7f\">1843420858.py</span></a><span style=\"color: #7f7f7f; text-decoration-color: #7f7f7f\">:</span><a href=\"file:///tmp/ipykernel_152833/1843420858.py#249\"><span style=\"color: #7f7f7f; text-decoration-color: #7f7f7f\">249</span></a>\n",
       "           <span style=\"color: #008000; text-decoration-color: #008000; font-weight: bold\">---&gt; Run Kubescheduler for Pod2                                 </span>                  \n",
       "           <span style=\"color: #008000; text-decoration-color: #008000; font-weight: bold\">                                                                </span>                  \n",
       "</pre>\n"
      ],
      "text/plain": [
       "\u001b[2;36m          \u001b[0m\u001b[2;36m \u001b[0m\u001b[1;32m                                                                \u001b[0m \u001b]8;id=949382;file:///tmp/ipykernel_152833/1843420858.py\u001b\\\u001b[2m1843420858.py\u001b[0m\u001b]8;;\u001b\\\u001b[2m:\u001b[0m\u001b]8;id=417060;file:///tmp/ipykernel_152833/1843420858.py#249\u001b\\\u001b[2m249\u001b[0m\u001b]8;;\u001b\\\n",
       "           \u001b[1;32m---> Run Kubescheduler for Pod2                                 \u001b[0m                  \n",
       "           \u001b[1;32m                                                                \u001b[0m                  \n"
      ]
     },
     "metadata": {},
     "output_type": "display_data"
    },
    {
     "data": {
      "text/html": [
       "<pre style=\"white-space:pre;overflow-x:auto;line-height:normal;font-family:Menlo,'DejaVu Sans Mono',consolas,'Courier New',monospace\"><span style=\"color: #7fbfbf; text-decoration-color: #7fbfbf\">           </span><span style=\"color: #008080; text-decoration-color: #008080\">👍 PodFitsHostPorts ---&gt; n1                                      </span> <a href=\"file:///tmp/ipykernel_152833/1323010361.py\"><span style=\"color: #7f7f7f; text-decoration-color: #7f7f7f\">1323010361.py</span></a><span style=\"color: #7f7f7f; text-decoration-color: #7f7f7f\">:</span><a href=\"file:///tmp/ipykernel_152833/1323010361.py#62\"><span style=\"color: #7f7f7f; text-decoration-color: #7f7f7f\">62</span></a>\n",
       "</pre>\n"
      ],
      "text/plain": [
       "\u001b[2;36m          \u001b[0m\u001b[2;36m \u001b[0m\u001b[36m👍 PodFitsHostPorts ---> n1                                      \u001b[0m \u001b]8;id=470675;file:///tmp/ipykernel_152833/1323010361.py\u001b\\\u001b[2m1323010361.py\u001b[0m\u001b]8;;\u001b\\\u001b[2m:\u001b[0m\u001b]8;id=863007;file:///tmp/ipykernel_152833/1323010361.py#62\u001b\\\u001b[2m62\u001b[0m\u001b]8;;\u001b\\\n"
      ]
     },
     "metadata": {},
     "output_type": "display_data"
    },
    {
     "data": {
      "text/html": [
       "<pre style=\"white-space:pre;overflow-x:auto;line-height:normal;font-family:Menlo,'DejaVu Sans Mono',consolas,'Courier New',monospace\"><span style=\"color: #7fbfbf; text-decoration-color: #7fbfbf\">           </span><span style=\"color: #008080; text-decoration-color: #008080\">👎 PodFitsHost ---&gt; n1                                           </span> <a href=\"file:///tmp/ipykernel_152833/1323010361.py\"><span style=\"color: #7f7f7f; text-decoration-color: #7f7f7f\">1323010361.py</span></a><span style=\"color: #7f7f7f; text-decoration-color: #7f7f7f\">:</span><a href=\"file:///tmp/ipykernel_152833/1323010361.py#67\"><span style=\"color: #7f7f7f; text-decoration-color: #7f7f7f\">67</span></a>\n",
       "</pre>\n"
      ],
      "text/plain": [
       "\u001b[2;36m          \u001b[0m\u001b[2;36m \u001b[0m\u001b[36m👎 PodFitsHost ---> n1                                           \u001b[0m \u001b]8;id=885334;file:///tmp/ipykernel_152833/1323010361.py\u001b\\\u001b[2m1323010361.py\u001b[0m\u001b]8;;\u001b\\\u001b[2m:\u001b[0m\u001b]8;id=503589;file:///tmp/ipykernel_152833/1323010361.py#67\u001b\\\u001b[2m67\u001b[0m\u001b]8;;\u001b\\\n"
      ]
     },
     "metadata": {},
     "output_type": "display_data"
    },
    {
     "data": {
      "text/html": [
       "<pre style=\"white-space:pre;overflow-x:auto;line-height:normal;font-family:Menlo,'DejaVu Sans Mono',consolas,'Courier New',monospace\"><span style=\"color: #7fbfbf; text-decoration-color: #7fbfbf\">           </span><span style=\"color: #008080; text-decoration-color: #008080\">↙  Least used node ---&gt; n1                                        </span> <a href=\"file:///tmp/ipykernel_152833/380400395.py\"><span style=\"color: #7f7f7f; text-decoration-color: #7f7f7f\">380400395.py</span></a><span style=\"color: #7f7f7f; text-decoration-color: #7f7f7f\">:</span><a href=\"file:///tmp/ipykernel_152833/380400395.py#49\"><span style=\"color: #7f7f7f; text-decoration-color: #7f7f7f\">49</span></a>\n",
       "</pre>\n"
      ],
      "text/plain": [
       "\u001b[2;36m          \u001b[0m\u001b[2;36m \u001b[0m\u001b[36m↙  Least used node ---> n1                                        \u001b[0m \u001b]8;id=998326;file:///tmp/ipykernel_152833/380400395.py\u001b\\\u001b[2m380400395.py\u001b[0m\u001b]8;;\u001b\\\u001b[2m:\u001b[0m\u001b]8;id=143852;file:///tmp/ipykernel_152833/380400395.py#49\u001b\\\u001b[2m49\u001b[0m\u001b]8;;\u001b\\\n"
      ]
     },
     "metadata": {},
     "output_type": "display_data"
    },
    {
     "data": {
      "text/html": [
       "<pre style=\"white-space:pre;overflow-x:auto;line-height:normal;font-family:Menlo,'DejaVu Sans Mono',consolas,'Courier New',monospace\"><span style=\"color: #7fbfbf; text-decoration-color: #7fbfbf\">           </span><span style=\"color: #008080; text-decoration-color: #008080\">👍 PodFitsHostPorts ---&gt; n2                                      </span> <a href=\"file:///tmp/ipykernel_152833/1323010361.py\"><span style=\"color: #7f7f7f; text-decoration-color: #7f7f7f\">1323010361.py</span></a><span style=\"color: #7f7f7f; text-decoration-color: #7f7f7f\">:</span><a href=\"file:///tmp/ipykernel_152833/1323010361.py#62\"><span style=\"color: #7f7f7f; text-decoration-color: #7f7f7f\">62</span></a>\n",
       "</pre>\n"
      ],
      "text/plain": [
       "\u001b[2;36m          \u001b[0m\u001b[2;36m \u001b[0m\u001b[36m👍 PodFitsHostPorts ---> n2                                      \u001b[0m \u001b]8;id=521338;file:///tmp/ipykernel_152833/1323010361.py\u001b\\\u001b[2m1323010361.py\u001b[0m\u001b]8;;\u001b\\\u001b[2m:\u001b[0m\u001b]8;id=972187;file:///tmp/ipykernel_152833/1323010361.py#62\u001b\\\u001b[2m62\u001b[0m\u001b]8;;\u001b\\\n"
      ]
     },
     "metadata": {},
     "output_type": "display_data"
    },
    {
     "data": {
      "text/html": [
       "<pre style=\"white-space:pre;overflow-x:auto;line-height:normal;font-family:Menlo,'DejaVu Sans Mono',consolas,'Courier New',monospace\"><span style=\"color: #7fbfbf; text-decoration-color: #7fbfbf\">           </span><span style=\"color: #008080; text-decoration-color: #008080\">👎 PodFitsHost ---&gt; n2                                           </span> <a href=\"file:///tmp/ipykernel_152833/1323010361.py\"><span style=\"color: #7f7f7f; text-decoration-color: #7f7f7f\">1323010361.py</span></a><span style=\"color: #7f7f7f; text-decoration-color: #7f7f7f\">:</span><a href=\"file:///tmp/ipykernel_152833/1323010361.py#67\"><span style=\"color: #7f7f7f; text-decoration-color: #7f7f7f\">67</span></a>\n",
       "</pre>\n"
      ],
      "text/plain": [
       "\u001b[2;36m          \u001b[0m\u001b[2;36m \u001b[0m\u001b[36m👎 PodFitsHost ---> n2                                           \u001b[0m \u001b]8;id=404370;file:///tmp/ipykernel_152833/1323010361.py\u001b\\\u001b[2m1323010361.py\u001b[0m\u001b]8;;\u001b\\\u001b[2m:\u001b[0m\u001b]8;id=90262;file:///tmp/ipykernel_152833/1323010361.py#67\u001b\\\u001b[2m67\u001b[0m\u001b]8;;\u001b\\\n"
      ]
     },
     "metadata": {},
     "output_type": "display_data"
    },
    {
     "data": {
      "text/html": [
       "<pre style=\"white-space:pre;overflow-x:auto;line-height:normal;font-family:Menlo,'DejaVu Sans Mono',consolas,'Courier New',monospace\"><span style=\"color: #7fbfbf; text-decoration-color: #7fbfbf\">           </span><span style=\"color: #008080; text-decoration-color: #008080\">💿 Image locality Found ---&gt; n2                                  </span> <a href=\"file:///tmp/ipykernel_152833/380400395.py\"><span style=\"color: #7f7f7f; text-decoration-color: #7f7f7f\">380400395.py</span></a><span style=\"color: #7f7f7f; text-decoration-color: #7f7f7f\">:</span><a href=\"file:///tmp/ipykernel_152833/380400395.py#133\"><span style=\"color: #7f7f7f; text-decoration-color: #7f7f7f\">133</span></a>\n",
       "</pre>\n"
      ],
      "text/plain": [
       "\u001b[2;36m          \u001b[0m\u001b[2;36m \u001b[0m\u001b[36m💿 Image locality Found ---> n2                                  \u001b[0m \u001b]8;id=786434;file:///tmp/ipykernel_152833/380400395.py\u001b\\\u001b[2m380400395.py\u001b[0m\u001b]8;;\u001b\\\u001b[2m:\u001b[0m\u001b]8;id=105016;file:///tmp/ipykernel_152833/380400395.py#133\u001b\\\u001b[2m133\u001b[0m\u001b]8;;\u001b\\\n"
      ]
     },
     "metadata": {},
     "output_type": "display_data"
    },
    {
     "data": {
      "text/html": [
       "<pre style=\"white-space:pre;overflow-x:auto;line-height:normal;font-family:Menlo,'DejaVu Sans Mono',consolas,'Courier New',monospace\"><span style=\"color: #7fbfbf; text-decoration-color: #7fbfbf\">           </span><span style=\"color: #008080; text-decoration-color: #008080\">👍 PodFitsHostPorts ---&gt; n3                                      </span> <a href=\"file:///tmp/ipykernel_152833/1323010361.py\"><span style=\"color: #7f7f7f; text-decoration-color: #7f7f7f\">1323010361.py</span></a><span style=\"color: #7f7f7f; text-decoration-color: #7f7f7f\">:</span><a href=\"file:///tmp/ipykernel_152833/1323010361.py#62\"><span style=\"color: #7f7f7f; text-decoration-color: #7f7f7f\">62</span></a>\n",
       "</pre>\n"
      ],
      "text/plain": [
       "\u001b[2;36m          \u001b[0m\u001b[2;36m \u001b[0m\u001b[36m👍 PodFitsHostPorts ---> n3                                      \u001b[0m \u001b]8;id=393453;file:///tmp/ipykernel_152833/1323010361.py\u001b\\\u001b[2m1323010361.py\u001b[0m\u001b]8;;\u001b\\\u001b[2m:\u001b[0m\u001b]8;id=823350;file:///tmp/ipykernel_152833/1323010361.py#62\u001b\\\u001b[2m62\u001b[0m\u001b]8;;\u001b\\\n"
      ]
     },
     "metadata": {},
     "output_type": "display_data"
    },
    {
     "data": {
      "text/html": [
       "<pre style=\"white-space:pre;overflow-x:auto;line-height:normal;font-family:Menlo,'DejaVu Sans Mono',consolas,'Courier New',monospace\"><span style=\"color: #7fbfbf; text-decoration-color: #7fbfbf\">           </span><span style=\"color: #008080; text-decoration-color: #008080\">👎 PodFitsHost ---&gt; n3                                           </span> <a href=\"file:///tmp/ipykernel_152833/1323010361.py\"><span style=\"color: #7f7f7f; text-decoration-color: #7f7f7f\">1323010361.py</span></a><span style=\"color: #7f7f7f; text-decoration-color: #7f7f7f\">:</span><a href=\"file:///tmp/ipykernel_152833/1323010361.py#67\"><span style=\"color: #7f7f7f; text-decoration-color: #7f7f7f\">67</span></a>\n",
       "</pre>\n"
      ],
      "text/plain": [
       "\u001b[2;36m          \u001b[0m\u001b[2;36m \u001b[0m\u001b[36m👎 PodFitsHost ---> n3                                           \u001b[0m \u001b]8;id=973631;file:///tmp/ipykernel_152833/1323010361.py\u001b\\\u001b[2m1323010361.py\u001b[0m\u001b]8;;\u001b\\\u001b[2m:\u001b[0m\u001b]8;id=563475;file:///tmp/ipykernel_152833/1323010361.py#67\u001b\\\u001b[2m67\u001b[0m\u001b]8;;\u001b\\\n"
      ]
     },
     "metadata": {},
     "output_type": "display_data"
    },
    {
     "data": {
      "text/html": [
       "<pre style=\"white-space:pre;overflow-x:auto;line-height:normal;font-family:Menlo,'DejaVu Sans Mono',consolas,'Courier New',monospace\"><span style=\"color: #7fbfbf; text-decoration-color: #7fbfbf\">           </span><span style=\"color: #008080; text-decoration-color: #008080\">👍 PodFitsHostPorts ---&gt; n4                                      </span> <a href=\"file:///tmp/ipykernel_152833/1323010361.py\"><span style=\"color: #7f7f7f; text-decoration-color: #7f7f7f\">1323010361.py</span></a><span style=\"color: #7f7f7f; text-decoration-color: #7f7f7f\">:</span><a href=\"file:///tmp/ipykernel_152833/1323010361.py#62\"><span style=\"color: #7f7f7f; text-decoration-color: #7f7f7f\">62</span></a>\n",
       "</pre>\n"
      ],
      "text/plain": [
       "\u001b[2;36m          \u001b[0m\u001b[2;36m \u001b[0m\u001b[36m👍 PodFitsHostPorts ---> n4                                      \u001b[0m \u001b]8;id=510018;file:///tmp/ipykernel_152833/1323010361.py\u001b\\\u001b[2m1323010361.py\u001b[0m\u001b]8;;\u001b\\\u001b[2m:\u001b[0m\u001b]8;id=852935;file:///tmp/ipykernel_152833/1323010361.py#62\u001b\\\u001b[2m62\u001b[0m\u001b]8;;\u001b\\\n"
      ]
     },
     "metadata": {},
     "output_type": "display_data"
    },
    {
     "data": {
      "text/html": [
       "<pre style=\"white-space:pre;overflow-x:auto;line-height:normal;font-family:Menlo,'DejaVu Sans Mono',consolas,'Courier New',monospace\"><span style=\"color: #7fbfbf; text-decoration-color: #7fbfbf\">           </span><span style=\"color: #008080; text-decoration-color: #008080\">👍 PodFitsHost ---&gt; n4                                           </span> <a href=\"file:///tmp/ipykernel_152833/1323010361.py\"><span style=\"color: #7f7f7f; text-decoration-color: #7f7f7f\">1323010361.py</span></a><span style=\"color: #7f7f7f; text-decoration-color: #7f7f7f\">:</span><a href=\"file:///tmp/ipykernel_152833/1323010361.py#62\"><span style=\"color: #7f7f7f; text-decoration-color: #7f7f7f\">62</span></a>\n",
       "</pre>\n"
      ],
      "text/plain": [
       "\u001b[2;36m          \u001b[0m\u001b[2;36m \u001b[0m\u001b[36m👍 PodFitsHost ---> n4                                           \u001b[0m \u001b]8;id=415407;file:///tmp/ipykernel_152833/1323010361.py\u001b\\\u001b[2m1323010361.py\u001b[0m\u001b]8;;\u001b\\\u001b[2m:\u001b[0m\u001b]8;id=779426;file:///tmp/ipykernel_152833/1323010361.py#62\u001b\\\u001b[2m62\u001b[0m\u001b]8;;\u001b\\\n"
      ]
     },
     "metadata": {},
     "output_type": "display_data"
    },
    {
     "data": {
      "text/html": [
       "<pre style=\"white-space:pre;overflow-x:auto;line-height:normal;font-family:Menlo,'DejaVu Sans Mono',consolas,'Courier New',monospace\"><span style=\"color: #7fbfbf; text-decoration-color: #7fbfbf\">           </span><span style=\"color: #008080; text-decoration-color: #008080\">👍 PodFitsResources ---&gt; n4                                      </span> <a href=\"file:///tmp/ipykernel_152833/1323010361.py\"><span style=\"color: #7f7f7f; text-decoration-color: #7f7f7f\">1323010361.py</span></a><span style=\"color: #7f7f7f; text-decoration-color: #7f7f7f\">:</span><a href=\"file:///tmp/ipykernel_152833/1323010361.py#62\"><span style=\"color: #7f7f7f; text-decoration-color: #7f7f7f\">62</span></a>\n",
       "</pre>\n"
      ],
      "text/plain": [
       "\u001b[2;36m          \u001b[0m\u001b[2;36m \u001b[0m\u001b[36m👍 PodFitsResources ---> n4                                      \u001b[0m \u001b]8;id=62982;file:///tmp/ipykernel_152833/1323010361.py\u001b\\\u001b[2m1323010361.py\u001b[0m\u001b]8;;\u001b\\\u001b[2m:\u001b[0m\u001b]8;id=864274;file:///tmp/ipykernel_152833/1323010361.py#62\u001b\\\u001b[2m62\u001b[0m\u001b]8;;\u001b\\\n"
      ]
     },
     "metadata": {},
     "output_type": "display_data"
    },
    {
     "data": {
      "text/html": [
       "<pre style=\"white-space:pre;overflow-x:auto;line-height:normal;font-family:Menlo,'DejaVu Sans Mono',consolas,'Courier New',monospace\"><span style=\"color: #7fbfbf; text-decoration-color: #7fbfbf\">           </span><span style=\"color: #008080; text-decoration-color: #008080\">👍 PodFitsHostPorts ---&gt; n5                                      </span> <a href=\"file:///tmp/ipykernel_152833/1323010361.py\"><span style=\"color: #7f7f7f; text-decoration-color: #7f7f7f\">1323010361.py</span></a><span style=\"color: #7f7f7f; text-decoration-color: #7f7f7f\">:</span><a href=\"file:///tmp/ipykernel_152833/1323010361.py#62\"><span style=\"color: #7f7f7f; text-decoration-color: #7f7f7f\">62</span></a>\n",
       "</pre>\n"
      ],
      "text/plain": [
       "\u001b[2;36m          \u001b[0m\u001b[2;36m \u001b[0m\u001b[36m👍 PodFitsHostPorts ---> n5                                      \u001b[0m \u001b]8;id=684658;file:///tmp/ipykernel_152833/1323010361.py\u001b\\\u001b[2m1323010361.py\u001b[0m\u001b]8;;\u001b\\\u001b[2m:\u001b[0m\u001b]8;id=120946;file:///tmp/ipykernel_152833/1323010361.py#62\u001b\\\u001b[2m62\u001b[0m\u001b]8;;\u001b\\\n"
      ]
     },
     "metadata": {},
     "output_type": "display_data"
    },
    {
     "data": {
      "text/html": [
       "<pre style=\"white-space:pre;overflow-x:auto;line-height:normal;font-family:Menlo,'DejaVu Sans Mono',consolas,'Courier New',monospace\"><span style=\"color: #7fbfbf; text-decoration-color: #7fbfbf\">           </span><span style=\"color: #008080; text-decoration-color: #008080\">👎 PodFitsHost ---&gt; n5                                           </span> <a href=\"file:///tmp/ipykernel_152833/1323010361.py\"><span style=\"color: #7f7f7f; text-decoration-color: #7f7f7f\">1323010361.py</span></a><span style=\"color: #7f7f7f; text-decoration-color: #7f7f7f\">:</span><a href=\"file:///tmp/ipykernel_152833/1323010361.py#67\"><span style=\"color: #7f7f7f; text-decoration-color: #7f7f7f\">67</span></a>\n",
       "</pre>\n"
      ],
      "text/plain": [
       "\u001b[2;36m          \u001b[0m\u001b[2;36m \u001b[0m\u001b[36m👎 PodFitsHost ---> n5                                           \u001b[0m \u001b]8;id=232319;file:///tmp/ipykernel_152833/1323010361.py\u001b\\\u001b[2m1323010361.py\u001b[0m\u001b]8;;\u001b\\\u001b[2m:\u001b[0m\u001b]8;id=205611;file:///tmp/ipykernel_152833/1323010361.py#67\u001b\\\u001b[2m67\u001b[0m\u001b]8;;\u001b\\\n"
      ]
     },
     "metadata": {},
     "output_type": "display_data"
    },
    {
     "data": {
      "text/html": [
       "<pre style=\"white-space:pre;overflow-x:auto;line-height:normal;font-family:Menlo,'DejaVu Sans Mono',consolas,'Courier New',monospace\"><span style=\"color: #7fbfbf; text-decoration-color: #7fbfbf\">           </span><span style=\"color: #008080; text-decoration-color: #008080\">💿 Image locality Found ---&gt; n5                                  </span> <a href=\"file:///tmp/ipykernel_152833/380400395.py\"><span style=\"color: #7f7f7f; text-decoration-color: #7f7f7f\">380400395.py</span></a><span style=\"color: #7f7f7f; text-decoration-color: #7f7f7f\">:</span><a href=\"file:///tmp/ipykernel_152833/380400395.py#133\"><span style=\"color: #7f7f7f; text-decoration-color: #7f7f7f\">133</span></a>\n",
       "</pre>\n"
      ],
      "text/plain": [
       "\u001b[2;36m          \u001b[0m\u001b[2;36m \u001b[0m\u001b[36m💿 Image locality Found ---> n5                                  \u001b[0m \u001b]8;id=98050;file:///tmp/ipykernel_152833/380400395.py\u001b\\\u001b[2m380400395.py\u001b[0m\u001b]8;;\u001b\\\u001b[2m:\u001b[0m\u001b]8;id=646576;file:///tmp/ipykernel_152833/380400395.py#133\u001b\\\u001b[2m133\u001b[0m\u001b]8;;\u001b\\\n"
      ]
     },
     "metadata": {},
     "output_type": "display_data"
    },
    {
     "data": {
      "text/html": [
       "<pre style=\"white-space:pre;overflow-x:auto;line-height:normal;font-family:Menlo,'DejaVu Sans Mono',consolas,'Courier New',monospace\"><span style=\"color: #7fbfbf; text-decoration-color: #7fbfbf\">           </span><span style=\"color: #008080; text-decoration-color: #008080\">👍 PodFitsHostPorts ---&gt; n6                                      </span> <a href=\"file:///tmp/ipykernel_152833/1323010361.py\"><span style=\"color: #7f7f7f; text-decoration-color: #7f7f7f\">1323010361.py</span></a><span style=\"color: #7f7f7f; text-decoration-color: #7f7f7f\">:</span><a href=\"file:///tmp/ipykernel_152833/1323010361.py#62\"><span style=\"color: #7f7f7f; text-decoration-color: #7f7f7f\">62</span></a>\n",
       "</pre>\n"
      ],
      "text/plain": [
       "\u001b[2;36m          \u001b[0m\u001b[2;36m \u001b[0m\u001b[36m👍 PodFitsHostPorts ---> n6                                      \u001b[0m \u001b]8;id=913885;file:///tmp/ipykernel_152833/1323010361.py\u001b\\\u001b[2m1323010361.py\u001b[0m\u001b]8;;\u001b\\\u001b[2m:\u001b[0m\u001b]8;id=859782;file:///tmp/ipykernel_152833/1323010361.py#62\u001b\\\u001b[2m62\u001b[0m\u001b]8;;\u001b\\\n"
      ]
     },
     "metadata": {},
     "output_type": "display_data"
    },
    {
     "data": {
      "text/html": [
       "<pre style=\"white-space:pre;overflow-x:auto;line-height:normal;font-family:Menlo,'DejaVu Sans Mono',consolas,'Courier New',monospace\"><span style=\"color: #7fbfbf; text-decoration-color: #7fbfbf\">           </span><span style=\"color: #008080; text-decoration-color: #008080\">👎 PodFitsHost ---&gt; n6                                           </span> <a href=\"file:///tmp/ipykernel_152833/1323010361.py\"><span style=\"color: #7f7f7f; text-decoration-color: #7f7f7f\">1323010361.py</span></a><span style=\"color: #7f7f7f; text-decoration-color: #7f7f7f\">:</span><a href=\"file:///tmp/ipykernel_152833/1323010361.py#67\"><span style=\"color: #7f7f7f; text-decoration-color: #7f7f7f\">67</span></a>\n",
       "</pre>\n"
      ],
      "text/plain": [
       "\u001b[2;36m          \u001b[0m\u001b[2;36m \u001b[0m\u001b[36m👎 PodFitsHost ---> n6                                           \u001b[0m \u001b]8;id=298556;file:///tmp/ipykernel_152833/1323010361.py\u001b\\\u001b[2m1323010361.py\u001b[0m\u001b]8;;\u001b\\\u001b[2m:\u001b[0m\u001b]8;id=662974;file:///tmp/ipykernel_152833/1323010361.py#67\u001b\\\u001b[2m67\u001b[0m\u001b]8;;\u001b\\\n"
      ]
     },
     "metadata": {},
     "output_type": "display_data"
    },
    {
     "data": {
      "text/html": [
       "<pre style=\"white-space:pre;overflow-x:auto;line-height:normal;font-family:Menlo,'DejaVu Sans Mono',consolas,'Courier New',monospace\"><span style=\"color: #7fbfbf; text-decoration-color: #7fbfbf\">           </span><span style=\"color: #008000; text-decoration-color: #008000; font-weight: bold\">                                                                 </span> <a href=\"file:///tmp/ipykernel_152833/1323010361.py\"><span style=\"color: #7f7f7f; text-decoration-color: #7f7f7f\">1323010361.py</span></a><span style=\"color: #7f7f7f; text-decoration-color: #7f7f7f\">:</span><a href=\"file:///tmp/ipykernel_152833/1323010361.py#98\"><span style=\"color: #7f7f7f; text-decoration-color: #7f7f7f\">98</span></a>\n",
       "           <span style=\"color: #008000; text-decoration-color: #008000; font-weight: bold\">---&gt; Selected node = n4 ⌛ Simulation Time: </span><span style=\"color: #008080; text-decoration-color: #008080; font-weight: bold\">115</span><span style=\"color: #008000; text-decoration-color: #008000; font-weight: bold\"> seconds          </span>                 \n",
       "           <span style=\"color: #008000; text-decoration-color: #008000; font-weight: bold\">                                                                 </span>                 \n",
       "</pre>\n"
      ],
      "text/plain": [
       "\u001b[2;36m          \u001b[0m\u001b[2;36m \u001b[0m\u001b[1;32m                                                                 \u001b[0m \u001b]8;id=931142;file:///tmp/ipykernel_152833/1323010361.py\u001b\\\u001b[2m1323010361.py\u001b[0m\u001b]8;;\u001b\\\u001b[2m:\u001b[0m\u001b]8;id=100167;file:///tmp/ipykernel_152833/1323010361.py#98\u001b\\\u001b[2m98\u001b[0m\u001b]8;;\u001b\\\n",
       "           \u001b[1;32m---> Selected node = n4 ⌛ Simulation Time: \u001b[0m\u001b[1;36m115\u001b[0m\u001b[1;32m seconds          \u001b[0m                 \n",
       "           \u001b[1;32m                                                                 \u001b[0m                 \n"
      ]
     },
     "metadata": {},
     "output_type": "display_data"
    },
    {
     "data": {
      "text/html": [
       "<pre style=\"white-space:pre;overflow-x:auto;line-height:normal;font-family:Menlo,'DejaVu Sans Mono',consolas,'Courier New',monospace\"><span style=\"color: #7fbfbf; text-decoration-color: #7fbfbf\">           </span><span style=\"font-style: italic\">                        Pod Description                         </span> <a href=\"file:///tmp/ipykernel_152833/1843420858.py\"><span style=\"color: #7f7f7f; text-decoration-color: #7f7f7f\">1843420858.py</span></a><span style=\"color: #7f7f7f; text-decoration-color: #7f7f7f\">:</span><a href=\"file:///tmp/ipykernel_152833/1843420858.py#267\"><span style=\"color: #7f7f7f; text-decoration-color: #7f7f7f\">267</span></a>\n",
       "           ┏━━━━━━┳━━━━┳━━━━━━┳━━━━━━┳━━━━━━━┳━━━━━━┳━━━━━━┳━━━━━━━┳━━━━━━┓                  \n",
       "           ┃<span style=\"font-weight: bold\"> Name </span>┃<span style=\"font-weight: bold\"> ID </span>┃<span style=\"font-weight: bold\"> Node </span>┃<span style=\"font-weight: bold\"> Mem… </span>┃<span style=\"font-weight: bold\">  CPU  </span>┃<span style=\"font-weight: bold\"> Bind </span>┃<span style=\"font-weight: bold\"> Port </span>┃<span style=\"font-weight: bold\"> Arri… </span>┃<span style=\"font-weight: bold\"> Ser… </span>┃                  \n",
       "           ┃      ┃    ┃<span style=\"font-weight: bold\"> Ass… </span>┃<span style=\"font-weight: bold\"> Req  </span>┃<span style=\"font-weight: bold\">  Req  </span>┃      ┃      ┃<span style=\"font-weight: bold\"> Time  </span>┃<span style=\"font-weight: bold\"> Time </span>┃                  \n",
       "           ┡━━━━━━╇━━━━╇━━━━━━╇━━━━━━╇━━━━━━━╇━━━━━━╇━━━━━━╇━━━━━━━╇━━━━━━┩                  \n",
       "           │<span style=\"color: #008080; text-decoration-color: #008080\"> Fro… </span>│<span style=\"color: #800080; text-decoration-color: #800080\"> 0  </span>│<span style=\"color: #008000; text-decoration-color: #008000\">  n2  </span>│<span style=\"color: #008080; text-decoration-color: #008080\">  64  </span>│<span style=\"color: #800080; text-decoration-color: #800080\">  120  </span>│<span style=\"color: #008000; text-decoration-color: #008000\"> True </span>│<span style=\"color: #008080; text-decoration-color: #008080\">  90  </span>│<span style=\"color: #800080; text-decoration-color: #800080\">  35   </span>│<span style=\"color: #008000; text-decoration-color: #008000\"> 165  </span>│                  \n",
       "           │<span style=\"color: #008080; text-decoration-color: #008080\"> Pod1 </span>│<span style=\"color: #800080; text-decoration-color: #800080\"> 1  </span>│<span style=\"color: #008000; text-decoration-color: #008000\">  n4  </span>│<span style=\"color: #008080; text-decoration-color: #008080\">  64  </span>│<span style=\"color: #800080; text-decoration-color: #800080\">  128  </span>│<span style=\"color: #008000; text-decoration-color: #008000\"> True </span>│<span style=\"color: #008080; text-decoration-color: #008080\">  80  </span>│<span style=\"color: #800080; text-decoration-color: #800080\">  40   </span>│<span style=\"color: #008000; text-decoration-color: #008000\">  15  </span>│                  \n",
       "           │<span style=\"color: #008080; text-decoration-color: #008080\"> Pod2 </span>│<span style=\"color: #800080; text-decoration-color: #800080\"> 2  </span>│<span style=\"color: #008000; text-decoration-color: #008000\">      </span>│<span style=\"color: #008080; text-decoration-color: #008080\"> 128  </span>│<span style=\"color: #800080; text-decoration-color: #800080\">  378  </span>│<span style=\"color: #008000; text-decoration-color: #008000\"> Fal… </span>│<span style=\"color: #008080; text-decoration-color: #008080\">  80  </span>│<span style=\"color: #800080; text-decoration-color: #800080\">  45   </span>│<span style=\"color: #008000; text-decoration-color: #008000\">  15  </span>│                  \n",
       "           │<span style=\"color: #008080; text-decoration-color: #008080\"> Pod3 </span>│<span style=\"color: #800080; text-decoration-color: #800080\"> 3  </span>│<span style=\"color: #008000; text-decoration-color: #008000\">  n4  </span>│<span style=\"color: #008080; text-decoration-color: #008080\"> 192  </span>│<span style=\"color: #800080; text-decoration-color: #800080\">  628  </span>│<span style=\"color: #008000; text-decoration-color: #008000\"> True </span>│<span style=\"color: #008080; text-decoration-color: #008080\"> 5000 </span>│<span style=\"color: #800080; text-decoration-color: #800080\">  50   </span>│<span style=\"color: #008000; text-decoration-color: #008000\">  15  </span>│                  \n",
       "           │<span style=\"color: #008080; text-decoration-color: #008080\"> Pod4 </span>│<span style=\"color: #800080; text-decoration-color: #800080\"> 4  </span>│<span style=\"color: #008000; text-decoration-color: #008000\">      </span>│<span style=\"color: #008080; text-decoration-color: #008080\"> 192  </span>│<span style=\"color: #800080; text-decoration-color: #800080\"> 5128  </span>│<span style=\"color: #008000; text-decoration-color: #008000\"> Fal… </span>│<span style=\"color: #008080; text-decoration-color: #008080\"> None </span>│<span style=\"color: #800080; text-decoration-color: #800080\">  55   </span>│<span style=\"color: #008000; text-decoration-color: #008000\">  15  </span>│                  \n",
       "           │<span style=\"color: #008080; text-decoration-color: #008080\"> Pod5 </span>│<span style=\"color: #800080; text-decoration-color: #800080\"> 5  </span>│<span style=\"color: #008000; text-decoration-color: #008000\">  n5  </span>│<span style=\"color: #008080; text-decoration-color: #008080\"> 192  </span>│<span style=\"color: #800080; text-decoration-color: #800080\">  700  </span>│<span style=\"color: #008000; text-decoration-color: #008000\"> True </span>│<span style=\"color: #008080; text-decoration-color: #008080\"> 2000 </span>│<span style=\"color: #800080; text-decoration-color: #800080\">  60   </span>│<span style=\"color: #008000; text-decoration-color: #008000\"> 155  </span>│                  \n",
       "           │<span style=\"color: #008080; text-decoration-color: #008080\"> Pod2 </span>│<span style=\"color: #800080; text-decoration-color: #800080\"> 2  </span>│<span style=\"color: #008000; text-decoration-color: #008000\">  n4  </span>│<span style=\"color: #008080; text-decoration-color: #008080\"> 128  </span>│<span style=\"color: #800080; text-decoration-color: #800080\">  378  </span>│<span style=\"color: #008000; text-decoration-color: #008000\"> True </span>│<span style=\"color: #008080; text-decoration-color: #008080\">  80  </span>│<span style=\"color: #800080; text-decoration-color: #800080\">  45   </span>│<span style=\"color: #008000; text-decoration-color: #008000\">  15  </span>│                  \n",
       "           └──────┴────┴──────┴──────┴───────┴──────┴──────┴───────┴──────┘                  \n",
       "</pre>\n"
      ],
      "text/plain": [
       "\u001b[2;36m          \u001b[0m\u001b[2;36m \u001b[0m\u001b[3m                        Pod Description                         \u001b[0m \u001b]8;id=299604;file:///tmp/ipykernel_152833/1843420858.py\u001b\\\u001b[2m1843420858.py\u001b[0m\u001b]8;;\u001b\\\u001b[2m:\u001b[0m\u001b]8;id=93000;file:///tmp/ipykernel_152833/1843420858.py#267\u001b\\\u001b[2m267\u001b[0m\u001b]8;;\u001b\\\n",
       "           ┏━━━━━━┳━━━━┳━━━━━━┳━━━━━━┳━━━━━━━┳━━━━━━┳━━━━━━┳━━━━━━━┳━━━━━━┓                  \n",
       "           ┃\u001b[1m \u001b[0m\u001b[1mName\u001b[0m\u001b[1m \u001b[0m┃\u001b[1m \u001b[0m\u001b[1mID\u001b[0m\u001b[1m \u001b[0m┃\u001b[1m \u001b[0m\u001b[1mNode\u001b[0m\u001b[1m \u001b[0m┃\u001b[1m \u001b[0m\u001b[1mMem…\u001b[0m\u001b[1m \u001b[0m┃\u001b[1m \u001b[0m\u001b[1m CPU \u001b[0m\u001b[1m \u001b[0m┃\u001b[1m \u001b[0m\u001b[1mBind\u001b[0m\u001b[1m \u001b[0m┃\u001b[1m \u001b[0m\u001b[1mPort\u001b[0m\u001b[1m \u001b[0m┃\u001b[1m \u001b[0m\u001b[1mArri…\u001b[0m\u001b[1m \u001b[0m┃\u001b[1m \u001b[0m\u001b[1mSer…\u001b[0m\u001b[1m \u001b[0m┃                  \n",
       "           ┃      ┃    ┃\u001b[1m \u001b[0m\u001b[1mAss…\u001b[0m\u001b[1m \u001b[0m┃\u001b[1m \u001b[0m\u001b[1mReq \u001b[0m\u001b[1m \u001b[0m┃\u001b[1m \u001b[0m\u001b[1m Req \u001b[0m\u001b[1m \u001b[0m┃      ┃      ┃\u001b[1m \u001b[0m\u001b[1mTime \u001b[0m\u001b[1m \u001b[0m┃\u001b[1m \u001b[0m\u001b[1mTime\u001b[0m\u001b[1m \u001b[0m┃                  \n",
       "           ┡━━━━━━╇━━━━╇━━━━━━╇━━━━━━╇━━━━━━━╇━━━━━━╇━━━━━━╇━━━━━━━╇━━━━━━┩                  \n",
       "           │\u001b[36m \u001b[0m\u001b[36mFro…\u001b[0m\u001b[36m \u001b[0m│\u001b[35m \u001b[0m\u001b[35m0 \u001b[0m\u001b[35m \u001b[0m│\u001b[32m \u001b[0m\u001b[32m n2 \u001b[0m\u001b[32m \u001b[0m│\u001b[36m \u001b[0m\u001b[36m 64 \u001b[0m\u001b[36m \u001b[0m│\u001b[35m \u001b[0m\u001b[35m 120 \u001b[0m\u001b[35m \u001b[0m│\u001b[32m \u001b[0m\u001b[32mTrue\u001b[0m\u001b[32m \u001b[0m│\u001b[36m \u001b[0m\u001b[36m 90 \u001b[0m\u001b[36m \u001b[0m│\u001b[35m \u001b[0m\u001b[35m 35  \u001b[0m\u001b[35m \u001b[0m│\u001b[32m \u001b[0m\u001b[32m165 \u001b[0m\u001b[32m \u001b[0m│                  \n",
       "           │\u001b[36m \u001b[0m\u001b[36mPod1\u001b[0m\u001b[36m \u001b[0m│\u001b[35m \u001b[0m\u001b[35m1 \u001b[0m\u001b[35m \u001b[0m│\u001b[32m \u001b[0m\u001b[32m n4 \u001b[0m\u001b[32m \u001b[0m│\u001b[36m \u001b[0m\u001b[36m 64 \u001b[0m\u001b[36m \u001b[0m│\u001b[35m \u001b[0m\u001b[35m 128 \u001b[0m\u001b[35m \u001b[0m│\u001b[32m \u001b[0m\u001b[32mTrue\u001b[0m\u001b[32m \u001b[0m│\u001b[36m \u001b[0m\u001b[36m 80 \u001b[0m\u001b[36m \u001b[0m│\u001b[35m \u001b[0m\u001b[35m 40  \u001b[0m\u001b[35m \u001b[0m│\u001b[32m \u001b[0m\u001b[32m 15 \u001b[0m\u001b[32m \u001b[0m│                  \n",
       "           │\u001b[36m \u001b[0m\u001b[36mPod2\u001b[0m\u001b[36m \u001b[0m│\u001b[35m \u001b[0m\u001b[35m2 \u001b[0m\u001b[35m \u001b[0m│\u001b[32m \u001b[0m\u001b[32m    \u001b[0m\u001b[32m \u001b[0m│\u001b[36m \u001b[0m\u001b[36m128 \u001b[0m\u001b[36m \u001b[0m│\u001b[35m \u001b[0m\u001b[35m 378 \u001b[0m\u001b[35m \u001b[0m│\u001b[32m \u001b[0m\u001b[32mFal…\u001b[0m\u001b[32m \u001b[0m│\u001b[36m \u001b[0m\u001b[36m 80 \u001b[0m\u001b[36m \u001b[0m│\u001b[35m \u001b[0m\u001b[35m 45  \u001b[0m\u001b[35m \u001b[0m│\u001b[32m \u001b[0m\u001b[32m 15 \u001b[0m\u001b[32m \u001b[0m│                  \n",
       "           │\u001b[36m \u001b[0m\u001b[36mPod3\u001b[0m\u001b[36m \u001b[0m│\u001b[35m \u001b[0m\u001b[35m3 \u001b[0m\u001b[35m \u001b[0m│\u001b[32m \u001b[0m\u001b[32m n4 \u001b[0m\u001b[32m \u001b[0m│\u001b[36m \u001b[0m\u001b[36m192 \u001b[0m\u001b[36m \u001b[0m│\u001b[35m \u001b[0m\u001b[35m 628 \u001b[0m\u001b[35m \u001b[0m│\u001b[32m \u001b[0m\u001b[32mTrue\u001b[0m\u001b[32m \u001b[0m│\u001b[36m \u001b[0m\u001b[36m5000\u001b[0m\u001b[36m \u001b[0m│\u001b[35m \u001b[0m\u001b[35m 50  \u001b[0m\u001b[35m \u001b[0m│\u001b[32m \u001b[0m\u001b[32m 15 \u001b[0m\u001b[32m \u001b[0m│                  \n",
       "           │\u001b[36m \u001b[0m\u001b[36mPod4\u001b[0m\u001b[36m \u001b[0m│\u001b[35m \u001b[0m\u001b[35m4 \u001b[0m\u001b[35m \u001b[0m│\u001b[32m \u001b[0m\u001b[32m    \u001b[0m\u001b[32m \u001b[0m│\u001b[36m \u001b[0m\u001b[36m192 \u001b[0m\u001b[36m \u001b[0m│\u001b[35m \u001b[0m\u001b[35m5128 \u001b[0m\u001b[35m \u001b[0m│\u001b[32m \u001b[0m\u001b[32mFal…\u001b[0m\u001b[32m \u001b[0m│\u001b[36m \u001b[0m\u001b[36mNone\u001b[0m\u001b[36m \u001b[0m│\u001b[35m \u001b[0m\u001b[35m 55  \u001b[0m\u001b[35m \u001b[0m│\u001b[32m \u001b[0m\u001b[32m 15 \u001b[0m\u001b[32m \u001b[0m│                  \n",
       "           │\u001b[36m \u001b[0m\u001b[36mPod5\u001b[0m\u001b[36m \u001b[0m│\u001b[35m \u001b[0m\u001b[35m5 \u001b[0m\u001b[35m \u001b[0m│\u001b[32m \u001b[0m\u001b[32m n5 \u001b[0m\u001b[32m \u001b[0m│\u001b[36m \u001b[0m\u001b[36m192 \u001b[0m\u001b[36m \u001b[0m│\u001b[35m \u001b[0m\u001b[35m 700 \u001b[0m\u001b[35m \u001b[0m│\u001b[32m \u001b[0m\u001b[32mTrue\u001b[0m\u001b[32m \u001b[0m│\u001b[36m \u001b[0m\u001b[36m2000\u001b[0m\u001b[36m \u001b[0m│\u001b[35m \u001b[0m\u001b[35m 60  \u001b[0m\u001b[35m \u001b[0m│\u001b[32m \u001b[0m\u001b[32m155 \u001b[0m\u001b[32m \u001b[0m│                  \n",
       "           │\u001b[36m \u001b[0m\u001b[36mPod2\u001b[0m\u001b[36m \u001b[0m│\u001b[35m \u001b[0m\u001b[35m2 \u001b[0m\u001b[35m \u001b[0m│\u001b[32m \u001b[0m\u001b[32m n4 \u001b[0m\u001b[32m \u001b[0m│\u001b[36m \u001b[0m\u001b[36m128 \u001b[0m\u001b[36m \u001b[0m│\u001b[35m \u001b[0m\u001b[35m 378 \u001b[0m\u001b[35m \u001b[0m│\u001b[32m \u001b[0m\u001b[32mTrue\u001b[0m\u001b[32m \u001b[0m│\u001b[36m \u001b[0m\u001b[36m 80 \u001b[0m\u001b[36m \u001b[0m│\u001b[35m \u001b[0m\u001b[35m 45  \u001b[0m\u001b[35m \u001b[0m│\u001b[32m \u001b[0m\u001b[32m 15 \u001b[0m\u001b[32m \u001b[0m│                  \n",
       "           └──────┴────┴──────┴──────┴───────┴──────┴──────┴───────┴──────┘                  \n"
      ]
     },
     "metadata": {},
     "output_type": "display_data"
    },
    {
     "data": {
      "text/html": [
       "<pre style=\"white-space:pre;overflow-x:auto;line-height:normal;font-family:Menlo,'DejaVu Sans Mono',consolas,'Courier New',monospace\"><span style=\"color: #7fbfbf; text-decoration-color: #7fbfbf\">           </span><span style=\"color: #008000; text-decoration-color: #008000; font-weight: bold\">                                                                </span> <a href=\"file:///tmp/ipykernel_152833/1843420858.py\"><span style=\"color: #7f7f7f; text-decoration-color: #7f7f7f\">1843420858.py</span></a><span style=\"color: #7f7f7f; text-decoration-color: #7f7f7f\">:</span><a href=\"file:///tmp/ipykernel_152833/1843420858.py#249\"><span style=\"color: #7f7f7f; text-decoration-color: #7f7f7f\">249</span></a>\n",
       "           <span style=\"color: #008000; text-decoration-color: #008000; font-weight: bold\">---&gt; Run Kubescheduler for Pod4                                 </span>                  \n",
       "           <span style=\"color: #008000; text-decoration-color: #008000; font-weight: bold\">                                                                </span>                  \n",
       "</pre>\n"
      ],
      "text/plain": [
       "\u001b[2;36m          \u001b[0m\u001b[2;36m \u001b[0m\u001b[1;32m                                                                \u001b[0m \u001b]8;id=783445;file:///tmp/ipykernel_152833/1843420858.py\u001b\\\u001b[2m1843420858.py\u001b[0m\u001b]8;;\u001b\\\u001b[2m:\u001b[0m\u001b]8;id=518884;file:///tmp/ipykernel_152833/1843420858.py#249\u001b\\\u001b[2m249\u001b[0m\u001b]8;;\u001b\\\n",
       "           \u001b[1;32m---> Run Kubescheduler for Pod4                                 \u001b[0m                  \n",
       "           \u001b[1;32m                                                                \u001b[0m                  \n"
      ]
     },
     "metadata": {},
     "output_type": "display_data"
    },
    {
     "data": {
      "text/html": [
       "<pre style=\"white-space:pre;overflow-x:auto;line-height:normal;font-family:Menlo,'DejaVu Sans Mono',consolas,'Courier New',monospace\"><span style=\"color: #7fbfbf; text-decoration-color: #7fbfbf\">           </span><span style=\"color: #008080; text-decoration-color: #008080\">👎 PodFitsResources ---&gt; n1                                      </span> <a href=\"file:///tmp/ipykernel_152833/1323010361.py\"><span style=\"color: #7f7f7f; text-decoration-color: #7f7f7f\">1323010361.py</span></a><span style=\"color: #7f7f7f; text-decoration-color: #7f7f7f\">:</span><a href=\"file:///tmp/ipykernel_152833/1323010361.py#67\"><span style=\"color: #7f7f7f; text-decoration-color: #7f7f7f\">67</span></a>\n",
       "</pre>\n"
      ],
      "text/plain": [
       "\u001b[2;36m          \u001b[0m\u001b[2;36m \u001b[0m\u001b[36m👎 PodFitsResources ---> n1                                      \u001b[0m \u001b]8;id=799065;file:///tmp/ipykernel_152833/1323010361.py\u001b\\\u001b[2m1323010361.py\u001b[0m\u001b]8;;\u001b\\\u001b[2m:\u001b[0m\u001b]8;id=308619;file:///tmp/ipykernel_152833/1323010361.py#67\u001b\\\u001b[2m67\u001b[0m\u001b]8;;\u001b\\\n"
      ]
     },
     "metadata": {},
     "output_type": "display_data"
    },
    {
     "data": {
      "text/html": [
       "<pre style=\"white-space:pre;overflow-x:auto;line-height:normal;font-family:Menlo,'DejaVu Sans Mono',consolas,'Courier New',monospace\"><span style=\"color: #7fbfbf; text-decoration-color: #7fbfbf\">           </span><span style=\"color: #008080; text-decoration-color: #008080\">↙  Least used node ---&gt; n1                                        </span> <a href=\"file:///tmp/ipykernel_152833/380400395.py\"><span style=\"color: #7f7f7f; text-decoration-color: #7f7f7f\">380400395.py</span></a><span style=\"color: #7f7f7f; text-decoration-color: #7f7f7f\">:</span><a href=\"file:///tmp/ipykernel_152833/380400395.py#49\"><span style=\"color: #7f7f7f; text-decoration-color: #7f7f7f\">49</span></a>\n",
       "</pre>\n"
      ],
      "text/plain": [
       "\u001b[2;36m          \u001b[0m\u001b[2;36m \u001b[0m\u001b[36m↙  Least used node ---> n1                                        \u001b[0m \u001b]8;id=728159;file:///tmp/ipykernel_152833/380400395.py\u001b\\\u001b[2m380400395.py\u001b[0m\u001b]8;;\u001b\\\u001b[2m:\u001b[0m\u001b]8;id=580391;file:///tmp/ipykernel_152833/380400395.py#49\u001b\\\u001b[2m49\u001b[0m\u001b]8;;\u001b\\\n"
      ]
     },
     "metadata": {},
     "output_type": "display_data"
    },
    {
     "data": {
      "text/html": [
       "<pre style=\"white-space:pre;overflow-x:auto;line-height:normal;font-family:Menlo,'DejaVu Sans Mono',consolas,'Courier New',monospace\"><span style=\"color: #7fbfbf; text-decoration-color: #7fbfbf\">           </span><span style=\"color: #008080; text-decoration-color: #008080\">👎 PodFitsResources ---&gt; n2                                      </span> <a href=\"file:///tmp/ipykernel_152833/1323010361.py\"><span style=\"color: #7f7f7f; text-decoration-color: #7f7f7f\">1323010361.py</span></a><span style=\"color: #7f7f7f; text-decoration-color: #7f7f7f\">:</span><a href=\"file:///tmp/ipykernel_152833/1323010361.py#67\"><span style=\"color: #7f7f7f; text-decoration-color: #7f7f7f\">67</span></a>\n",
       "</pre>\n"
      ],
      "text/plain": [
       "\u001b[2;36m          \u001b[0m\u001b[2;36m \u001b[0m\u001b[36m👎 PodFitsResources ---> n2                                      \u001b[0m \u001b]8;id=940805;file:///tmp/ipykernel_152833/1323010361.py\u001b\\\u001b[2m1323010361.py\u001b[0m\u001b]8;;\u001b\\\u001b[2m:\u001b[0m\u001b]8;id=386569;file:///tmp/ipykernel_152833/1323010361.py#67\u001b\\\u001b[2m67\u001b[0m\u001b]8;;\u001b\\\n"
      ]
     },
     "metadata": {},
     "output_type": "display_data"
    },
    {
     "data": {
      "text/html": [
       "<pre style=\"white-space:pre;overflow-x:auto;line-height:normal;font-family:Menlo,'DejaVu Sans Mono',consolas,'Courier New',monospace\"><span style=\"color: #7fbfbf; text-decoration-color: #7fbfbf\">           </span><span style=\"color: #008080; text-decoration-color: #008080\">💿 Image locality Found ---&gt; n2                                  </span> <a href=\"file:///tmp/ipykernel_152833/380400395.py\"><span style=\"color: #7f7f7f; text-decoration-color: #7f7f7f\">380400395.py</span></a><span style=\"color: #7f7f7f; text-decoration-color: #7f7f7f\">:</span><a href=\"file:///tmp/ipykernel_152833/380400395.py#133\"><span style=\"color: #7f7f7f; text-decoration-color: #7f7f7f\">133</span></a>\n",
       "</pre>\n"
      ],
      "text/plain": [
       "\u001b[2;36m          \u001b[0m\u001b[2;36m \u001b[0m\u001b[36m💿 Image locality Found ---> n2                                  \u001b[0m \u001b]8;id=835347;file:///tmp/ipykernel_152833/380400395.py\u001b\\\u001b[2m380400395.py\u001b[0m\u001b]8;;\u001b\\\u001b[2m:\u001b[0m\u001b]8;id=15885;file:///tmp/ipykernel_152833/380400395.py#133\u001b\\\u001b[2m133\u001b[0m\u001b]8;;\u001b\\\n"
      ]
     },
     "metadata": {},
     "output_type": "display_data"
    },
    {
     "data": {
      "text/html": [
       "<pre style=\"white-space:pre;overflow-x:auto;line-height:normal;font-family:Menlo,'DejaVu Sans Mono',consolas,'Courier New',monospace\"><span style=\"color: #7fbfbf; text-decoration-color: #7fbfbf\">           </span><span style=\"color: #008080; text-decoration-color: #008080\">👎 PodFitsResources ---&gt; n3                                      </span> <a href=\"file:///tmp/ipykernel_152833/1323010361.py\"><span style=\"color: #7f7f7f; text-decoration-color: #7f7f7f\">1323010361.py</span></a><span style=\"color: #7f7f7f; text-decoration-color: #7f7f7f\">:</span><a href=\"file:///tmp/ipykernel_152833/1323010361.py#67\"><span style=\"color: #7f7f7f; text-decoration-color: #7f7f7f\">67</span></a>\n",
       "</pre>\n"
      ],
      "text/plain": [
       "\u001b[2;36m          \u001b[0m\u001b[2;36m \u001b[0m\u001b[36m👎 PodFitsResources ---> n3                                      \u001b[0m \u001b]8;id=866252;file:///tmp/ipykernel_152833/1323010361.py\u001b\\\u001b[2m1323010361.py\u001b[0m\u001b]8;;\u001b\\\u001b[2m:\u001b[0m\u001b]8;id=976906;file:///tmp/ipykernel_152833/1323010361.py#67\u001b\\\u001b[2m67\u001b[0m\u001b]8;;\u001b\\\n"
      ]
     },
     "metadata": {},
     "output_type": "display_data"
    },
    {
     "data": {
      "text/html": [
       "<pre style=\"white-space:pre;overflow-x:auto;line-height:normal;font-family:Menlo,'DejaVu Sans Mono',consolas,'Courier New',monospace\"><span style=\"color: #7fbfbf; text-decoration-color: #7fbfbf\">           </span><span style=\"color: #008080; text-decoration-color: #008080\">👎 PodFitsResources ---&gt; n4                                      </span> <a href=\"file:///tmp/ipykernel_152833/1323010361.py\"><span style=\"color: #7f7f7f; text-decoration-color: #7f7f7f\">1323010361.py</span></a><span style=\"color: #7f7f7f; text-decoration-color: #7f7f7f\">:</span><a href=\"file:///tmp/ipykernel_152833/1323010361.py#67\"><span style=\"color: #7f7f7f; text-decoration-color: #7f7f7f\">67</span></a>\n",
       "</pre>\n"
      ],
      "text/plain": [
       "\u001b[2;36m          \u001b[0m\u001b[2;36m \u001b[0m\u001b[36m👎 PodFitsResources ---> n4                                      \u001b[0m \u001b]8;id=766787;file:///tmp/ipykernel_152833/1323010361.py\u001b\\\u001b[2m1323010361.py\u001b[0m\u001b]8;;\u001b\\\u001b[2m:\u001b[0m\u001b]8;id=181100;file:///tmp/ipykernel_152833/1323010361.py#67\u001b\\\u001b[2m67\u001b[0m\u001b]8;;\u001b\\\n"
      ]
     },
     "metadata": {},
     "output_type": "display_data"
    },
    {
     "data": {
      "text/html": [
       "<pre style=\"white-space:pre;overflow-x:auto;line-height:normal;font-family:Menlo,'DejaVu Sans Mono',consolas,'Courier New',monospace\"><span style=\"color: #7fbfbf; text-decoration-color: #7fbfbf\">           </span><span style=\"color: #008080; text-decoration-color: #008080\">💿 Image locality Found ---&gt; n4                                  </span> <a href=\"file:///tmp/ipykernel_152833/380400395.py\"><span style=\"color: #7f7f7f; text-decoration-color: #7f7f7f\">380400395.py</span></a><span style=\"color: #7f7f7f; text-decoration-color: #7f7f7f\">:</span><a href=\"file:///tmp/ipykernel_152833/380400395.py#133\"><span style=\"color: #7f7f7f; text-decoration-color: #7f7f7f\">133</span></a>\n",
       "</pre>\n"
      ],
      "text/plain": [
       "\u001b[2;36m          \u001b[0m\u001b[2;36m \u001b[0m\u001b[36m💿 Image locality Found ---> n4                                  \u001b[0m \u001b]8;id=314850;file:///tmp/ipykernel_152833/380400395.py\u001b\\\u001b[2m380400395.py\u001b[0m\u001b]8;;\u001b\\\u001b[2m:\u001b[0m\u001b]8;id=410132;file:///tmp/ipykernel_152833/380400395.py#133\u001b\\\u001b[2m133\u001b[0m\u001b]8;;\u001b\\\n"
      ]
     },
     "metadata": {},
     "output_type": "display_data"
    },
    {
     "data": {
      "text/html": [
       "<pre style=\"white-space:pre;overflow-x:auto;line-height:normal;font-family:Menlo,'DejaVu Sans Mono',consolas,'Courier New',monospace\"><span style=\"color: #7fbfbf; text-decoration-color: #7fbfbf\">           </span><span style=\"color: #008080; text-decoration-color: #008080\">👎 PodFitsResources ---&gt; n5                                      </span> <a href=\"file:///tmp/ipykernel_152833/1323010361.py\"><span style=\"color: #7f7f7f; text-decoration-color: #7f7f7f\">1323010361.py</span></a><span style=\"color: #7f7f7f; text-decoration-color: #7f7f7f\">:</span><a href=\"file:///tmp/ipykernel_152833/1323010361.py#67\"><span style=\"color: #7f7f7f; text-decoration-color: #7f7f7f\">67</span></a>\n",
       "</pre>\n"
      ],
      "text/plain": [
       "\u001b[2;36m          \u001b[0m\u001b[2;36m \u001b[0m\u001b[36m👎 PodFitsResources ---> n5                                      \u001b[0m \u001b]8;id=428300;file:///tmp/ipykernel_152833/1323010361.py\u001b\\\u001b[2m1323010361.py\u001b[0m\u001b]8;;\u001b\\\u001b[2m:\u001b[0m\u001b]8;id=998843;file:///tmp/ipykernel_152833/1323010361.py#67\u001b\\\u001b[2m67\u001b[0m\u001b]8;;\u001b\\\n"
      ]
     },
     "metadata": {},
     "output_type": "display_data"
    },
    {
     "data": {
      "text/html": [
       "<pre style=\"white-space:pre;overflow-x:auto;line-height:normal;font-family:Menlo,'DejaVu Sans Mono',consolas,'Courier New',monospace\"><span style=\"color: #7fbfbf; text-decoration-color: #7fbfbf\">           </span><span style=\"color: #008080; text-decoration-color: #008080\">💿 Image locality Found ---&gt; n5                                  </span> <a href=\"file:///tmp/ipykernel_152833/380400395.py\"><span style=\"color: #7f7f7f; text-decoration-color: #7f7f7f\">380400395.py</span></a><span style=\"color: #7f7f7f; text-decoration-color: #7f7f7f\">:</span><a href=\"file:///tmp/ipykernel_152833/380400395.py#133\"><span style=\"color: #7f7f7f; text-decoration-color: #7f7f7f\">133</span></a>\n",
       "</pre>\n"
      ],
      "text/plain": [
       "\u001b[2;36m          \u001b[0m\u001b[2;36m \u001b[0m\u001b[36m💿 Image locality Found ---> n5                                  \u001b[0m \u001b]8;id=877272;file:///tmp/ipykernel_152833/380400395.py\u001b\\\u001b[2m380400395.py\u001b[0m\u001b]8;;\u001b\\\u001b[2m:\u001b[0m\u001b]8;id=44032;file:///tmp/ipykernel_152833/380400395.py#133\u001b\\\u001b[2m133\u001b[0m\u001b]8;;\u001b\\\n"
      ]
     },
     "metadata": {},
     "output_type": "display_data"
    },
    {
     "data": {
      "text/html": [
       "<pre style=\"white-space:pre;overflow-x:auto;line-height:normal;font-family:Menlo,'DejaVu Sans Mono',consolas,'Courier New',monospace\"><span style=\"color: #7fbfbf; text-decoration-color: #7fbfbf\">           </span><span style=\"color: #008080; text-decoration-color: #008080\">👎 PodFitsResources ---&gt; n6                                      </span> <a href=\"file:///tmp/ipykernel_152833/1323010361.py\"><span style=\"color: #7f7f7f; text-decoration-color: #7f7f7f\">1323010361.py</span></a><span style=\"color: #7f7f7f; text-decoration-color: #7f7f7f\">:</span><a href=\"file:///tmp/ipykernel_152833/1323010361.py#67\"><span style=\"color: #7f7f7f; text-decoration-color: #7f7f7f\">67</span></a>\n",
       "</pre>\n"
      ],
      "text/plain": [
       "\u001b[2;36m          \u001b[0m\u001b[2;36m \u001b[0m\u001b[36m👎 PodFitsResources ---> n6                                      \u001b[0m \u001b]8;id=605802;file:///tmp/ipykernel_152833/1323010361.py\u001b\\\u001b[2m1323010361.py\u001b[0m\u001b]8;;\u001b\\\u001b[2m:\u001b[0m\u001b]8;id=765844;file:///tmp/ipykernel_152833/1323010361.py#67\u001b\\\u001b[2m67\u001b[0m\u001b]8;;\u001b\\\n"
      ]
     },
     "metadata": {},
     "output_type": "display_data"
    },
    {
     "data": {
      "text/html": [
       "<pre style=\"white-space:pre;overflow-x:auto;line-height:normal;font-family:Menlo,'DejaVu Sans Mono',consolas,'Courier New',monospace\"><span style=\"color: #7fbfbf; text-decoration-color: #7fbfbf\">           </span><span style=\"color: #800000; text-decoration-color: #800000; font-weight: bold\">                                                                </span> <a href=\"file:///tmp/ipykernel_152833/1323010361.py\"><span style=\"color: #7f7f7f; text-decoration-color: #7f7f7f\">1323010361.py</span></a><span style=\"color: #7f7f7f; text-decoration-color: #7f7f7f\">:</span><a href=\"file:///tmp/ipykernel_152833/1323010361.py#103\"><span style=\"color: #7f7f7f; text-decoration-color: #7f7f7f\">103</span></a>\n",
       "           <span style=\"color: #800000; text-decoration-color: #800000; font-weight: bold\">---&gt; No feasible node found ⌛ Simulation Time: </span><span style=\"color: #008080; text-decoration-color: #008080; font-weight: bold\">125</span><span style=\"color: #800000; text-decoration-color: #800000; font-weight: bold\"> seconds     </span>                  \n",
       "           <span style=\"color: #800000; text-decoration-color: #800000; font-weight: bold\">                                                                </span>                  \n",
       "</pre>\n"
      ],
      "text/plain": [
       "\u001b[2;36m          \u001b[0m\u001b[2;36m \u001b[0m\u001b[1;31m                                                                \u001b[0m \u001b]8;id=484861;file:///tmp/ipykernel_152833/1323010361.py\u001b\\\u001b[2m1323010361.py\u001b[0m\u001b]8;;\u001b\\\u001b[2m:\u001b[0m\u001b]8;id=286317;file:///tmp/ipykernel_152833/1323010361.py#103\u001b\\\u001b[2m103\u001b[0m\u001b]8;;\u001b\\\n",
       "           \u001b[1;31m---> No feasible node found ⌛ Simulation Time: \u001b[0m\u001b[1;36m125\u001b[0m\u001b[1;31m seconds     \u001b[0m                  \n",
       "           \u001b[1;31m                                                                \u001b[0m                  \n"
      ]
     },
     "metadata": {},
     "output_type": "display_data"
    },
    {
     "data": {
      "text/html": [
       "<pre style=\"white-space:pre;overflow-x:auto;line-height:normal;font-family:Menlo,'DejaVu Sans Mono',consolas,'Courier New',monospace\"><span style=\"color: #7fbfbf; text-decoration-color: #7fbfbf\">           </span><span style=\"font-style: italic\">                        Pod Description                         </span> <a href=\"file:///tmp/ipykernel_152833/1843420858.py\"><span style=\"color: #7f7f7f; text-decoration-color: #7f7f7f\">1843420858.py</span></a><span style=\"color: #7f7f7f; text-decoration-color: #7f7f7f\">:</span><a href=\"file:///tmp/ipykernel_152833/1843420858.py#267\"><span style=\"color: #7f7f7f; text-decoration-color: #7f7f7f\">267</span></a>\n",
       "           ┏━━━━━━┳━━━━┳━━━━━━┳━━━━━━┳━━━━━━━┳━━━━━━┳━━━━━━┳━━━━━━━┳━━━━━━┓                  \n",
       "           ┃<span style=\"font-weight: bold\"> Name </span>┃<span style=\"font-weight: bold\"> ID </span>┃<span style=\"font-weight: bold\"> Node </span>┃<span style=\"font-weight: bold\"> Mem… </span>┃<span style=\"font-weight: bold\">  CPU  </span>┃<span style=\"font-weight: bold\"> Bind </span>┃<span style=\"font-weight: bold\"> Port </span>┃<span style=\"font-weight: bold\"> Arri… </span>┃<span style=\"font-weight: bold\"> Ser… </span>┃                  \n",
       "           ┃      ┃    ┃<span style=\"font-weight: bold\"> Ass… </span>┃<span style=\"font-weight: bold\"> Req  </span>┃<span style=\"font-weight: bold\">  Req  </span>┃      ┃      ┃<span style=\"font-weight: bold\"> Time  </span>┃<span style=\"font-weight: bold\"> Time </span>┃                  \n",
       "           ┡━━━━━━╇━━━━╇━━━━━━╇━━━━━━╇━━━━━━━╇━━━━━━╇━━━━━━╇━━━━━━━╇━━━━━━┩                  \n",
       "           │<span style=\"color: #008080; text-decoration-color: #008080\"> Fro… </span>│<span style=\"color: #800080; text-decoration-color: #800080\"> 0  </span>│<span style=\"color: #008000; text-decoration-color: #008000\">  n2  </span>│<span style=\"color: #008080; text-decoration-color: #008080\">  64  </span>│<span style=\"color: #800080; text-decoration-color: #800080\">  120  </span>│<span style=\"color: #008000; text-decoration-color: #008000\"> True </span>│<span style=\"color: #008080; text-decoration-color: #008080\">  90  </span>│<span style=\"color: #800080; text-decoration-color: #800080\">  35   </span>│<span style=\"color: #008000; text-decoration-color: #008000\"> 165  </span>│                  \n",
       "           │<span style=\"color: #008080; text-decoration-color: #008080\"> Pod1 </span>│<span style=\"color: #800080; text-decoration-color: #800080\"> 1  </span>│<span style=\"color: #008000; text-decoration-color: #008000\">  n4  </span>│<span style=\"color: #008080; text-decoration-color: #008080\">  64  </span>│<span style=\"color: #800080; text-decoration-color: #800080\">  128  </span>│<span style=\"color: #008000; text-decoration-color: #008000\"> True </span>│<span style=\"color: #008080; text-decoration-color: #008080\">  80  </span>│<span style=\"color: #800080; text-decoration-color: #800080\">  40   </span>│<span style=\"color: #008000; text-decoration-color: #008000\">  15  </span>│                  \n",
       "           │<span style=\"color: #008080; text-decoration-color: #008080\"> Pod2 </span>│<span style=\"color: #800080; text-decoration-color: #800080\"> 2  </span>│<span style=\"color: #008000; text-decoration-color: #008000\">      </span>│<span style=\"color: #008080; text-decoration-color: #008080\"> 128  </span>│<span style=\"color: #800080; text-decoration-color: #800080\">  378  </span>│<span style=\"color: #008000; text-decoration-color: #008000\"> Fal… </span>│<span style=\"color: #008080; text-decoration-color: #008080\">  80  </span>│<span style=\"color: #800080; text-decoration-color: #800080\">  45   </span>│<span style=\"color: #008000; text-decoration-color: #008000\">  15  </span>│                  \n",
       "           │<span style=\"color: #008080; text-decoration-color: #008080\"> Pod3 </span>│<span style=\"color: #800080; text-decoration-color: #800080\"> 3  </span>│<span style=\"color: #008000; text-decoration-color: #008000\">  n4  </span>│<span style=\"color: #008080; text-decoration-color: #008080\"> 192  </span>│<span style=\"color: #800080; text-decoration-color: #800080\">  628  </span>│<span style=\"color: #008000; text-decoration-color: #008000\"> True </span>│<span style=\"color: #008080; text-decoration-color: #008080\"> 5000 </span>│<span style=\"color: #800080; text-decoration-color: #800080\">  50   </span>│<span style=\"color: #008000; text-decoration-color: #008000\">  15  </span>│                  \n",
       "           │<span style=\"color: #008080; text-decoration-color: #008080\"> Pod4 </span>│<span style=\"color: #800080; text-decoration-color: #800080\"> 4  </span>│<span style=\"color: #008000; text-decoration-color: #008000\">      </span>│<span style=\"color: #008080; text-decoration-color: #008080\"> 192  </span>│<span style=\"color: #800080; text-decoration-color: #800080\"> 5128  </span>│<span style=\"color: #008000; text-decoration-color: #008000\"> Fal… </span>│<span style=\"color: #008080; text-decoration-color: #008080\"> None </span>│<span style=\"color: #800080; text-decoration-color: #800080\">  55   </span>│<span style=\"color: #008000; text-decoration-color: #008000\">  15  </span>│                  \n",
       "           │<span style=\"color: #008080; text-decoration-color: #008080\"> Pod5 </span>│<span style=\"color: #800080; text-decoration-color: #800080\"> 5  </span>│<span style=\"color: #008000; text-decoration-color: #008000\">  n5  </span>│<span style=\"color: #008080; text-decoration-color: #008080\"> 192  </span>│<span style=\"color: #800080; text-decoration-color: #800080\">  700  </span>│<span style=\"color: #008000; text-decoration-color: #008000\"> True </span>│<span style=\"color: #008080; text-decoration-color: #008080\"> 2000 </span>│<span style=\"color: #800080; text-decoration-color: #800080\">  60   </span>│<span style=\"color: #008000; text-decoration-color: #008000\"> 155  </span>│                  \n",
       "           │<span style=\"color: #008080; text-decoration-color: #008080\"> Pod2 </span>│<span style=\"color: #800080; text-decoration-color: #800080\"> 2  </span>│<span style=\"color: #008000; text-decoration-color: #008000\">  n4  </span>│<span style=\"color: #008080; text-decoration-color: #008080\"> 128  </span>│<span style=\"color: #800080; text-decoration-color: #800080\">  378  </span>│<span style=\"color: #008000; text-decoration-color: #008000\"> True </span>│<span style=\"color: #008080; text-decoration-color: #008080\">  80  </span>│<span style=\"color: #800080; text-decoration-color: #800080\">  45   </span>│<span style=\"color: #008000; text-decoration-color: #008000\">  15  </span>│                  \n",
       "           │<span style=\"color: #008080; text-decoration-color: #008080\"> Pod4 </span>│<span style=\"color: #800080; text-decoration-color: #800080\"> 4  </span>│<span style=\"color: #008000; text-decoration-color: #008000\">      </span>│<span style=\"color: #008080; text-decoration-color: #008080\"> 192  </span>│<span style=\"color: #800080; text-decoration-color: #800080\"> 5128  </span>│<span style=\"color: #008000; text-decoration-color: #008000\"> Fal… </span>│<span style=\"color: #008080; text-decoration-color: #008080\"> None </span>│<span style=\"color: #800080; text-decoration-color: #800080\">  55   </span>│<span style=\"color: #008000; text-decoration-color: #008000\">  15  </span>│                  \n",
       "           └──────┴────┴──────┴──────┴───────┴──────┴──────┴───────┴──────┘                  \n",
       "</pre>\n"
      ],
      "text/plain": [
       "\u001b[2;36m          \u001b[0m\u001b[2;36m \u001b[0m\u001b[3m                        Pod Description                         \u001b[0m \u001b]8;id=935671;file:///tmp/ipykernel_152833/1843420858.py\u001b\\\u001b[2m1843420858.py\u001b[0m\u001b]8;;\u001b\\\u001b[2m:\u001b[0m\u001b]8;id=894992;file:///tmp/ipykernel_152833/1843420858.py#267\u001b\\\u001b[2m267\u001b[0m\u001b]8;;\u001b\\\n",
       "           ┏━━━━━━┳━━━━┳━━━━━━┳━━━━━━┳━━━━━━━┳━━━━━━┳━━━━━━┳━━━━━━━┳━━━━━━┓                  \n",
       "           ┃\u001b[1m \u001b[0m\u001b[1mName\u001b[0m\u001b[1m \u001b[0m┃\u001b[1m \u001b[0m\u001b[1mID\u001b[0m\u001b[1m \u001b[0m┃\u001b[1m \u001b[0m\u001b[1mNode\u001b[0m\u001b[1m \u001b[0m┃\u001b[1m \u001b[0m\u001b[1mMem…\u001b[0m\u001b[1m \u001b[0m┃\u001b[1m \u001b[0m\u001b[1m CPU \u001b[0m\u001b[1m \u001b[0m┃\u001b[1m \u001b[0m\u001b[1mBind\u001b[0m\u001b[1m \u001b[0m┃\u001b[1m \u001b[0m\u001b[1mPort\u001b[0m\u001b[1m \u001b[0m┃\u001b[1m \u001b[0m\u001b[1mArri…\u001b[0m\u001b[1m \u001b[0m┃\u001b[1m \u001b[0m\u001b[1mSer…\u001b[0m\u001b[1m \u001b[0m┃                  \n",
       "           ┃      ┃    ┃\u001b[1m \u001b[0m\u001b[1mAss…\u001b[0m\u001b[1m \u001b[0m┃\u001b[1m \u001b[0m\u001b[1mReq \u001b[0m\u001b[1m \u001b[0m┃\u001b[1m \u001b[0m\u001b[1m Req \u001b[0m\u001b[1m \u001b[0m┃      ┃      ┃\u001b[1m \u001b[0m\u001b[1mTime \u001b[0m\u001b[1m \u001b[0m┃\u001b[1m \u001b[0m\u001b[1mTime\u001b[0m\u001b[1m \u001b[0m┃                  \n",
       "           ┡━━━━━━╇━━━━╇━━━━━━╇━━━━━━╇━━━━━━━╇━━━━━━╇━━━━━━╇━━━━━━━╇━━━━━━┩                  \n",
       "           │\u001b[36m \u001b[0m\u001b[36mFro…\u001b[0m\u001b[36m \u001b[0m│\u001b[35m \u001b[0m\u001b[35m0 \u001b[0m\u001b[35m \u001b[0m│\u001b[32m \u001b[0m\u001b[32m n2 \u001b[0m\u001b[32m \u001b[0m│\u001b[36m \u001b[0m\u001b[36m 64 \u001b[0m\u001b[36m \u001b[0m│\u001b[35m \u001b[0m\u001b[35m 120 \u001b[0m\u001b[35m \u001b[0m│\u001b[32m \u001b[0m\u001b[32mTrue\u001b[0m\u001b[32m \u001b[0m│\u001b[36m \u001b[0m\u001b[36m 90 \u001b[0m\u001b[36m \u001b[0m│\u001b[35m \u001b[0m\u001b[35m 35  \u001b[0m\u001b[35m \u001b[0m│\u001b[32m \u001b[0m\u001b[32m165 \u001b[0m\u001b[32m \u001b[0m│                  \n",
       "           │\u001b[36m \u001b[0m\u001b[36mPod1\u001b[0m\u001b[36m \u001b[0m│\u001b[35m \u001b[0m\u001b[35m1 \u001b[0m\u001b[35m \u001b[0m│\u001b[32m \u001b[0m\u001b[32m n4 \u001b[0m\u001b[32m \u001b[0m│\u001b[36m \u001b[0m\u001b[36m 64 \u001b[0m\u001b[36m \u001b[0m│\u001b[35m \u001b[0m\u001b[35m 128 \u001b[0m\u001b[35m \u001b[0m│\u001b[32m \u001b[0m\u001b[32mTrue\u001b[0m\u001b[32m \u001b[0m│\u001b[36m \u001b[0m\u001b[36m 80 \u001b[0m\u001b[36m \u001b[0m│\u001b[35m \u001b[0m\u001b[35m 40  \u001b[0m\u001b[35m \u001b[0m│\u001b[32m \u001b[0m\u001b[32m 15 \u001b[0m\u001b[32m \u001b[0m│                  \n",
       "           │\u001b[36m \u001b[0m\u001b[36mPod2\u001b[0m\u001b[36m \u001b[0m│\u001b[35m \u001b[0m\u001b[35m2 \u001b[0m\u001b[35m \u001b[0m│\u001b[32m \u001b[0m\u001b[32m    \u001b[0m\u001b[32m \u001b[0m│\u001b[36m \u001b[0m\u001b[36m128 \u001b[0m\u001b[36m \u001b[0m│\u001b[35m \u001b[0m\u001b[35m 378 \u001b[0m\u001b[35m \u001b[0m│\u001b[32m \u001b[0m\u001b[32mFal…\u001b[0m\u001b[32m \u001b[0m│\u001b[36m \u001b[0m\u001b[36m 80 \u001b[0m\u001b[36m \u001b[0m│\u001b[35m \u001b[0m\u001b[35m 45  \u001b[0m\u001b[35m \u001b[0m│\u001b[32m \u001b[0m\u001b[32m 15 \u001b[0m\u001b[32m \u001b[0m│                  \n",
       "           │\u001b[36m \u001b[0m\u001b[36mPod3\u001b[0m\u001b[36m \u001b[0m│\u001b[35m \u001b[0m\u001b[35m3 \u001b[0m\u001b[35m \u001b[0m│\u001b[32m \u001b[0m\u001b[32m n4 \u001b[0m\u001b[32m \u001b[0m│\u001b[36m \u001b[0m\u001b[36m192 \u001b[0m\u001b[36m \u001b[0m│\u001b[35m \u001b[0m\u001b[35m 628 \u001b[0m\u001b[35m \u001b[0m│\u001b[32m \u001b[0m\u001b[32mTrue\u001b[0m\u001b[32m \u001b[0m│\u001b[36m \u001b[0m\u001b[36m5000\u001b[0m\u001b[36m \u001b[0m│\u001b[35m \u001b[0m\u001b[35m 50  \u001b[0m\u001b[35m \u001b[0m│\u001b[32m \u001b[0m\u001b[32m 15 \u001b[0m\u001b[32m \u001b[0m│                  \n",
       "           │\u001b[36m \u001b[0m\u001b[36mPod4\u001b[0m\u001b[36m \u001b[0m│\u001b[35m \u001b[0m\u001b[35m4 \u001b[0m\u001b[35m \u001b[0m│\u001b[32m \u001b[0m\u001b[32m    \u001b[0m\u001b[32m \u001b[0m│\u001b[36m \u001b[0m\u001b[36m192 \u001b[0m\u001b[36m \u001b[0m│\u001b[35m \u001b[0m\u001b[35m5128 \u001b[0m\u001b[35m \u001b[0m│\u001b[32m \u001b[0m\u001b[32mFal…\u001b[0m\u001b[32m \u001b[0m│\u001b[36m \u001b[0m\u001b[36mNone\u001b[0m\u001b[36m \u001b[0m│\u001b[35m \u001b[0m\u001b[35m 55  \u001b[0m\u001b[35m \u001b[0m│\u001b[32m \u001b[0m\u001b[32m 15 \u001b[0m\u001b[32m \u001b[0m│                  \n",
       "           │\u001b[36m \u001b[0m\u001b[36mPod5\u001b[0m\u001b[36m \u001b[0m│\u001b[35m \u001b[0m\u001b[35m5 \u001b[0m\u001b[35m \u001b[0m│\u001b[32m \u001b[0m\u001b[32m n5 \u001b[0m\u001b[32m \u001b[0m│\u001b[36m \u001b[0m\u001b[36m192 \u001b[0m\u001b[36m \u001b[0m│\u001b[35m \u001b[0m\u001b[35m 700 \u001b[0m\u001b[35m \u001b[0m│\u001b[32m \u001b[0m\u001b[32mTrue\u001b[0m\u001b[32m \u001b[0m│\u001b[36m \u001b[0m\u001b[36m2000\u001b[0m\u001b[36m \u001b[0m│\u001b[35m \u001b[0m\u001b[35m 60  \u001b[0m\u001b[35m \u001b[0m│\u001b[32m \u001b[0m\u001b[32m155 \u001b[0m\u001b[32m \u001b[0m│                  \n",
       "           │\u001b[36m \u001b[0m\u001b[36mPod2\u001b[0m\u001b[36m \u001b[0m│\u001b[35m \u001b[0m\u001b[35m2 \u001b[0m\u001b[35m \u001b[0m│\u001b[32m \u001b[0m\u001b[32m n4 \u001b[0m\u001b[32m \u001b[0m│\u001b[36m \u001b[0m\u001b[36m128 \u001b[0m\u001b[36m \u001b[0m│\u001b[35m \u001b[0m\u001b[35m 378 \u001b[0m\u001b[35m \u001b[0m│\u001b[32m \u001b[0m\u001b[32mTrue\u001b[0m\u001b[32m \u001b[0m│\u001b[36m \u001b[0m\u001b[36m 80 \u001b[0m\u001b[36m \u001b[0m│\u001b[35m \u001b[0m\u001b[35m 45  \u001b[0m\u001b[35m \u001b[0m│\u001b[32m \u001b[0m\u001b[32m 15 \u001b[0m\u001b[32m \u001b[0m│                  \n",
       "           │\u001b[36m \u001b[0m\u001b[36mPod4\u001b[0m\u001b[36m \u001b[0m│\u001b[35m \u001b[0m\u001b[35m4 \u001b[0m\u001b[35m \u001b[0m│\u001b[32m \u001b[0m\u001b[32m    \u001b[0m\u001b[32m \u001b[0m│\u001b[36m \u001b[0m\u001b[36m192 \u001b[0m\u001b[36m \u001b[0m│\u001b[35m \u001b[0m\u001b[35m5128 \u001b[0m\u001b[35m \u001b[0m│\u001b[32m \u001b[0m\u001b[32mFal…\u001b[0m\u001b[32m \u001b[0m│\u001b[36m \u001b[0m\u001b[36mNone\u001b[0m\u001b[36m \u001b[0m│\u001b[35m \u001b[0m\u001b[35m 55  \u001b[0m\u001b[35m \u001b[0m│\u001b[32m \u001b[0m\u001b[32m 15 \u001b[0m\u001b[32m \u001b[0m│                  \n",
       "           └──────┴────┴──────┴──────┴───────┴──────┴──────┴───────┴──────┘                  \n"
      ]
     },
     "metadata": {},
     "output_type": "display_data"
    },
    {
     "data": {
      "text/html": [
       "<pre style=\"white-space:pre;overflow-x:auto;line-height:normal;font-family:Menlo,'DejaVu Sans Mono',consolas,'Courier New',monospace\"><span style=\"color: #7fbfbf; text-decoration-color: #7fbfbf\">           </span><span style=\"color: #800000; text-decoration-color: #800000; font-weight: bold\">                                                                </span> <a href=\"file:///tmp/ipykernel_152833/1843420858.py\"><span style=\"color: #7f7f7f; text-decoration-color: #7f7f7f\">1843420858.py</span></a><span style=\"color: #7f7f7f; text-decoration-color: #7f7f7f\">:</span><a href=\"file:///tmp/ipykernel_152833/1843420858.py#228\"><span style=\"color: #7f7f7f; text-decoration-color: #7f7f7f\">228</span></a>\n",
       "           <span style=\"color: #800000; text-decoration-color: #800000; font-weight: bold\">===&gt; Can't Remove Pod4 because it's not bind                    </span>                  \n",
       "</pre>\n"
      ],
      "text/plain": [
       "\u001b[2;36m          \u001b[0m\u001b[2;36m \u001b[0m\u001b[1;31m                                                                \u001b[0m \u001b]8;id=673574;file:///tmp/ipykernel_152833/1843420858.py\u001b\\\u001b[2m1843420858.py\u001b[0m\u001b]8;;\u001b\\\u001b[2m:\u001b[0m\u001b]8;id=730018;file:///tmp/ipykernel_152833/1843420858.py#228\u001b\\\u001b[2m228\u001b[0m\u001b]8;;\u001b\\\n",
       "           \u001b[1;31m===> Can't Remove Pod4 because it's not bind                    \u001b[0m                  \n"
      ]
     },
     "metadata": {},
     "output_type": "display_data"
    },
    {
     "data": {
      "text/html": [
       "<pre style=\"white-space:pre;overflow-x:auto;line-height:normal;font-family:Menlo,'DejaVu Sans Mono',consolas,'Courier New',monospace\"><span style=\"color: #7fbfbf; text-decoration-color: #7fbfbf\">           </span>---&gt; Pod4 again entered the queue at <span style=\"color: #008080; text-decoration-color: #008080; font-weight: bold\">125</span> seconds <span style=\"font-weight: bold\">[</span>Retry # <span style=\"color: #008080; text-decoration-color: #008080; font-weight: bold\">2</span><span style=\"font-weight: bold\">]</span>     <a href=\"file:///tmp/ipykernel_152833/1843420858.py\"><span style=\"color: #7f7f7f; text-decoration-color: #7f7f7f\">1843420858.py</span></a><span style=\"color: #7f7f7f; text-decoration-color: #7f7f7f\">:</span><a href=\"file:///tmp/ipykernel_152833/1843420858.py#238\"><span style=\"color: #7f7f7f; text-decoration-color: #7f7f7f\">238</span></a>\n",
       "</pre>\n"
      ],
      "text/plain": [
       "\u001b[2;36m          \u001b[0m\u001b[2;36m \u001b[0m---> Pod4 again entered the queue at \u001b[1;36m125\u001b[0m seconds \u001b[1m[\u001b[0mRetry # \u001b[1;36m2\u001b[0m\u001b[1m]\u001b[0m     \u001b]8;id=444629;file:///tmp/ipykernel_152833/1843420858.py\u001b\\\u001b[2m1843420858.py\u001b[0m\u001b]8;;\u001b\\\u001b[2m:\u001b[0m\u001b]8;id=45989;file:///tmp/ipykernel_152833/1843420858.py#238\u001b\\\u001b[2m238\u001b[0m\u001b]8;;\u001b\\\n"
      ]
     },
     "metadata": {},
     "output_type": "display_data"
    },
    {
     "data": {
      "text/html": [
       "<pre style=\"white-space:pre;overflow-x:auto;line-height:normal;font-family:Menlo,'DejaVu Sans Mono',consolas,'Courier New',monospace\"><span style=\"color: #7fbfbf; text-decoration-color: #7fbfbf\">           </span><span style=\"color: #800000; text-decoration-color: #800000; font-weight: bold\">                                                                </span> <a href=\"file:///tmp/ipykernel_152833/1843420858.py\"><span style=\"color: #7f7f7f; text-decoration-color: #7f7f7f\">1843420858.py</span></a><span style=\"color: #7f7f7f; text-decoration-color: #7f7f7f\">:</span><a href=\"file:///tmp/ipykernel_152833/1843420858.py#219\"><span style=\"color: #7f7f7f; text-decoration-color: #7f7f7f\">219</span></a>\n",
       "           <span style=\"color: #800000; text-decoration-color: #800000; font-weight: bold\">===&gt; Removing Pod2 ⌛ Simulation Time: </span><span style=\"color: #008080; text-decoration-color: #008080; font-weight: bold\">130</span><span style=\"color: #800000; text-decoration-color: #800000; font-weight: bold\"> seconds              </span>                  \n",
       "</pre>\n"
      ],
      "text/plain": [
       "\u001b[2;36m          \u001b[0m\u001b[2;36m \u001b[0m\u001b[1;31m                                                                \u001b[0m \u001b]8;id=573566;file:///tmp/ipykernel_152833/1843420858.py\u001b\\\u001b[2m1843420858.py\u001b[0m\u001b]8;;\u001b\\\u001b[2m:\u001b[0m\u001b]8;id=275327;file:///tmp/ipykernel_152833/1843420858.py#219\u001b\\\u001b[2m219\u001b[0m\u001b]8;;\u001b\\\n",
       "           \u001b[1;31m===> Removing Pod2 ⌛ Simulation Time: \u001b[0m\u001b[1;36m130\u001b[0m\u001b[1;31m seconds              \u001b[0m                  \n"
      ]
     },
     "metadata": {},
     "output_type": "display_data"
    },
    {
     "data": {
      "text/html": [
       "<pre style=\"white-space:pre;overflow-x:auto;line-height:normal;font-family:Menlo,'DejaVu Sans Mono',consolas,'Courier New',monospace\"><span style=\"color: #7fbfbf; text-decoration-color: #7fbfbf\">           </span><span style=\"color: #008000; text-decoration-color: #008000; font-weight: bold\">                                                                </span> <a href=\"file:///tmp/ipykernel_152833/1843420858.py\"><span style=\"color: #7f7f7f; text-decoration-color: #7f7f7f\">1843420858.py</span></a><span style=\"color: #7f7f7f; text-decoration-color: #7f7f7f\">:</span><a href=\"file:///tmp/ipykernel_152833/1843420858.py#249\"><span style=\"color: #7f7f7f; text-decoration-color: #7f7f7f\">249</span></a>\n",
       "           <span style=\"color: #008000; text-decoration-color: #008000; font-weight: bold\">---&gt; Run Kubescheduler for Pod4                                 </span>                  \n",
       "           <span style=\"color: #008000; text-decoration-color: #008000; font-weight: bold\">                                                                </span>                  \n",
       "</pre>\n"
      ],
      "text/plain": [
       "\u001b[2;36m          \u001b[0m\u001b[2;36m \u001b[0m\u001b[1;32m                                                                \u001b[0m \u001b]8;id=840023;file:///tmp/ipykernel_152833/1843420858.py\u001b\\\u001b[2m1843420858.py\u001b[0m\u001b]8;;\u001b\\\u001b[2m:\u001b[0m\u001b]8;id=194730;file:///tmp/ipykernel_152833/1843420858.py#249\u001b\\\u001b[2m249\u001b[0m\u001b]8;;\u001b\\\n",
       "           \u001b[1;32m---> Run Kubescheduler for Pod4                                 \u001b[0m                  \n",
       "           \u001b[1;32m                                                                \u001b[0m                  \n"
      ]
     },
     "metadata": {},
     "output_type": "display_data"
    },
    {
     "data": {
      "text/html": [
       "<pre style=\"white-space:pre;overflow-x:auto;line-height:normal;font-family:Menlo,'DejaVu Sans Mono',consolas,'Courier New',monospace\"><span style=\"color: #7fbfbf; text-decoration-color: #7fbfbf\">           </span><span style=\"color: #008080; text-decoration-color: #008080\">👎 PodFitsResources ---&gt; n1                                      </span> <a href=\"file:///tmp/ipykernel_152833/1323010361.py\"><span style=\"color: #7f7f7f; text-decoration-color: #7f7f7f\">1323010361.py</span></a><span style=\"color: #7f7f7f; text-decoration-color: #7f7f7f\">:</span><a href=\"file:///tmp/ipykernel_152833/1323010361.py#67\"><span style=\"color: #7f7f7f; text-decoration-color: #7f7f7f\">67</span></a>\n",
       "</pre>\n"
      ],
      "text/plain": [
       "\u001b[2;36m          \u001b[0m\u001b[2;36m \u001b[0m\u001b[36m👎 PodFitsResources ---> n1                                      \u001b[0m \u001b]8;id=786606;file:///tmp/ipykernel_152833/1323010361.py\u001b\\\u001b[2m1323010361.py\u001b[0m\u001b]8;;\u001b\\\u001b[2m:\u001b[0m\u001b]8;id=28392;file:///tmp/ipykernel_152833/1323010361.py#67\u001b\\\u001b[2m67\u001b[0m\u001b]8;;\u001b\\\n"
      ]
     },
     "metadata": {},
     "output_type": "display_data"
    },
    {
     "data": {
      "text/html": [
       "<pre style=\"white-space:pre;overflow-x:auto;line-height:normal;font-family:Menlo,'DejaVu Sans Mono',consolas,'Courier New',monospace\"><span style=\"color: #7fbfbf; text-decoration-color: #7fbfbf\">           </span><span style=\"color: #008080; text-decoration-color: #008080\">↙  Least used node ---&gt; n1                                        </span> <a href=\"file:///tmp/ipykernel_152833/380400395.py\"><span style=\"color: #7f7f7f; text-decoration-color: #7f7f7f\">380400395.py</span></a><span style=\"color: #7f7f7f; text-decoration-color: #7f7f7f\">:</span><a href=\"file:///tmp/ipykernel_152833/380400395.py#49\"><span style=\"color: #7f7f7f; text-decoration-color: #7f7f7f\">49</span></a>\n",
       "</pre>\n"
      ],
      "text/plain": [
       "\u001b[2;36m          \u001b[0m\u001b[2;36m \u001b[0m\u001b[36m↙  Least used node ---> n1                                        \u001b[0m \u001b]8;id=568723;file:///tmp/ipykernel_152833/380400395.py\u001b\\\u001b[2m380400395.py\u001b[0m\u001b]8;;\u001b\\\u001b[2m:\u001b[0m\u001b]8;id=637957;file:///tmp/ipykernel_152833/380400395.py#49\u001b\\\u001b[2m49\u001b[0m\u001b]8;;\u001b\\\n"
      ]
     },
     "metadata": {},
     "output_type": "display_data"
    },
    {
     "data": {
      "text/html": [
       "<pre style=\"white-space:pre;overflow-x:auto;line-height:normal;font-family:Menlo,'DejaVu Sans Mono',consolas,'Courier New',monospace\"><span style=\"color: #7fbfbf; text-decoration-color: #7fbfbf\">           </span><span style=\"color: #008080; text-decoration-color: #008080\">👎 PodFitsResources ---&gt; n2                                      </span> <a href=\"file:///tmp/ipykernel_152833/1323010361.py\"><span style=\"color: #7f7f7f; text-decoration-color: #7f7f7f\">1323010361.py</span></a><span style=\"color: #7f7f7f; text-decoration-color: #7f7f7f\">:</span><a href=\"file:///tmp/ipykernel_152833/1323010361.py#67\"><span style=\"color: #7f7f7f; text-decoration-color: #7f7f7f\">67</span></a>\n",
       "</pre>\n"
      ],
      "text/plain": [
       "\u001b[2;36m          \u001b[0m\u001b[2;36m \u001b[0m\u001b[36m👎 PodFitsResources ---> n2                                      \u001b[0m \u001b]8;id=264639;file:///tmp/ipykernel_152833/1323010361.py\u001b\\\u001b[2m1323010361.py\u001b[0m\u001b]8;;\u001b\\\u001b[2m:\u001b[0m\u001b]8;id=777330;file:///tmp/ipykernel_152833/1323010361.py#67\u001b\\\u001b[2m67\u001b[0m\u001b]8;;\u001b\\\n"
      ]
     },
     "metadata": {},
     "output_type": "display_data"
    },
    {
     "data": {
      "text/html": [
       "<pre style=\"white-space:pre;overflow-x:auto;line-height:normal;font-family:Menlo,'DejaVu Sans Mono',consolas,'Courier New',monospace\"><span style=\"color: #7fbfbf; text-decoration-color: #7fbfbf\">           </span><span style=\"color: #008080; text-decoration-color: #008080\">💿 Image locality Found ---&gt; n2                                  </span> <a href=\"file:///tmp/ipykernel_152833/380400395.py\"><span style=\"color: #7f7f7f; text-decoration-color: #7f7f7f\">380400395.py</span></a><span style=\"color: #7f7f7f; text-decoration-color: #7f7f7f\">:</span><a href=\"file:///tmp/ipykernel_152833/380400395.py#133\"><span style=\"color: #7f7f7f; text-decoration-color: #7f7f7f\">133</span></a>\n",
       "</pre>\n"
      ],
      "text/plain": [
       "\u001b[2;36m          \u001b[0m\u001b[2;36m \u001b[0m\u001b[36m💿 Image locality Found ---> n2                                  \u001b[0m \u001b]8;id=760959;file:///tmp/ipykernel_152833/380400395.py\u001b\\\u001b[2m380400395.py\u001b[0m\u001b]8;;\u001b\\\u001b[2m:\u001b[0m\u001b]8;id=719175;file:///tmp/ipykernel_152833/380400395.py#133\u001b\\\u001b[2m133\u001b[0m\u001b]8;;\u001b\\\n"
      ]
     },
     "metadata": {},
     "output_type": "display_data"
    },
    {
     "data": {
      "text/html": [
       "<pre style=\"white-space:pre;overflow-x:auto;line-height:normal;font-family:Menlo,'DejaVu Sans Mono',consolas,'Courier New',monospace\"><span style=\"color: #7fbfbf; text-decoration-color: #7fbfbf\">           </span><span style=\"color: #008080; text-decoration-color: #008080\">👎 PodFitsResources ---&gt; n3                                      </span> <a href=\"file:///tmp/ipykernel_152833/1323010361.py\"><span style=\"color: #7f7f7f; text-decoration-color: #7f7f7f\">1323010361.py</span></a><span style=\"color: #7f7f7f; text-decoration-color: #7f7f7f\">:</span><a href=\"file:///tmp/ipykernel_152833/1323010361.py#67\"><span style=\"color: #7f7f7f; text-decoration-color: #7f7f7f\">67</span></a>\n",
       "</pre>\n"
      ],
      "text/plain": [
       "\u001b[2;36m          \u001b[0m\u001b[2;36m \u001b[0m\u001b[36m👎 PodFitsResources ---> n3                                      \u001b[0m \u001b]8;id=509752;file:///tmp/ipykernel_152833/1323010361.py\u001b\\\u001b[2m1323010361.py\u001b[0m\u001b]8;;\u001b\\\u001b[2m:\u001b[0m\u001b]8;id=410233;file:///tmp/ipykernel_152833/1323010361.py#67\u001b\\\u001b[2m67\u001b[0m\u001b]8;;\u001b\\\n"
      ]
     },
     "metadata": {},
     "output_type": "display_data"
    },
    {
     "data": {
      "text/html": [
       "<pre style=\"white-space:pre;overflow-x:auto;line-height:normal;font-family:Menlo,'DejaVu Sans Mono',consolas,'Courier New',monospace\"><span style=\"color: #7fbfbf; text-decoration-color: #7fbfbf\">           </span><span style=\"color: #008080; text-decoration-color: #008080\">👎 PodFitsResources ---&gt; n4                                      </span> <a href=\"file:///tmp/ipykernel_152833/1323010361.py\"><span style=\"color: #7f7f7f; text-decoration-color: #7f7f7f\">1323010361.py</span></a><span style=\"color: #7f7f7f; text-decoration-color: #7f7f7f\">:</span><a href=\"file:///tmp/ipykernel_152833/1323010361.py#67\"><span style=\"color: #7f7f7f; text-decoration-color: #7f7f7f\">67</span></a>\n",
       "</pre>\n"
      ],
      "text/plain": [
       "\u001b[2;36m          \u001b[0m\u001b[2;36m \u001b[0m\u001b[36m👎 PodFitsResources ---> n4                                      \u001b[0m \u001b]8;id=225594;file:///tmp/ipykernel_152833/1323010361.py\u001b\\\u001b[2m1323010361.py\u001b[0m\u001b]8;;\u001b\\\u001b[2m:\u001b[0m\u001b]8;id=998153;file:///tmp/ipykernel_152833/1323010361.py#67\u001b\\\u001b[2m67\u001b[0m\u001b]8;;\u001b\\\n"
      ]
     },
     "metadata": {},
     "output_type": "display_data"
    },
    {
     "data": {
      "text/html": [
       "<pre style=\"white-space:pre;overflow-x:auto;line-height:normal;font-family:Menlo,'DejaVu Sans Mono',consolas,'Courier New',monospace\"><span style=\"color: #7fbfbf; text-decoration-color: #7fbfbf\">           </span><span style=\"color: #008080; text-decoration-color: #008080\">👎 PodFitsResources ---&gt; n5                                      </span> <a href=\"file:///tmp/ipykernel_152833/1323010361.py\"><span style=\"color: #7f7f7f; text-decoration-color: #7f7f7f\">1323010361.py</span></a><span style=\"color: #7f7f7f; text-decoration-color: #7f7f7f\">:</span><a href=\"file:///tmp/ipykernel_152833/1323010361.py#67\"><span style=\"color: #7f7f7f; text-decoration-color: #7f7f7f\">67</span></a>\n",
       "</pre>\n"
      ],
      "text/plain": [
       "\u001b[2;36m          \u001b[0m\u001b[2;36m \u001b[0m\u001b[36m👎 PodFitsResources ---> n5                                      \u001b[0m \u001b]8;id=177953;file:///tmp/ipykernel_152833/1323010361.py\u001b\\\u001b[2m1323010361.py\u001b[0m\u001b]8;;\u001b\\\u001b[2m:\u001b[0m\u001b]8;id=684005;file:///tmp/ipykernel_152833/1323010361.py#67\u001b\\\u001b[2m67\u001b[0m\u001b]8;;\u001b\\\n"
      ]
     },
     "metadata": {},
     "output_type": "display_data"
    },
    {
     "data": {
      "text/html": [
       "<pre style=\"white-space:pre;overflow-x:auto;line-height:normal;font-family:Menlo,'DejaVu Sans Mono',consolas,'Courier New',monospace\"><span style=\"color: #7fbfbf; text-decoration-color: #7fbfbf\">           </span><span style=\"color: #008080; text-decoration-color: #008080\">💿 Image locality Found ---&gt; n5                                  </span> <a href=\"file:///tmp/ipykernel_152833/380400395.py\"><span style=\"color: #7f7f7f; text-decoration-color: #7f7f7f\">380400395.py</span></a><span style=\"color: #7f7f7f; text-decoration-color: #7f7f7f\">:</span><a href=\"file:///tmp/ipykernel_152833/380400395.py#133\"><span style=\"color: #7f7f7f; text-decoration-color: #7f7f7f\">133</span></a>\n",
       "</pre>\n"
      ],
      "text/plain": [
       "\u001b[2;36m          \u001b[0m\u001b[2;36m \u001b[0m\u001b[36m💿 Image locality Found ---> n5                                  \u001b[0m \u001b]8;id=680499;file:///tmp/ipykernel_152833/380400395.py\u001b\\\u001b[2m380400395.py\u001b[0m\u001b]8;;\u001b\\\u001b[2m:\u001b[0m\u001b]8;id=719958;file:///tmp/ipykernel_152833/380400395.py#133\u001b\\\u001b[2m133\u001b[0m\u001b]8;;\u001b\\\n"
      ]
     },
     "metadata": {},
     "output_type": "display_data"
    },
    {
     "data": {
      "text/html": [
       "<pre style=\"white-space:pre;overflow-x:auto;line-height:normal;font-family:Menlo,'DejaVu Sans Mono',consolas,'Courier New',monospace\"><span style=\"color: #7fbfbf; text-decoration-color: #7fbfbf\">           </span><span style=\"color: #008080; text-decoration-color: #008080\">👎 PodFitsResources ---&gt; n6                                      </span> <a href=\"file:///tmp/ipykernel_152833/1323010361.py\"><span style=\"color: #7f7f7f; text-decoration-color: #7f7f7f\">1323010361.py</span></a><span style=\"color: #7f7f7f; text-decoration-color: #7f7f7f\">:</span><a href=\"file:///tmp/ipykernel_152833/1323010361.py#67\"><span style=\"color: #7f7f7f; text-decoration-color: #7f7f7f\">67</span></a>\n",
       "</pre>\n"
      ],
      "text/plain": [
       "\u001b[2;36m          \u001b[0m\u001b[2;36m \u001b[0m\u001b[36m👎 PodFitsResources ---> n6                                      \u001b[0m \u001b]8;id=988595;file:///tmp/ipykernel_152833/1323010361.py\u001b\\\u001b[2m1323010361.py\u001b[0m\u001b]8;;\u001b\\\u001b[2m:\u001b[0m\u001b]8;id=163505;file:///tmp/ipykernel_152833/1323010361.py#67\u001b\\\u001b[2m67\u001b[0m\u001b]8;;\u001b\\\n"
      ]
     },
     "metadata": {},
     "output_type": "display_data"
    },
    {
     "data": {
      "text/html": [
       "<pre style=\"white-space:pre;overflow-x:auto;line-height:normal;font-family:Menlo,'DejaVu Sans Mono',consolas,'Courier New',monospace\"><span style=\"color: #7fbfbf; text-decoration-color: #7fbfbf\">           </span><span style=\"color: #800000; text-decoration-color: #800000; font-weight: bold\">                                                                </span> <a href=\"file:///tmp/ipykernel_152833/1323010361.py\"><span style=\"color: #7f7f7f; text-decoration-color: #7f7f7f\">1323010361.py</span></a><span style=\"color: #7f7f7f; text-decoration-color: #7f7f7f\">:</span><a href=\"file:///tmp/ipykernel_152833/1323010361.py#103\"><span style=\"color: #7f7f7f; text-decoration-color: #7f7f7f\">103</span></a>\n",
       "           <span style=\"color: #800000; text-decoration-color: #800000; font-weight: bold\">---&gt; No feasible node found ⌛ Simulation Time: </span><span style=\"color: #008080; text-decoration-color: #008080; font-weight: bold\">130</span><span style=\"color: #800000; text-decoration-color: #800000; font-weight: bold\"> seconds     </span>                  \n",
       "           <span style=\"color: #800000; text-decoration-color: #800000; font-weight: bold\">                                                                </span>                  \n",
       "</pre>\n"
      ],
      "text/plain": [
       "\u001b[2;36m          \u001b[0m\u001b[2;36m \u001b[0m\u001b[1;31m                                                                \u001b[0m \u001b]8;id=565005;file:///tmp/ipykernel_152833/1323010361.py\u001b\\\u001b[2m1323010361.py\u001b[0m\u001b]8;;\u001b\\\u001b[2m:\u001b[0m\u001b]8;id=680994;file:///tmp/ipykernel_152833/1323010361.py#103\u001b\\\u001b[2m103\u001b[0m\u001b]8;;\u001b\\\n",
       "           \u001b[1;31m---> No feasible node found ⌛ Simulation Time: \u001b[0m\u001b[1;36m130\u001b[0m\u001b[1;31m seconds     \u001b[0m                  \n",
       "           \u001b[1;31m                                                                \u001b[0m                  \n"
      ]
     },
     "metadata": {},
     "output_type": "display_data"
    },
    {
     "data": {
      "text/html": [
       "<pre style=\"white-space:pre;overflow-x:auto;line-height:normal;font-family:Menlo,'DejaVu Sans Mono',consolas,'Courier New',monospace\"><span style=\"color: #7fbfbf; text-decoration-color: #7fbfbf\">           </span><span style=\"font-style: italic\">                        Pod Description                         </span> <a href=\"file:///tmp/ipykernel_152833/1843420858.py\"><span style=\"color: #7f7f7f; text-decoration-color: #7f7f7f\">1843420858.py</span></a><span style=\"color: #7f7f7f; text-decoration-color: #7f7f7f\">:</span><a href=\"file:///tmp/ipykernel_152833/1843420858.py#267\"><span style=\"color: #7f7f7f; text-decoration-color: #7f7f7f\">267</span></a>\n",
       "           ┏━━━━━━┳━━━━┳━━━━━━┳━━━━━━┳━━━━━━━┳━━━━━━┳━━━━━━┳━━━━━━━┳━━━━━━┓                  \n",
       "           ┃<span style=\"font-weight: bold\"> Name </span>┃<span style=\"font-weight: bold\"> ID </span>┃<span style=\"font-weight: bold\"> Node </span>┃<span style=\"font-weight: bold\"> Mem… </span>┃<span style=\"font-weight: bold\">  CPU  </span>┃<span style=\"font-weight: bold\"> Bind </span>┃<span style=\"font-weight: bold\"> Port </span>┃<span style=\"font-weight: bold\"> Arri… </span>┃<span style=\"font-weight: bold\"> Ser… </span>┃                  \n",
       "           ┃      ┃    ┃<span style=\"font-weight: bold\"> Ass… </span>┃<span style=\"font-weight: bold\"> Req  </span>┃<span style=\"font-weight: bold\">  Req  </span>┃      ┃      ┃<span style=\"font-weight: bold\"> Time  </span>┃<span style=\"font-weight: bold\"> Time </span>┃                  \n",
       "           ┡━━━━━━╇━━━━╇━━━━━━╇━━━━━━╇━━━━━━━╇━━━━━━╇━━━━━━╇━━━━━━━╇━━━━━━┩                  \n",
       "           │<span style=\"color: #008080; text-decoration-color: #008080\"> Fro… </span>│<span style=\"color: #800080; text-decoration-color: #800080\"> 0  </span>│<span style=\"color: #008000; text-decoration-color: #008000\">  n2  </span>│<span style=\"color: #008080; text-decoration-color: #008080\">  64  </span>│<span style=\"color: #800080; text-decoration-color: #800080\">  120  </span>│<span style=\"color: #008000; text-decoration-color: #008000\"> True </span>│<span style=\"color: #008080; text-decoration-color: #008080\">  90  </span>│<span style=\"color: #800080; text-decoration-color: #800080\">  35   </span>│<span style=\"color: #008000; text-decoration-color: #008000\"> 165  </span>│                  \n",
       "           │<span style=\"color: #008080; text-decoration-color: #008080\"> Pod1 </span>│<span style=\"color: #800080; text-decoration-color: #800080\"> 1  </span>│<span style=\"color: #008000; text-decoration-color: #008000\">  n4  </span>│<span style=\"color: #008080; text-decoration-color: #008080\">  64  </span>│<span style=\"color: #800080; text-decoration-color: #800080\">  128  </span>│<span style=\"color: #008000; text-decoration-color: #008000\"> True </span>│<span style=\"color: #008080; text-decoration-color: #008080\">  80  </span>│<span style=\"color: #800080; text-decoration-color: #800080\">  40   </span>│<span style=\"color: #008000; text-decoration-color: #008000\">  15  </span>│                  \n",
       "           │<span style=\"color: #008080; text-decoration-color: #008080\"> Pod2 </span>│<span style=\"color: #800080; text-decoration-color: #800080\"> 2  </span>│<span style=\"color: #008000; text-decoration-color: #008000\">      </span>│<span style=\"color: #008080; text-decoration-color: #008080\"> 128  </span>│<span style=\"color: #800080; text-decoration-color: #800080\">  378  </span>│<span style=\"color: #008000; text-decoration-color: #008000\"> Fal… </span>│<span style=\"color: #008080; text-decoration-color: #008080\">  80  </span>│<span style=\"color: #800080; text-decoration-color: #800080\">  45   </span>│<span style=\"color: #008000; text-decoration-color: #008000\">  15  </span>│                  \n",
       "           │<span style=\"color: #008080; text-decoration-color: #008080\"> Pod3 </span>│<span style=\"color: #800080; text-decoration-color: #800080\"> 3  </span>│<span style=\"color: #008000; text-decoration-color: #008000\">  n4  </span>│<span style=\"color: #008080; text-decoration-color: #008080\"> 192  </span>│<span style=\"color: #800080; text-decoration-color: #800080\">  628  </span>│<span style=\"color: #008000; text-decoration-color: #008000\"> True </span>│<span style=\"color: #008080; text-decoration-color: #008080\"> 5000 </span>│<span style=\"color: #800080; text-decoration-color: #800080\">  50   </span>│<span style=\"color: #008000; text-decoration-color: #008000\">  15  </span>│                  \n",
       "           │<span style=\"color: #008080; text-decoration-color: #008080\"> Pod4 </span>│<span style=\"color: #800080; text-decoration-color: #800080\"> 4  </span>│<span style=\"color: #008000; text-decoration-color: #008000\">      </span>│<span style=\"color: #008080; text-decoration-color: #008080\"> 192  </span>│<span style=\"color: #800080; text-decoration-color: #800080\"> 5128  </span>│<span style=\"color: #008000; text-decoration-color: #008000\"> Fal… </span>│<span style=\"color: #008080; text-decoration-color: #008080\"> None </span>│<span style=\"color: #800080; text-decoration-color: #800080\">  55   </span>│<span style=\"color: #008000; text-decoration-color: #008000\">  15  </span>│                  \n",
       "           │<span style=\"color: #008080; text-decoration-color: #008080\"> Pod5 </span>│<span style=\"color: #800080; text-decoration-color: #800080\"> 5  </span>│<span style=\"color: #008000; text-decoration-color: #008000\">  n5  </span>│<span style=\"color: #008080; text-decoration-color: #008080\"> 192  </span>│<span style=\"color: #800080; text-decoration-color: #800080\">  700  </span>│<span style=\"color: #008000; text-decoration-color: #008000\"> True </span>│<span style=\"color: #008080; text-decoration-color: #008080\"> 2000 </span>│<span style=\"color: #800080; text-decoration-color: #800080\">  60   </span>│<span style=\"color: #008000; text-decoration-color: #008000\"> 155  </span>│                  \n",
       "           │<span style=\"color: #008080; text-decoration-color: #008080\"> Pod2 </span>│<span style=\"color: #800080; text-decoration-color: #800080\"> 2  </span>│<span style=\"color: #008000; text-decoration-color: #008000\">  n4  </span>│<span style=\"color: #008080; text-decoration-color: #008080\"> 128  </span>│<span style=\"color: #800080; text-decoration-color: #800080\">  378  </span>│<span style=\"color: #008000; text-decoration-color: #008000\"> True </span>│<span style=\"color: #008080; text-decoration-color: #008080\">  80  </span>│<span style=\"color: #800080; text-decoration-color: #800080\">  45   </span>│<span style=\"color: #008000; text-decoration-color: #008000\">  15  </span>│                  \n",
       "           │<span style=\"color: #008080; text-decoration-color: #008080\"> Pod4 </span>│<span style=\"color: #800080; text-decoration-color: #800080\"> 4  </span>│<span style=\"color: #008000; text-decoration-color: #008000\">      </span>│<span style=\"color: #008080; text-decoration-color: #008080\"> 192  </span>│<span style=\"color: #800080; text-decoration-color: #800080\"> 5128  </span>│<span style=\"color: #008000; text-decoration-color: #008000\"> Fal… </span>│<span style=\"color: #008080; text-decoration-color: #008080\"> None </span>│<span style=\"color: #800080; text-decoration-color: #800080\">  55   </span>│<span style=\"color: #008000; text-decoration-color: #008000\">  15  </span>│                  \n",
       "           │<span style=\"color: #008080; text-decoration-color: #008080\"> Pod4 </span>│<span style=\"color: #800080; text-decoration-color: #800080\"> 4  </span>│<span style=\"color: #008000; text-decoration-color: #008000\">      </span>│<span style=\"color: #008080; text-decoration-color: #008080\"> 192  </span>│<span style=\"color: #800080; text-decoration-color: #800080\"> 5128  </span>│<span style=\"color: #008000; text-decoration-color: #008000\"> Fal… </span>│<span style=\"color: #008080; text-decoration-color: #008080\"> None </span>│<span style=\"color: #800080; text-decoration-color: #800080\">  55   </span>│<span style=\"color: #008000; text-decoration-color: #008000\">  15  </span>│                  \n",
       "           └──────┴────┴──────┴──────┴───────┴──────┴──────┴───────┴──────┘                  \n",
       "</pre>\n"
      ],
      "text/plain": [
       "\u001b[2;36m          \u001b[0m\u001b[2;36m \u001b[0m\u001b[3m                        Pod Description                         \u001b[0m \u001b]8;id=548282;file:///tmp/ipykernel_152833/1843420858.py\u001b\\\u001b[2m1843420858.py\u001b[0m\u001b]8;;\u001b\\\u001b[2m:\u001b[0m\u001b]8;id=617946;file:///tmp/ipykernel_152833/1843420858.py#267\u001b\\\u001b[2m267\u001b[0m\u001b]8;;\u001b\\\n",
       "           ┏━━━━━━┳━━━━┳━━━━━━┳━━━━━━┳━━━━━━━┳━━━━━━┳━━━━━━┳━━━━━━━┳━━━━━━┓                  \n",
       "           ┃\u001b[1m \u001b[0m\u001b[1mName\u001b[0m\u001b[1m \u001b[0m┃\u001b[1m \u001b[0m\u001b[1mID\u001b[0m\u001b[1m \u001b[0m┃\u001b[1m \u001b[0m\u001b[1mNode\u001b[0m\u001b[1m \u001b[0m┃\u001b[1m \u001b[0m\u001b[1mMem…\u001b[0m\u001b[1m \u001b[0m┃\u001b[1m \u001b[0m\u001b[1m CPU \u001b[0m\u001b[1m \u001b[0m┃\u001b[1m \u001b[0m\u001b[1mBind\u001b[0m\u001b[1m \u001b[0m┃\u001b[1m \u001b[0m\u001b[1mPort\u001b[0m\u001b[1m \u001b[0m┃\u001b[1m \u001b[0m\u001b[1mArri…\u001b[0m\u001b[1m \u001b[0m┃\u001b[1m \u001b[0m\u001b[1mSer…\u001b[0m\u001b[1m \u001b[0m┃                  \n",
       "           ┃      ┃    ┃\u001b[1m \u001b[0m\u001b[1mAss…\u001b[0m\u001b[1m \u001b[0m┃\u001b[1m \u001b[0m\u001b[1mReq \u001b[0m\u001b[1m \u001b[0m┃\u001b[1m \u001b[0m\u001b[1m Req \u001b[0m\u001b[1m \u001b[0m┃      ┃      ┃\u001b[1m \u001b[0m\u001b[1mTime \u001b[0m\u001b[1m \u001b[0m┃\u001b[1m \u001b[0m\u001b[1mTime\u001b[0m\u001b[1m \u001b[0m┃                  \n",
       "           ┡━━━━━━╇━━━━╇━━━━━━╇━━━━━━╇━━━━━━━╇━━━━━━╇━━━━━━╇━━━━━━━╇━━━━━━┩                  \n",
       "           │\u001b[36m \u001b[0m\u001b[36mFro…\u001b[0m\u001b[36m \u001b[0m│\u001b[35m \u001b[0m\u001b[35m0 \u001b[0m\u001b[35m \u001b[0m│\u001b[32m \u001b[0m\u001b[32m n2 \u001b[0m\u001b[32m \u001b[0m│\u001b[36m \u001b[0m\u001b[36m 64 \u001b[0m\u001b[36m \u001b[0m│\u001b[35m \u001b[0m\u001b[35m 120 \u001b[0m\u001b[35m \u001b[0m│\u001b[32m \u001b[0m\u001b[32mTrue\u001b[0m\u001b[32m \u001b[0m│\u001b[36m \u001b[0m\u001b[36m 90 \u001b[0m\u001b[36m \u001b[0m│\u001b[35m \u001b[0m\u001b[35m 35  \u001b[0m\u001b[35m \u001b[0m│\u001b[32m \u001b[0m\u001b[32m165 \u001b[0m\u001b[32m \u001b[0m│                  \n",
       "           │\u001b[36m \u001b[0m\u001b[36mPod1\u001b[0m\u001b[36m \u001b[0m│\u001b[35m \u001b[0m\u001b[35m1 \u001b[0m\u001b[35m \u001b[0m│\u001b[32m \u001b[0m\u001b[32m n4 \u001b[0m\u001b[32m \u001b[0m│\u001b[36m \u001b[0m\u001b[36m 64 \u001b[0m\u001b[36m \u001b[0m│\u001b[35m \u001b[0m\u001b[35m 128 \u001b[0m\u001b[35m \u001b[0m│\u001b[32m \u001b[0m\u001b[32mTrue\u001b[0m\u001b[32m \u001b[0m│\u001b[36m \u001b[0m\u001b[36m 80 \u001b[0m\u001b[36m \u001b[0m│\u001b[35m \u001b[0m\u001b[35m 40  \u001b[0m\u001b[35m \u001b[0m│\u001b[32m \u001b[0m\u001b[32m 15 \u001b[0m\u001b[32m \u001b[0m│                  \n",
       "           │\u001b[36m \u001b[0m\u001b[36mPod2\u001b[0m\u001b[36m \u001b[0m│\u001b[35m \u001b[0m\u001b[35m2 \u001b[0m\u001b[35m \u001b[0m│\u001b[32m \u001b[0m\u001b[32m    \u001b[0m\u001b[32m \u001b[0m│\u001b[36m \u001b[0m\u001b[36m128 \u001b[0m\u001b[36m \u001b[0m│\u001b[35m \u001b[0m\u001b[35m 378 \u001b[0m\u001b[35m \u001b[0m│\u001b[32m \u001b[0m\u001b[32mFal…\u001b[0m\u001b[32m \u001b[0m│\u001b[36m \u001b[0m\u001b[36m 80 \u001b[0m\u001b[36m \u001b[0m│\u001b[35m \u001b[0m\u001b[35m 45  \u001b[0m\u001b[35m \u001b[0m│\u001b[32m \u001b[0m\u001b[32m 15 \u001b[0m\u001b[32m \u001b[0m│                  \n",
       "           │\u001b[36m \u001b[0m\u001b[36mPod3\u001b[0m\u001b[36m \u001b[0m│\u001b[35m \u001b[0m\u001b[35m3 \u001b[0m\u001b[35m \u001b[0m│\u001b[32m \u001b[0m\u001b[32m n4 \u001b[0m\u001b[32m \u001b[0m│\u001b[36m \u001b[0m\u001b[36m192 \u001b[0m\u001b[36m \u001b[0m│\u001b[35m \u001b[0m\u001b[35m 628 \u001b[0m\u001b[35m \u001b[0m│\u001b[32m \u001b[0m\u001b[32mTrue\u001b[0m\u001b[32m \u001b[0m│\u001b[36m \u001b[0m\u001b[36m5000\u001b[0m\u001b[36m \u001b[0m│\u001b[35m \u001b[0m\u001b[35m 50  \u001b[0m\u001b[35m \u001b[0m│\u001b[32m \u001b[0m\u001b[32m 15 \u001b[0m\u001b[32m \u001b[0m│                  \n",
       "           │\u001b[36m \u001b[0m\u001b[36mPod4\u001b[0m\u001b[36m \u001b[0m│\u001b[35m \u001b[0m\u001b[35m4 \u001b[0m\u001b[35m \u001b[0m│\u001b[32m \u001b[0m\u001b[32m    \u001b[0m\u001b[32m \u001b[0m│\u001b[36m \u001b[0m\u001b[36m192 \u001b[0m\u001b[36m \u001b[0m│\u001b[35m \u001b[0m\u001b[35m5128 \u001b[0m\u001b[35m \u001b[0m│\u001b[32m \u001b[0m\u001b[32mFal…\u001b[0m\u001b[32m \u001b[0m│\u001b[36m \u001b[0m\u001b[36mNone\u001b[0m\u001b[36m \u001b[0m│\u001b[35m \u001b[0m\u001b[35m 55  \u001b[0m\u001b[35m \u001b[0m│\u001b[32m \u001b[0m\u001b[32m 15 \u001b[0m\u001b[32m \u001b[0m│                  \n",
       "           │\u001b[36m \u001b[0m\u001b[36mPod5\u001b[0m\u001b[36m \u001b[0m│\u001b[35m \u001b[0m\u001b[35m5 \u001b[0m\u001b[35m \u001b[0m│\u001b[32m \u001b[0m\u001b[32m n5 \u001b[0m\u001b[32m \u001b[0m│\u001b[36m \u001b[0m\u001b[36m192 \u001b[0m\u001b[36m \u001b[0m│\u001b[35m \u001b[0m\u001b[35m 700 \u001b[0m\u001b[35m \u001b[0m│\u001b[32m \u001b[0m\u001b[32mTrue\u001b[0m\u001b[32m \u001b[0m│\u001b[36m \u001b[0m\u001b[36m2000\u001b[0m\u001b[36m \u001b[0m│\u001b[35m \u001b[0m\u001b[35m 60  \u001b[0m\u001b[35m \u001b[0m│\u001b[32m \u001b[0m\u001b[32m155 \u001b[0m\u001b[32m \u001b[0m│                  \n",
       "           │\u001b[36m \u001b[0m\u001b[36mPod2\u001b[0m\u001b[36m \u001b[0m│\u001b[35m \u001b[0m\u001b[35m2 \u001b[0m\u001b[35m \u001b[0m│\u001b[32m \u001b[0m\u001b[32m n4 \u001b[0m\u001b[32m \u001b[0m│\u001b[36m \u001b[0m\u001b[36m128 \u001b[0m\u001b[36m \u001b[0m│\u001b[35m \u001b[0m\u001b[35m 378 \u001b[0m\u001b[35m \u001b[0m│\u001b[32m \u001b[0m\u001b[32mTrue\u001b[0m\u001b[32m \u001b[0m│\u001b[36m \u001b[0m\u001b[36m 80 \u001b[0m\u001b[36m \u001b[0m│\u001b[35m \u001b[0m\u001b[35m 45  \u001b[0m\u001b[35m \u001b[0m│\u001b[32m \u001b[0m\u001b[32m 15 \u001b[0m\u001b[32m \u001b[0m│                  \n",
       "           │\u001b[36m \u001b[0m\u001b[36mPod4\u001b[0m\u001b[36m \u001b[0m│\u001b[35m \u001b[0m\u001b[35m4 \u001b[0m\u001b[35m \u001b[0m│\u001b[32m \u001b[0m\u001b[32m    \u001b[0m\u001b[32m \u001b[0m│\u001b[36m \u001b[0m\u001b[36m192 \u001b[0m\u001b[36m \u001b[0m│\u001b[35m \u001b[0m\u001b[35m5128 \u001b[0m\u001b[35m \u001b[0m│\u001b[32m \u001b[0m\u001b[32mFal…\u001b[0m\u001b[32m \u001b[0m│\u001b[36m \u001b[0m\u001b[36mNone\u001b[0m\u001b[36m \u001b[0m│\u001b[35m \u001b[0m\u001b[35m 55  \u001b[0m\u001b[35m \u001b[0m│\u001b[32m \u001b[0m\u001b[32m 15 \u001b[0m\u001b[32m \u001b[0m│                  \n",
       "           │\u001b[36m \u001b[0m\u001b[36mPod4\u001b[0m\u001b[36m \u001b[0m│\u001b[35m \u001b[0m\u001b[35m4 \u001b[0m\u001b[35m \u001b[0m│\u001b[32m \u001b[0m\u001b[32m    \u001b[0m\u001b[32m \u001b[0m│\u001b[36m \u001b[0m\u001b[36m192 \u001b[0m\u001b[36m \u001b[0m│\u001b[35m \u001b[0m\u001b[35m5128 \u001b[0m\u001b[35m \u001b[0m│\u001b[32m \u001b[0m\u001b[32mFal…\u001b[0m\u001b[32m \u001b[0m│\u001b[36m \u001b[0m\u001b[36mNone\u001b[0m\u001b[36m \u001b[0m│\u001b[35m \u001b[0m\u001b[35m 55  \u001b[0m\u001b[35m \u001b[0m│\u001b[32m \u001b[0m\u001b[32m 15 \u001b[0m\u001b[32m \u001b[0m│                  \n",
       "           └──────┴────┴──────┴──────┴───────┴──────┴──────┴───────┴──────┘                  \n"
      ]
     },
     "metadata": {},
     "output_type": "display_data"
    },
    {
     "data": {
      "text/html": [
       "<pre style=\"white-space:pre;overflow-x:auto;line-height:normal;font-family:Menlo,'DejaVu Sans Mono',consolas,'Courier New',monospace\"><span style=\"color: #7fbfbf; text-decoration-color: #7fbfbf\">           </span><span style=\"color: #800000; text-decoration-color: #800000; font-weight: bold\">                                                                </span> <a href=\"file:///tmp/ipykernel_152833/1843420858.py\"><span style=\"color: #7f7f7f; text-decoration-color: #7f7f7f\">1843420858.py</span></a><span style=\"color: #7f7f7f; text-decoration-color: #7f7f7f\">:</span><a href=\"file:///tmp/ipykernel_152833/1843420858.py#228\"><span style=\"color: #7f7f7f; text-decoration-color: #7f7f7f\">228</span></a>\n",
       "           <span style=\"color: #800000; text-decoration-color: #800000; font-weight: bold\">===&gt; Can't Remove Pod4 because it's not bind                    </span>                  \n",
       "</pre>\n"
      ],
      "text/plain": [
       "\u001b[2;36m          \u001b[0m\u001b[2;36m \u001b[0m\u001b[1;31m                                                                \u001b[0m \u001b]8;id=597094;file:///tmp/ipykernel_152833/1843420858.py\u001b\\\u001b[2m1843420858.py\u001b[0m\u001b]8;;\u001b\\\u001b[2m:\u001b[0m\u001b]8;id=632631;file:///tmp/ipykernel_152833/1843420858.py#228\u001b\\\u001b[2m228\u001b[0m\u001b]8;;\u001b\\\n",
       "           \u001b[1;31m===> Can't Remove Pod4 because it's not bind                    \u001b[0m                  \n"
      ]
     },
     "metadata": {},
     "output_type": "display_data"
    },
    {
     "data": {
      "text/html": [
       "<pre style=\"white-space:pre;overflow-x:auto;line-height:normal;font-family:Menlo,'DejaVu Sans Mono',consolas,'Courier New',monospace\"><span style=\"color: #7fbfbf; text-decoration-color: #7fbfbf\">           </span>---&gt; <span style=\"font-weight: bold\">[</span>Retries finished<span style=\"font-weight: bold\">]</span>                                          <a href=\"file:///tmp/ipykernel_152833/1843420858.py\"><span style=\"color: #7f7f7f; text-decoration-color: #7f7f7f\">1843420858.py</span></a><span style=\"color: #7f7f7f; text-decoration-color: #7f7f7f\">:</span><a href=\"file:///tmp/ipykernel_152833/1843420858.py#242\"><span style=\"color: #7f7f7f; text-decoration-color: #7f7f7f\">242</span></a>\n",
       "</pre>\n"
      ],
      "text/plain": [
       "\u001b[2;36m          \u001b[0m\u001b[2;36m \u001b[0m---> \u001b[1m[\u001b[0mRetries finished\u001b[1m]\u001b[0m                                          \u001b]8;id=474058;file:///tmp/ipykernel_152833/1843420858.py\u001b\\\u001b[2m1843420858.py\u001b[0m\u001b]8;;\u001b\\\u001b[2m:\u001b[0m\u001b]8;id=127777;file:///tmp/ipykernel_152833/1843420858.py#242\u001b\\\u001b[2m242\u001b[0m\u001b]8;;\u001b\\\n"
      ]
     },
     "metadata": {},
     "output_type": "display_data"
    },
    {
     "data": {
      "text/html": [
       "<pre style=\"white-space:pre;overflow-x:auto;line-height:normal;font-family:Menlo,'DejaVu Sans Mono',consolas,'Courier New',monospace\"><span style=\"color: #7fbfbf; text-decoration-color: #7fbfbf\">           </span><span style=\"color: #800000; text-decoration-color: #800000; font-weight: bold\">                                                                </span> <a href=\"file:///tmp/ipykernel_152833/1843420858.py\"><span style=\"color: #7f7f7f; text-decoration-color: #7f7f7f\">1843420858.py</span></a><span style=\"color: #7f7f7f; text-decoration-color: #7f7f7f\">:</span><a href=\"file:///tmp/ipykernel_152833/1843420858.py#219\"><span style=\"color: #7f7f7f; text-decoration-color: #7f7f7f\">219</span></a>\n",
       "           <span style=\"color: #800000; text-decoration-color: #800000; font-weight: bold\">===&gt; Removing Frontend ⌛ Simulation Time: </span><span style=\"color: #008080; text-decoration-color: #008080; font-weight: bold\">230</span><span style=\"color: #800000; text-decoration-color: #800000; font-weight: bold\"> seconds          </span>                  \n",
       "</pre>\n"
      ],
      "text/plain": [
       "\u001b[2;36m          \u001b[0m\u001b[2;36m \u001b[0m\u001b[1;31m                                                                \u001b[0m \u001b]8;id=737478;file:///tmp/ipykernel_152833/1843420858.py\u001b\\\u001b[2m1843420858.py\u001b[0m\u001b]8;;\u001b\\\u001b[2m:\u001b[0m\u001b]8;id=520974;file:///tmp/ipykernel_152833/1843420858.py#219\u001b\\\u001b[2m219\u001b[0m\u001b]8;;\u001b\\\n",
       "           \u001b[1;31m===> Removing Frontend ⌛ Simulation Time: \u001b[0m\u001b[1;36m230\u001b[0m\u001b[1;31m seconds          \u001b[0m                  \n"
      ]
     },
     "metadata": {},
     "output_type": "display_data"
    },
    {
     "data": {
      "text/html": [
       "<pre style=\"white-space:pre;overflow-x:auto;line-height:normal;font-family:Menlo,'DejaVu Sans Mono',consolas,'Courier New',monospace\"><span style=\"color: #7fbfbf; text-decoration-color: #7fbfbf\">           </span><span style=\"color: #800000; text-decoration-color: #800000; font-weight: bold\">                                                                </span> <a href=\"file:///tmp/ipykernel_152833/1843420858.py\"><span style=\"color: #7f7f7f; text-decoration-color: #7f7f7f\">1843420858.py</span></a><span style=\"color: #7f7f7f; text-decoration-color: #7f7f7f\">:</span><a href=\"file:///tmp/ipykernel_152833/1843420858.py#219\"><span style=\"color: #7f7f7f; text-decoration-color: #7f7f7f\">219</span></a>\n",
       "           <span style=\"color: #800000; text-decoration-color: #800000; font-weight: bold\">===&gt; Removing Pod5 ⌛ Simulation Time: </span><span style=\"color: #008080; text-decoration-color: #008080; font-weight: bold\">260</span><span style=\"color: #800000; text-decoration-color: #800000; font-weight: bold\"> seconds              </span>                  \n",
       "</pre>\n"
      ],
      "text/plain": [
       "\u001b[2;36m          \u001b[0m\u001b[2;36m \u001b[0m\u001b[1;31m                                                                \u001b[0m \u001b]8;id=137098;file:///tmp/ipykernel_152833/1843420858.py\u001b\\\u001b[2m1843420858.py\u001b[0m\u001b]8;;\u001b\\\u001b[2m:\u001b[0m\u001b]8;id=602565;file:///tmp/ipykernel_152833/1843420858.py#219\u001b\\\u001b[2m219\u001b[0m\u001b]8;;\u001b\\\n",
       "           \u001b[1;31m===> Removing Pod5 ⌛ Simulation Time: \u001b[0m\u001b[1;36m260\u001b[0m\u001b[1;31m seconds              \u001b[0m                  \n"
      ]
     },
     "metadata": {},
     "output_type": "display_data"
    },
    {
     "data": {
      "text/html": [
       "<pre style=\"white-space:pre;overflow-x:auto;line-height:normal;font-family:Menlo,'DejaVu Sans Mono',consolas,'Courier New',monospace\"><span style=\"color: #7fbfbf; text-decoration-color: #7fbfbf\">           </span><span style=\"color: #800080; text-decoration-color: #800080; font-weight: bold\">╔══════════════════════════════════════════════════════════════╗</span> <a href=\"file:///tmp/ipykernel_152833/1843420858.py\"><span style=\"color: #7f7f7f; text-decoration-color: #7f7f7f\">1843420858.py</span></a><span style=\"color: #7f7f7f; text-decoration-color: #7f7f7f\">:</span><a href=\"file:///tmp/ipykernel_152833/1843420858.py#308\"><span style=\"color: #7f7f7f; text-decoration-color: #7f7f7f\">308</span></a>\n",
       "           <span style=\"color: #800080; text-decoration-color: #800080; font-weight: bold\">║                          End Result                          ║</span>                  \n",
       "           <span style=\"color: #800080; text-decoration-color: #800080; font-weight: bold\">╚══════════════════════════════════════════════════════════════╝</span>                  \n",
       "</pre>\n"
      ],
      "text/plain": [
       "\u001b[2;36m          \u001b[0m\u001b[2;36m \u001b[0m\u001b[1;35m╔══════════════════════════════════════════════════════════════╗\u001b[0m \u001b]8;id=897194;file:///tmp/ipykernel_152833/1843420858.py\u001b\\\u001b[2m1843420858.py\u001b[0m\u001b]8;;\u001b\\\u001b[2m:\u001b[0m\u001b]8;id=5805;file:///tmp/ipykernel_152833/1843420858.py#308\u001b\\\u001b[2m308\u001b[0m\u001b]8;;\u001b\\\n",
       "           \u001b[1;35m║\u001b[0m\u001b[1;35m \u001b[0m\u001b[1;35m                         \u001b[0m\u001b[1;35mEnd Result\u001b[0m\u001b[1;35m                         \u001b[0m\u001b[1;35m \u001b[0m\u001b[1;35m║\u001b[0m                  \n",
       "           \u001b[1;35m╚══════════════════════════════════════════════════════════════╝\u001b[0m                  \n"
      ]
     },
     "metadata": {},
     "output_type": "display_data"
    },
    {
     "data": {
      "text/html": [
       "<pre style=\"white-space:pre;overflow-x:auto;line-height:normal;font-family:Menlo,'DejaVu Sans Mono',consolas,'Courier New',monospace\"><span style=\"color: #7fbfbf; text-decoration-color: #7fbfbf\">           </span><span style=\"font-style: italic\">                  Final Node Description                  </span>       <a href=\"file:///tmp/ipykernel_152833/1843420858.py\"><span style=\"color: #7f7f7f; text-decoration-color: #7f7f7f\">1843420858.py</span></a><span style=\"color: #7f7f7f; text-decoration-color: #7f7f7f\">:</span><a href=\"file:///tmp/ipykernel_152833/1843420858.py#314\"><span style=\"color: #7f7f7f; text-decoration-color: #7f7f7f\">314</span></a>\n",
       "           ┏━━━━━━┳━━━━┳━━━━━━━━━━━━━┳━━━━━━━━┳━━━━━━┳━━━━━━━┳━━━━━━┓                        \n",
       "           ┃<span style=\"font-weight: bold\"> Name </span>┃<span style=\"font-weight: bold\"> ID </span>┃<span style=\"font-weight: bold\"> Num of Pods </span>┃<span style=\"font-weight: bold\"> Memory </span>┃<span style=\"font-weight: bold\"> CPU  </span>┃<span style=\"font-weight: bold\"> Score </span>┃<span style=\"font-weight: bold\"> Port </span>┃                        \n",
       "           ┡━━━━━━╇━━━━╇━━━━━━━━━━━━━╇━━━━━━━━╇━━━━━━╇━━━━━━━╇━━━━━━┩                        \n",
       "           │<span style=\"color: #008080; text-decoration-color: #008080\">  n1  </span>│<span style=\"color: #800080; text-decoration-color: #800080\"> 0  </span>│<span style=\"color: #008000; text-decoration-color: #008000\">      0      </span>│<span style=\"color: #008080; text-decoration-color: #008080\">   64   </span>│<span style=\"color: #800080; text-decoration-color: #800080\"> 128  </span>│<span style=\"color: #008000; text-decoration-color: #008000\">   0   </span>│<span style=\"color: #008080; text-decoration-color: #008080\">  []  </span>│                        \n",
       "           │<span style=\"color: #008080; text-decoration-color: #008080\">  n2  </span>│<span style=\"color: #800080; text-decoration-color: #800080\"> 1  </span>│<span style=\"color: #008000; text-decoration-color: #008000\">      0      </span>│<span style=\"color: #008080; text-decoration-color: #008080\">  128   </span>│<span style=\"color: #800080; text-decoration-color: #800080\"> 256  </span>│<span style=\"color: #008000; text-decoration-color: #008000\">   0   </span>│<span style=\"color: #008080; text-decoration-color: #008080\">  []  </span>│                        \n",
       "           │<span style=\"color: #008080; text-decoration-color: #008080\">  n3  </span>│<span style=\"color: #800080; text-decoration-color: #800080\"> 2  </span>│<span style=\"color: #008000; text-decoration-color: #008000\">      0      </span>│<span style=\"color: #008080; text-decoration-color: #008080\">  256   </span>│<span style=\"color: #800080; text-decoration-color: #800080\"> 512  </span>│<span style=\"color: #008000; text-decoration-color: #008000\">   0   </span>│<span style=\"color: #008080; text-decoration-color: #008080\">  []  </span>│                        \n",
       "           │<span style=\"color: #008080; text-decoration-color: #008080\">  n4  </span>│<span style=\"color: #800080; text-decoration-color: #800080\"> 3  </span>│<span style=\"color: #008000; text-decoration-color: #008000\">      0      </span>│<span style=\"color: #008080; text-decoration-color: #008080\">  512   </span>│<span style=\"color: #800080; text-decoration-color: #800080\"> 1024 </span>│<span style=\"color: #008000; text-decoration-color: #008000\">   0   </span>│<span style=\"color: #008080; text-decoration-color: #008080\">  []  </span>│                        \n",
       "           │<span style=\"color: #008080; text-decoration-color: #008080\">  n5  </span>│<span style=\"color: #800080; text-decoration-color: #800080\"> 4  </span>│<span style=\"color: #008000; text-decoration-color: #008000\">      0      </span>│<span style=\"color: #008080; text-decoration-color: #008080\">  1024  </span>│<span style=\"color: #800080; text-decoration-color: #800080\"> 2048 </span>│<span style=\"color: #008000; text-decoration-color: #008000\">   0   </span>│<span style=\"color: #008080; text-decoration-color: #008080\">  []  </span>│                        \n",
       "           │<span style=\"color: #008080; text-decoration-color: #008080\">  n6  </span>│<span style=\"color: #800080; text-decoration-color: #800080\"> 5  </span>│<span style=\"color: #008000; text-decoration-color: #008000\">      0      </span>│<span style=\"color: #008080; text-decoration-color: #008080\">  2048  </span>│<span style=\"color: #800080; text-decoration-color: #800080\"> 4096 </span>│<span style=\"color: #008000; text-decoration-color: #008000\">   0   </span>│<span style=\"color: #008080; text-decoration-color: #008080\">  []  </span>│                        \n",
       "           └──────┴────┴─────────────┴────────┴──────┴───────┴──────┘                        \n",
       "</pre>\n"
      ],
      "text/plain": [
       "\u001b[2;36m          \u001b[0m\u001b[2;36m \u001b[0m\u001b[3m                  Final Node Description                  \u001b[0m       \u001b]8;id=881298;file:///tmp/ipykernel_152833/1843420858.py\u001b\\\u001b[2m1843420858.py\u001b[0m\u001b]8;;\u001b\\\u001b[2m:\u001b[0m\u001b]8;id=438899;file:///tmp/ipykernel_152833/1843420858.py#314\u001b\\\u001b[2m314\u001b[0m\u001b]8;;\u001b\\\n",
       "           ┏━━━━━━┳━━━━┳━━━━━━━━━━━━━┳━━━━━━━━┳━━━━━━┳━━━━━━━┳━━━━━━┓                        \n",
       "           ┃\u001b[1m \u001b[0m\u001b[1mName\u001b[0m\u001b[1m \u001b[0m┃\u001b[1m \u001b[0m\u001b[1mID\u001b[0m\u001b[1m \u001b[0m┃\u001b[1m \u001b[0m\u001b[1mNum of Pods\u001b[0m\u001b[1m \u001b[0m┃\u001b[1m \u001b[0m\u001b[1mMemory\u001b[0m\u001b[1m \u001b[0m┃\u001b[1m \u001b[0m\u001b[1mCPU \u001b[0m\u001b[1m \u001b[0m┃\u001b[1m \u001b[0m\u001b[1mScore\u001b[0m\u001b[1m \u001b[0m┃\u001b[1m \u001b[0m\u001b[1mPort\u001b[0m\u001b[1m \u001b[0m┃                        \n",
       "           ┡━━━━━━╇━━━━╇━━━━━━━━━━━━━╇━━━━━━━━╇━━━━━━╇━━━━━━━╇━━━━━━┩                        \n",
       "           │\u001b[36m \u001b[0m\u001b[36m n1 \u001b[0m\u001b[36m \u001b[0m│\u001b[35m \u001b[0m\u001b[35m0 \u001b[0m\u001b[35m \u001b[0m│\u001b[32m \u001b[0m\u001b[32m     0     \u001b[0m\u001b[32m \u001b[0m│\u001b[36m \u001b[0m\u001b[36m  64  \u001b[0m\u001b[36m \u001b[0m│\u001b[35m \u001b[0m\u001b[35m128 \u001b[0m\u001b[35m \u001b[0m│\u001b[32m \u001b[0m\u001b[32m  0  \u001b[0m\u001b[32m \u001b[0m│\u001b[36m \u001b[0m\u001b[36m [] \u001b[0m\u001b[36m \u001b[0m│                        \n",
       "           │\u001b[36m \u001b[0m\u001b[36m n2 \u001b[0m\u001b[36m \u001b[0m│\u001b[35m \u001b[0m\u001b[35m1 \u001b[0m\u001b[35m \u001b[0m│\u001b[32m \u001b[0m\u001b[32m     0     \u001b[0m\u001b[32m \u001b[0m│\u001b[36m \u001b[0m\u001b[36m 128  \u001b[0m\u001b[36m \u001b[0m│\u001b[35m \u001b[0m\u001b[35m256 \u001b[0m\u001b[35m \u001b[0m│\u001b[32m \u001b[0m\u001b[32m  0  \u001b[0m\u001b[32m \u001b[0m│\u001b[36m \u001b[0m\u001b[36m [] \u001b[0m\u001b[36m \u001b[0m│                        \n",
       "           │\u001b[36m \u001b[0m\u001b[36m n3 \u001b[0m\u001b[36m \u001b[0m│\u001b[35m \u001b[0m\u001b[35m2 \u001b[0m\u001b[35m \u001b[0m│\u001b[32m \u001b[0m\u001b[32m     0     \u001b[0m\u001b[32m \u001b[0m│\u001b[36m \u001b[0m\u001b[36m 256  \u001b[0m\u001b[36m \u001b[0m│\u001b[35m \u001b[0m\u001b[35m512 \u001b[0m\u001b[35m \u001b[0m│\u001b[32m \u001b[0m\u001b[32m  0  \u001b[0m\u001b[32m \u001b[0m│\u001b[36m \u001b[0m\u001b[36m [] \u001b[0m\u001b[36m \u001b[0m│                        \n",
       "           │\u001b[36m \u001b[0m\u001b[36m n4 \u001b[0m\u001b[36m \u001b[0m│\u001b[35m \u001b[0m\u001b[35m3 \u001b[0m\u001b[35m \u001b[0m│\u001b[32m \u001b[0m\u001b[32m     0     \u001b[0m\u001b[32m \u001b[0m│\u001b[36m \u001b[0m\u001b[36m 512  \u001b[0m\u001b[36m \u001b[0m│\u001b[35m \u001b[0m\u001b[35m1024\u001b[0m\u001b[35m \u001b[0m│\u001b[32m \u001b[0m\u001b[32m  0  \u001b[0m\u001b[32m \u001b[0m│\u001b[36m \u001b[0m\u001b[36m [] \u001b[0m\u001b[36m \u001b[0m│                        \n",
       "           │\u001b[36m \u001b[0m\u001b[36m n5 \u001b[0m\u001b[36m \u001b[0m│\u001b[35m \u001b[0m\u001b[35m4 \u001b[0m\u001b[35m \u001b[0m│\u001b[32m \u001b[0m\u001b[32m     0     \u001b[0m\u001b[32m \u001b[0m│\u001b[36m \u001b[0m\u001b[36m 1024 \u001b[0m\u001b[36m \u001b[0m│\u001b[35m \u001b[0m\u001b[35m2048\u001b[0m\u001b[35m \u001b[0m│\u001b[32m \u001b[0m\u001b[32m  0  \u001b[0m\u001b[32m \u001b[0m│\u001b[36m \u001b[0m\u001b[36m [] \u001b[0m\u001b[36m \u001b[0m│                        \n",
       "           │\u001b[36m \u001b[0m\u001b[36m n6 \u001b[0m\u001b[36m \u001b[0m│\u001b[35m \u001b[0m\u001b[35m5 \u001b[0m\u001b[35m \u001b[0m│\u001b[32m \u001b[0m\u001b[32m     0     \u001b[0m\u001b[32m \u001b[0m│\u001b[36m \u001b[0m\u001b[36m 2048 \u001b[0m\u001b[36m \u001b[0m│\u001b[35m \u001b[0m\u001b[35m4096\u001b[0m\u001b[35m \u001b[0m│\u001b[32m \u001b[0m\u001b[32m  0  \u001b[0m\u001b[32m \u001b[0m│\u001b[36m \u001b[0m\u001b[36m [] \u001b[0m\u001b[36m \u001b[0m│                        \n",
       "           └──────┴────┴─────────────┴────────┴──────┴───────┴──────┘                        \n"
      ]
     },
     "metadata": {},
     "output_type": "display_data"
    },
    {
     "data": {
      "text/html": [
       "<pre style=\"white-space:pre;overflow-x:auto;line-height:normal;font-family:Menlo,'DejaVu Sans Mono',consolas,'Courier New',monospace\"><span style=\"color: #7fbfbf; text-decoration-color: #7fbfbf\">           </span><span style=\"font-style: italic\">                        Pod Description                         </span> <a href=\"file:///tmp/ipykernel_152833/1843420858.py\"><span style=\"color: #7f7f7f; text-decoration-color: #7f7f7f\">1843420858.py</span></a><span style=\"color: #7f7f7f; text-decoration-color: #7f7f7f\">:</span><a href=\"file:///tmp/ipykernel_152833/1843420858.py#324\"><span style=\"color: #7f7f7f; text-decoration-color: #7f7f7f\">324</span></a>\n",
       "           ┏━━━━━━┳━━━━━┳━━━━━━┳━━━━━━┳━━━━━━┳━━━━━━┳━━━━━━┳━━━━━━━┳━━━━━━┓                  \n",
       "           ┃<span style=\"font-weight: bold\"> Name </span>┃<span style=\"font-weight: bold\"> ID  </span>┃<span style=\"font-weight: bold\"> Node </span>┃<span style=\"font-weight: bold\"> Mem… </span>┃<span style=\"font-weight: bold\"> CPU  </span>┃<span style=\"font-weight: bold\"> Bind </span>┃<span style=\"font-weight: bold\"> Port </span>┃<span style=\"font-weight: bold\"> Arri… </span>┃<span style=\"font-weight: bold\"> Ser… </span>┃                  \n",
       "           ┃      ┃     ┃<span style=\"font-weight: bold\"> Ass… </span>┃<span style=\"font-weight: bold\"> Req  </span>┃<span style=\"font-weight: bold\"> Req  </span>┃      ┃      ┃<span style=\"font-weight: bold\"> Time  </span>┃<span style=\"font-weight: bold\"> Time </span>┃                  \n",
       "           ┡━━━━━━╇━━━━━╇━━━━━━╇━━━━━━╇━━━━━━╇━━━━━━╇━━━━━━╇━━━━━━━╇━━━━━━┩                  \n",
       "           │<span style=\"color: #008080; text-decoration-color: #008080\"> Fro… </span>│<span style=\"color: #800080; text-decoration-color: #800080\">  0  </span>│<span style=\"color: #008000; text-decoration-color: #008000\">  n2  </span>│<span style=\"color: #008080; text-decoration-color: #008080\">  64  </span>│<span style=\"color: #800080; text-decoration-color: #800080\"> 120  </span>│<span style=\"color: #008000; text-decoration-color: #008000\"> True </span>│<span style=\"color: #008080; text-decoration-color: #008080\">  90  </span>│<span style=\"color: #800080; text-decoration-color: #800080\">  35   </span>│<span style=\"color: #008000; text-decoration-color: #008000\"> 165  </span>│                  \n",
       "           │<span style=\"color: #008080; text-decoration-color: #008080\"> Pod1 </span>│<span style=\"color: #800080; text-decoration-color: #800080\">  1  </span>│<span style=\"color: #008000; text-decoration-color: #008000\">  n4  </span>│<span style=\"color: #008080; text-decoration-color: #008080\">  64  </span>│<span style=\"color: #800080; text-decoration-color: #800080\"> 128  </span>│<span style=\"color: #008000; text-decoration-color: #008000\"> True </span>│<span style=\"color: #008080; text-decoration-color: #008080\">  80  </span>│<span style=\"color: #800080; text-decoration-color: #800080\">  40   </span>│<span style=\"color: #008000; text-decoration-color: #008000\">  15  </span>│                  \n",
       "           │<span style=\"color: #008080; text-decoration-color: #008080\"> Pod2 </span>│<span style=\"color: #800080; text-decoration-color: #800080\">  2  </span>│<span style=\"color: #008000; text-decoration-color: #008000\">      </span>│<span style=\"color: #008080; text-decoration-color: #008080\"> 128  </span>│<span style=\"color: #800080; text-decoration-color: #800080\"> 378  </span>│<span style=\"color: #008000; text-decoration-color: #008000\"> Fal… </span>│<span style=\"color: #008080; text-decoration-color: #008080\">  80  </span>│<span style=\"color: #800080; text-decoration-color: #800080\">  45   </span>│<span style=\"color: #008000; text-decoration-color: #008000\">  15  </span>│                  \n",
       "           │<span style=\"color: #008080; text-decoration-color: #008080\"> Pod3 </span>│<span style=\"color: #800080; text-decoration-color: #800080\">  3  </span>│<span style=\"color: #008000; text-decoration-color: #008000\">  n4  </span>│<span style=\"color: #008080; text-decoration-color: #008080\"> 192  </span>│<span style=\"color: #800080; text-decoration-color: #800080\"> 628  </span>│<span style=\"color: #008000; text-decoration-color: #008000\"> True </span>│<span style=\"color: #008080; text-decoration-color: #008080\"> 5000 </span>│<span style=\"color: #800080; text-decoration-color: #800080\">  50   </span>│<span style=\"color: #008000; text-decoration-color: #008000\">  15  </span>│                  \n",
       "           │<span style=\"color: #008080; text-decoration-color: #008080\"> Pod4 </span>│<span style=\"color: #800080; text-decoration-color: #800080\">  4  </span>│<span style=\"color: #008000; text-decoration-color: #008000\">      </span>│<span style=\"color: #008080; text-decoration-color: #008080\"> 192  </span>│<span style=\"color: #800080; text-decoration-color: #800080\"> 5128 </span>│<span style=\"color: #008000; text-decoration-color: #008000\"> Fal… </span>│<span style=\"color: #008080; text-decoration-color: #008080\"> None </span>│<span style=\"color: #800080; text-decoration-color: #800080\">  55   </span>│<span style=\"color: #008000; text-decoration-color: #008000\">  15  </span>│                  \n",
       "           │<span style=\"color: #008080; text-decoration-color: #008080\"> Pod5 </span>│<span style=\"color: #800080; text-decoration-color: #800080\">  5  </span>│<span style=\"color: #008000; text-decoration-color: #008000\">  n5  </span>│<span style=\"color: #008080; text-decoration-color: #008080\"> 192  </span>│<span style=\"color: #800080; text-decoration-color: #800080\"> 700  </span>│<span style=\"color: #008000; text-decoration-color: #008000\"> True </span>│<span style=\"color: #008080; text-decoration-color: #008080\"> 2000 </span>│<span style=\"color: #800080; text-decoration-color: #800080\">  60   </span>│<span style=\"color: #008000; text-decoration-color: #008000\"> 155  </span>│                  \n",
       "           │<span style=\"color: #008080; text-decoration-color: #008080\"> Pod2 </span>│<span style=\"color: #800080; text-decoration-color: #800080\">  2  </span>│<span style=\"color: #008000; text-decoration-color: #008000\">  n4  </span>│<span style=\"color: #008080; text-decoration-color: #008080\"> 128  </span>│<span style=\"color: #800080; text-decoration-color: #800080\"> 378  </span>│<span style=\"color: #008000; text-decoration-color: #008000\"> True </span>│<span style=\"color: #008080; text-decoration-color: #008080\">  80  </span>│<span style=\"color: #800080; text-decoration-color: #800080\">  45   </span>│<span style=\"color: #008000; text-decoration-color: #008000\">  15  </span>│                  \n",
       "           │<span style=\"color: #008080; text-decoration-color: #008080\"> Pod4 </span>│<span style=\"color: #800080; text-decoration-color: #800080\">  4  </span>│<span style=\"color: #008000; text-decoration-color: #008000\">      </span>│<span style=\"color: #008080; text-decoration-color: #008080\"> 192  </span>│<span style=\"color: #800080; text-decoration-color: #800080\"> 5128 </span>│<span style=\"color: #008000; text-decoration-color: #008000\"> Fal… </span>│<span style=\"color: #008080; text-decoration-color: #008080\"> None </span>│<span style=\"color: #800080; text-decoration-color: #800080\">  55   </span>│<span style=\"color: #008000; text-decoration-color: #008000\">  15  </span>│                  \n",
       "           │<span style=\"color: #008080; text-decoration-color: #008080\"> Pod4 </span>│<span style=\"color: #800080; text-decoration-color: #800080\">  4  </span>│<span style=\"color: #008000; text-decoration-color: #008000\">      </span>│<span style=\"color: #008080; text-decoration-color: #008080\"> 192  </span>│<span style=\"color: #800080; text-decoration-color: #800080\"> 5128 </span>│<span style=\"color: #008000; text-decoration-color: #008000\"> Fal… </span>│<span style=\"color: #008080; text-decoration-color: #008080\"> None </span>│<span style=\"color: #800080; text-decoration-color: #800080\">  55   </span>│<span style=\"color: #008000; text-decoration-color: #008000\">  15  </span>│                  \n",
       "           │<span style=\"color: #008080; text-decoration-color: #008080\"> ---  </span>│<span style=\"color: #800080; text-decoration-color: #800080\"> --- </span>│<span style=\"color: #008000; text-decoration-color: #008000\"> ---  </span>│<span style=\"color: #008080; text-decoration-color: #008080\"> ---  </span>│<span style=\"color: #800080; text-decoration-color: #800080\"> ---  </span>│<span style=\"color: #008000; text-decoration-color: #008000\"> ---  </span>│<span style=\"color: #008080; text-decoration-color: #008080\"> ---  </span>│<span style=\"color: #800080; text-decoration-color: #800080\">  ---  </span>│<span style=\"color: #008000; text-decoration-color: #008000\"> ---  </span>│                  \n",
       "           │<span style=\"color: #008080; text-decoration-color: #008080\"> Fro… </span>│<span style=\"color: #800080; text-decoration-color: #800080\">  0  </span>│<span style=\"color: #008000; text-decoration-color: #008000\">      </span>│<span style=\"color: #008080; text-decoration-color: #008080\">  64  </span>│<span style=\"color: #800080; text-decoration-color: #800080\"> 120  </span>│<span style=\"color: #008000; text-decoration-color: #008000\"> Fal… </span>│<span style=\"color: #008080; text-decoration-color: #008080\">  90  </span>│<span style=\"color: #800080; text-decoration-color: #800080\">  35   </span>│<span style=\"color: #008000; text-decoration-color: #008000\"> 165  </span>│                  \n",
       "           │<span style=\"color: #008080; text-decoration-color: #008080\"> Pod1 </span>│<span style=\"color: #800080; text-decoration-color: #800080\">  1  </span>│<span style=\"color: #008000; text-decoration-color: #008000\">      </span>│<span style=\"color: #008080; text-decoration-color: #008080\">  64  </span>│<span style=\"color: #800080; text-decoration-color: #800080\"> 128  </span>│<span style=\"color: #008000; text-decoration-color: #008000\"> Fal… </span>│<span style=\"color: #008080; text-decoration-color: #008080\">  80  </span>│<span style=\"color: #800080; text-decoration-color: #800080\">  40   </span>│<span style=\"color: #008000; text-decoration-color: #008000\">  15  </span>│                  \n",
       "           │<span style=\"color: #008080; text-decoration-color: #008080\"> Pod2 </span>│<span style=\"color: #800080; text-decoration-color: #800080\">  2  </span>│<span style=\"color: #008000; text-decoration-color: #008000\">      </span>│<span style=\"color: #008080; text-decoration-color: #008080\"> 128  </span>│<span style=\"color: #800080; text-decoration-color: #800080\"> 378  </span>│<span style=\"color: #008000; text-decoration-color: #008000\"> Fal… </span>│<span style=\"color: #008080; text-decoration-color: #008080\">  80  </span>│<span style=\"color: #800080; text-decoration-color: #800080\">  45   </span>│<span style=\"color: #008000; text-decoration-color: #008000\">  15  </span>│                  \n",
       "           │<span style=\"color: #008080; text-decoration-color: #008080\"> Pod3 </span>│<span style=\"color: #800080; text-decoration-color: #800080\">  3  </span>│<span style=\"color: #008000; text-decoration-color: #008000\">      </span>│<span style=\"color: #008080; text-decoration-color: #008080\"> 192  </span>│<span style=\"color: #800080; text-decoration-color: #800080\"> 628  </span>│<span style=\"color: #008000; text-decoration-color: #008000\"> Fal… </span>│<span style=\"color: #008080; text-decoration-color: #008080\"> 5000 </span>│<span style=\"color: #800080; text-decoration-color: #800080\">  50   </span>│<span style=\"color: #008000; text-decoration-color: #008000\">  15  </span>│                  \n",
       "           │<span style=\"color: #008080; text-decoration-color: #008080\"> Pod4 </span>│<span style=\"color: #800080; text-decoration-color: #800080\">  4  </span>│<span style=\"color: #008000; text-decoration-color: #008000\">      </span>│<span style=\"color: #008080; text-decoration-color: #008080\"> 192  </span>│<span style=\"color: #800080; text-decoration-color: #800080\"> 5128 </span>│<span style=\"color: #008000; text-decoration-color: #008000\"> Fal… </span>│<span style=\"color: #008080; text-decoration-color: #008080\"> None </span>│<span style=\"color: #800080; text-decoration-color: #800080\">  55   </span>│<span style=\"color: #008000; text-decoration-color: #008000\">  15  </span>│                  \n",
       "           │<span style=\"color: #008080; text-decoration-color: #008080\"> Pod5 </span>│<span style=\"color: #800080; text-decoration-color: #800080\">  5  </span>│<span style=\"color: #008000; text-decoration-color: #008000\">      </span>│<span style=\"color: #008080; text-decoration-color: #008080\"> 192  </span>│<span style=\"color: #800080; text-decoration-color: #800080\"> 700  </span>│<span style=\"color: #008000; text-decoration-color: #008000\"> Fal… </span>│<span style=\"color: #008080; text-decoration-color: #008080\"> 2000 </span>│<span style=\"color: #800080; text-decoration-color: #800080\">  60   </span>│<span style=\"color: #008000; text-decoration-color: #008000\"> 155  </span>│                  \n",
       "           └──────┴─────┴──────┴──────┴──────┴──────┴──────┴───────┴──────┘                  \n",
       "</pre>\n"
      ],
      "text/plain": [
       "\u001b[2;36m          \u001b[0m\u001b[2;36m \u001b[0m\u001b[3m                        Pod Description                         \u001b[0m \u001b]8;id=274695;file:///tmp/ipykernel_152833/1843420858.py\u001b\\\u001b[2m1843420858.py\u001b[0m\u001b]8;;\u001b\\\u001b[2m:\u001b[0m\u001b]8;id=977965;file:///tmp/ipykernel_152833/1843420858.py#324\u001b\\\u001b[2m324\u001b[0m\u001b]8;;\u001b\\\n",
       "           ┏━━━━━━┳━━━━━┳━━━━━━┳━━━━━━┳━━━━━━┳━━━━━━┳━━━━━━┳━━━━━━━┳━━━━━━┓                  \n",
       "           ┃\u001b[1m \u001b[0m\u001b[1mName\u001b[0m\u001b[1m \u001b[0m┃\u001b[1m \u001b[0m\u001b[1mID \u001b[0m\u001b[1m \u001b[0m┃\u001b[1m \u001b[0m\u001b[1mNode\u001b[0m\u001b[1m \u001b[0m┃\u001b[1m \u001b[0m\u001b[1mMem…\u001b[0m\u001b[1m \u001b[0m┃\u001b[1m \u001b[0m\u001b[1mCPU \u001b[0m\u001b[1m \u001b[0m┃\u001b[1m \u001b[0m\u001b[1mBind\u001b[0m\u001b[1m \u001b[0m┃\u001b[1m \u001b[0m\u001b[1mPort\u001b[0m\u001b[1m \u001b[0m┃\u001b[1m \u001b[0m\u001b[1mArri…\u001b[0m\u001b[1m \u001b[0m┃\u001b[1m \u001b[0m\u001b[1mSer…\u001b[0m\u001b[1m \u001b[0m┃                  \n",
       "           ┃      ┃     ┃\u001b[1m \u001b[0m\u001b[1mAss…\u001b[0m\u001b[1m \u001b[0m┃\u001b[1m \u001b[0m\u001b[1mReq \u001b[0m\u001b[1m \u001b[0m┃\u001b[1m \u001b[0m\u001b[1mReq \u001b[0m\u001b[1m \u001b[0m┃      ┃      ┃\u001b[1m \u001b[0m\u001b[1mTime \u001b[0m\u001b[1m \u001b[0m┃\u001b[1m \u001b[0m\u001b[1mTime\u001b[0m\u001b[1m \u001b[0m┃                  \n",
       "           ┡━━━━━━╇━━━━━╇━━━━━━╇━━━━━━╇━━━━━━╇━━━━━━╇━━━━━━╇━━━━━━━╇━━━━━━┩                  \n",
       "           │\u001b[36m \u001b[0m\u001b[36mFro…\u001b[0m\u001b[36m \u001b[0m│\u001b[35m \u001b[0m\u001b[35m 0 \u001b[0m\u001b[35m \u001b[0m│\u001b[32m \u001b[0m\u001b[32m n2 \u001b[0m\u001b[32m \u001b[0m│\u001b[36m \u001b[0m\u001b[36m 64 \u001b[0m\u001b[36m \u001b[0m│\u001b[35m \u001b[0m\u001b[35m120 \u001b[0m\u001b[35m \u001b[0m│\u001b[32m \u001b[0m\u001b[32mTrue\u001b[0m\u001b[32m \u001b[0m│\u001b[36m \u001b[0m\u001b[36m 90 \u001b[0m\u001b[36m \u001b[0m│\u001b[35m \u001b[0m\u001b[35m 35  \u001b[0m\u001b[35m \u001b[0m│\u001b[32m \u001b[0m\u001b[32m165 \u001b[0m\u001b[32m \u001b[0m│                  \n",
       "           │\u001b[36m \u001b[0m\u001b[36mPod1\u001b[0m\u001b[36m \u001b[0m│\u001b[35m \u001b[0m\u001b[35m 1 \u001b[0m\u001b[35m \u001b[0m│\u001b[32m \u001b[0m\u001b[32m n4 \u001b[0m\u001b[32m \u001b[0m│\u001b[36m \u001b[0m\u001b[36m 64 \u001b[0m\u001b[36m \u001b[0m│\u001b[35m \u001b[0m\u001b[35m128 \u001b[0m\u001b[35m \u001b[0m│\u001b[32m \u001b[0m\u001b[32mTrue\u001b[0m\u001b[32m \u001b[0m│\u001b[36m \u001b[0m\u001b[36m 80 \u001b[0m\u001b[36m \u001b[0m│\u001b[35m \u001b[0m\u001b[35m 40  \u001b[0m\u001b[35m \u001b[0m│\u001b[32m \u001b[0m\u001b[32m 15 \u001b[0m\u001b[32m \u001b[0m│                  \n",
       "           │\u001b[36m \u001b[0m\u001b[36mPod2\u001b[0m\u001b[36m \u001b[0m│\u001b[35m \u001b[0m\u001b[35m 2 \u001b[0m\u001b[35m \u001b[0m│\u001b[32m \u001b[0m\u001b[32m    \u001b[0m\u001b[32m \u001b[0m│\u001b[36m \u001b[0m\u001b[36m128 \u001b[0m\u001b[36m \u001b[0m│\u001b[35m \u001b[0m\u001b[35m378 \u001b[0m\u001b[35m \u001b[0m│\u001b[32m \u001b[0m\u001b[32mFal…\u001b[0m\u001b[32m \u001b[0m│\u001b[36m \u001b[0m\u001b[36m 80 \u001b[0m\u001b[36m \u001b[0m│\u001b[35m \u001b[0m\u001b[35m 45  \u001b[0m\u001b[35m \u001b[0m│\u001b[32m \u001b[0m\u001b[32m 15 \u001b[0m\u001b[32m \u001b[0m│                  \n",
       "           │\u001b[36m \u001b[0m\u001b[36mPod3\u001b[0m\u001b[36m \u001b[0m│\u001b[35m \u001b[0m\u001b[35m 3 \u001b[0m\u001b[35m \u001b[0m│\u001b[32m \u001b[0m\u001b[32m n4 \u001b[0m\u001b[32m \u001b[0m│\u001b[36m \u001b[0m\u001b[36m192 \u001b[0m\u001b[36m \u001b[0m│\u001b[35m \u001b[0m\u001b[35m628 \u001b[0m\u001b[35m \u001b[0m│\u001b[32m \u001b[0m\u001b[32mTrue\u001b[0m\u001b[32m \u001b[0m│\u001b[36m \u001b[0m\u001b[36m5000\u001b[0m\u001b[36m \u001b[0m│\u001b[35m \u001b[0m\u001b[35m 50  \u001b[0m\u001b[35m \u001b[0m│\u001b[32m \u001b[0m\u001b[32m 15 \u001b[0m\u001b[32m \u001b[0m│                  \n",
       "           │\u001b[36m \u001b[0m\u001b[36mPod4\u001b[0m\u001b[36m \u001b[0m│\u001b[35m \u001b[0m\u001b[35m 4 \u001b[0m\u001b[35m \u001b[0m│\u001b[32m \u001b[0m\u001b[32m    \u001b[0m\u001b[32m \u001b[0m│\u001b[36m \u001b[0m\u001b[36m192 \u001b[0m\u001b[36m \u001b[0m│\u001b[35m \u001b[0m\u001b[35m5128\u001b[0m\u001b[35m \u001b[0m│\u001b[32m \u001b[0m\u001b[32mFal…\u001b[0m\u001b[32m \u001b[0m│\u001b[36m \u001b[0m\u001b[36mNone\u001b[0m\u001b[36m \u001b[0m│\u001b[35m \u001b[0m\u001b[35m 55  \u001b[0m\u001b[35m \u001b[0m│\u001b[32m \u001b[0m\u001b[32m 15 \u001b[0m\u001b[32m \u001b[0m│                  \n",
       "           │\u001b[36m \u001b[0m\u001b[36mPod5\u001b[0m\u001b[36m \u001b[0m│\u001b[35m \u001b[0m\u001b[35m 5 \u001b[0m\u001b[35m \u001b[0m│\u001b[32m \u001b[0m\u001b[32m n5 \u001b[0m\u001b[32m \u001b[0m│\u001b[36m \u001b[0m\u001b[36m192 \u001b[0m\u001b[36m \u001b[0m│\u001b[35m \u001b[0m\u001b[35m700 \u001b[0m\u001b[35m \u001b[0m│\u001b[32m \u001b[0m\u001b[32mTrue\u001b[0m\u001b[32m \u001b[0m│\u001b[36m \u001b[0m\u001b[36m2000\u001b[0m\u001b[36m \u001b[0m│\u001b[35m \u001b[0m\u001b[35m 60  \u001b[0m\u001b[35m \u001b[0m│\u001b[32m \u001b[0m\u001b[32m155 \u001b[0m\u001b[32m \u001b[0m│                  \n",
       "           │\u001b[36m \u001b[0m\u001b[36mPod2\u001b[0m\u001b[36m \u001b[0m│\u001b[35m \u001b[0m\u001b[35m 2 \u001b[0m\u001b[35m \u001b[0m│\u001b[32m \u001b[0m\u001b[32m n4 \u001b[0m\u001b[32m \u001b[0m│\u001b[36m \u001b[0m\u001b[36m128 \u001b[0m\u001b[36m \u001b[0m│\u001b[35m \u001b[0m\u001b[35m378 \u001b[0m\u001b[35m \u001b[0m│\u001b[32m \u001b[0m\u001b[32mTrue\u001b[0m\u001b[32m \u001b[0m│\u001b[36m \u001b[0m\u001b[36m 80 \u001b[0m\u001b[36m \u001b[0m│\u001b[35m \u001b[0m\u001b[35m 45  \u001b[0m\u001b[35m \u001b[0m│\u001b[32m \u001b[0m\u001b[32m 15 \u001b[0m\u001b[32m \u001b[0m│                  \n",
       "           │\u001b[36m \u001b[0m\u001b[36mPod4\u001b[0m\u001b[36m \u001b[0m│\u001b[35m \u001b[0m\u001b[35m 4 \u001b[0m\u001b[35m \u001b[0m│\u001b[32m \u001b[0m\u001b[32m    \u001b[0m\u001b[32m \u001b[0m│\u001b[36m \u001b[0m\u001b[36m192 \u001b[0m\u001b[36m \u001b[0m│\u001b[35m \u001b[0m\u001b[35m5128\u001b[0m\u001b[35m \u001b[0m│\u001b[32m \u001b[0m\u001b[32mFal…\u001b[0m\u001b[32m \u001b[0m│\u001b[36m \u001b[0m\u001b[36mNone\u001b[0m\u001b[36m \u001b[0m│\u001b[35m \u001b[0m\u001b[35m 55  \u001b[0m\u001b[35m \u001b[0m│\u001b[32m \u001b[0m\u001b[32m 15 \u001b[0m\u001b[32m \u001b[0m│                  \n",
       "           │\u001b[36m \u001b[0m\u001b[36mPod4\u001b[0m\u001b[36m \u001b[0m│\u001b[35m \u001b[0m\u001b[35m 4 \u001b[0m\u001b[35m \u001b[0m│\u001b[32m \u001b[0m\u001b[32m    \u001b[0m\u001b[32m \u001b[0m│\u001b[36m \u001b[0m\u001b[36m192 \u001b[0m\u001b[36m \u001b[0m│\u001b[35m \u001b[0m\u001b[35m5128\u001b[0m\u001b[35m \u001b[0m│\u001b[32m \u001b[0m\u001b[32mFal…\u001b[0m\u001b[32m \u001b[0m│\u001b[36m \u001b[0m\u001b[36mNone\u001b[0m\u001b[36m \u001b[0m│\u001b[35m \u001b[0m\u001b[35m 55  \u001b[0m\u001b[35m \u001b[0m│\u001b[32m \u001b[0m\u001b[32m 15 \u001b[0m\u001b[32m \u001b[0m│                  \n",
       "           │\u001b[36m \u001b[0m\u001b[36m--- \u001b[0m\u001b[36m \u001b[0m│\u001b[35m \u001b[0m\u001b[35m---\u001b[0m\u001b[35m \u001b[0m│\u001b[32m \u001b[0m\u001b[32m--- \u001b[0m\u001b[32m \u001b[0m│\u001b[36m \u001b[0m\u001b[36m--- \u001b[0m\u001b[36m \u001b[0m│\u001b[35m \u001b[0m\u001b[35m--- \u001b[0m\u001b[35m \u001b[0m│\u001b[32m \u001b[0m\u001b[32m--- \u001b[0m\u001b[32m \u001b[0m│\u001b[36m \u001b[0m\u001b[36m--- \u001b[0m\u001b[36m \u001b[0m│\u001b[35m \u001b[0m\u001b[35m --- \u001b[0m\u001b[35m \u001b[0m│\u001b[32m \u001b[0m\u001b[32m--- \u001b[0m\u001b[32m \u001b[0m│                  \n",
       "           │\u001b[36m \u001b[0m\u001b[36mFro…\u001b[0m\u001b[36m \u001b[0m│\u001b[35m \u001b[0m\u001b[35m 0 \u001b[0m\u001b[35m \u001b[0m│\u001b[32m \u001b[0m\u001b[32m    \u001b[0m\u001b[32m \u001b[0m│\u001b[36m \u001b[0m\u001b[36m 64 \u001b[0m\u001b[36m \u001b[0m│\u001b[35m \u001b[0m\u001b[35m120 \u001b[0m\u001b[35m \u001b[0m│\u001b[32m \u001b[0m\u001b[32mFal…\u001b[0m\u001b[32m \u001b[0m│\u001b[36m \u001b[0m\u001b[36m 90 \u001b[0m\u001b[36m \u001b[0m│\u001b[35m \u001b[0m\u001b[35m 35  \u001b[0m\u001b[35m \u001b[0m│\u001b[32m \u001b[0m\u001b[32m165 \u001b[0m\u001b[32m \u001b[0m│                  \n",
       "           │\u001b[36m \u001b[0m\u001b[36mPod1\u001b[0m\u001b[36m \u001b[0m│\u001b[35m \u001b[0m\u001b[35m 1 \u001b[0m\u001b[35m \u001b[0m│\u001b[32m \u001b[0m\u001b[32m    \u001b[0m\u001b[32m \u001b[0m│\u001b[36m \u001b[0m\u001b[36m 64 \u001b[0m\u001b[36m \u001b[0m│\u001b[35m \u001b[0m\u001b[35m128 \u001b[0m\u001b[35m \u001b[0m│\u001b[32m \u001b[0m\u001b[32mFal…\u001b[0m\u001b[32m \u001b[0m│\u001b[36m \u001b[0m\u001b[36m 80 \u001b[0m\u001b[36m \u001b[0m│\u001b[35m \u001b[0m\u001b[35m 40  \u001b[0m\u001b[35m \u001b[0m│\u001b[32m \u001b[0m\u001b[32m 15 \u001b[0m\u001b[32m \u001b[0m│                  \n",
       "           │\u001b[36m \u001b[0m\u001b[36mPod2\u001b[0m\u001b[36m \u001b[0m│\u001b[35m \u001b[0m\u001b[35m 2 \u001b[0m\u001b[35m \u001b[0m│\u001b[32m \u001b[0m\u001b[32m    \u001b[0m\u001b[32m \u001b[0m│\u001b[36m \u001b[0m\u001b[36m128 \u001b[0m\u001b[36m \u001b[0m│\u001b[35m \u001b[0m\u001b[35m378 \u001b[0m\u001b[35m \u001b[0m│\u001b[32m \u001b[0m\u001b[32mFal…\u001b[0m\u001b[32m \u001b[0m│\u001b[36m \u001b[0m\u001b[36m 80 \u001b[0m\u001b[36m \u001b[0m│\u001b[35m \u001b[0m\u001b[35m 45  \u001b[0m\u001b[35m \u001b[0m│\u001b[32m \u001b[0m\u001b[32m 15 \u001b[0m\u001b[32m \u001b[0m│                  \n",
       "           │\u001b[36m \u001b[0m\u001b[36mPod3\u001b[0m\u001b[36m \u001b[0m│\u001b[35m \u001b[0m\u001b[35m 3 \u001b[0m\u001b[35m \u001b[0m│\u001b[32m \u001b[0m\u001b[32m    \u001b[0m\u001b[32m \u001b[0m│\u001b[36m \u001b[0m\u001b[36m192 \u001b[0m\u001b[36m \u001b[0m│\u001b[35m \u001b[0m\u001b[35m628 \u001b[0m\u001b[35m \u001b[0m│\u001b[32m \u001b[0m\u001b[32mFal…\u001b[0m\u001b[32m \u001b[0m│\u001b[36m \u001b[0m\u001b[36m5000\u001b[0m\u001b[36m \u001b[0m│\u001b[35m \u001b[0m\u001b[35m 50  \u001b[0m\u001b[35m \u001b[0m│\u001b[32m \u001b[0m\u001b[32m 15 \u001b[0m\u001b[32m \u001b[0m│                  \n",
       "           │\u001b[36m \u001b[0m\u001b[36mPod4\u001b[0m\u001b[36m \u001b[0m│\u001b[35m \u001b[0m\u001b[35m 4 \u001b[0m\u001b[35m \u001b[0m│\u001b[32m \u001b[0m\u001b[32m    \u001b[0m\u001b[32m \u001b[0m│\u001b[36m \u001b[0m\u001b[36m192 \u001b[0m\u001b[36m \u001b[0m│\u001b[35m \u001b[0m\u001b[35m5128\u001b[0m\u001b[35m \u001b[0m│\u001b[32m \u001b[0m\u001b[32mFal…\u001b[0m\u001b[32m \u001b[0m│\u001b[36m \u001b[0m\u001b[36mNone\u001b[0m\u001b[36m \u001b[0m│\u001b[35m \u001b[0m\u001b[35m 55  \u001b[0m\u001b[35m \u001b[0m│\u001b[32m \u001b[0m\u001b[32m 15 \u001b[0m\u001b[32m \u001b[0m│                  \n",
       "           │\u001b[36m \u001b[0m\u001b[36mPod5\u001b[0m\u001b[36m \u001b[0m│\u001b[35m \u001b[0m\u001b[35m 5 \u001b[0m\u001b[35m \u001b[0m│\u001b[32m \u001b[0m\u001b[32m    \u001b[0m\u001b[32m \u001b[0m│\u001b[36m \u001b[0m\u001b[36m192 \u001b[0m\u001b[36m \u001b[0m│\u001b[35m \u001b[0m\u001b[35m700 \u001b[0m\u001b[35m \u001b[0m│\u001b[32m \u001b[0m\u001b[32mFal…\u001b[0m\u001b[32m \u001b[0m│\u001b[36m \u001b[0m\u001b[36m2000\u001b[0m\u001b[36m \u001b[0m│\u001b[35m \u001b[0m\u001b[35m 60  \u001b[0m\u001b[35m \u001b[0m│\u001b[32m \u001b[0m\u001b[32m155 \u001b[0m\u001b[32m \u001b[0m│                  \n",
       "           └──────┴─────┴──────┴──────┴──────┴──────┴──────┴───────┴──────┘                  \n"
      ]
     },
     "metadata": {},
     "output_type": "display_data"
    }
   ],
   "source": [
    "#!/usr/bin/env python\n",
    "from rich.console import Console\n",
    "from rich.table import Table\n",
    "from rich.traceback import install\n",
    "from rich.markdown import Markdown\n",
    "from rich.progress import track\n",
    "import simpy.rt\n",
    "import queue\n",
    "import logging\n",
    "import yaml\n",
    "import glob\n",
    "import os\n",
    "install()  # creates a better readable traceback\n",
    "\n",
    "\n",
    "table = Table(title=\"Pod Description\")\n",
    "\n",
    "table.add_column(\"Name\", justify=\"center\", style=\"cyan\")\n",
    "table.add_column(\"ID\", justify=\"center\", style=\"magenta\")\n",
    "table.add_column(\"Node Assigned\", justify=\"center\", style=\"green\")\n",
    "table.add_column(\"Memory Req\", justify=\"center\", style=\"cyan\")\n",
    "table.add_column(\"CPU Req\", justify=\"center\", style=\"magenta\")\n",
    "table.add_column(\"Bind\", justify=\"center\", style=\"green\")\n",
    "table.add_column(\"Port\", justify=\"center\", style=\"cyan\")\n",
    "table.add_column(\"Arrival Time\", justify=\"center\", style=\"magenta\")\n",
    "table.add_column(\"Service Time\", justify=\"center\", style=\"green\")\n",
    "\n",
    "node_table = Table(title=\"Final Node Description\")\n",
    "\n",
    "node_table.add_column(\"Name\", justify=\"center\", style=\"cyan\")\n",
    "node_table.add_column(\"ID\", justify=\"center\", style=\"magenta\")\n",
    "node_table.add_column(\"Num of Pods\", justify=\"center\", style=\"green\")\n",
    "node_table.add_column(\"Memory\", justify=\"center\", style=\"cyan\")\n",
    "node_table.add_column(\"CPU\", justify=\"center\", style=\"magenta\")\n",
    "node_table.add_column(\"Score\", justify=\"center\", style=\"green\")\n",
    "node_table.add_column(\"Port\", justify=\"center\", style=\"cyan\")\n",
    "\n",
    "console = Console(record=True)\n",
    "\n",
    "'''\n",
    "creates a test.log file which contains the result of the experiment performed.\n",
    "'''\n",
    "logging.basicConfig(filename='test.log', level=logging.DEBUG,\n",
    "                    format='%(asctime)s:%(levelname)s:%(message)s')\n",
    "\n",
    "_NODES = []  # contains list of all the working nodes in the cluster\n",
    "_PODS = []  # contains list of all the pods created\n",
    "_POD_QUEUE = queue.Queue()  # pods arrive in a FIFO queue\n",
    "\n",
    "\n",
    "def cluster_generator(env, num_mNode, retries):\n",
    "\n",
    "    console.log(\"---> Start Cluster :hourglass: Simulation Time: {} seconds\\n\".format(\n",
    "                env.now), style=\"bold green\")\n",
    "    logging.info(' Start Cluster at {} seconds\\n'.format(env.now))\n",
    "\n",
    "    cluster = Cluster(env, num_mNode)  # create cluster with master node(s)\n",
    "    request = cluster.master_node.request()  # access master node resource\n",
    "    yield request\n",
    "\n",
    "    '''\n",
    "    Tell the simulation enviroment to run the\n",
    "    create_nodes activity generator.\n",
    "    '''\n",
    "    nodes = env.process(create_nodes_generator(env, cluster))\n",
    "    yield nodes\n",
    "    console.log(\"---> Nodes created successfully :hourglass: Simulation Time: {} seconds\\n\".format(\n",
    "                env.now), style=\"blue bold\")\n",
    "    logging.info(' Nodes created successfully at {} seconds\\n'.format(env.now))\n",
    "\n",
    "    '''\n",
    "    Tell the simulation enviroment to run the create_pods activity generator.\n",
    "    The method create pods and add them in a FIFO queue.\n",
    "    '''\n",
    "    pods = env.process(create_pods_generator(env))\n",
    "    yield pods\n",
    "\n",
    "    # Keep doing this indefinitely (whilst the program's running)\n",
    "    while True:\n",
    "\n",
    "        # wait before getting next pod\n",
    "        yield env.timeout(5)\n",
    "\n",
    "        # if the queue is not empty\n",
    "        if (_POD_QUEUE.empty() is False):\n",
    "\n",
    "            pod = _POD_QUEUE.get()  # pop the pod from the queue\n",
    "\n",
    "            '''\n",
    "            Tell the simulation enviroment to run the\n",
    "            kubescheduler activity generator\n",
    "            '''\n",
    "            scheduler = env.process(kubescheduler_generator(env, cluster, pod))\n",
    "\n",
    "            '''\n",
    "            Tell the simulation enviroment to run the\n",
    "            drop pod activity generator\n",
    "            '''\n",
    "            removePod = env.process(drop_pod_generator(env, pod, retries))\n",
    "\n",
    "        yield scheduler | removePod  # Either one process finished\n",
    "\n",
    "        # Stop the cluster if the following processes finished\n",
    "        if scheduler.triggered and removePod.triggered:\n",
    "            break\n",
    "\n",
    "    cluster.master_node.release(request)  # release resources\n",
    "\n",
    "\n",
    "def create_nodes_generator(env, cluster):\n",
    "    '''\n",
    "    This function creates all working nodes described in the input file.\n",
    "    '''\n",
    "    console.log(\"===> Creating Nodes \", style=\"bold blue\")\n",
    "\n",
    "    for filename in glob.glob('src/*.yaml'):  # load YAML file from src\n",
    "        with open(os.path.join(os.getcwd(), filename), 'r') as stream:\n",
    "            try:\n",
    "                input = yaml.safe_load(stream)  # loads data from input file\n",
    "                # loop will run till it reach the final node in the list\n",
    "                for i in track(range(len(input['cluster']['node']))):\n",
    "                    name = input['cluster']['node'][i]['name']\n",
    "                    memory = input['cluster']['node'][i]['memory']\n",
    "                    cpu = input['cluster']['node'][i]['cpu']\n",
    "                    label = input['cluster']['node'][i]['label']\n",
    "                    creationTime = input['cluster']['wNode_creationTime']\n",
    "\n",
    "                    node = Node(name, memory, cpu, label)  # create node\n",
    "                    cluster.add_node(node)  # add node to the cluster\n",
    "                    _NODES.append(node)\n",
    "\n",
    "                    yield env.timeout(creationTime)\n",
    "\n",
    "            except yaml.YAMLError as exc:\n",
    "                print(exc)\n",
    "\n",
    "\n",
    "def create_pods_generator(env):\n",
    "    '''\n",
    "    This function creates all the pods described in the input file.\n",
    "    '''\n",
    "    console.log(\"===> Creating Pods \", style=\"bold blue\")\n",
    "\n",
    "    pod_data = {}  # contains pod info described in the input file\n",
    "\n",
    "    for filename in glob.glob('src/*.yaml'):\n",
    "        with open(os.path.join(os.getcwd(), filename), 'r') as stream:\n",
    "            try:\n",
    "                input = yaml.safe_load(stream)\n",
    "                for i in track(range(len(input['pods']['pod']))):\n",
    "                    pod_name = input['pods']['pod'][i]['name']\n",
    "                    plugin = input['pods']['pod'][i]['plugin']\n",
    "                    arrivalRate = input['pods']['pod'][i]['arrivalRate']\n",
    "                    serviceTime = input['pods']['pod'][i]['serviceTime']\n",
    "\n",
    "                    pod_data[pod_name] = [plugin, arrivalRate, serviceTime]\n",
    "\n",
    "            except yaml.YAMLError as exc:\n",
    "                print(exc)\n",
    "\n",
    "    container_list = []  # list of containers in the pod\n",
    "\n",
    "    for filename in sorted(glob.glob('pods/*.yaml')):\n",
    "        with open(os.path.join(os.getcwd(), filename), 'r') as stream:\n",
    "            try:\n",
    "                pod_file = yaml.safe_load(stream)\n",
    "                name = pod_file['metadata']['name']\n",
    "\n",
    "                if name in pod_data:\n",
    "                    yield env.timeout(pod_data[name][1])\n",
    "                    logging.info(' {} entered the queue at {} seconds \\n'.format(\n",
    "                                 name, env.now))\n",
    "                    console.log('---> {} entered the queue at {} seconds'.format(\n",
    "                                name, env.now))\n",
    "                    schedulerName = pod_file['spec']['schedulerName']\n",
    "                    nodeName = pod_file['spec']['nodeName']\n",
    "                    nodeSelector = pod_file['spec']['nodeSelector']['disktype']\n",
    "                    port = pod_file['spec']['port']\n",
    "\n",
    "                    for i in range(len(pod_file['spec']['containers'])):\n",
    "                        containerName = pod_file['spec']['containers'][i]['name']\n",
    "                        image = pod_file['spec']['containers'][i]['image']\n",
    "                        memory = int(pod_file['spec']['containers'][i]['resources']['limits']['memory'][:-2])\n",
    "                        cpu = int(pod_file['spec']['containers'][i]['resources']['limits']['cpu'][:-1])\n",
    "\n",
    "                        container_list.append(Container(containerName,\n",
    "                                                        image, memory,\n",
    "                                                        cpu))\n",
    "\n",
    "                    pod_memory = sum(map(lambda x: x.memory, container_list))\n",
    "                    pod_cpu = sum(map(lambda x: x.cpu, container_list))\n",
    "\n",
    "                    plug = Plugin()\n",
    "\n",
    "                    plugin_list = list(map(lambda x: x == \"1\", pod_data[name][0]))\n",
    "\n",
    "                    plug.predicate_list = plugin_list[:9]\n",
    "                    plug.priorites_list = plugin_list[9:]\n",
    "\n",
    "                    pod = Pod(name, schedulerName, pod_memory, pod_cpu,\n",
    "                              plug, env.now, pod_data[name][2],\n",
    "                              container_list.copy(), nodeName,\n",
    "                              nodeSelector, port)\n",
    "                    _POD_QUEUE.put(pod)\n",
    "                    _PODS.append(pod)\n",
    "                    container_list.clear()\n",
    "\n",
    "            except yaml.YAMLError as exc:\n",
    "                print(exc)\n",
    "\n",
    "\n",
    "def drop_pod_generator(env, pod, retries):\n",
    "    '''\n",
    "    This function removes the pod from the node it is bind to.\n",
    "    '''\n",
    "    if pod.is_bind:\n",
    "        yield env.timeout(pod.serviceTime)\n",
    "\n",
    "        console.log(\"\\n===> Removing {} :hourglass: Simulation Time: {} seconds\".format(\n",
    "                    pod.name, env.now), style=\"bold red\")\n",
    "\n",
    "        pod.node.remove_pod(pod)  # remove pod from the node\n",
    "        pod.node = None  # remove node from the pod\n",
    "\n",
    "        logging.info(' {} removed at {} seconds\\n'.format(pod.name, env.now))\n",
    "\n",
    "    else:\n",
    "        console.log(\"\\n===> Can't Remove {} because it's not bind\".format(\n",
    "                    pod.name), style=\"bold red\")\n",
    "        logging.info(\" Can't Remove {} because it's not bind\\n\".format(pod.name))\n",
    "\n",
    "        # Add Pod in the queue again for retrying the scheduling of the pod\n",
    "        if pod.schedulingRetries < retries:\n",
    "            _POD_QUEUE.put(pod)\n",
    "            pod.schedulingRetries += 1\n",
    "            logging.info(' {} again entered the queue at {} seconds [Retry # {}]\\n'.format(\n",
    "                                 pod.name, env.now, pod.schedulingRetries))\n",
    "            console.log('---> {} again entered the queue at {} seconds [Retry # {}]'.format(\n",
    "                                pod.name, env.now, pod.schedulingRetries))\n",
    "        else:\n",
    "            logging.info(' [Retries finished]')\n",
    "            console.log('---> [Retries finished]')\n",
    "\n",
    "\n",
    "def kubescheduler_generator(env, cluster, pod):\n",
    "    '''\n",
    "    This function is used to schedule the pod on a feasible node.\n",
    "    '''\n",
    "    console.log(\"\\n---> Run Kubescheduler for {}\\n\".format(\n",
    "                pod.name), style=\"bold green\")\n",
    "    logging.info(\" Run Kubescheduler for {}\\n\".format(\n",
    "                pod.name))\n",
    "    kubescheduler = Kubescheduler()  # create kubescheduler\n",
    "\n",
    "    # Start kubescheduler\n",
    "    kubescheduler.scheduling_cycle(cluster, pod, env.now)\n",
    "\n",
    "    if pod.is_bind is True:\n",
    "        logging.info(' {} assigned a node at {} seconds \\n'.format(\n",
    "                        pod.name, env.now))\n",
    "\n",
    "    table.add_row(pod.name, str(pod.id), pod.assignedNode,\n",
    "                  str(pod.memory), str(pod.cpu), str(pod.is_bind),\n",
    "                  str(pod.port), str(pod.arrivalTime),\n",
    "                  str(pod.serviceTime))\n",
    "\n",
    "    console.log(table)  # print table\n",
    "\n",
    "    scheduling_time = 5  # time used by the scheduler to run its cycle\n",
    "    yield env.timeout(scheduling_time)\n",
    "\n",
    "\n",
    "def main():\n",
    "    '''\n",
    "    We defined the generator functions above. Here's where we will get\n",
    "    everything running. First we set up a new SimPy simulation enviroment\n",
    "    '''\n",
    "    for filename in glob.glob('src/*.yaml'):\n",
    "        with open(os.path.join(os.getcwd(), filename), 'r') as stream:\n",
    "            try:\n",
    "                input = yaml.safe_load(stream)\n",
    "                num_mNode = input['cluster']['num_mNode']\n",
    "                retries = input['pods']['retries']\n",
    "                simType = input['metadata']['simType']\n",
    "\n",
    "            except yaml.YAMLError as exc:\n",
    "                print(exc)\n",
    "\n",
    "    # create a simulation environment\n",
    "    if simType == 'rt':\n",
    "        env = simpy.rt.RealtimeEnvironment(factor=0.01, strict=False)\n",
    "    elif simType == 'n':\n",
    "        env = simpy.Environment()\n",
    "\n",
    "    # erase logs of the previous run\n",
    "    file = open(\"test.log\",\"r+\")\n",
    "    file.truncate(0)\n",
    "    file.close()\n",
    "\n",
    "    MARKDOWN = \"\"\"# Start Simulation\"\"\"\n",
    "    console.log(Markdown(MARKDOWN), style=\"bold magenta\")\n",
    "\n",
    "    env.process(cluster_generator(env, num_mNode, retries))\n",
    "    # Set the simulation to run till the cluster process finish\n",
    "    env.run()\n",
    "\n",
    "    MARKDOWN = \"\"\"# End Result\"\"\"\n",
    "    console.log(Markdown(MARKDOWN), style=\"bold magenta\")\n",
    "\n",
    "    for node in _NODES:\n",
    "        node_table.add_row(node.name, str(node.id), str(node.num_of_pods),\n",
    "                           str(node.memory), str(node.cpu), str(node.score),\n",
    "                           str(node.port))\n",
    "    console.log(node_table)\n",
    "\n",
    "    table.add_row(\"---\", \"---\", \"---\", \"---\",\n",
    "                  \"---\", \"---\", \"---\", \"---\", \"---\")\n",
    "\n",
    "    for pod in _PODS:\n",
    "        table.add_row(pod.name, str(pod.id), pod.assignedNode,\n",
    "                      str(pod.memory), str(pod.cpu), str(pod.is_bind),\n",
    "                      str(pod.port), str(pod.arrivalTime),\n",
    "                      str(pod.serviceTime))\n",
    "    console.log(table)\n",
    "\n",
    "    logging.info(' Stop Cluster at {} seconds'.format(env.now))\n",
    "    console.save_html(\"demo.html\")  # save the results in a demo HTML file\n",
    "\n",
    "\n",
    "if __name__ == \"__main__\":\n",
    "    main()\n"
   ]
  },
  {
   "cell_type": "code",
   "execution_count": null,
   "id": "24ee58a8",
   "metadata": {},
   "outputs": [],
   "source": []
  }
 ],
 "metadata": {
  "kernelspec": {
   "display_name": "Python 3 (ipykernel)",
   "language": "python",
   "name": "python3"
  },
  "language_info": {
   "codemirror_mode": {
    "name": "ipython",
    "version": 3
   },
   "file_extension": ".py",
   "mimetype": "text/x-python",
   "name": "python",
   "nbconvert_exporter": "python",
   "pygments_lexer": "ipython3",
   "version": "3.9.9"
  }
 },
 "nbformat": 4,
 "nbformat_minor": 5
}
